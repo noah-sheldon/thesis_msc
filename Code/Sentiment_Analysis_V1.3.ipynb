{
 "cells": [
  {
   "cell_type": "markdown",
   "id": "cba95166",
   "metadata": {},
   "source": [
    "# Merging Excel Files"
   ]
  },
  {
   "cell_type": "code",
   "execution_count": 1,
   "id": "fe1c8223",
   "metadata": {},
   "outputs": [
    {
     "name": "stderr",
     "output_type": "stream",
     "text": [
      "e:\\mscds\\disertation\\the_jup\\lib\\site-packages\\gensim\\similarities\\__init__.py:15: UserWarning: The gensim.similarities.levenshtein submodule is disabled, because the optional Levenshtein package <https://pypi.org/project/python-Levenshtein/> is unavailable. Install Levenhstein (e.g. `pip install python-Levenshtein`) to suppress this warning.\n",
      "  warnings.warn(msg)\n"
     ]
    }
   ],
   "source": [
    "import os\n",
    "import numpy as np\n",
    "import pandas as pd\n",
    "import emot as e\n",
    "import re\n",
    "import string\n",
    "import seaborn as sns\n",
    "import matplotlib.pyplot as plt \n",
    "from nltk import word_tokenize\n",
    "from nltk.corpus import stopwords\n",
    "import spacy\n",
    "from spacy.tokenizer import Tokenizer\n",
    "from gensim.corpora import Dictionary\n",
    "from gensim.models.ldamulticore import LdaMulticore\n",
    "from gensim.models.coherencemodel import CoherenceModel\n",
    "from sklearn.feature_extraction.text import CountVectorizer, TfidfVectorizer\n",
    "from sklearn.model_selection import GridSearchCV\n",
    "from textblob import TextBlob\n",
    "from wordcloud import WordCloud\n",
    "from gensim import corpora, models\n",
    "from sklearn.decomposition import LatentDirichletAllocation, TruncatedSVD\n",
    "from gensim.models import LdaModel, CoherenceModel\n",
    "from pprint import pprint\n",
    "import gensim\n",
    "import pyLDAvis\n",
    "import pyLDAvis.gensim_models as gensimvis\n",
    "pyLDAvis.enable_notebook()\n",
    "import matplotlib.dates as mdates\n",
    "from sklearn.feature_extraction.text import TfidfVectorizer\n",
    "from sklearn.pipeline import Pipeline\n",
    "from sklearn.linear_model import SGDClassifier\n",
    "from sklearn.model_selection import GridSearchCV\n",
    "from sklearn import metrics, ensemble\n",
    "\n",
    "import warnings\n",
    "warnings.filterwarnings('ignore')"
   ]
  },
  {
   "cell_type": "code",
   "execution_count": 2,
   "id": "216f273e",
   "metadata": {},
   "outputs": [],
   "source": [
    "os.chdir('E:\\\\MScDS\\\\Disertation\\\\Data')"
   ]
  },
  {
   "cell_type": "markdown",
   "id": "47c5cc25",
   "metadata": {},
   "source": [
    "\n",
    "# Merging files"
   ]
  },
  {
   "cell_type": "code",
   "execution_count": 3,
   "id": "68a91eab",
   "metadata": {
    "scrolled": true
   },
   "outputs": [],
   "source": [
    "df2 = pd.read_pickle('my_df.pickle')"
   ]
  },
  {
   "cell_type": "markdown",
   "id": "5ced7967",
   "metadata": {},
   "source": [
    "# Exploratory Data Analysis"
   ]
  },
  {
   "cell_type": "code",
   "execution_count": 4,
   "id": "d33a4822",
   "metadata": {},
   "outputs": [
    {
     "data": {
      "text/html": [
       "<div>\n",
       "<style scoped>\n",
       "    .dataframe tbody tr th:only-of-type {\n",
       "        vertical-align: middle;\n",
       "    }\n",
       "\n",
       "    .dataframe tbody tr th {\n",
       "        vertical-align: top;\n",
       "    }\n",
       "\n",
       "    .dataframe thead th {\n",
       "        text-align: right;\n",
       "    }\n",
       "</style>\n",
       "<table border=\"1\" class=\"dataframe\">\n",
       "  <thead>\n",
       "    <tr style=\"text-align: right;\">\n",
       "      <th></th>\n",
       "      <th>Unnamed: 0</th>\n",
       "      <th>created_at</th>\n",
       "      <th>username</th>\n",
       "      <th>description</th>\n",
       "      <th>tweetid</th>\n",
       "      <th>mentions</th>\n",
       "      <th>location</th>\n",
       "      <th>following</th>\n",
       "      <th>followers</th>\n",
       "      <th>totaltweets</th>\n",
       "      <th>retweetcount</th>\n",
       "      <th>text</th>\n",
       "      <th>hashtags</th>\n",
       "    </tr>\n",
       "  </thead>\n",
       "  <tbody>\n",
       "    <tr>\n",
       "      <th>48</th>\n",
       "      <td>48</td>\n",
       "      <td>2021-07-14 11:43:19</td>\n",
       "      <td>jesus_reigns247</td>\n",
       "      <td>Lover of Truth, seeker of wisdom, Christ's bon...</td>\n",
       "      <td>1350632570183008257</td>\n",
       "      <td>[]</td>\n",
       "      <td>NaN</td>\n",
       "      <td>172</td>\n",
       "      <td>31</td>\n",
       "      <td>424</td>\n",
       "      <td>0</td>\n",
       "      <td>In my cold dead arm\\n#COVID19 #CovidVaccine wi...</td>\n",
       "      <td>['COVID19', 'CovidVaccine', 'tyrants', 'vaccin...</td>\n",
       "    </tr>\n",
       "    <tr>\n",
       "      <th>422</th>\n",
       "      <td>422</td>\n",
       "      <td>2021-07-14 03:17:43</td>\n",
       "      <td>AllisonJanel</td>\n",
       "      <td>Conservative in California. Mama 🐻 to 2 babies...</td>\n",
       "      <td>358589571</td>\n",
       "      <td>[]</td>\n",
       "      <td>LA County / California</td>\n",
       "      <td>1346</td>\n",
       "      <td>791</td>\n",
       "      <td>4170</td>\n",
       "      <td>0</td>\n",
       "      <td>Here in CA the government is literally offerin...</td>\n",
       "      <td>['CovidVaccine']</td>\n",
       "    </tr>\n",
       "    <tr>\n",
       "      <th>720</th>\n",
       "      <td>720</td>\n",
       "      <td>2021-07-13 19:18:35</td>\n",
       "      <td>kevojms</td>\n",
       "      <td>Values humanity with care especially the silen...</td>\n",
       "      <td>71753501</td>\n",
       "      <td>[]</td>\n",
       "      <td>Dublin</td>\n",
       "      <td>505</td>\n",
       "      <td>763</td>\n",
       "      <td>8271</td>\n",
       "      <td>0</td>\n",
       "      <td>Nice to see my friend John, pushing boxes at t...</td>\n",
       "      <td>['CovidVaccine', 'EUDigitalCovidCertificate']</td>\n",
       "    </tr>\n",
       "    <tr>\n",
       "      <th>1995</th>\n",
       "      <td>1995</td>\n",
       "      <td>2021-07-12 20:14:43</td>\n",
       "      <td>TribuneCeylon</td>\n",
       "      <td>Welcome to https://t.co/tvL0EM4Yiz on Facebook...</td>\n",
       "      <td>1386694554540142595</td>\n",
       "      <td>[]</td>\n",
       "      <td>NaN</td>\n",
       "      <td>18</td>\n",
       "      <td>9</td>\n",
       "      <td>1352</td>\n",
       "      <td>0</td>\n",
       "      <td>Online portal introduced for Covid vaccine app...</td>\n",
       "      <td>['lka', 'news', 'srilanka', 'ceylontribune', '...</td>\n",
       "    </tr>\n",
       "    <tr>\n",
       "      <th>327</th>\n",
       "      <td>327</td>\n",
       "      <td>2021-07-13 21:14:35</td>\n",
       "      <td>KerynCurtis</td>\n",
       "      <td>Writer/editor/communications/policy/campaigner...</td>\n",
       "      <td>27598939</td>\n",
       "      <td>['DeborahSnow', 'johncollee', 'nickzwar']</td>\n",
       "      <td>Australia</td>\n",
       "      <td>2139</td>\n",
       "      <td>1517</td>\n",
       "      <td>2461</td>\n",
       "      <td>0</td>\n",
       "      <td>It’s #BastilleDay 🇫🇷 &amp;amp; I celebrate by shar...</td>\n",
       "      <td>['BastilleDay', 'COVIDVaccination', 'GetVaccin...</td>\n",
       "    </tr>\n",
       "  </tbody>\n",
       "</table>\n",
       "</div>"
      ],
      "text/plain": [
       "      Unnamed: 0          created_at         username  \\\n",
       "48            48 2021-07-14 11:43:19  jesus_reigns247   \n",
       "422          422 2021-07-14 03:17:43     AllisonJanel   \n",
       "720          720 2021-07-13 19:18:35          kevojms   \n",
       "1995        1995 2021-07-12 20:14:43    TribuneCeylon   \n",
       "327          327 2021-07-13 21:14:35      KerynCurtis   \n",
       "\n",
       "                                            description              tweetid  \\\n",
       "48    Lover of Truth, seeker of wisdom, Christ's bon...  1350632570183008257   \n",
       "422   Conservative in California. Mama 🐻 to 2 babies...            358589571   \n",
       "720   Values humanity with care especially the silen...             71753501   \n",
       "1995  Welcome to https://t.co/tvL0EM4Yiz on Facebook...  1386694554540142595   \n",
       "327   Writer/editor/communications/policy/campaigner...             27598939   \n",
       "\n",
       "                                       mentions                location  \\\n",
       "48                                           []                     NaN   \n",
       "422                                          []  LA County / California   \n",
       "720                                          []                  Dublin   \n",
       "1995                                         []                     NaN   \n",
       "327   ['DeborahSnow', 'johncollee', 'nickzwar']               Australia   \n",
       "\n",
       "      following  followers  totaltweets  retweetcount  \\\n",
       "48          172         31          424             0   \n",
       "422        1346        791         4170             0   \n",
       "720         505        763         8271             0   \n",
       "1995         18          9         1352             0   \n",
       "327        2139       1517         2461             0   \n",
       "\n",
       "                                                   text  \\\n",
       "48    In my cold dead arm\\n#COVID19 #CovidVaccine wi...   \n",
       "422   Here in CA the government is literally offerin...   \n",
       "720   Nice to see my friend John, pushing boxes at t...   \n",
       "1995  Online portal introduced for Covid vaccine app...   \n",
       "327   It’s #BastilleDay 🇫🇷 &amp; I celebrate by shar...   \n",
       "\n",
       "                                               hashtags  \n",
       "48    ['COVID19', 'CovidVaccine', 'tyrants', 'vaccin...  \n",
       "422                                    ['CovidVaccine']  \n",
       "720       ['CovidVaccine', 'EUDigitalCovidCertificate']  \n",
       "1995  ['lka', 'news', 'srilanka', 'ceylontribune', '...  \n",
       "327   ['BastilleDay', 'COVIDVaccination', 'GetVaccin...  "
      ]
     },
     "execution_count": 4,
     "metadata": {},
     "output_type": "execute_result"
    }
   ],
   "source": [
    "df2.head()"
   ]
  },
  {
   "cell_type": "code",
   "execution_count": 5,
   "id": "bc99284e",
   "metadata": {},
   "outputs": [
    {
     "data": {
      "text/plain": [
       "Unnamed: 0               int64\n",
       "created_at      datetime64[ns]\n",
       "username                object\n",
       "description             object\n",
       "tweetid                  int64\n",
       "mentions                object\n",
       "location                object\n",
       "following                int64\n",
       "followers                int64\n",
       "totaltweets              int64\n",
       "retweetcount             int64\n",
       "text                    object\n",
       "hashtags                object\n",
       "dtype: object"
      ]
     },
     "execution_count": 5,
     "metadata": {},
     "output_type": "execute_result"
    }
   ],
   "source": [
    "df2.dtypes"
   ]
  },
  {
   "cell_type": "code",
   "execution_count": 6,
   "id": "0f981e18",
   "metadata": {},
   "outputs": [],
   "source": [
    "df2['date'] = df2.created_at.dt.date"
   ]
  },
  {
   "cell_type": "code",
   "execution_count": 7,
   "id": "120709c2",
   "metadata": {},
   "outputs": [],
   "source": [
    "df2['date'] = pd.to_datetime(df2['date'])"
   ]
  },
  {
   "cell_type": "code",
   "execution_count": 8,
   "id": "44e8a945",
   "metadata": {},
   "outputs": [],
   "source": [
    "df2 = df2.sort_values(by = ['date'], axis = 0)"
   ]
  },
  {
   "cell_type": "code",
   "execution_count": 9,
   "id": "f5bef24e",
   "metadata": {},
   "outputs": [],
   "source": [
    "date_counts = pd.DataFrame(df2.date.value_counts())"
   ]
  },
  {
   "cell_type": "code",
   "execution_count": 10,
   "id": "cc86931e",
   "metadata": {},
   "outputs": [
    {
     "data": {
      "text/html": [
       "<div>\n",
       "<style scoped>\n",
       "    .dataframe tbody tr th:only-of-type {\n",
       "        vertical-align: middle;\n",
       "    }\n",
       "\n",
       "    .dataframe tbody tr th {\n",
       "        vertical-align: top;\n",
       "    }\n",
       "\n",
       "    .dataframe thead th {\n",
       "        text-align: right;\n",
       "    }\n",
       "</style>\n",
       "<table border=\"1\" class=\"dataframe\">\n",
       "  <thead>\n",
       "    <tr style=\"text-align: right;\">\n",
       "      <th></th>\n",
       "      <th>date</th>\n",
       "    </tr>\n",
       "  </thead>\n",
       "  <tbody>\n",
       "    <tr>\n",
       "      <th>2021-07-16</th>\n",
       "      <td>2982</td>\n",
       "    </tr>\n",
       "    <tr>\n",
       "      <th>2021-06-29</th>\n",
       "      <td>2760</td>\n",
       "    </tr>\n",
       "    <tr>\n",
       "      <th>2021-06-30</th>\n",
       "      <td>2389</td>\n",
       "    </tr>\n",
       "    <tr>\n",
       "      <th>2021-06-28</th>\n",
       "      <td>2307</td>\n",
       "    </tr>\n",
       "    <tr>\n",
       "      <th>2021-07-02</th>\n",
       "      <td>2227</td>\n",
       "    </tr>\n",
       "    <tr>\n",
       "      <th>2021-07-17</th>\n",
       "      <td>2225</td>\n",
       "    </tr>\n",
       "    <tr>\n",
       "      <th>2021-07-06</th>\n",
       "      <td>2014</td>\n",
       "    </tr>\n",
       "    <tr>\n",
       "      <th>2021-07-05</th>\n",
       "      <td>1917</td>\n",
       "    </tr>\n",
       "    <tr>\n",
       "      <th>2021-07-08</th>\n",
       "      <td>1839</td>\n",
       "    </tr>\n",
       "    <tr>\n",
       "      <th>2021-07-09</th>\n",
       "      <td>1805</td>\n",
       "    </tr>\n",
       "    <tr>\n",
       "      <th>2021-07-03</th>\n",
       "      <td>1798</td>\n",
       "    </tr>\n",
       "    <tr>\n",
       "      <th>2021-07-01</th>\n",
       "      <td>1745</td>\n",
       "    </tr>\n",
       "    <tr>\n",
       "      <th>2021-07-10</th>\n",
       "      <td>1665</td>\n",
       "    </tr>\n",
       "    <tr>\n",
       "      <th>2021-07-12</th>\n",
       "      <td>1641</td>\n",
       "    </tr>\n",
       "    <tr>\n",
       "      <th>2021-07-07</th>\n",
       "      <td>1635</td>\n",
       "    </tr>\n",
       "    <tr>\n",
       "      <th>2021-07-13</th>\n",
       "      <td>1592</td>\n",
       "    </tr>\n",
       "    <tr>\n",
       "      <th>2021-07-14</th>\n",
       "      <td>1580</td>\n",
       "    </tr>\n",
       "    <tr>\n",
       "      <th>2021-07-15</th>\n",
       "      <td>1526</td>\n",
       "    </tr>\n",
       "    <tr>\n",
       "      <th>2021-07-04</th>\n",
       "      <td>1337</td>\n",
       "    </tr>\n",
       "    <tr>\n",
       "      <th>2021-07-11</th>\n",
       "      <td>1323</td>\n",
       "    </tr>\n",
       "    <tr>\n",
       "      <th>2021-07-18</th>\n",
       "      <td>1068</td>\n",
       "    </tr>\n",
       "    <tr>\n",
       "      <th>2021-06-26</th>\n",
       "      <td>969</td>\n",
       "    </tr>\n",
       "    <tr>\n",
       "      <th>2021-06-27</th>\n",
       "      <td>783</td>\n",
       "    </tr>\n",
       "    <tr>\n",
       "      <th>2021-06-25</th>\n",
       "      <td>62</td>\n",
       "    </tr>\n",
       "  </tbody>\n",
       "</table>\n",
       "</div>"
      ],
      "text/plain": [
       "            date\n",
       "2021-07-16  2982\n",
       "2021-06-29  2760\n",
       "2021-06-30  2389\n",
       "2021-06-28  2307\n",
       "2021-07-02  2227\n",
       "2021-07-17  2225\n",
       "2021-07-06  2014\n",
       "2021-07-05  1917\n",
       "2021-07-08  1839\n",
       "2021-07-09  1805\n",
       "2021-07-03  1798\n",
       "2021-07-01  1745\n",
       "2021-07-10  1665\n",
       "2021-07-12  1641\n",
       "2021-07-07  1635\n",
       "2021-07-13  1592\n",
       "2021-07-14  1580\n",
       "2021-07-15  1526\n",
       "2021-07-04  1337\n",
       "2021-07-11  1323\n",
       "2021-07-18  1068\n",
       "2021-06-26   969\n",
       "2021-06-27   783\n",
       "2021-06-25    62"
      ]
     },
     "execution_count": 10,
     "metadata": {},
     "output_type": "execute_result"
    }
   ],
   "source": [
    "date_counts"
   ]
  },
  {
   "cell_type": "code",
   "execution_count": 49,
   "id": "9b33218f",
   "metadata": {},
   "outputs": [],
   "source": [
    "date_counts.to_excel(\"EDA/date_counts.xlsx\")"
   ]
  },
  {
   "cell_type": "code",
   "execution_count": 11,
   "id": "8729a40e",
   "metadata": {},
   "outputs": [],
   "source": [
    "df2['time'] = df2.created_at.dt.time\n",
    "df2['hour'] = df2.created_at.dt.hour"
   ]
  },
  {
   "cell_type": "code",
   "execution_count": 12,
   "id": "ee49652c",
   "metadata": {},
   "outputs": [],
   "source": [
    "time_counts = pd.DataFrame(df2['hour'].value_counts())"
   ]
  },
  {
   "cell_type": "code",
   "execution_count": 13,
   "id": "0a100d40",
   "metadata": {},
   "outputs": [
    {
     "data": {
      "text/html": [
       "<div>\n",
       "<style scoped>\n",
       "    .dataframe tbody tr th:only-of-type {\n",
       "        vertical-align: middle;\n",
       "    }\n",
       "\n",
       "    .dataframe tbody tr th {\n",
       "        vertical-align: top;\n",
       "    }\n",
       "\n",
       "    .dataframe thead th {\n",
       "        text-align: right;\n",
       "    }\n",
       "</style>\n",
       "<table border=\"1\" class=\"dataframe\">\n",
       "  <thead>\n",
       "    <tr style=\"text-align: right;\">\n",
       "      <th></th>\n",
       "      <th>hour</th>\n",
       "    </tr>\n",
       "  </thead>\n",
       "  <tbody>\n",
       "    <tr>\n",
       "      <th>14</th>\n",
       "      <td>2471</td>\n",
       "    </tr>\n",
       "    <tr>\n",
       "      <th>15</th>\n",
       "      <td>2466</td>\n",
       "    </tr>\n",
       "    <tr>\n",
       "      <th>13</th>\n",
       "      <td>2385</td>\n",
       "    </tr>\n",
       "    <tr>\n",
       "      <th>16</th>\n",
       "      <td>2303</td>\n",
       "    </tr>\n",
       "    <tr>\n",
       "      <th>12</th>\n",
       "      <td>2195</td>\n",
       "    </tr>\n",
       "    <tr>\n",
       "      <th>17</th>\n",
       "      <td>2171</td>\n",
       "    </tr>\n",
       "    <tr>\n",
       "      <th>18</th>\n",
       "      <td>1978</td>\n",
       "    </tr>\n",
       "    <tr>\n",
       "      <th>11</th>\n",
       "      <td>1928</td>\n",
       "    </tr>\n",
       "    <tr>\n",
       "      <th>19</th>\n",
       "      <td>1870</td>\n",
       "    </tr>\n",
       "    <tr>\n",
       "      <th>9</th>\n",
       "      <td>1793</td>\n",
       "    </tr>\n",
       "    <tr>\n",
       "      <th>8</th>\n",
       "      <td>1705</td>\n",
       "    </tr>\n",
       "    <tr>\n",
       "      <th>10</th>\n",
       "      <td>1666</td>\n",
       "    </tr>\n",
       "    <tr>\n",
       "      <th>7</th>\n",
       "      <td>1650</td>\n",
       "    </tr>\n",
       "    <tr>\n",
       "      <th>20</th>\n",
       "      <td>1626</td>\n",
       "    </tr>\n",
       "    <tr>\n",
       "      <th>21</th>\n",
       "      <td>1527</td>\n",
       "    </tr>\n",
       "    <tr>\n",
       "      <th>6</th>\n",
       "      <td>1468</td>\n",
       "    </tr>\n",
       "    <tr>\n",
       "      <th>22</th>\n",
       "      <td>1426</td>\n",
       "    </tr>\n",
       "    <tr>\n",
       "      <th>5</th>\n",
       "      <td>1306</td>\n",
       "    </tr>\n",
       "    <tr>\n",
       "      <th>23</th>\n",
       "      <td>1276</td>\n",
       "    </tr>\n",
       "    <tr>\n",
       "      <th>1</th>\n",
       "      <td>1233</td>\n",
       "    </tr>\n",
       "    <tr>\n",
       "      <th>4</th>\n",
       "      <td>1197</td>\n",
       "    </tr>\n",
       "    <tr>\n",
       "      <th>3</th>\n",
       "      <td>1196</td>\n",
       "    </tr>\n",
       "    <tr>\n",
       "      <th>0</th>\n",
       "      <td>1186</td>\n",
       "    </tr>\n",
       "    <tr>\n",
       "      <th>2</th>\n",
       "      <td>1167</td>\n",
       "    </tr>\n",
       "  </tbody>\n",
       "</table>\n",
       "</div>"
      ],
      "text/plain": [
       "    hour\n",
       "14  2471\n",
       "15  2466\n",
       "13  2385\n",
       "16  2303\n",
       "12  2195\n",
       "17  2171\n",
       "18  1978\n",
       "11  1928\n",
       "19  1870\n",
       "9   1793\n",
       "8   1705\n",
       "10  1666\n",
       "7   1650\n",
       "20  1626\n",
       "21  1527\n",
       "6   1468\n",
       "22  1426\n",
       "5   1306\n",
       "23  1276\n",
       "1   1233\n",
       "4   1197\n",
       "3   1196\n",
       "0   1186\n",
       "2   1167"
      ]
     },
     "execution_count": 13,
     "metadata": {},
     "output_type": "execute_result"
    }
   ],
   "source": [
    "time_counts"
   ]
  },
  {
   "cell_type": "code",
   "execution_count": 72,
   "id": "35254ce7",
   "metadata": {},
   "outputs": [],
   "source": [
    "time_counts.to_excel(\"EDA/time_counts.xlsx\")"
   ]
  },
  {
   "cell_type": "code",
   "execution_count": 76,
   "id": "305f5010",
   "metadata": {},
   "outputs": [],
   "source": [
    "sub_df2 = df2[['followers','following','totaltweets','text']]"
   ]
  },
  {
   "cell_type": "code",
   "execution_count": 84,
   "id": "13b621c0",
   "metadata": {},
   "outputs": [],
   "source": [
    "sub_df2['len_text'] = sub_df2['text'].apply(len)"
   ]
  },
  {
   "cell_type": "code",
   "execution_count": 97,
   "id": "2580c8ad",
   "metadata": {},
   "outputs": [],
   "source": [
    "followers = df2.loc[df2['followers'].between(0, 20000),'followers']"
   ]
  },
  {
   "cell_type": "code",
   "execution_count": 108,
   "id": "e3dd0e7e",
   "metadata": {},
   "outputs": [],
   "source": [
    "labels = ['0-2000', \"2001-4000\", '4001-6000', '6001-8000', '8001-10000','10001-12000', \"12001-14000\", '14001-16000', '16001-18000', '18001-20000']\n",
    "followers = pd.DataFrame(pd.cut(followers,10, labels = labels).value_counts())"
   ]
  },
  {
   "cell_type": "code",
   "execution_count": 111,
   "id": "e17afefa",
   "metadata": {},
   "outputs": [
    {
     "data": {
      "text/html": [
       "<div>\n",
       "<style scoped>\n",
       "    .dataframe tbody tr th:only-of-type {\n",
       "        vertical-align: middle;\n",
       "    }\n",
       "\n",
       "    .dataframe tbody tr th {\n",
       "        vertical-align: top;\n",
       "    }\n",
       "\n",
       "    .dataframe thead th {\n",
       "        text-align: right;\n",
       "    }\n",
       "</style>\n",
       "<table border=\"1\" class=\"dataframe\">\n",
       "  <thead>\n",
       "    <tr style=\"text-align: right;\">\n",
       "      <th></th>\n",
       "      <th>followers</th>\n",
       "    </tr>\n",
       "  </thead>\n",
       "  <tbody>\n",
       "    <tr>\n",
       "      <th>0-2000</th>\n",
       "      <td>32281</td>\n",
       "    </tr>\n",
       "    <tr>\n",
       "      <th>2001-4000</th>\n",
       "      <td>3449</td>\n",
       "    </tr>\n",
       "    <tr>\n",
       "      <th>4001-6000</th>\n",
       "      <td>1514</td>\n",
       "    </tr>\n",
       "    <tr>\n",
       "      <th>6001-8000</th>\n",
       "      <td>806</td>\n",
       "    </tr>\n",
       "    <tr>\n",
       "      <th>8001-10000</th>\n",
       "      <td>516</td>\n",
       "    </tr>\n",
       "    <tr>\n",
       "      <th>10001-12000</th>\n",
       "      <td>371</td>\n",
       "    </tr>\n",
       "    <tr>\n",
       "      <th>12001-14000</th>\n",
       "      <td>274</td>\n",
       "    </tr>\n",
       "    <tr>\n",
       "      <th>14001-16000</th>\n",
       "      <td>222</td>\n",
       "    </tr>\n",
       "    <tr>\n",
       "      <th>16001-18000</th>\n",
       "      <td>174</td>\n",
       "    </tr>\n",
       "    <tr>\n",
       "      <th>18001-20000</th>\n",
       "      <td>111</td>\n",
       "    </tr>\n",
       "  </tbody>\n",
       "</table>\n",
       "</div>"
      ],
      "text/plain": [
       "             followers\n",
       "0-2000           32281\n",
       "2001-4000         3449\n",
       "4001-6000         1514\n",
       "6001-8000          806\n",
       "8001-10000         516\n",
       "10001-12000        371\n",
       "12001-14000        274\n",
       "14001-16000        222\n",
       "16001-18000        174\n",
       "18001-20000        111"
      ]
     },
     "execution_count": 111,
     "metadata": {},
     "output_type": "execute_result"
    }
   ],
   "source": [
    "followers"
   ]
  },
  {
   "cell_type": "code",
   "execution_count": 115,
   "id": "0a09ef65",
   "metadata": {},
   "outputs": [],
   "source": [
    "followers.to_excel('EDA/followers.xlsx')"
   ]
  },
  {
   "cell_type": "code",
   "execution_count": 116,
   "id": "1ee6e543",
   "metadata": {},
   "outputs": [
    {
     "data": {
      "text/plain": [
       "count    4.118900e+04\n",
       "mean     1.486941e+03\n",
       "std      1.126117e+04\n",
       "min      0.000000e+00\n",
       "25%      1.760000e+02\n",
       "50%      5.250000e+02\n",
       "75%      1.361000e+03\n",
       "max      2.033420e+06\n",
       "Name: following, dtype: float64"
      ]
     },
     "execution_count": 116,
     "metadata": {},
     "output_type": "execute_result"
    }
   ],
   "source": [
    "df2['following'].describe()"
   ]
  },
  {
   "cell_type": "code",
   "execution_count": 121,
   "id": "a994ae03",
   "metadata": {},
   "outputs": [],
   "source": [
    "following = df2.loc[df2['following'].between(0, 5000),'following']"
   ]
  },
  {
   "cell_type": "code",
   "execution_count": 122,
   "id": "3c4c86da",
   "metadata": {},
   "outputs": [],
   "source": [
    "labels = ['0-500', \"501-1000\", '1001-1500', '1501-2000', '2001-2500','2501-3000', \"3001-3500\", '3501-4000', '4001-4500', '4501-5000']\n",
    "following = pd.DataFrame(pd.cut(following,10, labels = labels).value_counts())"
   ]
  },
  {
   "cell_type": "code",
   "execution_count": 125,
   "id": "dbf0d982",
   "metadata": {},
   "outputs": [
    {
     "data": {
      "text/html": [
       "<div>\n",
       "<style scoped>\n",
       "    .dataframe tbody tr th:only-of-type {\n",
       "        vertical-align: middle;\n",
       "    }\n",
       "\n",
       "    .dataframe tbody tr th {\n",
       "        vertical-align: top;\n",
       "    }\n",
       "\n",
       "    .dataframe thead th {\n",
       "        text-align: right;\n",
       "    }\n",
       "</style>\n",
       "<table border=\"1\" class=\"dataframe\">\n",
       "  <thead>\n",
       "    <tr style=\"text-align: right;\">\n",
       "      <th></th>\n",
       "      <th>following</th>\n",
       "    </tr>\n",
       "  </thead>\n",
       "  <tbody>\n",
       "    <tr>\n",
       "      <th>0-500</th>\n",
       "      <td>20072</td>\n",
       "    </tr>\n",
       "    <tr>\n",
       "      <th>501-1000</th>\n",
       "      <td>7833</td>\n",
       "    </tr>\n",
       "    <tr>\n",
       "      <th>1001-1500</th>\n",
       "      <td>3865</td>\n",
       "    </tr>\n",
       "    <tr>\n",
       "      <th>1501-2000</th>\n",
       "      <td>2379</td>\n",
       "    </tr>\n",
       "    <tr>\n",
       "      <th>2001-2500</th>\n",
       "      <td>1540</td>\n",
       "    </tr>\n",
       "    <tr>\n",
       "      <th>2501-3000</th>\n",
       "      <td>994</td>\n",
       "    </tr>\n",
       "    <tr>\n",
       "      <th>4501-5000</th>\n",
       "      <td>946</td>\n",
       "    </tr>\n",
       "    <tr>\n",
       "      <th>3001-3500</th>\n",
       "      <td>730</td>\n",
       "    </tr>\n",
       "    <tr>\n",
       "      <th>3501-4000</th>\n",
       "      <td>576</td>\n",
       "    </tr>\n",
       "    <tr>\n",
       "      <th>4001-4500</th>\n",
       "      <td>489</td>\n",
       "    </tr>\n",
       "  </tbody>\n",
       "</table>\n",
       "</div>"
      ],
      "text/plain": [
       "           following\n",
       "0-500          20072\n",
       "501-1000        7833\n",
       "1001-1500       3865\n",
       "1501-2000       2379\n",
       "2001-2500       1540\n",
       "2501-3000        994\n",
       "4501-5000        946\n",
       "3001-3500        730\n",
       "3501-4000        576\n",
       "4001-4500        489"
      ]
     },
     "execution_count": 125,
     "metadata": {},
     "output_type": "execute_result"
    }
   ],
   "source": [
    "following"
   ]
  },
  {
   "cell_type": "code",
   "execution_count": 126,
   "id": "8348b40c",
   "metadata": {},
   "outputs": [],
   "source": [
    "following.to_excel('EDA/following.xlsx')"
   ]
  },
  {
   "cell_type": "code",
   "execution_count": 134,
   "id": "098bdbac",
   "metadata": {},
   "outputs": [],
   "source": [
    "totaltweets = df2.loc[df2['totaltweets'].between(0, 100000),'totaltweets']"
   ]
  },
  {
   "cell_type": "code",
   "execution_count": 136,
   "id": "6fc8b76a",
   "metadata": {},
   "outputs": [
    {
     "data": {
      "text/plain": [
       "13675     177\n",
       "13695    2066\n",
       "13696    4395\n",
       "13697     943\n",
       "13698    3531\n",
       "Name: totaltweets, dtype: int64"
      ]
     },
     "execution_count": 136,
     "metadata": {},
     "output_type": "execute_result"
    }
   ],
   "source": [
    "totaltweets.head()"
   ]
  },
  {
   "cell_type": "code",
   "execution_count": 137,
   "id": "390bb030",
   "metadata": {},
   "outputs": [],
   "source": [
    "labels = ['0-10K', \"10K-20K\", '20K-30K', '30K-40K', '40K-50K','50K-60K', \"60K-70K\", '70K-80K', '80K-90K', '90K-100K']\n",
    "totaltweets = pd.DataFrame(pd.cut(totaltweets,10, labels = labels).value_counts())"
   ]
  },
  {
   "cell_type": "code",
   "execution_count": 138,
   "id": "f879e23f",
   "metadata": {},
   "outputs": [
    {
     "data": {
      "text/html": [
       "<div>\n",
       "<style scoped>\n",
       "    .dataframe tbody tr th:only-of-type {\n",
       "        vertical-align: middle;\n",
       "    }\n",
       "\n",
       "    .dataframe tbody tr th {\n",
       "        vertical-align: top;\n",
       "    }\n",
       "\n",
       "    .dataframe thead th {\n",
       "        text-align: right;\n",
       "    }\n",
       "</style>\n",
       "<table border=\"1\" class=\"dataframe\">\n",
       "  <thead>\n",
       "    <tr style=\"text-align: right;\">\n",
       "      <th></th>\n",
       "      <th>totaltweets</th>\n",
       "    </tr>\n",
       "  </thead>\n",
       "  <tbody>\n",
       "    <tr>\n",
       "      <th>0-10K</th>\n",
       "      <td>27549</td>\n",
       "    </tr>\n",
       "    <tr>\n",
       "      <th>10K-20K</th>\n",
       "      <td>5268</td>\n",
       "    </tr>\n",
       "    <tr>\n",
       "      <th>20K-30K</th>\n",
       "      <td>2431</td>\n",
       "    </tr>\n",
       "    <tr>\n",
       "      <th>30K-40K</th>\n",
       "      <td>1546</td>\n",
       "    </tr>\n",
       "    <tr>\n",
       "      <th>40K-50K</th>\n",
       "      <td>931</td>\n",
       "    </tr>\n",
       "    <tr>\n",
       "      <th>50K-60K</th>\n",
       "      <td>677</td>\n",
       "    </tr>\n",
       "    <tr>\n",
       "      <th>60K-70K</th>\n",
       "      <td>531</td>\n",
       "    </tr>\n",
       "    <tr>\n",
       "      <th>70K-80K</th>\n",
       "      <td>362</td>\n",
       "    </tr>\n",
       "    <tr>\n",
       "      <th>80K-90K</th>\n",
       "      <td>272</td>\n",
       "    </tr>\n",
       "    <tr>\n",
       "      <th>90K-100K</th>\n",
       "      <td>209</td>\n",
       "    </tr>\n",
       "  </tbody>\n",
       "</table>\n",
       "</div>"
      ],
      "text/plain": [
       "          totaltweets\n",
       "0-10K           27549\n",
       "10K-20K          5268\n",
       "20K-30K          2431\n",
       "30K-40K          1546\n",
       "40K-50K           931\n",
       "50K-60K           677\n",
       "60K-70K           531\n",
       "70K-80K           362\n",
       "80K-90K           272\n",
       "90K-100K          209"
      ]
     },
     "execution_count": 138,
     "metadata": {},
     "output_type": "execute_result"
    }
   ],
   "source": [
    "\n",
    "totaltweets\n"
   ]
  },
  {
   "cell_type": "code",
   "execution_count": 139,
   "id": "c2d8417d",
   "metadata": {},
   "outputs": [],
   "source": [
    "totaltweets.to_excel('EDA/totaltweets.xlsx')"
   ]
  },
  {
   "cell_type": "code",
   "execution_count": 14,
   "id": "6261c49a",
   "metadata": {},
   "outputs": [],
   "source": [
    "hash = pd.DataFrame()\n",
    "\n",
    "#https://ourcodingclub.github.io/tutorials/topic-modelling-python/\n",
    "hash['hashtags'] = df2.hashtags.str[1:-1].str.split(',').tolist()"
   ]
  },
  {
   "cell_type": "code",
   "execution_count": 15,
   "id": "69247327",
   "metadata": {},
   "outputs": [],
   "source": [
    "def remove_quotes(list):\n",
    "    new = []\n",
    "    for i in list:\n",
    "        new.append(i.replace('\\'',''))\n",
    "    return new"
   ]
  },
  {
   "cell_type": "code",
   "execution_count": 16,
   "id": "16a1b2fc",
   "metadata": {},
   "outputs": [],
   "source": [
    "hash['hashtags'] = hash['hashtags'].apply(remove_quotes)"
   ]
  },
  {
   "cell_type": "code",
   "execution_count": 17,
   "id": "7ec2fbd0",
   "metadata": {},
   "outputs": [
    {
     "data": {
      "text/plain": [
       "0                                       [CovidVaccine]\n",
       "1                                       [CovidVaccine]\n",
       "2                                       [CovidVaccine]\n",
       "3    [Liberty,  RLC,  Covid,  freedom,  BillofRight...\n",
       "4                      [COVIDvaccine,  COVIranBarekat]\n",
       "Name: hashtags, dtype: object"
      ]
     },
     "execution_count": 17,
     "metadata": {},
     "output_type": "execute_result"
    }
   ],
   "source": [
    "hash['hashtags'].head()"
   ]
  },
  {
   "cell_type": "code",
   "execution_count": 18,
   "id": "bcbe5e45",
   "metadata": {},
   "outputs": [],
   "source": [
    "flattened_hashtags_df = pd.DataFrame(\n",
    "    [hashtag for hashtags_list in hash.hashtags\n",
    "    for hashtag in hashtags_list],\n",
    "    columns=['hashtag'])"
   ]
  },
  {
   "cell_type": "code",
   "execution_count": 19,
   "id": "296a052c",
   "metadata": {},
   "outputs": [
    {
     "data": {
      "text/html": [
       "<div>\n",
       "<style scoped>\n",
       "    .dataframe tbody tr th:only-of-type {\n",
       "        vertical-align: middle;\n",
       "    }\n",
       "\n",
       "    .dataframe tbody tr th {\n",
       "        vertical-align: top;\n",
       "    }\n",
       "\n",
       "    .dataframe thead th {\n",
       "        text-align: right;\n",
       "    }\n",
       "</style>\n",
       "<table border=\"1\" class=\"dataframe\">\n",
       "  <thead>\n",
       "    <tr style=\"text-align: right;\">\n",
       "      <th></th>\n",
       "      <th>hashtag</th>\n",
       "    </tr>\n",
       "  </thead>\n",
       "  <tbody>\n",
       "    <tr>\n",
       "      <th>0</th>\n",
       "      <td>CovidVaccine</td>\n",
       "    </tr>\n",
       "    <tr>\n",
       "      <th>1</th>\n",
       "      <td>CovidVaccine</td>\n",
       "    </tr>\n",
       "    <tr>\n",
       "      <th>2</th>\n",
       "      <td>CovidVaccine</td>\n",
       "    </tr>\n",
       "    <tr>\n",
       "      <th>3</th>\n",
       "      <td>Liberty</td>\n",
       "    </tr>\n",
       "    <tr>\n",
       "      <th>4</th>\n",
       "      <td>RLC</td>\n",
       "    </tr>\n",
       "  </tbody>\n",
       "</table>\n",
       "</div>"
      ],
      "text/plain": [
       "        hashtag\n",
       "0  CovidVaccine\n",
       "1  CovidVaccine\n",
       "2  CovidVaccine\n",
       "3       Liberty\n",
       "4           RLC"
      ]
     },
     "execution_count": 19,
     "metadata": {},
     "output_type": "execute_result"
    }
   ],
   "source": [
    "flattened_hashtags_df.head() "
   ]
  },
  {
   "cell_type": "code",
   "execution_count": 20,
   "id": "73aadd85",
   "metadata": {},
   "outputs": [
    {
     "data": {
      "text/plain": [
       "28180"
      ]
     },
     "execution_count": 20,
     "metadata": {},
     "output_type": "execute_result"
    }
   ],
   "source": [
    "# number of unique hashtags\n",
    "flattened_hashtags_df['hashtag'].unique().size"
   ]
  },
  {
   "cell_type": "code",
   "execution_count": 21,
   "id": "b3ba3766",
   "metadata": {},
   "outputs": [],
   "source": [
    "# count of appearances of each hashtag\n",
    "popular_hashtags = flattened_hashtags_df.groupby('hashtag').size()\\\n",
    "                                        .reset_index(name='counts')\\\n",
    "                                        .sort_values('counts', ascending=False)\\\n",
    "                                        .reset_index(drop=True)"
   ]
  },
  {
   "cell_type": "code",
   "execution_count": 24,
   "id": "b0dedc3d",
   "metadata": {},
   "outputs": [
    {
     "data": {
      "text/html": [
       "<div>\n",
       "<style scoped>\n",
       "    .dataframe tbody tr th:only-of-type {\n",
       "        vertical-align: middle;\n",
       "    }\n",
       "\n",
       "    .dataframe tbody tr th {\n",
       "        vertical-align: top;\n",
       "    }\n",
       "\n",
       "    .dataframe thead th {\n",
       "        text-align: right;\n",
       "    }\n",
       "</style>\n",
       "<table border=\"1\" class=\"dataframe\">\n",
       "  <thead>\n",
       "    <tr style=\"text-align: right;\">\n",
       "      <th></th>\n",
       "      <th>hashtag</th>\n",
       "      <th>counts</th>\n",
       "    </tr>\n",
       "  </thead>\n",
       "  <tbody>\n",
       "    <tr>\n",
       "      <th>0</th>\n",
       "      <td>vaccinated</td>\n",
       "      <td>7110</td>\n",
       "    </tr>\n",
       "    <tr>\n",
       "      <th>1</th>\n",
       "      <td>CovidVaccine</td>\n",
       "      <td>7031</td>\n",
       "    </tr>\n",
       "    <tr>\n",
       "      <th>2</th>\n",
       "      <td>vaccinated</td>\n",
       "      <td>6273</td>\n",
       "    </tr>\n",
       "    <tr>\n",
       "      <th>3</th>\n",
       "      <td>CovidVaccine</td>\n",
       "      <td>5442</td>\n",
       "    </tr>\n",
       "    <tr>\n",
       "      <th>4</th>\n",
       "      <td>COVID19</td>\n",
       "      <td>4514</td>\n",
       "    </tr>\n",
       "  </tbody>\n",
       "</table>\n",
       "</div>"
      ],
      "text/plain": [
       "         hashtag  counts\n",
       "0     vaccinated    7110\n",
       "1   CovidVaccine    7031\n",
       "2     vaccinated    6273\n",
       "3   CovidVaccine    5442\n",
       "4        COVID19    4514"
      ]
     },
     "execution_count": 24,
     "metadata": {},
     "output_type": "execute_result"
    }
   ],
   "source": [
    "popular_hashtags.head()"
   ]
  },
  {
   "cell_type": "code",
   "execution_count": 25,
   "id": "24368d36",
   "metadata": {},
   "outputs": [],
   "source": [
    "popular_hashtags.to_excel('EDA/hashtags.xlsx')"
   ]
  },
  {
   "cell_type": "code",
   "execution_count": 26,
   "id": "4068a720",
   "metadata": {},
   "outputs": [],
   "source": [
    "mentions = pd.DataFrame()\n",
    "\n",
    "#https://ourcodingclub.github.io/tutorials/topic-modelling-python/\n",
    "mentions['mentions'] = df2.mentions.str[1:-1].str.split(',').tolist()"
   ]
  },
  {
   "cell_type": "code",
   "execution_count": 27,
   "id": "a76055b1",
   "metadata": {},
   "outputs": [],
   "source": [
    "mentions['mentions'] = mentions['mentions'].apply(remove_quotes)"
   ]
  },
  {
   "cell_type": "code",
   "execution_count": 28,
   "id": "08dbe6d4",
   "metadata": {},
   "outputs": [
    {
     "data": {
      "text/html": [
       "<div>\n",
       "<style scoped>\n",
       "    .dataframe tbody tr th:only-of-type {\n",
       "        vertical-align: middle;\n",
       "    }\n",
       "\n",
       "    .dataframe tbody tr th {\n",
       "        vertical-align: top;\n",
       "    }\n",
       "\n",
       "    .dataframe thead th {\n",
       "        text-align: right;\n",
       "    }\n",
       "</style>\n",
       "<table border=\"1\" class=\"dataframe\">\n",
       "  <thead>\n",
       "    <tr style=\"text-align: right;\">\n",
       "      <th></th>\n",
       "      <th>mentions</th>\n",
       "    </tr>\n",
       "  </thead>\n",
       "  <tbody>\n",
       "    <tr>\n",
       "      <th>0</th>\n",
       "      <td>[]</td>\n",
       "    </tr>\n",
       "    <tr>\n",
       "      <th>1</th>\n",
       "      <td>[]</td>\n",
       "    </tr>\n",
       "    <tr>\n",
       "      <th>2</th>\n",
       "      <td>[]</td>\n",
       "    </tr>\n",
       "    <tr>\n",
       "      <th>3</th>\n",
       "      <td>[congbillposey,  RepThomasMassie]</td>\n",
       "    </tr>\n",
       "    <tr>\n",
       "      <th>4</th>\n",
       "      <td>[]</td>\n",
       "    </tr>\n",
       "  </tbody>\n",
       "</table>\n",
       "</div>"
      ],
      "text/plain": [
       "                            mentions\n",
       "0                                 []\n",
       "1                                 []\n",
       "2                                 []\n",
       "3  [congbillposey,  RepThomasMassie]\n",
       "4                                 []"
      ]
     },
     "execution_count": 28,
     "metadata": {},
     "output_type": "execute_result"
    }
   ],
   "source": [
    "mentions.head()"
   ]
  },
  {
   "cell_type": "code",
   "execution_count": 29,
   "id": "d49979d9",
   "metadata": {},
   "outputs": [],
   "source": [
    "flattened_mentions_df = pd.DataFrame(\n",
    "    [mentions for mentions_list in mentions.mentions\n",
    "    for mentions in mentions_list],\n",
    "    columns=['mentions'])"
   ]
  },
  {
   "cell_type": "code",
   "execution_count": 30,
   "id": "23420cb5",
   "metadata": {},
   "outputs": [
    {
     "data": {
      "text/html": [
       "<div>\n",
       "<style scoped>\n",
       "    .dataframe tbody tr th:only-of-type {\n",
       "        vertical-align: middle;\n",
       "    }\n",
       "\n",
       "    .dataframe tbody tr th {\n",
       "        vertical-align: top;\n",
       "    }\n",
       "\n",
       "    .dataframe thead th {\n",
       "        text-align: right;\n",
       "    }\n",
       "</style>\n",
       "<table border=\"1\" class=\"dataframe\">\n",
       "  <thead>\n",
       "    <tr style=\"text-align: right;\">\n",
       "      <th></th>\n",
       "      <th>mentions</th>\n",
       "    </tr>\n",
       "  </thead>\n",
       "  <tbody>\n",
       "    <tr>\n",
       "      <th>0</th>\n",
       "      <td></td>\n",
       "    </tr>\n",
       "    <tr>\n",
       "      <th>1</th>\n",
       "      <td></td>\n",
       "    </tr>\n",
       "    <tr>\n",
       "      <th>2</th>\n",
       "      <td></td>\n",
       "    </tr>\n",
       "    <tr>\n",
       "      <th>3</th>\n",
       "      <td>congbillposey</td>\n",
       "    </tr>\n",
       "    <tr>\n",
       "      <th>4</th>\n",
       "      <td>RepThomasMassie</td>\n",
       "    </tr>\n",
       "  </tbody>\n",
       "</table>\n",
       "</div>"
      ],
      "text/plain": [
       "           mentions\n",
       "0                  \n",
       "1                  \n",
       "2                  \n",
       "3     congbillposey\n",
       "4   RepThomasMassie"
      ]
     },
     "execution_count": 30,
     "metadata": {},
     "output_type": "execute_result"
    }
   ],
   "source": [
    "flattened_mentions_df.head()"
   ]
  },
  {
   "cell_type": "code",
   "execution_count": 31,
   "id": "2ffba983",
   "metadata": {},
   "outputs": [
    {
     "data": {
      "text/plain": [
       "15512"
      ]
     },
     "execution_count": 31,
     "metadata": {},
     "output_type": "execute_result"
    }
   ],
   "source": [
    "# number of unique mention\n",
    "flattened_mentions_df['mentions'].unique().size"
   ]
  },
  {
   "cell_type": "code",
   "execution_count": 32,
   "id": "7f79d669",
   "metadata": {},
   "outputs": [],
   "source": [
    "# count of appearances of each mention\n",
    "popular_mentions = flattened_mentions_df.groupby('mentions').size()\\\n",
    "                                        .reset_index(name='counts')\\\n",
    "                                        .sort_values('counts', ascending=False)\\\n",
    "                                        .reset_index(drop=True)"
   ]
  },
  {
   "cell_type": "code",
   "execution_count": 34,
   "id": "df19e80c",
   "metadata": {},
   "outputs": [
    {
     "data": {
      "text/html": [
       "<div>\n",
       "<style scoped>\n",
       "    .dataframe tbody tr th:only-of-type {\n",
       "        vertical-align: middle;\n",
       "    }\n",
       "\n",
       "    .dataframe tbody tr th {\n",
       "        vertical-align: top;\n",
       "    }\n",
       "\n",
       "    .dataframe thead th {\n",
       "        text-align: right;\n",
       "    }\n",
       "</style>\n",
       "<table border=\"1\" class=\"dataframe\">\n",
       "  <thead>\n",
       "    <tr style=\"text-align: right;\">\n",
       "      <th></th>\n",
       "      <th>mentions</th>\n",
       "      <th>counts</th>\n",
       "    </tr>\n",
       "  </thead>\n",
       "  <tbody>\n",
       "    <tr>\n",
       "      <th>1</th>\n",
       "      <td>EU_Commission</td>\n",
       "      <td>255</td>\n",
       "    </tr>\n",
       "    <tr>\n",
       "      <th>2</th>\n",
       "      <td>SecBlinken</td>\n",
       "      <td>249</td>\n",
       "    </tr>\n",
       "    <tr>\n",
       "      <th>3</th>\n",
       "      <td>UNHumanRights</td>\n",
       "      <td>248</td>\n",
       "    </tr>\n",
       "    <tr>\n",
       "      <th>4</th>\n",
       "      <td>JosepBorrellF</td>\n",
       "      <td>247</td>\n",
       "    </tr>\n",
       "    <tr>\n",
       "      <th>5</th>\n",
       "      <td>NATO</td>\n",
       "      <td>247</td>\n",
       "    </tr>\n",
       "    <tr>\n",
       "      <th>...</th>\n",
       "      <td>...</td>\n",
       "      <td>...</td>\n",
       "    </tr>\n",
       "    <tr>\n",
       "      <th>15507</th>\n",
       "      <td>amerix</td>\n",
       "      <td>1</td>\n",
       "    </tr>\n",
       "    <tr>\n",
       "      <th>15508</th>\n",
       "      <td>amirkingkhan</td>\n",
       "      <td>1</td>\n",
       "    </tr>\n",
       "    <tr>\n",
       "      <th>15509</th>\n",
       "      <td>amitabhk87</td>\n",
       "      <td>1</td>\n",
       "    </tr>\n",
       "    <tr>\n",
       "      <th>15510</th>\n",
       "      <td>amitsurg</td>\n",
       "      <td>1</td>\n",
       "    </tr>\n",
       "    <tr>\n",
       "      <th>15511</th>\n",
       "      <td>zurilibre</td>\n",
       "      <td>1</td>\n",
       "    </tr>\n",
       "  </tbody>\n",
       "</table>\n",
       "<p>15511 rows × 2 columns</p>\n",
       "</div>"
      ],
      "text/plain": [
       "             mentions  counts\n",
       "1       EU_Commission     255\n",
       "2          SecBlinken     249\n",
       "3       UNHumanRights     248\n",
       "4       JosepBorrellF     247\n",
       "5                NATO     247\n",
       "...               ...     ...\n",
       "15507          amerix       1\n",
       "15508    amirkingkhan       1\n",
       "15509      amitabhk87       1\n",
       "15510        amitsurg       1\n",
       "15511       zurilibre       1\n",
       "\n",
       "[15511 rows x 2 columns]"
      ]
     },
     "execution_count": 34,
     "metadata": {},
     "output_type": "execute_result"
    }
   ],
   "source": [
    "popular_mentions[1:]"
   ]
  },
  {
   "cell_type": "code",
   "execution_count": 35,
   "id": "5c79f315",
   "metadata": {},
   "outputs": [],
   "source": [
    "popular_mentions.to_excel('EDA/mentions.xlsx')"
   ]
  },
  {
   "cell_type": "code",
   "execution_count": 37,
   "id": "9a6e23d2",
   "metadata": {},
   "outputs": [],
   "source": [
    "df2['len_text']= df2['text'].apply(len)"
   ]
  },
  {
   "cell_type": "code",
   "execution_count": 39,
   "id": "151838e9",
   "metadata": {},
   "outputs": [
    {
     "data": {
      "text/plain": [
       "count    41189.000000\n",
       "mean       178.946661\n",
       "std         80.929980\n",
       "min         16.000000\n",
       "25%        110.000000\n",
       "50%        176.000000\n",
       "75%        254.000000\n",
       "max        996.000000\n",
       "Name: len_text, dtype: float64"
      ]
     },
     "execution_count": 39,
     "metadata": {},
     "output_type": "execute_result"
    }
   ],
   "source": [
    "df2['len_text'].describe()"
   ]
  },
  {
   "cell_type": "code",
   "execution_count": 40,
   "id": "adb235ab",
   "metadata": {},
   "outputs": [],
   "source": [
    "df2['len_text'].to_excel('EDA/len_text.xlsx')"
   ]
  },
  {
   "cell_type": "code",
   "execution_count": 4,
   "id": "0fde5afd",
   "metadata": {},
   "outputs": [],
   "source": [
    "from geopy.geocoders import Nominatim"
   ]
  },
  {
   "cell_type": "code",
   "execution_count": 24,
   "id": "46ccb803",
   "metadata": {},
   "outputs": [],
   "source": [
    "location = pd.DataFrame(df2['location'])"
   ]
  },
  {
   "cell_type": "code",
   "execution_count": 25,
   "id": "6a2c4342",
   "metadata": {},
   "outputs": [],
   "source": [
    "location.reset_index(drop = True, inplace = True)"
   ]
  },
  {
   "cell_type": "code",
   "execution_count": 26,
   "id": "307d77a4",
   "metadata": {},
   "outputs": [],
   "source": [
    "location.dropna(inplace = True)"
   ]
  },
  {
   "cell_type": "code",
   "execution_count": 27,
   "id": "678f0dad",
   "metadata": {},
   "outputs": [],
   "source": [
    "location = pd.DataFrame(location['location'].replace('nan', np.nan, regex=True))"
   ]
  },
  {
   "cell_type": "code",
   "execution_count": 28,
   "id": "89a2a187",
   "metadata": {},
   "outputs": [],
   "source": [
    "location['location'].reset_index(drop = True, inplace = True)"
   ]
  },
  {
   "cell_type": "code",
   "execution_count": 32,
   "id": "90f801e1",
   "metadata": {},
   "outputs": [
    {
     "data": {
      "text/plain": [
       "location      54\n",
       "lat         3467\n",
       "long        3467\n",
       "dtype: int64"
      ]
     },
     "execution_count": 32,
     "metadata": {},
     "output_type": "execute_result"
    }
   ],
   "source": [
    "location.isna().sum()"
   ]
  },
  {
   "cell_type": "code",
   "execution_count": 33,
   "id": "355c812b",
   "metadata": {},
   "outputs": [
    {
     "data": {
      "text/html": [
       "<div>\n",
       "<style scoped>\n",
       "    .dataframe tbody tr th:only-of-type {\n",
       "        vertical-align: middle;\n",
       "    }\n",
       "\n",
       "    .dataframe tbody tr th {\n",
       "        vertical-align: top;\n",
       "    }\n",
       "\n",
       "    .dataframe thead th {\n",
       "        text-align: right;\n",
       "    }\n",
       "</style>\n",
       "<table border=\"1\" class=\"dataframe\">\n",
       "  <thead>\n",
       "    <tr style=\"text-align: right;\">\n",
       "      <th></th>\n",
       "      <th>location</th>\n",
       "      <th>lat</th>\n",
       "      <th>long</th>\n",
       "    </tr>\n",
       "  </thead>\n",
       "  <tbody>\n",
       "    <tr>\n",
       "      <th>1</th>\n",
       "      <td>LA County / California</td>\n",
       "      <td>7.346434</td>\n",
       "      <td>-72.951890</td>\n",
       "    </tr>\n",
       "    <tr>\n",
       "      <th>2</th>\n",
       "      <td>Dublin</td>\n",
       "      <td>53.349764</td>\n",
       "      <td>-6.260273</td>\n",
       "    </tr>\n",
       "    <tr>\n",
       "      <th>4</th>\n",
       "      <td>Australia</td>\n",
       "      <td>-24.776109</td>\n",
       "      <td>134.755000</td>\n",
       "    </tr>\n",
       "    <tr>\n",
       "      <th>5</th>\n",
       "      <td>Leeds, England</td>\n",
       "      <td>53.797418</td>\n",
       "      <td>-1.543794</td>\n",
       "    </tr>\n",
       "    <tr>\n",
       "      <th>7</th>\n",
       "      <td>India</td>\n",
       "      <td>22.351115</td>\n",
       "      <td>78.667743</td>\n",
       "    </tr>\n",
       "  </tbody>\n",
       "</table>\n",
       "</div>"
      ],
      "text/plain": [
       "                 location        lat        long\n",
       "1  LA County / California   7.346434  -72.951890\n",
       "2                  Dublin  53.349764   -6.260273\n",
       "4               Australia -24.776109  134.755000\n",
       "5          Leeds, England  53.797418   -1.543794\n",
       "7                   India  22.351115   78.667743"
      ]
     },
     "execution_count": 33,
     "metadata": {},
     "output_type": "execute_result"
    }
   ],
   "source": [
    "location.head()"
   ]
  },
  {
   "cell_type": "code",
   "execution_count": 34,
   "id": "0b129c77",
   "metadata": {},
   "outputs": [],
   "source": [
    "location.to_excel('EDA/location.xlsx')"
   ]
  },
  {
   "cell_type": "markdown",
   "id": "70959e63",
   "metadata": {},
   "source": [
    "# Preprocessing"
   ]
  },
  {
   "cell_type": "code",
   "execution_count": 8,
   "id": "8b037828",
   "metadata": {},
   "outputs": [],
   "source": [
    "#Drop Unnamed Column\n",
    "df2.drop('Unnamed: 0',1, inplace = True)"
   ]
  },
  {
   "cell_type": "code",
   "execution_count": 9,
   "id": "12dd8891",
   "metadata": {},
   "outputs": [
    {
     "data": {
      "text/plain": [
       "created_at         0\n",
       "username           0\n",
       "description     2863\n",
       "tweetid            0\n",
       "mentions           0\n",
       "location        9191\n",
       "following          0\n",
       "followers          0\n",
       "totaltweets        0\n",
       "retweetcount       0\n",
       "text               0\n",
       "hashtags           0\n",
       "date               0\n",
       "dtype: int64"
      ]
     },
     "execution_count": 9,
     "metadata": {},
     "output_type": "execute_result"
    }
   ],
   "source": [
    "df2.isnull().sum()"
   ]
  },
  {
   "cell_type": "code",
   "execution_count": 10,
   "id": "dc9b6da3",
   "metadata": {},
   "outputs": [],
   "source": [
    "df2 = df2.reset_index(drop=True)"
   ]
  },
  {
   "cell_type": "code",
   "execution_count": 11,
   "id": "f16e6706",
   "metadata": {},
   "outputs": [
    {
     "data": {
      "text/plain": [
       "'Online portal introduced for Covid vaccine appointments in WP\\nhttps://t.co/x5E90onulZ\\n#lka #news #srilanka #ceylontribune #OnlinePortal #Introduced #CovidVaccine #Appointments #WesternProvince #covid19LK'"
      ]
     },
     "execution_count": 11,
     "metadata": {},
     "output_type": "execute_result"
    }
   ],
   "source": [
    "df2.loc[3,'text']"
   ]
  },
  {
   "cell_type": "markdown",
   "id": "10df4c60",
   "metadata": {},
   "source": [
    "# Handling Emojis"
   ]
  },
  {
   "cell_type": "code",
   "execution_count": 12,
   "id": "d463273f",
   "metadata": {},
   "outputs": [
    {
     "data": {
      "text/plain": [
       "'In fact, they may already have sterilized her AND HER WHOLE FAMILY🤔😂🤣 #VaccinesWork #eugenics'"
      ]
     },
     "execution_count": 12,
     "metadata": {},
     "output_type": "execute_result"
    }
   ],
   "source": [
    "df2['text'][41185]"
   ]
  },
  {
   "cell_type": "code",
   "execution_count": 13,
   "id": "09d10109",
   "metadata": {},
   "outputs": [],
   "source": [
    "#Extracting meaning from emoji\n",
    "def emoji(text):\n",
    "    emoji = e.emoji(text)['mean']\n",
    "    if len(emoji) == 0:\n",
    "        return ''\n",
    "    elif len(emoji) >= 0:\n",
    "        chars = ''\n",
    "        for i in range(len(emoji)):\n",
    "            chars = chars + ' ' + re.sub(r'_',\" \",re.sub(r'\\:', \"\",emoji[i]))\n",
    "        return chars"
   ]
  },
  {
   "cell_type": "code",
   "execution_count": 14,
   "id": "cc177892",
   "metadata": {},
   "outputs": [],
   "source": [
    "df2['emoji'] = df2['text'].apply(emoji)"
   ]
  },
  {
   "cell_type": "code",
   "execution_count": 15,
   "id": "445b33d3",
   "metadata": {},
   "outputs": [
    {
     "data": {
      "text/plain": [
       "' thinking face face with tears of joy rolling on the floor laughing'"
      ]
     },
     "execution_count": 15,
     "metadata": {},
     "output_type": "execute_result"
    }
   ],
   "source": [
    "df2.emoji[41185]"
   ]
  },
  {
   "cell_type": "code",
   "execution_count": 16,
   "id": "a6f80c51",
   "metadata": {},
   "outputs": [
    {
     "data": {
      "text/plain": [
       "(41189, 14)"
      ]
     },
     "execution_count": 16,
     "metadata": {},
     "output_type": "execute_result"
    }
   ],
   "source": [
    "df2.shape"
   ]
  },
  {
   "cell_type": "code",
   "execution_count": 17,
   "id": "57f2ce09",
   "metadata": {},
   "outputs": [
    {
     "data": {
      "text/plain": [
       "41184                                                     \n",
       "41185     thinking face face with tears of joy rolling ...\n",
       "41186                        person bowing light skin tone\n",
       "41187                                                     \n",
       "41188                                                     \n",
       "Name: emoji, dtype: object"
      ]
     },
     "execution_count": 17,
     "metadata": {},
     "output_type": "execute_result"
    }
   ],
   "source": [
    "df2['emoji'].tail()"
   ]
  },
  {
   "cell_type": "code",
   "execution_count": 18,
   "id": "ad56ce9e",
   "metadata": {},
   "outputs": [],
   "source": [
    "text_df = pd.DataFrame()\n",
    "text_df['text_original'] = df2['text']\n",
    "text_df['emoji'] = df2['emoji']"
   ]
  },
  {
   "cell_type": "code",
   "execution_count": 19,
   "id": "cfbaa7b0",
   "metadata": {},
   "outputs": [
    {
     "data": {
      "text/html": [
       "<div>\n",
       "<style scoped>\n",
       "    .dataframe tbody tr th:only-of-type {\n",
       "        vertical-align: middle;\n",
       "    }\n",
       "\n",
       "    .dataframe tbody tr th {\n",
       "        vertical-align: top;\n",
       "    }\n",
       "\n",
       "    .dataframe thead th {\n",
       "        text-align: right;\n",
       "    }\n",
       "</style>\n",
       "<table border=\"1\" class=\"dataframe\">\n",
       "  <thead>\n",
       "    <tr style=\"text-align: right;\">\n",
       "      <th></th>\n",
       "      <th>text_original</th>\n",
       "      <th>emoji</th>\n",
       "    </tr>\n",
       "  </thead>\n",
       "  <tbody>\n",
       "    <tr>\n",
       "      <th>41184</th>\n",
       "      <td>via @NYTOpinion ⁦@US_FDA⁩ SO important! Daily ...</td>\n",
       "      <td></td>\n",
       "    </tr>\n",
       "    <tr>\n",
       "      <th>41185</th>\n",
       "      <td>In fact, they may already have sterilized her ...</td>\n",
       "      <td>thinking face face with tears of joy rolling ...</td>\n",
       "    </tr>\n",
       "    <tr>\n",
       "      <th>41186</th>\n",
       "      <td>Alhamdulillah got my #2nddose appointment date...</td>\n",
       "      <td>person bowing light skin tone</td>\n",
       "    </tr>\n",
       "    <tr>\n",
       "      <th>41187</th>\n",
       "      <td>@angie_rasmussen @DrLeanaWen @JWhitePubRadio @...</td>\n",
       "      <td></td>\n",
       "    </tr>\n",
       "    <tr>\n",
       "      <th>41188</th>\n",
       "      <td>Communities of color are getting vaccinated at...</td>\n",
       "      <td></td>\n",
       "    </tr>\n",
       "  </tbody>\n",
       "</table>\n",
       "</div>"
      ],
      "text/plain": [
       "                                           text_original  \\\n",
       "41184  via @NYTOpinion ⁦@US_FDA⁩ SO important! Daily ...   \n",
       "41185  In fact, they may already have sterilized her ...   \n",
       "41186  Alhamdulillah got my #2nddose appointment date...   \n",
       "41187  @angie_rasmussen @DrLeanaWen @JWhitePubRadio @...   \n",
       "41188  Communities of color are getting vaccinated at...   \n",
       "\n",
       "                                                   emoji  \n",
       "41184                                                     \n",
       "41185   thinking face face with tears of joy rolling ...  \n",
       "41186                      person bowing light skin tone  \n",
       "41187                                                     \n",
       "41188                                                     "
      ]
     },
     "execution_count": 19,
     "metadata": {},
     "output_type": "execute_result"
    }
   ],
   "source": [
    "text_df.tail()"
   ]
  },
  {
   "cell_type": "markdown",
   "id": "32200c11",
   "metadata": {},
   "source": [
    "# Cleaning Tweets"
   ]
  },
  {
   "cell_type": "code",
   "execution_count": 20,
   "id": "4e4f0a74",
   "metadata": {},
   "outputs": [],
   "source": [
    "def cleantext(text):\n",
    "    text = re.sub(r'@[A-Za-z0-9]+',\"\",text)\n",
    "    text = re.sub(r'#[A-Za-z0-9]+','',text)\n",
    "    text = re.sub(r'https?:\\/\\/\\S+','',text)\n",
    "    emoj = re.compile(\"[\"\n",
    "        u\"\\U0001F600-\\U0001F64F\"  # emoticons\n",
    "        u\"\\U0001F300-\\U0001F5FF\"  # symbols & pictographs\n",
    "        u\"\\U0001F680-\\U0001F6FF\"  # transport & map symbols\n",
    "        u\"\\U0001F1E0-\\U0001F1FF\"  # flags (iOS)\n",
    "        u\"\\U00002500-\\U00002BEF\"  # chinese char\n",
    "        u\"\\U00002702-\\U000027B0\"\n",
    "        u\"\\U00002702-\\U000027B0\"\n",
    "        u\"\\U000024C2-\\U0001F251\"\n",
    "        u\"\\U0001f926-\\U0001f937\"\n",
    "        u\"\\U00010000-\\U0010ffff\"\n",
    "        u\"\\u2640-\\u2642\" \n",
    "        u\"\\u2600-\\u2B55\"\n",
    "        u\"\\u200d\"\n",
    "        u\"\\u23cf\"\n",
    "        u\"\\u23e9\"\n",
    "        u\"\\u231a\"\n",
    "        u\"\\ufe0f\"  # dingbats\n",
    "        u\"\\u3030\"\n",
    "                      \"]+\", re.UNICODE)\n",
    "    text = re.sub(emoj, '', text)\n",
    "    return text"
   ]
  },
  {
   "cell_type": "code",
   "execution_count": 21,
   "id": "4c5c1521",
   "metadata": {},
   "outputs": [],
   "source": [
    "text_df['tweet'] = text_df['text_original'].apply(cleantext)"
   ]
  },
  {
   "cell_type": "code",
   "execution_count": 22,
   "id": "fe5452a4",
   "metadata": {},
   "outputs": [
    {
     "data": {
      "text/plain": [
       "'In fact, they may already have sterilized her AND HER WHOLE FAMILY  '"
      ]
     },
     "execution_count": 22,
     "metadata": {},
     "output_type": "execute_result"
    }
   ],
   "source": [
    "text_df['tweet'][41185]"
   ]
  },
  {
   "cell_type": "code",
   "execution_count": 23,
   "id": "e3dd8949",
   "metadata": {},
   "outputs": [],
   "source": [
    "def text_preprocessing(text): \n",
    "    text = text.lower()\n",
    "    text_p = \"\".join([char for char in text if char not in string.punctuation])\n",
    "    words = word_tokenize(text_p)\n",
    "    stop_words = stopwords.words('english')\n",
    "    filtered_words = [word for word in words if word not in stop_words]\n",
    "    str1 = ' '.join(filtered_words)\n",
    "    return str1"
   ]
  },
  {
   "cell_type": "code",
   "execution_count": 24,
   "id": "ac1d979b",
   "metadata": {},
   "outputs": [
    {
     "data": {
      "text/plain": [
       "' newly discovered side effects… Now people told  children. Don’t understand as rarely hear kids infected? \\n\\nJ&amp;J’s Covid-19 vaccine may trigger neurological condition in rare cases, FDA says  via '"
      ]
     },
     "execution_count": 24,
     "metadata": {},
     "output_type": "execute_result"
    }
   ],
   "source": [
    "text_df['tweet'][101]"
   ]
  },
  {
   "cell_type": "code",
   "execution_count": 26,
   "id": "a0e7d3c7",
   "metadata": {},
   "outputs": [],
   "source": [
    "text_df['clean_tweet'] = text_df['tweet'].apply(text_preprocessing)"
   ]
  },
  {
   "cell_type": "code",
   "execution_count": 27,
   "id": "4ba86f81",
   "metadata": {},
   "outputs": [
    {
     "data": {
      "text/plain": [
       "'newly discovered side effects… people told children ’ understand rarely hear kids infected jampj ’ covid19 vaccine may trigger neurological condition rare cases fda says via'"
      ]
     },
     "execution_count": 27,
     "metadata": {},
     "output_type": "execute_result"
    }
   ],
   "source": [
    "text_df['clean_tweet'][101]"
   ]
  },
  {
   "cell_type": "code",
   "execution_count": 28,
   "id": "5e4c1cb6",
   "metadata": {},
   "outputs": [
    {
     "data": {
      "text/html": [
       "<div>\n",
       "<style scoped>\n",
       "    .dataframe tbody tr th:only-of-type {\n",
       "        vertical-align: middle;\n",
       "    }\n",
       "\n",
       "    .dataframe tbody tr th {\n",
       "        vertical-align: top;\n",
       "    }\n",
       "\n",
       "    .dataframe thead th {\n",
       "        text-align: right;\n",
       "    }\n",
       "</style>\n",
       "<table border=\"1\" class=\"dataframe\">\n",
       "  <thead>\n",
       "    <tr style=\"text-align: right;\">\n",
       "      <th></th>\n",
       "      <th>text_original</th>\n",
       "      <th>emoji</th>\n",
       "      <th>tweet</th>\n",
       "      <th>clean_tweet</th>\n",
       "    </tr>\n",
       "  </thead>\n",
       "  <tbody>\n",
       "    <tr>\n",
       "      <th>0</th>\n",
       "      <td>In my cold dead arm\\n#COVID19 #CovidVaccine wi...</td>\n",
       "      <td></td>\n",
       "      <td>In my cold dead arm\\n  will never be in my bod...</td>\n",
       "      <td>cold dead arm never body stop govt overreach p...</td>\n",
       "    </tr>\n",
       "    <tr>\n",
       "      <th>1</th>\n",
       "      <td>Here in CA the government is literally offerin...</td>\n",
       "      <td></td>\n",
       "      <td>Here in CA the government is literally offerin...</td>\n",
       "      <td>ca government literally offering free weed get...</td>\n",
       "    </tr>\n",
       "    <tr>\n",
       "      <th>2</th>\n",
       "      <td>Nice to see my friend John, pushing boxes at t...</td>\n",
       "      <td></td>\n",
       "      <td>Nice to see my friend John, pushing boxes at t...</td>\n",
       "      <td>nice see friend john pushing boxes start hard ...</td>\n",
       "    </tr>\n",
       "    <tr>\n",
       "      <th>3</th>\n",
       "      <td>Online portal introduced for Covid vaccine app...</td>\n",
       "      <td></td>\n",
       "      <td>Online portal introduced for Covid vaccine app...</td>\n",
       "      <td>online portal introduced covid vaccine appoint...</td>\n",
       "    </tr>\n",
       "    <tr>\n",
       "      <th>4</th>\n",
       "      <td>It’s #BastilleDay 🇫🇷 &amp;amp; I celebrate by shar...</td>\n",
       "      <td></td>\n",
       "      <td>It’s   &amp;amp; I celebrate by sharing this fabul...</td>\n",
       "      <td>’ amp celebrate sharing fabulous french vaccin...</td>\n",
       "    </tr>\n",
       "  </tbody>\n",
       "</table>\n",
       "</div>"
      ],
      "text/plain": [
       "                                       text_original emoji  \\\n",
       "0  In my cold dead arm\\n#COVID19 #CovidVaccine wi...         \n",
       "1  Here in CA the government is literally offerin...         \n",
       "2  Nice to see my friend John, pushing boxes at t...         \n",
       "3  Online portal introduced for Covid vaccine app...         \n",
       "4  It’s #BastilleDay 🇫🇷 &amp; I celebrate by shar...         \n",
       "\n",
       "                                               tweet  \\\n",
       "0  In my cold dead arm\\n  will never be in my bod...   \n",
       "1  Here in CA the government is literally offerin...   \n",
       "2  Nice to see my friend John, pushing boxes at t...   \n",
       "3  Online portal introduced for Covid vaccine app...   \n",
       "4  It’s   &amp; I celebrate by sharing this fabul...   \n",
       "\n",
       "                                         clean_tweet  \n",
       "0  cold dead arm never body stop govt overreach p...  \n",
       "1  ca government literally offering free weed get...  \n",
       "2  nice see friend john pushing boxes start hard ...  \n",
       "3  online portal introduced covid vaccine appoint...  \n",
       "4  ’ amp celebrate sharing fabulous french vaccin...  "
      ]
     },
     "execution_count": 28,
     "metadata": {},
     "output_type": "execute_result"
    }
   ],
   "source": [
    "text_df.head()"
   ]
  },
  {
   "cell_type": "markdown",
   "id": "f81842d8",
   "metadata": {},
   "source": [
    "# Most Frequent Words"
   ]
  },
  {
   "cell_type": "code",
   "execution_count": 29,
   "id": "72107ab7",
   "metadata": {},
   "outputs": [],
   "source": [
    "words = text_df['clean_tweet'].apply(word_tokenize)"
   ]
  },
  {
   "cell_type": "code",
   "execution_count": 30,
   "id": "9139b714",
   "metadata": {},
   "outputs": [],
   "source": [
    "word = []\n",
    "for i in range(len(words)):\n",
    "    word = word + words[i] "
   ]
  },
  {
   "cell_type": "code",
   "execution_count": 31,
   "id": "5c94efb7",
   "metadata": {},
   "outputs": [
    {
     "name": "stdout",
     "output_type": "stream",
     "text": [
      "<class 'list'>\n"
     ]
    }
   ],
   "source": [
    "len(word)\n",
    "print(type(word))"
   ]
  },
  {
   "cell_type": "code",
   "execution_count": 32,
   "id": "bee9f741",
   "metadata": {},
   "outputs": [
    {
     "data": {
      "text/plain": [
       "['cold',\n",
       " 'dead',\n",
       " 'arm',\n",
       " 'never',\n",
       " 'body',\n",
       " 'stop',\n",
       " 'govt',\n",
       " 'overreach',\n",
       " 'poison',\n",
       " 'authoritarian',\n",
       " 'ruler']"
      ]
     },
     "execution_count": 32,
     "metadata": {},
     "output_type": "execute_result"
    }
   ],
   "source": [
    "[word for word in text_df['clean_tweet'][0].split()]"
   ]
  },
  {
   "cell_type": "code",
   "execution_count": 33,
   "id": "134881be",
   "metadata": {},
   "outputs": [],
   "source": [
    "from nltk.probability import FreqDist\n",
    "fdist = FreqDist(word)\n",
    "most_common = fdist.most_common(50)"
   ]
  },
  {
   "cell_type": "code",
   "execution_count": 34,
   "id": "684c1857",
   "metadata": {},
   "outputs": [],
   "source": [
    "most_common_stop = []\n",
    "for i in most_common:\n",
    "    most_common_stop.append(i[0])\n",
    "    "
   ]
  },
  {
   "cell_type": "markdown",
   "id": "9da8fa42",
   "metadata": {},
   "source": [
    "# Tokenization"
   ]
  },
  {
   "cell_type": "code",
   "execution_count": 35,
   "id": "3acc6aaf",
   "metadata": {},
   "outputs": [],
   "source": [
    "nlp = spacy.load('en_core_web_sm')"
   ]
  },
  {
   "cell_type": "code",
   "execution_count": 36,
   "id": "a261cd72",
   "metadata": {},
   "outputs": [],
   "source": [
    "# Tokenizer\n",
    "tokenizer = Tokenizer(nlp.vocab)"
   ]
  },
  {
   "cell_type": "code",
   "execution_count": 37,
   "id": "c940a2fb",
   "metadata": {},
   "outputs": [],
   "source": [
    "tokens = []\n",
    "\n",
    "for doc in tokenizer.pipe(text_df['clean_tweet'], batch_size=500):\n",
    "    doc_tokens = []    \n",
    "    for token in doc: \n",
    "        if token.text.lower() not in most_common_stop:\n",
    "            doc_tokens.append(token.text.lower())   \n",
    "    tokens.append(doc_tokens)\n",
    "\n",
    "# Makes tokens column\n",
    "text_df['tokens'] = tokens"
   ]
  },
  {
   "cell_type": "code",
   "execution_count": 38,
   "id": "3ae002b6",
   "metadata": {},
   "outputs": [
    {
     "data": {
      "text/plain": [
       "0        [cold, dead, arm, never, body, stop, govt, ove...\n",
       "1        [ca, government, literally, offering, free, we...\n",
       "2        [nice, see, friend, john, pushing, boxes, star...\n",
       "3           [online, portal, introduced, appointments, wp]\n",
       "4               [celebrate, sharing, fabulous, french, ad]\n",
       "                               ...                        \n",
       "41184    [via, ⁦fda⁩, important, daily, patients, tell,...\n",
       "41185      [fact, may, already, sterilized, whole, family]\n",
       "41186    [alhamdulillah, appointment, date, nine, weeks...\n",
       "41187    [rasmussen, awesome, show, thx, evidencebased,...\n",
       "41188    [communities, color, lower, rates, white, coun...\n",
       "Name: tokens, Length: 41189, dtype: object"
      ]
     },
     "execution_count": 38,
     "metadata": {},
     "output_type": "execute_result"
    }
   ],
   "source": [
    "text_df['tokens']"
   ]
  },
  {
   "cell_type": "code",
   "execution_count": 39,
   "id": "957403b9",
   "metadata": {},
   "outputs": [],
   "source": [
    "# Make tokens a string again\n",
    "text_df['tokens_back_to_text'] = [' '.join(map(str, l)) for l in text_df['tokens']]"
   ]
  },
  {
   "cell_type": "code",
   "execution_count": 40,
   "id": "bd5c944b",
   "metadata": {},
   "outputs": [
    {
     "data": {
      "text/plain": [
       "'oh glad hear shes feeling sick'"
      ]
     },
     "execution_count": 40,
     "metadata": {},
     "output_type": "execute_result"
    }
   ],
   "source": [
    "text_df['clean_tweet'][500]"
   ]
  },
  {
   "cell_type": "code",
   "execution_count": 41,
   "id": "845f76e9",
   "metadata": {},
   "outputs": [
    {
     "data": {
      "text/plain": [
       "['oh', 'glad', 'hear', 'shes', 'feeling', 'sick']"
      ]
     },
     "execution_count": 41,
     "metadata": {},
     "output_type": "execute_result"
    }
   ],
   "source": [
    "text_df['tokens'][500]"
   ]
  },
  {
   "cell_type": "code",
   "execution_count": 42,
   "id": "93271e88",
   "metadata": {},
   "outputs": [
    {
     "data": {
      "text/plain": [
       "'oh glad hear shes feeling sick'"
      ]
     },
     "execution_count": 42,
     "metadata": {},
     "output_type": "execute_result"
    }
   ],
   "source": [
    "text_df['tokens_back_to_text'][500]\n"
   ]
  },
  {
   "cell_type": "code",
   "execution_count": 43,
   "id": "144a60cc",
   "metadata": {},
   "outputs": [
    {
     "data": {
      "text/html": [
       "<div>\n",
       "<style scoped>\n",
       "    .dataframe tbody tr th:only-of-type {\n",
       "        vertical-align: middle;\n",
       "    }\n",
       "\n",
       "    .dataframe tbody tr th {\n",
       "        vertical-align: top;\n",
       "    }\n",
       "\n",
       "    .dataframe thead th {\n",
       "        text-align: right;\n",
       "    }\n",
       "</style>\n",
       "<table border=\"1\" class=\"dataframe\">\n",
       "  <thead>\n",
       "    <tr style=\"text-align: right;\">\n",
       "      <th></th>\n",
       "      <th>text_original</th>\n",
       "      <th>emoji</th>\n",
       "      <th>tweet</th>\n",
       "      <th>clean_tweet</th>\n",
       "      <th>tokens</th>\n",
       "      <th>tokens_back_to_text</th>\n",
       "    </tr>\n",
       "  </thead>\n",
       "  <tbody>\n",
       "    <tr>\n",
       "      <th>0</th>\n",
       "      <td>In my cold dead arm\\n#COVID19 #CovidVaccine wi...</td>\n",
       "      <td></td>\n",
       "      <td>In my cold dead arm\\n  will never be in my bod...</td>\n",
       "      <td>cold dead arm never body stop govt overreach p...</td>\n",
       "      <td>[cold, dead, arm, never, body, stop, govt, ove...</td>\n",
       "      <td>cold dead arm never body stop govt overreach p...</td>\n",
       "    </tr>\n",
       "    <tr>\n",
       "      <th>1</th>\n",
       "      <td>Here in CA the government is literally offerin...</td>\n",
       "      <td></td>\n",
       "      <td>Here in CA the government is literally offerin...</td>\n",
       "      <td>ca government literally offering free weed get...</td>\n",
       "      <td>[ca, government, literally, offering, free, we...</td>\n",
       "      <td>ca government literally offering free weed pre...</td>\n",
       "    </tr>\n",
       "    <tr>\n",
       "      <th>2</th>\n",
       "      <td>Nice to see my friend John, pushing boxes at t...</td>\n",
       "      <td></td>\n",
       "      <td>Nice to see my friend John, pushing boxes at t...</td>\n",
       "      <td>nice see friend john pushing boxes start hard ...</td>\n",
       "      <td>[nice, see, friend, john, pushing, boxes, star...</td>\n",
       "      <td>nice see friend john pushing boxes start hard ...</td>\n",
       "    </tr>\n",
       "    <tr>\n",
       "      <th>3</th>\n",
       "      <td>Online portal introduced for Covid vaccine app...</td>\n",
       "      <td></td>\n",
       "      <td>Online portal introduced for Covid vaccine app...</td>\n",
       "      <td>online portal introduced covid vaccine appoint...</td>\n",
       "      <td>[online, portal, introduced, appointments, wp]</td>\n",
       "      <td>online portal introduced appointments wp</td>\n",
       "    </tr>\n",
       "    <tr>\n",
       "      <th>4</th>\n",
       "      <td>It’s #BastilleDay 🇫🇷 &amp;amp; I celebrate by shar...</td>\n",
       "      <td></td>\n",
       "      <td>It’s   &amp;amp; I celebrate by sharing this fabul...</td>\n",
       "      <td>’ amp celebrate sharing fabulous french vaccin...</td>\n",
       "      <td>[celebrate, sharing, fabulous, french, ad]</td>\n",
       "      <td>celebrate sharing fabulous french ad</td>\n",
       "    </tr>\n",
       "  </tbody>\n",
       "</table>\n",
       "</div>"
      ],
      "text/plain": [
       "                                       text_original emoji  \\\n",
       "0  In my cold dead arm\\n#COVID19 #CovidVaccine wi...         \n",
       "1  Here in CA the government is literally offerin...         \n",
       "2  Nice to see my friend John, pushing boxes at t...         \n",
       "3  Online portal introduced for Covid vaccine app...         \n",
       "4  It’s #BastilleDay 🇫🇷 &amp; I celebrate by shar...         \n",
       "\n",
       "                                               tweet  \\\n",
       "0  In my cold dead arm\\n  will never be in my bod...   \n",
       "1  Here in CA the government is literally offerin...   \n",
       "2  Nice to see my friend John, pushing boxes at t...   \n",
       "3  Online portal introduced for Covid vaccine app...   \n",
       "4  It’s   &amp; I celebrate by sharing this fabul...   \n",
       "\n",
       "                                         clean_tweet  \\\n",
       "0  cold dead arm never body stop govt overreach p...   \n",
       "1  ca government literally offering free weed get...   \n",
       "2  nice see friend john pushing boxes start hard ...   \n",
       "3  online portal introduced covid vaccine appoint...   \n",
       "4  ’ amp celebrate sharing fabulous french vaccin...   \n",
       "\n",
       "                                              tokens  \\\n",
       "0  [cold, dead, arm, never, body, stop, govt, ove...   \n",
       "1  [ca, government, literally, offering, free, we...   \n",
       "2  [nice, see, friend, john, pushing, boxes, star...   \n",
       "3     [online, portal, introduced, appointments, wp]   \n",
       "4         [celebrate, sharing, fabulous, french, ad]   \n",
       "\n",
       "                                 tokens_back_to_text  \n",
       "0  cold dead arm never body stop govt overreach p...  \n",
       "1  ca government literally offering free weed pre...  \n",
       "2  nice see friend john pushing boxes start hard ...  \n",
       "3           online portal introduced appointments wp  \n",
       "4               celebrate sharing fabulous french ad  "
      ]
     },
     "execution_count": 43,
     "metadata": {},
     "output_type": "execute_result"
    }
   ],
   "source": [
    "text_df.head()"
   ]
  },
  {
   "cell_type": "markdown",
   "id": "2ed305e0",
   "metadata": {},
   "source": [
    "# Lemmetization"
   ]
  },
  {
   "cell_type": "code",
   "execution_count": 44,
   "id": "7a7e6e83",
   "metadata": {},
   "outputs": [],
   "source": [
    "def get_lemmas(text):\n",
    "    '''Used to lemmatize the processed tweets'''\n",
    "    lemmas = []\n",
    "    \n",
    "    doc = nlp(text)\n",
    "    \n",
    "    # Something goes here :P\n",
    "    for token in doc: \n",
    "        if ((token.is_stop == False) and (token.is_punct == False)) and (token.pos_ != 'PRON'):\n",
    "            lemmas.append(token.lemma_)\n",
    "    \n",
    "    return lemmas\n",
    "\n",
    "text_df['lemmas'] = text_df['tokens_back_to_text'].apply(get_lemmas)\n"
   ]
  },
  {
   "cell_type": "code",
   "execution_count": 45,
   "id": "f2073a70",
   "metadata": {},
   "outputs": [],
   "source": [
    "text_df['lemmas_back_to_text'] = [' '.join(map(str, l)) for l in text_df['lemmas']]"
   ]
  },
  {
   "cell_type": "code",
   "execution_count": 46,
   "id": "5c3ba0c5",
   "metadata": {},
   "outputs": [],
   "source": [
    "# Tokenizer functions\n",
    "def tokenize(text):\n",
    "    \"\"\"\n",
    "    Parses a string into a list of semantic units (words)\n",
    "    Args:\n",
    "        text (str): The string that the function will tokenize.\n",
    "    Returns:\n",
    "        list: tokens parsed out\n",
    "    \"\"\"\n",
    "    # Removing url's\n",
    "    pattern = r\"http\\S+\"\n",
    "    \n",
    "    tokens = re.sub(pattern, \"\", text) # https://www.youtube.com/watch?v=O2onA4r5UaY\n",
    "    text = ' '.join([w for w in text.split() if len(w)>3])\n",
    "    tokens = re.sub('[^a-zA-Z 0-9]', '', text)\n",
    "    tokens = re.sub('[%s]' % re.escape(string.punctuation), '', text) # Remove punctuation\n",
    "    tokens = re.sub('\\w*\\d\\w*', '', text) # Remove words containing numbers\n",
    "    tokens = re.sub('@*!*\\$*', '', text) # Remove @ ! $\n",
    "    tokens = tokens.strip(',') # TESTING THIS LINE\n",
    "    tokens = tokens.strip('?') # TESTING THIS LINE\n",
    "    tokens = tokens.strip('!') # TESTING THIS LINE\n",
    "    tokens = tokens.strip(\"'\") # TESTING THIS LINE\n",
    "    tokens = tokens.strip(\".\") # TESTING THIS LINE\n",
    "    \n",
    "    tokens = tokens.lower().split() # Make text lowercase and split it\n",
    "    \n",
    "    return tokens\n",
    "\n",
    "# Apply tokenizer\n",
    "text_df['lemma_tokens'] = text_df['lemmas_back_to_text'].apply(tokenize)"
   ]
  },
  {
   "cell_type": "code",
   "execution_count": 47,
   "id": "b5e74478",
   "metadata": {},
   "outputs": [
    {
     "data": {
      "text/plain": [
       "['online', 'portal', 'introduce', 'appointment']"
      ]
     },
     "execution_count": 47,
     "metadata": {},
     "output_type": "execute_result"
    }
   ],
   "source": [
    "text_df['lemma_tokens'][3]"
   ]
  },
  {
   "cell_type": "code",
   "execution_count": 48,
   "id": "26310a6b",
   "metadata": {},
   "outputs": [
    {
     "data": {
      "text/html": [
       "<div>\n",
       "<style scoped>\n",
       "    .dataframe tbody tr th:only-of-type {\n",
       "        vertical-align: middle;\n",
       "    }\n",
       "\n",
       "    .dataframe tbody tr th {\n",
       "        vertical-align: top;\n",
       "    }\n",
       "\n",
       "    .dataframe thead th {\n",
       "        text-align: right;\n",
       "    }\n",
       "</style>\n",
       "<table border=\"1\" class=\"dataframe\">\n",
       "  <thead>\n",
       "    <tr style=\"text-align: right;\">\n",
       "      <th></th>\n",
       "      <th>text_original</th>\n",
       "      <th>emoji</th>\n",
       "      <th>tweet</th>\n",
       "      <th>clean_tweet</th>\n",
       "      <th>tokens</th>\n",
       "      <th>tokens_back_to_text</th>\n",
       "      <th>lemmas</th>\n",
       "      <th>lemmas_back_to_text</th>\n",
       "      <th>lemma_tokens</th>\n",
       "    </tr>\n",
       "  </thead>\n",
       "  <tbody>\n",
       "    <tr>\n",
       "      <th>0</th>\n",
       "      <td>In my cold dead arm\\n#COVID19 #CovidVaccine wi...</td>\n",
       "      <td></td>\n",
       "      <td>In my cold dead arm\\n  will never be in my bod...</td>\n",
       "      <td>cold dead arm never body stop govt overreach p...</td>\n",
       "      <td>[cold, dead, arm, never, body, stop, govt, ove...</td>\n",
       "      <td>cold dead arm never body stop govt overreach p...</td>\n",
       "      <td>[cold, dead, arm, body, stop, govt, overreach,...</td>\n",
       "      <td>cold dead arm body stop govt overreach poison ...</td>\n",
       "      <td>[cold, dead, body, stop, govt, overreach, pois...</td>\n",
       "    </tr>\n",
       "    <tr>\n",
       "      <th>1</th>\n",
       "      <td>Here in CA the government is literally offerin...</td>\n",
       "      <td></td>\n",
       "      <td>Here in CA the government is literally offerin...</td>\n",
       "      <td>ca government literally offering free weed get...</td>\n",
       "      <td>[ca, government, literally, offering, free, we...</td>\n",
       "      <td>ca government literally offering free weed pre...</td>\n",
       "      <td>[government, literally, offer, free, weed, pre...</td>\n",
       "      <td>government literally offer free weed pretend</td>\n",
       "      <td>[government, literally, offer, free, weed, pre...</td>\n",
       "    </tr>\n",
       "    <tr>\n",
       "      <th>2</th>\n",
       "      <td>Nice to see my friend John, pushing boxes at t...</td>\n",
       "      <td></td>\n",
       "      <td>Nice to see my friend John, pushing boxes at t...</td>\n",
       "      <td>nice see friend john pushing boxes start hard ...</td>\n",
       "      <td>[nice, see, friend, john, pushing, boxes, star...</td>\n",
       "      <td>nice see friend john pushing boxes start hard ...</td>\n",
       "      <td>[nice, friend, john, pushing, box, start, hard...</td>\n",
       "      <td>nice friend john pushing box start hard work e...</td>\n",
       "      <td>[nice, friend, john, pushing, start, hard, wor...</td>\n",
       "    </tr>\n",
       "    <tr>\n",
       "      <th>3</th>\n",
       "      <td>Online portal introduced for Covid vaccine app...</td>\n",
       "      <td></td>\n",
       "      <td>Online portal introduced for Covid vaccine app...</td>\n",
       "      <td>online portal introduced covid vaccine appoint...</td>\n",
       "      <td>[online, portal, introduced, appointments, wp]</td>\n",
       "      <td>online portal introduced appointments wp</td>\n",
       "      <td>[online, portal, introduce, appointment, wp]</td>\n",
       "      <td>online portal introduce appointment wp</td>\n",
       "      <td>[online, portal, introduce, appointment]</td>\n",
       "    </tr>\n",
       "    <tr>\n",
       "      <th>4</th>\n",
       "      <td>It’s #BastilleDay 🇫🇷 &amp;amp; I celebrate by shar...</td>\n",
       "      <td></td>\n",
       "      <td>It’s   &amp;amp; I celebrate by sharing this fabul...</td>\n",
       "      <td>’ amp celebrate sharing fabulous french vaccin...</td>\n",
       "      <td>[celebrate, sharing, fabulous, french, ad]</td>\n",
       "      <td>celebrate sharing fabulous french ad</td>\n",
       "      <td>[celebrate, share, fabulous, french, ad]</td>\n",
       "      <td>celebrate share fabulous french ad</td>\n",
       "      <td>[celebrate, share, fabulous, french]</td>\n",
       "    </tr>\n",
       "  </tbody>\n",
       "</table>\n",
       "</div>"
      ],
      "text/plain": [
       "                                       text_original emoji  \\\n",
       "0  In my cold dead arm\\n#COVID19 #CovidVaccine wi...         \n",
       "1  Here in CA the government is literally offerin...         \n",
       "2  Nice to see my friend John, pushing boxes at t...         \n",
       "3  Online portal introduced for Covid vaccine app...         \n",
       "4  It’s #BastilleDay 🇫🇷 &amp; I celebrate by shar...         \n",
       "\n",
       "                                               tweet  \\\n",
       "0  In my cold dead arm\\n  will never be in my bod...   \n",
       "1  Here in CA the government is literally offerin...   \n",
       "2  Nice to see my friend John, pushing boxes at t...   \n",
       "3  Online portal introduced for Covid vaccine app...   \n",
       "4  It’s   &amp; I celebrate by sharing this fabul...   \n",
       "\n",
       "                                         clean_tweet  \\\n",
       "0  cold dead arm never body stop govt overreach p...   \n",
       "1  ca government literally offering free weed get...   \n",
       "2  nice see friend john pushing boxes start hard ...   \n",
       "3  online portal introduced covid vaccine appoint...   \n",
       "4  ’ amp celebrate sharing fabulous french vaccin...   \n",
       "\n",
       "                                              tokens  \\\n",
       "0  [cold, dead, arm, never, body, stop, govt, ove...   \n",
       "1  [ca, government, literally, offering, free, we...   \n",
       "2  [nice, see, friend, john, pushing, boxes, star...   \n",
       "3     [online, portal, introduced, appointments, wp]   \n",
       "4         [celebrate, sharing, fabulous, french, ad]   \n",
       "\n",
       "                                 tokens_back_to_text  \\\n",
       "0  cold dead arm never body stop govt overreach p...   \n",
       "1  ca government literally offering free weed pre...   \n",
       "2  nice see friend john pushing boxes start hard ...   \n",
       "3           online portal introduced appointments wp   \n",
       "4               celebrate sharing fabulous french ad   \n",
       "\n",
       "                                              lemmas  \\\n",
       "0  [cold, dead, arm, body, stop, govt, overreach,...   \n",
       "1  [government, literally, offer, free, weed, pre...   \n",
       "2  [nice, friend, john, pushing, box, start, hard...   \n",
       "3       [online, portal, introduce, appointment, wp]   \n",
       "4           [celebrate, share, fabulous, french, ad]   \n",
       "\n",
       "                                 lemmas_back_to_text  \\\n",
       "0  cold dead arm body stop govt overreach poison ...   \n",
       "1       government literally offer free weed pretend   \n",
       "2  nice friend john pushing box start hard work e...   \n",
       "3             online portal introduce appointment wp   \n",
       "4                 celebrate share fabulous french ad   \n",
       "\n",
       "                                        lemma_tokens  \n",
       "0  [cold, dead, body, stop, govt, overreach, pois...  \n",
       "1  [government, literally, offer, free, weed, pre...  \n",
       "2  [nice, friend, john, pushing, start, hard, wor...  \n",
       "3           [online, portal, introduce, appointment]  \n",
       "4               [celebrate, share, fabulous, french]  "
      ]
     },
     "execution_count": 48,
     "metadata": {},
     "output_type": "execute_result"
    }
   ],
   "source": [
    "text_df.head()"
   ]
  },
  {
   "cell_type": "markdown",
   "id": "7e6929a6",
   "metadata": {},
   "source": [
    "# Model with BoW"
   ]
  },
  {
   "cell_type": "code",
   "execution_count": 49,
   "id": "57eb2eb9",
   "metadata": {
    "scrolled": true
   },
   "outputs": [
    {
     "name": "stdout",
     "output_type": "stream",
     "text": [
      "27651\n"
     ]
    }
   ],
   "source": [
    "# Create a id2word dictionary\n",
    "id2word = Dictionary(text_df['lemma_tokens'])\n",
    "print(len(id2word))"
   ]
  },
  {
   "cell_type": "code",
   "execution_count": 50,
   "id": "b9c84978",
   "metadata": {},
   "outputs": [
    {
     "name": "stdout",
     "output_type": "stream",
     "text": [
      "10817\n"
     ]
    }
   ],
   "source": [
    "# Filtering Extremes\n",
    "id2word.filter_extremes(no_below=2, no_above=.99)\n",
    "print(len(id2word))"
   ]
  },
  {
   "cell_type": "code",
   "execution_count": 51,
   "id": "b0c88c3b",
   "metadata": {},
   "outputs": [],
   "source": [
    "# Creating a corpus object \n",
    "corpus = [id2word.doc2bow(d) for d in text_df['lemma_tokens']]"
   ]
  },
  {
   "cell_type": "code",
   "execution_count": 86,
   "id": "95b0477d",
   "metadata": {},
   "outputs": [
    {
     "name": "stdout",
     "output_type": "stream",
     "text": [
      "7\n",
      "0.05\n",
      "0.1\n",
      "0.3\n",
      "0.5\n",
      "0.8\n",
      "1\n",
      "9\n",
      "0.05\n",
      "0.1\n",
      "0.3\n",
      "0.5\n",
      "0.8\n",
      "1\n",
      "11\n",
      "0.05\n",
      "0.1\n",
      "0.3\n",
      "0.5\n",
      "0.8\n",
      "1\n"
     ]
    },
    {
     "data": {
      "text/html": [
       "<div>\n",
       "<style scoped>\n",
       "    .dataframe tbody tr th:only-of-type {\n",
       "        vertical-align: middle;\n",
       "    }\n",
       "\n",
       "    .dataframe tbody tr th {\n",
       "        vertical-align: top;\n",
       "    }\n",
       "\n",
       "    .dataframe thead th {\n",
       "        text-align: right;\n",
       "    }\n",
       "</style>\n",
       "<table border=\"1\" class=\"dataframe\">\n",
       "  <thead>\n",
       "    <tr style=\"text-align: right;\">\n",
       "      <th></th>\n",
       "      <th>MulLda_Topic_Num</th>\n",
       "      <th>MulLda_alpha_val</th>\n",
       "      <th>MulLda_Coherent_score</th>\n",
       "      <th>MulLda_Perplexity_val</th>\n",
       "    </tr>\n",
       "  </thead>\n",
       "  <tbody>\n",
       "    <tr>\n",
       "      <th>6</th>\n",
       "      <td>9</td>\n",
       "      <td>0.05</td>\n",
       "      <td>0.368453</td>\n",
       "      <td>-8.070022</td>\n",
       "    </tr>\n",
       "    <tr>\n",
       "      <th>12</th>\n",
       "      <td>11</td>\n",
       "      <td>0.05</td>\n",
       "      <td>0.349216</td>\n",
       "      <td>-8.101546</td>\n",
       "    </tr>\n",
       "    <tr>\n",
       "      <th>7</th>\n",
       "      <td>9</td>\n",
       "      <td>0.10</td>\n",
       "      <td>0.340201</td>\n",
       "      <td>-8.050964</td>\n",
       "    </tr>\n",
       "    <tr>\n",
       "      <th>13</th>\n",
       "      <td>11</td>\n",
       "      <td>0.10</td>\n",
       "      <td>0.335908</td>\n",
       "      <td>-8.076597</td>\n",
       "    </tr>\n",
       "    <tr>\n",
       "      <th>14</th>\n",
       "      <td>11</td>\n",
       "      <td>0.30</td>\n",
       "      <td>0.334519</td>\n",
       "      <td>-8.033728</td>\n",
       "    </tr>\n",
       "  </tbody>\n",
       "</table>\n",
       "</div>"
      ],
      "text/plain": [
       "    MulLda_Topic_Num  MulLda_alpha_val  MulLda_Coherent_score  \\\n",
       "6                  9              0.05               0.368453   \n",
       "12                11              0.05               0.349216   \n",
       "7                  9              0.10               0.340201   \n",
       "13                11              0.10               0.335908   \n",
       "14                11              0.30               0.334519   \n",
       "\n",
       "    MulLda_Perplexity_val  \n",
       "6               -8.070022  \n",
       "12              -8.101546  \n",
       "7               -8.050964  \n",
       "13              -8.076597  \n",
       "14              -8.033728  "
      ]
     },
     "execution_count": 86,
     "metadata": {},
     "output_type": "execute_result"
    }
   ],
   "source": [
    "MulLda_coherent_scores = []\n",
    "MulLda_topics_val = []\n",
    "MulLda_perplexity_val = []\n",
    "alpha_val = [0.05, 0.1, 0.3, 0.5, 0.8, 1]\n",
    "MulLda_alphas = []\n",
    "\n",
    "\n",
    "for topics in range(7, 13, 2):\n",
    "    print(topics)\n",
    "    for alph in alpha_val:\n",
    "        print(alph)\n",
    "\n",
    "        lda_model_multi_notts = gensim.models.LdaMulticore(corpus = corpus,\n",
    "                     id2word = id2word,\n",
    "                     random_state = 42,\n",
    "                     num_topics = topics,\n",
    "                     passes=10,\n",
    "                     chunksize=512,\n",
    "                     alpha=alph,\n",
    "                     offset=64,\n",
    "                     eta=None,\n",
    "                     iterations=100,\n",
    "                     per_word_topics=True,\n",
    "                     workers=6)\n",
    "\n",
    "        coherence_model_MulLda_notts = CoherenceModel(model = lda_model_multi_notts, \n",
    "                                   texts = text_df['lemma_tokens'], \n",
    "                                   dictionary = id2word, \n",
    "                                   coherence = 'c_v')\n",
    "\n",
    "        coherence_MulLda = coherence_model_MulLda_notts.get_coherence()\n",
    "        perplexity_MulLda = lda_model_multi_notts.log_perplexity(corpus)\n",
    "\n",
    "        MulLda_topics_val.append(topics)\n",
    "        MulLda_alphas.append(alph)        \n",
    "        MulLda_coherent_scores.append(coherence_MulLda)\n",
    "        MulLda_perplexity_val.append(perplexity_MulLda)\n",
    "            \n",
    "\n",
    "            \n",
    "df_mulLDA_notts = pd.DataFrame(list(zip(MulLda_topics_val, MulLda_alphas, MulLda_coherent_scores, MulLda_perplexity_val)), \n",
    "                         columns = [\"MulLda_Topic_Num\", \"MulLda_alpha_val\", \"MulLda_Coherent_score\", \"MulLda_Perplexity_val\"])\n",
    "\n",
    "df_mulLDA_notts.sort_values(\"MulLda_Coherent_score\", axis = 0, ascending = False, \n",
    "                     inplace = True) \n",
    "\n",
    "df_mulLDA_notts.head()"
   ]
  },
  {
   "cell_type": "code",
   "execution_count": 52,
   "id": "fdc0b075",
   "metadata": {},
   "outputs": [
    {
     "name": "stdout",
     "output_type": "stream",
     "text": [
      "[(0,\n",
      "  '0.031*\"wait\" + 0.026*\"double\" + 0.020*\"thank\" + 0.016*\"jabbed\" + '\n",
      "  '0.013*\"staff\" + 0.009*\"great\" + 0.008*\"volunteer\" + 0.008*\"week\" + '\n",
      "  '0.008*\"summer\" + 0.007*\"look\" + 0.007*\"queue\" + 0.007*\"team\" + '\n",
      "  '0.007*\"super\" + 0.006*\"amazing\" + 0.006*\"soon\" + 0.006*\"girl\" + '\n",
      "  '0.006*\"finally\" + 0.006*\"minute\" + 0.006*\"long\" + 0.005*\"announce\"'),\n",
      " (1,\n",
      "  '0.040*\"mask\" + 0.028*\"wear\" + 0.010*\"public\" + 0.010*\"continue\" + '\n",
      "  '0.009*\"2021\" + 0.009*\"follow\" + 0.008*\"july\" + 0.007*\"state\" + 0.007*\"stay\" '\n",
      "  '+ 0.006*\"news\" + 0.006*\"student\" + 0.006*\"drive\" + 0.006*\"slot\" + '\n",
      "  '0.005*\"require\" + 0.005*\"social\" + 0.005*\"protect\" + 0.005*\"indoor\" + '\n",
      "  '0.005*\"officially\" + 0.005*\"order\" + 0.005*\"service\"'),\n",
      " (2,\n",
      "  '0.023*\"week\" + 0.023*\"book\" + 0.021*\"appointment\" + 0.021*\"clinic\" + '\n",
      "  '0.017*\"july\" + 0.017*\"centre\" + 0.015*\"receive\" + 0.013*\"visit\" + '\n",
      "  '0.013*\"available\" + 0.012*\"walkin\" + 0.011*\"weekend\" + 0.010*\"walk\" + '\n",
      "  '0.010*\"find\" + 0.010*\"tomorrow\" + 0.009*\"come\" + 0.009*\"open\" + '\n",
      "  '0.008*\"site\" + 0.008*\"free\" + 0.007*\"need\" + 0.006*\"near\"'),\n",
      " (3,\n",
      "  '0.028*\"case\" + 0.025*\"variant\" + 0.020*\"death\" + 0.017*\"delta\" + '\n",
      "  '0.014*\"rate\" + 0.010*\"disease\" + 0.009*\"number\" + 0.009*\"effective\" + '\n",
      "  '0.009*\"study\" + 0.009*\"infection\" + 0.009*\"population\" + 0.009*\"high\" + '\n",
      "  '0.009*\"report\" + 0.008*\"immunity\" + 0.007*\"spread\" + 0.007*\"unvaccinate\" + '\n",
      "  '0.007*\"risk\" + 0.007*\"datum\" + 0.007*\"protect\" + 0.006*\"virus\"'),\n",
      " (4,\n",
      "  '0.017*\"work\" + 0.011*\"help\" + 0.009*\"worker\" + 0.008*\"great\" + '\n",
      "  '0.008*\"government\" + 0.008*\"support\" + 0.008*\"read\" + 0.006*\"team\" + '\n",
      "  '0.006*\"child\" + 0.006*\"doctor\" + 0.005*\"healthcare\" + 0.005*\"school\" + '\n",
      "  '0.005*\"citizen\" + 0.005*\"ready\" + 0.005*\"thank\" + 0.005*\"year\" + '\n",
      "  '0.005*\"nurse\" + 0.005*\"hospital\" + 0.005*\"drive\" + 0.005*\"trust\"'),\n",
      " (5,\n",
      "  '0.034*\"life\" + 0.030*\"world\" + 0.030*\"family\" + 0.026*\"million\" + '\n",
      "  '0.026*\"save\" + 0.025*\"protect\" + 0.024*\"care\" + 0.022*\"finally\" + '\n",
      "  '0.016*\"medical\" + 0.015*\"friend\" + 0.014*\"love\" + 0.013*\"rest\" + '\n",
      "  '0.013*\"vaxxe\" + 0.012*\"good\" + 0.011*\"illness\" + 0.011*\"common\" + '\n",
      "  '0.010*\"community\" + 0.010*\"help\" + 0.008*\"country\" + 0.008*\"possible\"'),\n",
      " (6,\n",
      "  '0.015*\"moderna\" + 0.014*\"complete\" + 0.012*\"happy\" + 0.011*\"question\" + '\n",
      "  '0.009*\"fight\" + 0.009*\"watch\" + 0.008*\"video\" + 0.008*\"door\" + '\n",
      "  '0.008*\"answer\" + 0.008*\"covishield\" + 0.007*\"covaxin\" + 0.007*\"canada\" + '\n",
      "  '0.006*\"yesterday\" + 0.006*\"news\" + 0.006*\"make\" + 0.006*\"england\" + '\n",
      "  '0.005*\"feel\" + 0.005*\"receive\" + 0.005*\"talk\" + 0.005*\"great\"'),\n",
      " (7,\n",
      "  '0.018*\"feel\" + 0.013*\"virus\" + 0.012*\"risk\" + 0.012*\"test\" + 0.012*\"think\" '\n",
      "  '+ 0.010*\"long\" + 0.009*\"choice\" + 0.009*\"effect\" + 0.008*\"positive\" + '\n",
      "  '0.007*\"stop\" + 0.007*\"kill\" + 0.007*\"believe\" + 0.007*\"body\" + 0.007*\"sure\" '\n",
      "  '+ 0.007*\"love\" + 0.006*\"death\" + 0.006*\"cause\" + 0.006*\"right\" + '\n",
      "  '0.006*\"come\" + 0.005*\"work\"'),\n",
      " (8,\n",
      "  '0.017*\"effect\" + 0.013*\"feel\" + 0.011*\"post\" + 0.008*\"happen\" + '\n",
      "  '0.008*\"right\" + 0.007*\"hour\" + 0.007*\"tweet\" + 0.007*\"pain\" + 0.006*\"hope\" '\n",
      "  '+ 0.006*\"reaction\" + 0.006*\"thing\" + 0.006*\"month\" + 0.006*\"yesterday\" + '\n",
      "  '0.006*\"fine\" + 0.005*\"true\" + 0.005*\"sore\" + 0.005*\"medium\" + 0.005*\"worry\" '\n",
      "  '+ 0.005*\"year\" + 0.005*\"nice\"')]\n",
      "\n",
      "\u001b[91m\u001b[1m------- Visualization -----------\n",
      "\n"
     ]
    },
    {
     "data": {
      "text/html": [
       "\n",
       "<link rel=\"stylesheet\" type=\"text/css\" href=\"https://cdn.jsdelivr.net/gh/bmabey/pyLDAvis@3.3.1/pyLDAvis/js/ldavis.v1.0.0.css\">\n",
       "\n",
       "\n",
       "<div id=\"ldavis_el1055223810428948803489514324\"></div>\n",
       "<script type=\"text/javascript\">\n",
       "\n",
       "var ldavis_el1055223810428948803489514324_data = {\"mdsDat\": {\"x\": [-0.13846258241355425, 0.0628791032640037, 0.1943296916255848, 0.014843524554305926, -0.19742860923291738, -0.14566729837991896, 0.01716889952524542, -0.00986695733238994, 0.20220422838964033], \"y\": [0.15484773505549035, 0.09487175338487577, -0.009175946437075963, 0.06953023069175206, -0.09346566245718843, -0.17731114389108232, 0.1637514818820447, -0.04805387693786881, -0.15499457129094746], \"topics\": [1, 2, 3, 4, 5, 6, 7, 8, 9], \"cluster\": [1, 1, 1, 1, 1, 1, 1, 1, 1], \"Freq\": [13.988284466625148, 13.918084675749418, 12.707103544943005, 11.102622224647956, 11.066783755553452, 10.304833512744372, 9.774397695731853, 8.648647566291762, 8.489242557713036]}, \"tinfo\": {\"Term\": [\"mask\", \"case\", \"life\", \"variant\", \"wear\", \"wait\", \"world\", \"family\", \"million\", \"book\", \"save\", \"appointment\", \"double\", \"care\", \"clinic\", \"protect\", \"delta\", \"finally\", \"feel\", \"death\", \"effect\", \"week\", \"july\", \"rate\", \"centre\", \"thank\", \"jabbed\", \"medical\", \"virus\", \"friend\", \"delta\", \"rate\", \"immunity\", \"variant\", \"case\", \"disease\", \"rise\", \"infection\", \"herd\", \"study\", \"surge\", \"hospitalisation\", \"factory\", \"breakthrough\", \"incentive\", \"hospitalization\", \"positivity\", \"circulate\", \"contagious\", \"sarscov2\", \"cent\", \"fertility\", \"peak\", \"wise\", \"rapidly\", \"colorado\", \"journal\", \"symptomatic\", \"recent\", \"transmissible\", \"johnson\", \"infectious\", \"strategy\", \"publish\", \"effective\", \"reduce\", \"prevent\", \"efficacy\", \"wave\", \"death\", \"datum\", \"population\", \"high\", \"booster\", \"unvaccinate\", \"increase\", \"report\", \"unvaccinated\", \"coronavirus\", \"severe\", \"number\", \"expert\", \"spread\", \"protection\", \"show\", \"risk\", \"woman\", \"state\", \"virus\", \"protect\", \"country\", \"registration\", \"clinical\", \"harm\", \"conduct\", \"pharmacist\", \"role\", \"overtake\", \"profit\", \"webinar\", \"worker\", \"morrison\", \"debate\", \"citizen\", \"delight\", \"kenya\", \"immunisation\", \"petition\", \"protein\", \"1217\", \"manufacturing\", \"equitable\", \"virtual\", \"rumour\", \"pune\", \"committee\", \"commitment\", \"exposure\", \"dosage\", \"dedication\", \"medicare\", \"healthcare\", \"incredible\", \"digital\", \"milestone\", \"frontline\", \"support\", \"recommendation\", \"association\", \"nurse\", \"ready\", \"employee\", \"achieve\", \"camp\", \"trial\", \"cowin\", \"truth\", \"company\", \"work\", \"responsible\", \"create\", \"govt\", \"school\", \"doctor\", \"government\", \"trust\", \"read\", \"help\", \"team\", \"effort\", \"hard\", \"great\", \"drive\", \"scientist\", \"group\", \"important\", \"approve\", \"child\", \"travel\", \"information\", \"hospital\", \"thank\", \"pandemic\", \"year\", \"care\", \"free\", \"appointment\", \"book\", \"walkin\", \"walk\", \"tomorrow\", \"grab\", \"text\", \"dropin\", \"popup\", \"dose\", \"park\", \"booking\", \"saturday\", \"previous\", \"clinic\", \"patriotic\", \"unit\", \"east\", \"pfizerbiontech\", \"location\", \"proudly\", \"amber\", \"flag\", \"helping\", \"pretend\", \"taiwan\", \"sunday\", \"weekend\", \"leisure\", \"aunt\", \"london\", \"near\", \"visit\", \"date\", \"aged\", \"mobile\", \"centre\", \"schedule\", \"site\", \"available\", \"website\", \"week\", \"july\", \"open\", \"receive\", \"friday\", \"find\", \"online\", \"register\", \"close\", \"detail\", \"free\", \"need\", \"check\", \"come\", \"year\", \"home\", \"live\", \"community\", \"help\", \"take\", \"mask\", \"wear\", \"slot\", \"distance\", \"military\", \"lakh\", \"distancing\", \"indoor\", \"wash\", \"zeneca\", \"maintain\", \"cult\", \"protest\", \"bunch\", \"michigan\", \"gathering\", \"february\", \"athlete\", \"sefton\", \"machine\", \"countrys\", \"antiscience\", \"compulsory\", \"setting\", \"15th\", \"syringe\", \"arkansas\", \"constituent\", \"outdoors\", \"officially\", \"astra\", \"theory\", \"conspiracy\", \"crore\", \"student\", \"order\", \"2021\", \"cheer\", \"college\", \"mandate\", \"public\", \"continue\", \"mandatory\", \"follow\", \"host\", \"social\", \"measure\", \"trump\", \"hand\", \"smile\", \"stay\", \"service\", \"drive\", \"state\", \"face\", \"require\", \"july\", \"place\", \"news\", \"fight\", \"june\", \"protect\", \"take\", \"pandemic\", \"government\", \"choice\", \"hate\", \"clot\", \"corona\", \"inflammation\", \"mutation\", \"bang\", \"tear\", \"shoulder\", \"personally\", \"vaxx\", \"pfizere\", \"left\", \"decrease\", \"lambda\", \"stab\", \"blood\", \"sympathy\", \"wimbledon\", \"nephew\", \"trigger\", \"disagree\", \"stroke\", \"sound\", \"outweigh\", \"basically\", \"cov2\", \"weed\", \"dame\", \"organ\", \"potentially\", \"term\", \"positive\", \"stick\", \"sinovac\", \"expose\", \"test\", \"kill\", \"heart\", \"dumb\", \"ignorance\", \"virus\", \"fuck\", \"worth\", \"body\", \"problem\", \"idiot\", \"fear\", \"feel\", \"risk\", \"affect\", \"actually\", \"wonder\", \"believe\", \"think\", \"symptom\", \"long\", \"immune\", \"catch\", \"sure\", \"choose\", \"effect\", \"cause\", \"maybe\", \"stop\", \"love\", \"hear\", \"shot\", \"right\", \"death\", \"well\", \"come\", \"science\", \"work\", \"tell\", \"pain\", \"fever\", \"adverse\", \"headache\", \"wake\", \"sleep\", \"sadly\", \"joke\", \"reaction\", \"slight\", \"chill\", \"selfie\", \"muscle\", \"nope\", \"bitch\", \"google\", \"quiet\", \"actor\", \"vaer\", \"evil\", \"birth\", \"panic\", \"chicken\", \"procedure\", \"ruin\", \"tourism\", \"throat\", \"neil\", \"publicly\", \"nausea\", \"label\", \"post\", \"achy\", \"nice\", \"true\", \"page\", \"repeat\", \"fucking\", \"tweet\", \"ache\", \"sore\", \"fine\", \"brain\", \"scare\", \"advice\", \"attack\", \"effect\", \"injection\", \"worry\", \"medium\", \"hour\", \"happen\", \"feel\", \"story\", \"change\", \"dead\", \"right\", \"sick\", \"yesterday\", \"hope\", \"morning\", \"month\", \"thing\", \"report\", \"year\", \"tell\", \"take\", \"look\", \"save\", \"million\", \"illness\", \"common\", \"commission\", \"distribute\", \"starve\", \"percent\", \"sleeve\", \"gene\", \"japan\", \"indonesia\", \"favor\", \"greek\", \"immediate\", \"javid\", \"massachusetts\", \"niece\", \"defense\", \"argue\", \"mama\", \"deeply\", \"fighting\", \"sajid\", \"rest\", \"accomplishment\", \"alphabet\", \"brief\", \"ramaphosa\", \"longerterm\", \"avoidable\", \"life\", \"family\", \"world\", \"care\", \"vaxxe\", \"finally\", \"tough\", \"good\", \"medical\", \"friend\", \"vulnerable\", \"protect\", \"proud\", \"hero\", \"roll\", \"healthy\", \"love\", \"possible\", \"australia\", \"community\", \"grateful\", \"member\", \"young\", \"vaccinate\", \"help\", \"country\", \"child\", \"live\", \"well\", \"door\", \"answer\", \"complete\", \"india\", \"knock\", \"prime\", \"slightly\", \"project\", \"data\", \"reception\", \"quote\", \"confused\", \"language\", \"magic\", \"biontech\", \"contribution\", \"touch\", \"cocktail\", \"dcgi\", \"coincidence\", \"secret\", \"barely\", \"anxious\", \"edition\", \"curve\", \"investigation\", \"selection\", \"horror\", \"excess\", \"loose\", \"covishield\", \"covaxin\", \"yeah\", \"minister\", \"canada\", \"video\", \"conversation\", \"moderna\", \"england\", \"retweet\", \"question\", \"request\", \"canadian\", \"credit\", \"comment\", \"watch\", \"happy\", \"damn\", \"fight\", \"mark\", \"hell\", \"strengthen\", \"progress\", \"yesterday\", \"talk\", \"hesitancy\", \"biden\", \"house\", \"make\", \"news\", \"receive\", \"great\", \"feel\", \"thank\", \"take\", \"country\", \"world\", \"think\", \"share\", \"work\", \"come\", \"jabbed\", \"double\", \"queue\", \"girl\", \"plus\", \"efficient\", \"friendly\", \"dust\", \"import\", \"sticker\", \"pakistan\", \"entry\", \"successful\", \"bharat\", \"donation\", \"woohoo\", \"biotech\", \"production\", \"vaccinator\", \"troop\", \"plane\", \"gang\", \"doze\", \"pradesh\", \"invitation\", \"activate\", \"hubby\", \"opposition\", \"rtpcr\", \"newham\", \"brilliant\", \"wait\", \"smallpox\", \"flight\", \"hopefully\", \"summer\", \"super\", \"final\", \"volunteer\", \"announce\", \"staff\", \"thank\", \"minute\", \"move\", \"arrive\", \"amazing\", \"enter\", \"enjoy\", \"forward\", \"fast\", \"team\", \"great\", \"soon\", \"look\", \"process\", \"week\", \"line\", \"finally\", \"long\", \"service\", \"happy\", \"feel\", \"test\"], \"Freq\": [1158.0, 1007.0, 999.0, 909.0, 795.0, 785.0, 935.0, 922.0, 671.0, 754.0, 659.0, 690.0, 575.0, 762.0, 696.0, 1056.0, 615.0, 696.0, 1113.0, 984.0, 725.0, 1227.0, 899.0, 493.0, 676.0, 844.0, 361.0, 557.0, 668.0, 549.0, 614.4955181550371, 492.2950069865392, 275.594282248259, 905.9069594427907, 1003.1052336900134, 376.6603521274759, 217.05104163923957, 324.09392950763504, 101.19113582733068, 330.1193734222783, 97.8086754217624, 60.07715712650923, 55.66633808420001, 51.304390809726215, 63.33881991615888, 124.53246169199068, 49.142720037252765, 41.13067478872291, 48.53844796733486, 43.77108966888997, 35.71591180028264, 29.663109444573145, 26.607629988722476, 25.600617251618935, 25.591332463462518, 24.832571776182817, 24.65541691610637, 24.28761553619457, 91.39995477383638, 23.045617759963186, 182.16760297016916, 79.25496865782425, 65.40594310378091, 57.75478597815162, 330.8194646755169, 125.06545642904472, 216.32819725072426, 126.41398660570034, 221.41274307134265, 728.1418338289725, 256.8696896046979, 322.66936621984047, 319.1641626526956, 192.64162392433568, 262.77539980747514, 178.99259113887678, 311.33145517494773, 178.1586090441477, 154.49029587177773, 132.54455780445932, 335.911385767257, 139.3135731626669, 269.81635921431973, 185.7603094666457, 175.76988588766383, 259.1887630743585, 180.81584293340157, 223.59392440299618, 234.2211305860935, 251.22811583595637, 218.42248602031137, 147.3432063143068, 84.68376505600489, 66.29508867049165, 65.08155579448805, 58.37316866115039, 61.25964313702359, 55.12949812464712, 46.91503042547723, 48.375251092810224, 341.4160718954891, 40.87617081893264, 38.350536228620854, 186.55584031299585, 37.632609934568514, 31.938026414490643, 31.170541570938155, 30.182265819147545, 29.906294580583506, 26.16367728927526, 25.2699849422706, 25.200528746906986, 23.905092049052694, 30.40067390205441, 21.99635195874803, 20.72773996977772, 23.919515522739232, 19.35810462154212, 19.111975634383327, 20.505078649089313, 17.719366054303457, 196.05858147316138, 55.7362034104944, 70.51457046273858, 71.12404657379406, 54.830599045528444, 282.4506003352281, 48.369072616508824, 33.16134996130222, 176.37808058430045, 183.873732120135, 121.62341142773468, 90.59206692134651, 93.9884069746488, 138.48444373251533, 70.26038836943813, 99.10279361351586, 85.19034950403979, 601.7042036072609, 87.90027560112182, 114.46586804554038, 153.0419292026371, 192.53552572091593, 201.88493945144765, 294.10967611587057, 167.16591759284904, 273.2854865462466, 382.17033062265074, 231.42421356147335, 116.08496622770353, 151.78548438372107, 302.90897349912984, 173.16363656026726, 132.16100730317942, 147.71202550168545, 165.67922015130432, 122.2031254177943, 206.45642147988553, 150.42453264142716, 142.98601830486314, 174.99096415465237, 178.5355454652885, 163.19792719910373, 177.32270845862942, 155.58435743979678, 143.52548995985933, 689.4084520675516, 753.0774290000509, 389.0210851092132, 339.8151781814013, 314.81230216183104, 79.84209089593504, 70.453398332789, 65.67663713958694, 76.91844077307198, 58.92845997229878, 133.69107928877025, 82.9470199404714, 165.27876967168152, 40.722141953721525, 681.6171856657642, 36.9205943613896, 46.48952622622483, 60.31937139948101, 29.689650402259048, 80.80516404565742, 26.39475583351548, 25.696192811305202, 25.048388272207895, 25.726062633626373, 24.52241564391486, 24.199817712401824, 128.43894223172393, 368.1820180411038, 20.828197263608907, 20.117235810477048, 82.84368941493987, 207.67250119607243, 431.61882857892994, 166.03898600939377, 155.7290053189977, 71.32950534561859, 547.7998272029243, 115.22242279331437, 266.7023549203768, 419.4095622891229, 102.35003297142201, 772.5956704296846, 564.1148685464126, 298.3446600064532, 480.0037283530699, 111.68862355222282, 330.0403784570464, 143.37285227676944, 203.1838841580212, 197.6032810922182, 131.44955079059105, 263.2465964860923, 232.07475409682417, 188.7695915828103, 312.90636299452177, 202.1817366986739, 153.6534771791698, 167.70491927726073, 165.00332428211433, 178.0151926014301, 169.19202250608365, 1157.5164844538451, 794.8978305889899, 160.2314431082989, 108.91956646709892, 82.33780334685908, 73.93051185685559, 68.21177731315832, 139.31878493429312, 51.65556967786215, 47.91635697924035, 40.36027431530458, 36.212529152694955, 36.524985013893065, 35.23094843394191, 31.553940945264163, 30.70820240969774, 28.52695266853441, 27.79151483676601, 26.949825190878745, 26.387862180395075, 24.688867665150823, 24.111469419230524, 23.558446935811553, 23.384383368624164, 23.55985824384679, 22.105797163289996, 21.148331476709963, 21.186061678414802, 26.305254401727094, 139.14447577595774, 57.49998633259724, 59.1083122967005, 78.24456596204898, 96.71537527279973, 176.00618643928777, 138.5143629040443, 266.509188960976, 51.32420666253285, 73.56715134278222, 106.29943861599344, 296.5970247666461, 279.1911390446291, 105.72870497369126, 258.9844107577503, 87.95381350545998, 149.88079222869257, 81.64580823418247, 108.44729805382013, 124.9881175533519, 64.20140843734454, 196.21508131108834, 131.9611432821772, 163.66716234049224, 208.5158873901454, 129.86619023329482, 150.2196407276414, 233.07593072326932, 127.49862428164414, 182.81818511734176, 128.82096776459525, 119.24012738468582, 139.33965681760802, 122.98266733872323, 116.4928438756547, 115.82557609088988, 259.07340340918785, 72.00746199029302, 67.21355820822879, 115.57086594804707, 55.223352827078145, 51.599032072838796, 44.82377701036663, 34.236115542835414, 32.53253331514282, 30.506585132184405, 32.50522655693028, 28.353542986772943, 26.184994707261666, 31.877905513233912, 24.796369091562056, 23.841586597192293, 129.73460611852872, 23.84292628157224, 23.38904154898644, 24.326119753784415, 23.106158557148653, 22.7528675221535, 22.70279618968997, 74.9620109760156, 20.858417996098854, 27.849811599704733, 20.04878250763507, 19.6465183795617, 19.479431736469728, 20.100746835924582, 37.51972052221679, 141.35088697785113, 231.27313162761817, 66.57672020766061, 73.75992341578815, 52.70576898060213, 355.09567536671204, 204.3494393126772, 141.8113896506718, 51.850641231066106, 50.23396578783085, 385.13229117024457, 120.6011846206902, 116.59514268333757, 195.64753367469245, 137.92718354033354, 95.48893337798906, 125.36117879461919, 527.9073012081105, 355.9836027480886, 81.28157214514357, 129.9326983230149, 128.65582988250506, 198.74766057856837, 350.8641103907607, 136.1547760755595, 275.20777738503784, 133.15099913815325, 135.68861285897577, 195.00083667017674, 125.72530467374854, 255.0246122941742, 168.07396532947308, 121.49854177046821, 215.29561641661522, 187.6206680008713, 145.374701949531, 143.7389791789413, 166.02262182784298, 178.43568458306763, 152.48840924003642, 163.04804632117663, 144.2468587251534, 156.2573387790479, 134.40726427245437, 177.63233417205802, 128.01273932462738, 117.29565024720732, 115.9148468053405, 117.88486982143544, 80.93821707055184, 72.22729730382804, 67.8856701852453, 167.3792890764355, 43.761881096448874, 54.173184886722204, 40.5744186537731, 34.431984137360246, 34.36058458895378, 47.21795522250249, 32.01878181988641, 29.163524308329507, 27.540937877211853, 26.678073116936805, 26.011972409974938, 25.25144512890366, 24.737937303569602, 26.11553703964332, 25.480140074458802, 21.120992494662538, 20.695449187747027, 19.782845802152, 18.96930124948126, 18.939640429472814, 18.820324246321686, 22.339916679629933, 305.21194246552307, 21.934405901482098, 134.22904018045696, 147.18876078329052, 61.671186636210614, 31.070356881797768, 91.66416161544679, 181.17499578509282, 64.59467746062408, 146.54638342405096, 150.1796855553724, 70.15767213628249, 65.66373472415604, 94.9592823118599, 57.14101549891542, 456.04698257436127, 102.27866965708229, 139.53249097159053, 144.7426908174949, 184.49652051287674, 222.85472104016796, 348.7405744206086, 122.67133117713814, 122.49992979468699, 89.58572469571008, 209.05576691043382, 131.32342266204714, 155.61204647317493, 173.59902470455788, 123.37672099534922, 160.6980824232149, 162.35465436490966, 123.39123446954642, 135.68087471333885, 129.87429847675628, 123.49901137905387, 122.01001885500446, 658.1602036101627, 670.2075340327025, 286.57746468457435, 275.69781412419, 186.92939588148275, 179.57470215503304, 153.08394119225318, 82.58655196977784, 39.84271257909014, 37.02429375878407, 26.92047525551103, 24.729119251543615, 21.755021333931936, 20.52181334453112, 20.436182066313762, 20.33069642750115, 19.86295867220239, 19.874983540408063, 19.09880643473864, 17.82605410350333, 17.1261282864928, 16.836636988916677, 16.42635796346769, 15.869427377237944, 338.03726619481773, 15.227545243641384, 14.209112951375694, 14.104773525369879, 13.770215628134261, 13.541153735976952, 19.69554644302565, 877.7331123297041, 759.0588705538053, 759.2557229775546, 605.5488106821219, 328.37976874191855, 550.2911885305418, 37.420125171645054, 307.22519409670696, 394.6135721200306, 383.92271791405574, 135.62101293334453, 631.6051718000766, 160.33964004311017, 56.33955226391016, 115.75581218596191, 133.96302647457824, 344.8406167522471, 205.3134053506245, 121.58526689033954, 246.14087762921423, 142.45971541858248, 132.73282914491415, 169.82233263849733, 171.28082475665732, 243.8702744858022, 209.00483848803313, 168.92571581530336, 160.3729779535838, 150.02251637153552, 181.13997582073983, 180.13089173261213, 305.9904565856463, 79.14724869968725, 59.11771784815857, 49.51438465010508, 41.85109218748076, 47.65540126556668, 37.53404005100563, 31.28605663114454, 26.06574833876515, 25.474315330390453, 30.952898601830245, 27.657627703986083, 25.011363333485882, 24.461080099559517, 36.89145416736301, 24.20287849928427, 23.151187543688664, 22.55639745589298, 21.337309836319893, 27.883636982944086, 22.086919988451132, 19.406390345952975, 23.843563553731993, 19.217302388948564, 19.134506222916634, 18.99972904961285, 18.659445416125518, 18.35014990567756, 172.3830878748528, 157.46643877423196, 84.72440326563253, 101.50986326666116, 154.01152446726354, 186.9487872114294, 66.34259827617193, 347.82215056713636, 124.29996167059926, 40.84247982011478, 252.03637764235785, 75.28089954433709, 65.01316337741092, 53.2312507374045, 72.7366578919157, 196.27948677456956, 276.76643292025636, 80.79006866583333, 210.43926515433483, 69.51709031431666, 74.29813223337217, 56.843169437902375, 67.39162138879284, 137.1792697666712, 117.3293230091335, 80.63574259796215, 79.2069737894642, 77.93199643197413, 125.0314118837393, 131.82022839826675, 119.6606928058111, 117.28608193930816, 121.43420562966564, 98.24880522739699, 98.32019230267227, 94.12178317911427, 94.64143077023712, 91.05995902423808, 83.77998685259634, 83.73699736717727, 81.23358576735458, 360.9386110612314, 572.9615180044949, 157.82992912432323, 131.51606797958442, 99.53260316615074, 100.9173195657048, 75.57406975083265, 66.51161456634776, 55.44473362139646, 48.75602432674129, 60.20807119269267, 44.84287521360963, 39.526545237877016, 38.332225285366626, 35.29770731191381, 34.01697634760745, 33.12560683776863, 32.51142549734774, 31.475110724301384, 25.72587938026284, 25.23609007655956, 30.807802251628104, 35.64466583954031, 24.69710422008782, 23.74700495881075, 20.24177694083812, 20.18092884371595, 20.04761197354317, 19.368307259100703, 19.30427585562293, 72.05371620447943, 679.1768059776363, 68.35798369997471, 50.46690165239855, 89.70958085152499, 174.8765436618842, 147.33685619191303, 92.57269932131689, 180.6173299192436, 120.56046256298124, 296.6479951270197, 432.6035291600044, 126.73530003748773, 74.83068089935257, 70.20174445166663, 143.2266018939798, 74.99127902653899, 89.63466318340323, 100.93402967324906, 84.8628316504212, 151.47453194095797, 193.18026452894762, 141.42851612220716, 158.98209309739468, 92.22112853648183, 176.29953690876872, 98.19230643055515, 130.31086176243005, 125.0047440907231, 97.04046143121144, 110.16324638049856, 111.35775154356055, 94.26320863103581], \"Total\": [1158.0, 1007.0, 999.0, 909.0, 795.0, 785.0, 935.0, 922.0, 671.0, 754.0, 659.0, 690.0, 575.0, 762.0, 696.0, 1056.0, 615.0, 696.0, 1113.0, 984.0, 725.0, 1227.0, 899.0, 493.0, 676.0, 844.0, 361.0, 557.0, 668.0, 549.0, 615.4073323293213, 493.79796032738045, 276.604238602374, 909.2935507542568, 1007.3678693101651, 379.0425138984711, 218.6943194471082, 326.75984852734763, 102.0602143761413, 333.9130731516539, 99.06681989302247, 60.93113758292517, 56.52414263796859, 52.15915566509759, 64.40236551224669, 126.8470389934345, 50.15217718431546, 41.98538406325652, 49.57279968653194, 44.736168018362314, 36.59436161271653, 30.51689441191296, 27.46119404674414, 26.4567654495002, 26.459671653377267, 25.686417852992314, 25.51318512805002, 25.14611539866916, 94.64407251146521, 23.89961447308176, 189.16757593261522, 82.57745949600611, 69.2056436076051, 60.95322337201789, 373.9271802400589, 136.0171910316573, 243.42173354714978, 143.39442734135318, 263.77569834906956, 984.0612669688621, 321.90123301657957, 421.7934823911122, 428.41315741188083, 242.62874295104106, 353.1600166952642, 234.16784446373623, 462.9142231882377, 239.17491460185246, 200.3938999512776, 168.13351248057674, 656.9312181440021, 182.24506270205342, 560.2118925681001, 298.9383774828235, 271.7853403844847, 694.3230169745734, 313.6974426563927, 589.8976930977864, 668.9046724329131, 1056.8296096881681, 867.9137591647749, 148.23014965176947, 85.53279820438527, 67.14497460139135, 65.93140279080579, 59.22210178519103, 62.167578943401075, 55.97856403713015, 47.76392162121546, 49.327100825487236, 348.1578433728128, 41.72548661567298, 39.20006227900368, 190.77935661731343, 38.49111755406535, 32.78709343151791, 32.020339465206405, 31.052099870463955, 30.828369091495468, 27.01275624246495, 26.119503094627955, 26.05203729143647, 24.758561019203253, 31.530459245717147, 22.851890285669437, 21.576683924924726, 24.901287150679927, 20.20793657416166, 19.961260772754404, 21.444505574677702, 18.5682988726992, 205.54923561273523, 58.95828461848038, 76.13579818856012, 77.14041969507866, 59.16234594915728, 363.5250515350152, 53.46730367696466, 35.57742666225184, 229.80405715736563, 258.8470126727985, 160.1483140100982, 114.21078087674603, 120.61970611759747, 192.64940873464627, 85.65626385436858, 130.3595802240257, 108.53169098361151, 1347.0724296608605, 115.11532114206358, 166.68671698915963, 246.25960048222657, 337.5946963178062, 362.43159114287215, 609.4029610289857, 281.45717254186854, 567.0867953604358, 1053.0705492966672, 493.5623628511073, 176.2044243632496, 269.76653194939826, 887.0726242491202, 376.48237897890453, 233.28904246080978, 298.23496052407745, 370.1581082362368, 210.25316683981842, 662.3020546259817, 359.59819018388066, 324.7091576506751, 562.0435278504176, 844.3484395838079, 617.3876904055178, 882.8797862919326, 762.0217993086331, 635.9733178634613, 690.2970952516602, 754.6415299841005, 389.8921003602047, 340.98211694047404, 316.4040776333858, 80.69011014171808, 71.3032775778163, 66.52696886889008, 77.9157945971899, 59.79490188596091, 135.75904210621462, 84.4767918556416, 168.70483373759708, 41.57110377236924, 696.4949479398736, 37.76883497547917, 47.58562909955563, 61.77041180448155, 30.53752421746728, 83.34094281347288, 27.24255497849621, 26.550973744083905, 25.89879722402891, 26.60780109727792, 25.370584078791662, 25.047768524261052, 133.06260646273103, 382.53346934026985, 21.67622919731862, 20.965867101603585, 87.11325153128026, 223.4930312086106, 483.3814744369309, 183.37205365183712, 172.28724503214727, 77.48655978836292, 676.5548303850121, 128.9916518372155, 316.2445431468617, 563.7297032916563, 119.1798919015565, 1227.3883187807703, 899.3799509792926, 446.18905687701147, 823.0257610520136, 135.01558420372507, 576.9625777600544, 195.1356003541474, 332.3509070123753, 330.63443959709605, 181.70858600292632, 635.9733178634613, 528.2048801931409, 365.06490718453495, 1029.8079135810065, 882.8797862919326, 343.3531736951339, 627.2008046874438, 584.7623599297801, 1053.0705492966672, 929.9345056137132, 1158.3988449023857, 795.7568060033234, 161.08231688240127, 109.7628865117981, 83.19153235481403, 74.79313552057268, 69.05915807029376, 141.4431569735874, 52.50714285901749, 48.760009790913315, 41.20553642982129, 37.05700980535868, 37.40521158224541, 36.10597545342218, 32.39696684473425, 31.551325318701764, 29.370149606655335, 28.66140533374198, 27.794971866865133, 27.241537655844443, 25.531997084802565, 24.954677775483724, 24.407994131412124, 24.228265125052054, 24.42079905354024, 22.94877910973216, 21.991368802170147, 22.04995691195738, 27.42528608284523, 145.06973740000007, 60.29893061663502, 66.2033603035986, 90.08454498690723, 113.63971751857483, 226.87967648865202, 177.22515943102817, 380.19302157142505, 58.69778524756942, 89.55771102897015, 138.1051674598801, 464.0980411639486, 468.29297665956335, 143.94210762956394, 435.1069260521806, 116.5731205434411, 232.32286872402543, 107.5684620515646, 160.40387269763474, 213.02588768874605, 81.46840815054756, 477.9674418728292, 258.60130973593004, 376.48237897890453, 589.8976930977864, 263.7598126685995, 351.86923508940066, 899.3799509792926, 276.82886518752116, 621.7657575627818, 396.2581070711243, 350.4623690603773, 1056.8296096881681, 929.9345056137132, 617.3876904055178, 609.4029610289857, 260.05601929646326, 72.87315356613237, 68.07832186339846, 117.16890417973111, 56.06706922800242, 52.45452946809552, 45.7314029243388, 35.081097818779035, 33.40780512701753, 31.350097984720563, 33.42556372257209, 29.197918427443135, 27.03317362544441, 32.94556418104157, 25.64169645355307, 24.685010391227365, 134.33627482339367, 24.691441805502986, 24.23248921729671, 25.209884958859124, 23.94969475730821, 23.596622307551918, 23.55039314143349, 77.78486609573562, 21.701953436352895, 29.008015195647857, 20.89281404535867, 20.496041105352376, 20.358526191909007, 21.023854724233928, 39.364003460433906, 150.97750777137324, 256.26300804659854, 72.21627513463547, 83.33582400612408, 58.64214003584124, 531.7646536423736, 292.6476523477605, 193.28475485816452, 61.10044190278881, 59.011849278981316, 668.9046724329131, 170.6948749010449, 164.02454865662446, 308.8785334133435, 203.3221708088098, 130.22903870855868, 184.1990151853256, 1113.4191538836799, 694.3230169745734, 108.30038583517468, 205.67178117833978, 203.5419415943272, 365.14152351047915, 836.0556826275981, 222.21142854978805, 636.4136988925139, 224.31998240494653, 231.75075205911128, 415.29121803472003, 206.14289868605536, 725.7008773858116, 355.3135761890864, 198.78142072558697, 623.0911204454865, 663.3472739962994, 348.0740098563091, 334.7990234464743, 677.0777595935788, 984.0612669688621, 585.8099911329826, 1029.8079135810065, 489.9998237698762, 1347.0724296608605, 691.7395403805781, 178.56537081872634, 128.85527508497213, 118.14722965756911, 116.75770760857334, 118.76270983190713, 81.78516072381855, 73.14388926728374, 68.74917671143183, 170.58462578099602, 44.60787589364678, 55.26330064182813, 41.52736032398489, 35.27369151230371, 35.214584464377914, 48.437585103507715, 32.86246262802885, 30.007922871315905, 28.3823991585773, 27.51970143129079, 26.879057832247646, 26.093180591877466, 25.5822598508012, 27.0265228308392, 26.405990514988673, 21.962932330985645, 21.537992952786052, 20.62418671223794, 19.811196475212334, 19.78496055730858, 19.663121646088072, 23.344372329765676, 335.8855985852621, 22.984716596164237, 148.94006666037754, 167.0731307193897, 67.64124392224366, 33.01552098290952, 104.29011178425674, 215.97323572921673, 72.68070236415768, 178.86139320774075, 187.32371319908998, 80.78281329215783, 75.22555230353115, 114.1232129291195, 65.10185276097901, 725.7008773858116, 130.52605840768697, 202.69789264507108, 239.0813422757597, 333.39787237708055, 450.4033589642955, 1113.4191538836799, 222.84772724826053, 231.65985747004646, 136.38366793942706, 677.0777595935788, 285.9187998446817, 403.95679287454175, 513.2501494298485, 288.77553442305054, 624.7072136773872, 657.3975305931903, 462.9142231882377, 882.8797862919326, 691.7395403805781, 929.9345056137132, 734.3530825936275, 659.0128775654077, 671.9331755841356, 287.4192104752859, 276.53973088662343, 187.77063070379853, 180.41593405655186, 153.92512753200134, 83.51529925544313, 40.68400612420953, 37.90083600234805, 27.77079023070148, 25.571008158096284, 22.596530679798146, 21.36322700680634, 21.28080879664533, 21.17203260280143, 20.70442703609095, 20.717602163628833, 19.94053731518838, 18.687616997949956, 17.96751515795495, 17.678153913264428, 17.267909034826875, 16.710857878278755, 356.28593643210814, 16.068735415479075, 15.050485195442588, 14.947608125379483, 14.61278392789995, 14.382352981995922, 20.97482209836056, 999.9558412235546, 922.3992473010323, 935.2314735134643, 762.0217993086331, 404.0899123619698, 696.5503288142762, 41.35679972103296, 406.5635640097139, 557.6967666349066, 549.2820394853595, 176.7590399877613, 1056.8296096881681, 233.41785384942582, 70.76736272264337, 170.27686893043727, 204.87500455254508, 663.3472739962994, 355.911424813175, 188.79400996516168, 584.7623599297801, 295.71131937209424, 277.3042311975459, 439.13590810248064, 465.95704654919524, 1053.0705492966672, 867.9137591647749, 662.3020546259817, 627.2008046874438, 585.8099911329826, 182.0008500382455, 180.98930647146332, 308.2280321626465, 80.00556206830267, 59.965313471432914, 50.36883081682713, 42.72842069974572, 48.716472563789296, 38.38313517822093, 32.14165346192619, 26.919714015528843, 26.32170190365983, 31.984299675143742, 28.596538984002223, 25.869032019883395, 25.309556430297818, 38.17513757203653, 25.062043230537576, 23.999073392318714, 23.404094327603598, 22.190107552604307, 29.019663208072995, 22.998408185536388, 20.25363837224246, 24.89256628034113, 20.066149387091222, 19.98163129782505, 19.853250420506434, 19.506768503986265, 19.197133458255962, 180.71781723444425, 181.13768469683586, 94.96860966122263, 116.89704565861658, 190.00764083004572, 235.89827500517686, 76.98296800905914, 494.40605483924213, 157.15712776346422, 45.96948618155345, 415.9794935942438, 98.02224999318642, 82.22967412140184, 66.49244517749865, 99.0299556647071, 350.8358562083034, 560.278390088594, 114.04724258264248, 396.2581070711243, 94.12720843402472, 106.935179703307, 74.10871710126796, 104.45144858467954, 403.95679287454175, 299.7636319070694, 158.22563124128857, 155.2638986070251, 153.2006001083877, 516.6807152208111, 621.7657575627818, 823.0257610520136, 887.0726242491202, 1113.4191538836799, 844.3484395838079, 929.9345056137132, 867.9137591647749, 935.2314735134643, 836.0556826275981, 444.58098300655394, 1347.0724296608605, 1029.8079135810065, 361.92205368501556, 575.0255949531004, 158.77173688143077, 132.36777767941112, 100.37984000347757, 102.00171607527831, 76.41886278866387, 67.36491721445563, 56.290197383134654, 49.64991730209531, 61.36117114140077, 45.72072331211927, 40.36914995810489, 39.17498031621666, 36.1500636581, 34.85940951761, 33.9879584078414, 33.36507961319714, 32.317957123125844, 26.568978203009568, 26.078589034337664, 31.838603670033113, 36.84416478024897, 25.54021821752023, 24.59146520819224, 21.084910060976846, 21.023841926217386, 20.904808347563815, 20.212111967028314, 20.146645680276276, 76.48359334195021, 785.3874490246943, 75.70668618238822, 55.423795140029334, 102.21001704306624, 210.27563602508462, 176.53208504895474, 109.27698293362172, 232.92768407535186, 153.06716661861435, 489.2707521872071, 844.3484395838079, 182.41618952560378, 96.81214971443544, 89.55173602554584, 246.8975009908449, 109.56752968234287, 144.8337720598202, 189.5884164144523, 143.86721515950245, 493.5623628511073, 887.0726242491202, 478.33770446303845, 734.3530825936275, 184.34776682379155, 1227.3883187807703, 222.89710847913216, 696.5503288142762, 636.4136988925139, 258.60130973593004, 560.278390088594, 1113.4191538836799, 531.7646536423736], \"Category\": [\"Default\", \"Default\", \"Default\", \"Default\", \"Default\", \"Default\", \"Default\", \"Default\", \"Default\", \"Default\", \"Default\", \"Default\", \"Default\", \"Default\", \"Default\", \"Default\", \"Default\", \"Default\", \"Default\", \"Default\", \"Default\", \"Default\", \"Default\", \"Default\", \"Default\", \"Default\", \"Default\", \"Default\", \"Default\", \"Default\", \"Topic1\", \"Topic1\", \"Topic1\", \"Topic1\", \"Topic1\", \"Topic1\", \"Topic1\", \"Topic1\", \"Topic1\", \"Topic1\", \"Topic1\", \"Topic1\", \"Topic1\", \"Topic1\", \"Topic1\", \"Topic1\", \"Topic1\", \"Topic1\", \"Topic1\", \"Topic1\", \"Topic1\", \"Topic1\", \"Topic1\", \"Topic1\", \"Topic1\", \"Topic1\", \"Topic1\", \"Topic1\", \"Topic1\", \"Topic1\", \"Topic1\", \"Topic1\", \"Topic1\", \"Topic1\", \"Topic1\", \"Topic1\", \"Topic1\", \"Topic1\", \"Topic1\", \"Topic1\", \"Topic1\", \"Topic1\", \"Topic1\", \"Topic1\", \"Topic1\", \"Topic1\", \"Topic1\", \"Topic1\", \"Topic1\", \"Topic1\", \"Topic1\", \"Topic1\", \"Topic1\", \"Topic1\", \"Topic1\", \"Topic1\", \"Topic1\", \"Topic1\", \"Topic1\", \"Topic1\", \"Topic1\", \"Topic2\", \"Topic2\", \"Topic2\", \"Topic2\", \"Topic2\", \"Topic2\", \"Topic2\", \"Topic2\", \"Topic2\", \"Topic2\", \"Topic2\", \"Topic2\", \"Topic2\", \"Topic2\", \"Topic2\", \"Topic2\", \"Topic2\", \"Topic2\", \"Topic2\", \"Topic2\", \"Topic2\", \"Topic2\", \"Topic2\", \"Topic2\", \"Topic2\", \"Topic2\", \"Topic2\", \"Topic2\", \"Topic2\", \"Topic2\", \"Topic2\", \"Topic2\", \"Topic2\", \"Topic2\", \"Topic2\", \"Topic2\", \"Topic2\", \"Topic2\", \"Topic2\", \"Topic2\", \"Topic2\", \"Topic2\", \"Topic2\", \"Topic2\", \"Topic2\", \"Topic2\", \"Topic2\", \"Topic2\", \"Topic2\", \"Topic2\", \"Topic2\", \"Topic2\", \"Topic2\", \"Topic2\", \"Topic2\", \"Topic2\", \"Topic2\", \"Topic2\", \"Topic2\", \"Topic2\", \"Topic2\", \"Topic2\", \"Topic2\", \"Topic2\", \"Topic2\", \"Topic2\", \"Topic2\", \"Topic2\", \"Topic2\", \"Topic2\", \"Topic2\", \"Topic2\", \"Topic2\", \"Topic2\", \"Topic2\", \"Topic3\", \"Topic3\", \"Topic3\", \"Topic3\", \"Topic3\", \"Topic3\", \"Topic3\", \"Topic3\", \"Topic3\", \"Topic3\", \"Topic3\", \"Topic3\", \"Topic3\", \"Topic3\", \"Topic3\", \"Topic3\", \"Topic3\", \"Topic3\", \"Topic3\", \"Topic3\", \"Topic3\", \"Topic3\", \"Topic3\", \"Topic3\", \"Topic3\", \"Topic3\", \"Topic3\", \"Topic3\", \"Topic3\", \"Topic3\", \"Topic3\", \"Topic3\", \"Topic3\", \"Topic3\", \"Topic3\", \"Topic3\", \"Topic3\", \"Topic3\", \"Topic3\", \"Topic3\", \"Topic3\", \"Topic3\", \"Topic3\", \"Topic3\", \"Topic3\", \"Topic3\", \"Topic3\", \"Topic3\", \"Topic3\", \"Topic3\", \"Topic3\", \"Topic3\", \"Topic3\", \"Topic3\", \"Topic3\", \"Topic3\", \"Topic3\", \"Topic3\", \"Topic3\", \"Topic3\", \"Topic3\", \"Topic4\", \"Topic4\", \"Topic4\", \"Topic4\", \"Topic4\", \"Topic4\", \"Topic4\", \"Topic4\", \"Topic4\", \"Topic4\", \"Topic4\", \"Topic4\", \"Topic4\", \"Topic4\", \"Topic4\", \"Topic4\", \"Topic4\", \"Topic4\", \"Topic4\", \"Topic4\", \"Topic4\", \"Topic4\", \"Topic4\", \"Topic4\", \"Topic4\", \"Topic4\", \"Topic4\", \"Topic4\", \"Topic4\", \"Topic4\", \"Topic4\", \"Topic4\", \"Topic4\", \"Topic4\", \"Topic4\", \"Topic4\", \"Topic4\", \"Topic4\", \"Topic4\", \"Topic4\", \"Topic4\", \"Topic4\", \"Topic4\", \"Topic4\", \"Topic4\", \"Topic4\", \"Topic4\", \"Topic4\", \"Topic4\", \"Topic4\", \"Topic4\", \"Topic4\", \"Topic4\", \"Topic4\", \"Topic4\", \"Topic4\", \"Topic4\", \"Topic4\", \"Topic4\", \"Topic4\", \"Topic4\", \"Topic4\", \"Topic4\", \"Topic4\", \"Topic4\", \"Topic5\", \"Topic5\", \"Topic5\", \"Topic5\", \"Topic5\", \"Topic5\", \"Topic5\", \"Topic5\", \"Topic5\", \"Topic5\", \"Topic5\", \"Topic5\", \"Topic5\", \"Topic5\", \"Topic5\", \"Topic5\", \"Topic5\", \"Topic5\", \"Topic5\", \"Topic5\", \"Topic5\", \"Topic5\", \"Topic5\", \"Topic5\", \"Topic5\", \"Topic5\", \"Topic5\", \"Topic5\", \"Topic5\", \"Topic5\", \"Topic5\", \"Topic5\", \"Topic5\", \"Topic5\", \"Topic5\", \"Topic5\", \"Topic5\", \"Topic5\", \"Topic5\", \"Topic5\", \"Topic5\", \"Topic5\", \"Topic5\", \"Topic5\", \"Topic5\", \"Topic5\", \"Topic5\", \"Topic5\", \"Topic5\", \"Topic5\", \"Topic5\", \"Topic5\", \"Topic5\", \"Topic5\", \"Topic5\", \"Topic5\", \"Topic5\", \"Topic5\", \"Topic5\", \"Topic5\", \"Topic5\", \"Topic5\", \"Topic5\", \"Topic5\", \"Topic5\", \"Topic5\", \"Topic5\", \"Topic5\", \"Topic5\", \"Topic5\", \"Topic5\", \"Topic5\", \"Topic5\", \"Topic5\", \"Topic5\", \"Topic6\", \"Topic6\", \"Topic6\", \"Topic6\", \"Topic6\", \"Topic6\", \"Topic6\", \"Topic6\", \"Topic6\", \"Topic6\", \"Topic6\", \"Topic6\", \"Topic6\", \"Topic6\", \"Topic6\", \"Topic6\", \"Topic6\", \"Topic6\", \"Topic6\", \"Topic6\", \"Topic6\", \"Topic6\", \"Topic6\", \"Topic6\", \"Topic6\", \"Topic6\", \"Topic6\", \"Topic6\", \"Topic6\", \"Topic6\", \"Topic6\", \"Topic6\", \"Topic6\", \"Topic6\", \"Topic6\", \"Topic6\", \"Topic6\", \"Topic6\", \"Topic6\", \"Topic6\", \"Topic6\", \"Topic6\", \"Topic6\", \"Topic6\", \"Topic6\", \"Topic6\", \"Topic6\", \"Topic6\", \"Topic6\", \"Topic6\", \"Topic6\", \"Topic6\", \"Topic6\", \"Topic6\", \"Topic6\", \"Topic6\", \"Topic6\", \"Topic6\", \"Topic6\", \"Topic6\", \"Topic6\", \"Topic6\", \"Topic6\", \"Topic6\", \"Topic6\", \"Topic6\", \"Topic6\", \"Topic6\", \"Topic7\", \"Topic7\", \"Topic7\", \"Topic7\", \"Topic7\", \"Topic7\", \"Topic7\", \"Topic7\", \"Topic7\", \"Topic7\", \"Topic7\", \"Topic7\", \"Topic7\", \"Topic7\", \"Topic7\", \"Topic7\", \"Topic7\", \"Topic7\", \"Topic7\", \"Topic7\", \"Topic7\", \"Topic7\", \"Topic7\", \"Topic7\", \"Topic7\", \"Topic7\", \"Topic7\", \"Topic7\", \"Topic7\", \"Topic7\", \"Topic7\", \"Topic7\", \"Topic7\", \"Topic7\", \"Topic7\", \"Topic7\", \"Topic7\", \"Topic7\", \"Topic7\", \"Topic7\", \"Topic7\", \"Topic7\", \"Topic7\", \"Topic7\", \"Topic7\", \"Topic7\", \"Topic7\", \"Topic7\", \"Topic7\", \"Topic7\", \"Topic7\", \"Topic7\", \"Topic7\", \"Topic7\", \"Topic7\", \"Topic7\", \"Topic7\", \"Topic7\", \"Topic7\", \"Topic7\", \"Topic8\", \"Topic8\", \"Topic8\", \"Topic8\", \"Topic8\", \"Topic8\", \"Topic8\", \"Topic8\", \"Topic8\", \"Topic8\", \"Topic8\", \"Topic8\", \"Topic8\", \"Topic8\", \"Topic8\", \"Topic8\", \"Topic8\", \"Topic8\", \"Topic8\", \"Topic8\", \"Topic8\", \"Topic8\", \"Topic8\", \"Topic8\", \"Topic8\", \"Topic8\", \"Topic8\", \"Topic8\", \"Topic8\", \"Topic8\", \"Topic8\", \"Topic8\", \"Topic8\", \"Topic8\", \"Topic8\", \"Topic8\", \"Topic8\", \"Topic8\", \"Topic8\", \"Topic8\", \"Topic8\", \"Topic8\", \"Topic8\", \"Topic8\", \"Topic8\", \"Topic8\", \"Topic8\", \"Topic8\", \"Topic8\", \"Topic8\", \"Topic8\", \"Topic8\", \"Topic8\", \"Topic8\", \"Topic8\", \"Topic8\", \"Topic8\", \"Topic8\", \"Topic8\", \"Topic8\", \"Topic8\", \"Topic8\", \"Topic8\", \"Topic8\", \"Topic8\", \"Topic8\", \"Topic8\", \"Topic8\", \"Topic8\", \"Topic8\", \"Topic8\", \"Topic9\", \"Topic9\", \"Topic9\", \"Topic9\", \"Topic9\", \"Topic9\", \"Topic9\", \"Topic9\", \"Topic9\", \"Topic9\", \"Topic9\", \"Topic9\", \"Topic9\", \"Topic9\", \"Topic9\", \"Topic9\", \"Topic9\", \"Topic9\", \"Topic9\", \"Topic9\", \"Topic9\", \"Topic9\", \"Topic9\", \"Topic9\", \"Topic9\", \"Topic9\", \"Topic9\", \"Topic9\", \"Topic9\", \"Topic9\", \"Topic9\", \"Topic9\", \"Topic9\", \"Topic9\", \"Topic9\", \"Topic9\", \"Topic9\", \"Topic9\", \"Topic9\", \"Topic9\", \"Topic9\", \"Topic9\", \"Topic9\", \"Topic9\", \"Topic9\", \"Topic9\", \"Topic9\", \"Topic9\", \"Topic9\", \"Topic9\", \"Topic9\", \"Topic9\", \"Topic9\", \"Topic9\", \"Topic9\", \"Topic9\", \"Topic9\", \"Topic9\", \"Topic9\", \"Topic9\", \"Topic9\", \"Topic9\", \"Topic9\"], \"logprob\": [30.0, 29.0, 28.0, 27.0, 26.0, 25.0, 24.0, 23.0, 22.0, 21.0, 20.0, 19.0, 18.0, 17.0, 16.0, 15.0, 14.0, 13.0, 12.0, 11.0, 10.0, 9.0, 8.0, 7.0, 6.0, 5.0, 4.0, 3.0, 2.0, 1.0, -4.0818, -4.3035, -4.8837, -3.6937, -3.5917, -4.5713, -5.1225, -4.7216, -5.8856, -4.7031, -5.9196, -6.407, -6.4832, -6.5648, -6.3541, -5.678, -6.6079, -6.7858, -6.6202, -6.7236, -6.927, -7.1127, -7.2214, -7.26, -7.2603, -7.2904, -7.2976, -7.3126, -5.9873, -7.3651, -5.2977, -6.1299, -6.322, -6.4464, -4.701, -5.6738, -5.1258, -5.663, -5.1026, -3.9121, -4.954, -4.726, -4.7369, -5.2418, -4.9313, -5.3152, -4.7617, -5.3199, -5.4625, -5.6157, -4.6857, -5.5659, -4.9049, -5.2781, -5.3334, -4.945, -5.3051, -5.0928, -5.0463, -4.9762, -5.1162, -5.5048, -6.0586, -6.3034, -6.3219, -6.4307, -6.3824, -6.4879, -6.6492, -6.6186, -4.6645, -6.787, -6.8508, -5.2688, -6.8697, -7.0338, -7.0581, -7.0903, -7.0995, -7.2332, -7.2679, -7.2707, -7.3235, -7.0831, -7.4067, -7.4661, -7.3229, -7.5345, -7.5472, -7.4769, -7.6229, -5.2191, -6.4769, -6.2417, -6.2331, -6.4933, -4.8541, -6.6187, -6.9962, -5.3249, -5.2833, -5.6966, -5.9912, -5.9544, -5.5668, -6.2454, -5.9014, -6.0527, -4.0978, -6.0214, -5.7573, -5.4669, -5.2373, -5.1899, -4.8136, -5.3786, -4.887, -4.5517, -5.0533, -5.7432, -5.4751, -4.7841, -5.3433, -5.6135, -5.5023, -5.3875, -5.6919, -5.1675, -5.4841, -5.5348, -5.3328, -5.3128, -5.4026, -5.3196, -5.4504, -5.5311, -3.8707, -3.7824, -4.4429, -4.5781, -4.6546, -6.0265, -6.1516, -6.2218, -6.0638, -6.3302, -5.511, -5.9883, -5.2989, -6.6998, -3.8821, -6.7978, -6.5673, -6.3069, -7.0157, -6.0145, -7.1334, -7.1602, -7.1857, -7.159, -7.2069, -7.2202, -5.5511, -4.498, -7.3702, -7.405, -5.9896, -5.0706, -4.339, -5.2943, -5.3584, -6.1392, -4.1006, -5.6597, -4.8204, -4.3677, -5.7781, -3.7568, -4.0713, -4.7083, -4.2327, -5.6908, -4.6073, -5.4411, -5.0924, -5.1203, -5.5279, -4.8334, -4.9595, -5.166, -4.6606, -5.0974, -5.3718, -5.2843, -5.3006, -5.2247, -5.2755, -3.2175, -3.5933, -5.1949, -5.5809, -5.8607, -5.9684, -6.0489, -5.3348, -6.327, -6.4021, -6.5737, -6.6821, -6.6736, -6.7096, -6.8199, -6.847, -6.9207, -6.9468, -6.9776, -6.9987, -7.0652, -7.0889, -7.1121, -7.1195, -7.112, -7.1757, -7.22, -7.2182, -7.0018, -5.336, -6.2198, -6.1922, -5.9117, -5.6998, -5.101, -5.3406, -4.6861, -6.3334, -5.9734, -5.6053, -4.5792, -4.6397, -5.6107, -4.7148, -5.7947, -5.2617, -5.8692, -5.5853, -5.4433, -6.1095, -4.9923, -5.389, -5.1737, -4.9315, -5.4051, -5.2595, -4.8202, -5.4234, -5.0631, -5.4131, -5.4904, -5.3346, -5.4595, -5.5137, -5.5195, -4.7112, -5.9916, -6.0604, -5.5184, -6.2569, -6.3248, -6.4656, -6.735, -6.7861, -6.8504, -6.7869, -6.9236, -7.0031, -6.8064, -7.0576, -7.0969, -5.4028, -7.0968, -7.1161, -7.0768, -7.1282, -7.1436, -7.1458, -5.9513, -7.2306, -6.9415, -7.2702, -7.2904, -7.299, -7.2676, -6.6435, -5.3171, -4.8247, -6.07, -5.9675, -6.3036, -4.3959, -4.9485, -5.3138, -6.32, -6.3516, -4.3147, -5.4758, -5.5096, -4.992, -5.3416, -5.7093, -5.4371, -3.9994, -4.3934, -5.8704, -5.4013, -5.4112, -4.9763, -4.4079, -5.3545, -4.6508, -5.3768, -5.358, -4.9953, -5.4342, -4.727, -5.1439, -5.4684, -4.8963, -5.0339, -5.289, -5.3003, -5.1562, -5.0841, -5.2412, -5.1743, -5.2968, -5.2168, -5.3674, -5.0173, -5.3449, -5.4323, -5.4441, -5.4273, -5.8033, -5.9172, -5.9792, -5.0767, -6.4182, -6.2048, -6.4938, -6.658, -6.6601, -6.3422, -6.7307, -6.8241, -6.8813, -6.9131, -6.9384, -6.9681, -6.9886, -6.9345, -6.9591, -7.1467, -7.1671, -7.2122, -7.2542, -7.2557, -7.262, -7.0906, -4.476, -7.1089, -5.2974, -5.2053, -6.0752, -6.7607, -5.6789, -4.9975, -6.0289, -5.2096, -5.1852, -5.9462, -6.0124, -5.6435, -6.1515, -4.0744, -5.5693, -5.2587, -5.222, -4.9794, -4.7905, -4.3427, -5.3875, -5.3889, -5.7018, -4.8544, -5.3193, -5.1496, -5.0402, -5.3817, -5.1175, -5.1072, -5.3816, -5.2867, -5.3304, -5.3808, -5.3929, -3.6547, -3.6366, -4.4861, -4.5248, -4.9134, -4.9535, -5.1132, -5.7303, -6.4592, -6.5326, -6.8513, -6.9362, -7.0643, -7.1227, -7.1268, -7.132, -7.1553, -7.1547, -7.1945, -7.2635, -7.3035, -7.3206, -7.3453, -7.3797, -4.321, -7.421, -7.4903, -7.4976, -7.5216, -7.5384, -7.1637, -3.3668, -3.5121, -3.5118, -3.738, -4.35, -3.8337, -6.5219, -4.4166, -4.1662, -4.1937, -5.2343, -3.6959, -5.0668, -6.1127, -5.3927, -5.2466, -4.3011, -4.8196, -5.3435, -4.6382, -5.1851, -5.2558, -5.0094, -5.0008, -4.6475, -4.8018, -5.0147, -5.0666, -5.1334, -4.8225, -4.8281, -4.2982, -5.6505, -5.9422, -6.1195, -6.2877, -6.1578, -6.3965, -6.5786, -6.7612, -6.7841, -6.5893, -6.7019, -6.8024, -6.8247, -6.4138, -6.8353, -6.8797, -6.9058, -6.9613, -6.6937, -6.9268, -7.0562, -6.8503, -7.066, -7.0703, -7.0774, -7.0954, -7.1121, -4.8721, -4.9626, -5.5824, -5.4016, -4.9847, -4.7909, -5.8269, -4.1701, -5.1991, -6.3121, -4.4922, -5.7006, -5.8472, -6.0471, -5.7349, -4.7422, -4.3986, -5.6299, -4.6726, -5.7802, -5.7137, -5.9815, -5.8113, -5.1005, -5.2568, -5.6318, -5.6497, -5.6659, -5.1932, -5.1403, -5.2371, -5.2572, -5.2224, -5.4343, -5.4335, -5.4772, -5.4717, -5.5103, -5.5936, -5.5941, -5.6244, -4.1145, -3.6524, -4.9417, -5.124, -5.4027, -5.3889, -5.6781, -5.8058, -5.9878, -6.1163, -5.9054, -6.2, -6.3262, -6.3569, -6.4394, -6.4763, -6.5029, -6.5216, -6.554, -6.7557, -6.7749, -6.5754, -6.4296, -6.7965, -6.8357, -6.9954, -6.9984, -7.0051, -7.0395, -7.0428, -5.7258, -3.4823, -5.7784, -6.0819, -5.5066, -4.8391, -5.0105, -5.4752, -4.8068, -5.211, -4.3106, -3.9334, -5.1611, -5.6879, -5.7518, -5.0387, -5.6858, -5.5074, -5.3887, -5.5621, -4.9828, -4.7395, -5.0514, -4.9344, -5.479, -4.831, -5.4162, -5.1333, -5.1748, -5.428, -5.3012, -5.2904, -5.4571], \"loglift\": [30.0, 29.0, 28.0, 27.0, 26.0, 25.0, 24.0, 23.0, 22.0, 21.0, 20.0, 19.0, 18.0, 17.0, 16.0, 15.0, 14.0, 13.0, 12.0, 11.0, 10.0, 9.0, 8.0, 7.0, 6.0, 5.0, 4.0, 3.0, 2.0, 1.0, 1.9655, 1.9639, 1.9633, 1.9632, 1.9627, 1.9606, 1.9594, 1.9588, 1.9584, 1.9555, 1.9542, 1.9528, 1.9517, 1.9504, 1.9503, 1.9485, 1.9466, 1.9464, 1.9459, 1.9451, 1.9427, 1.9386, 1.9354, 1.9341, 1.9336, 1.9331, 1.9328, 1.9322, 1.9321, 1.9306, 1.9292, 1.9259, 1.9105, 1.913, 1.8445, 1.883, 1.849, 1.8409, 1.7919, 1.6658, 1.7413, 1.6991, 1.6726, 1.7362, 1.6713, 1.6983, 1.5703, 1.6724, 1.7068, 1.7291, 1.2962, 1.6983, 1.2364, 1.4912, 1.5311, 0.9816, 1.416, 0.9968, 0.9176, 0.5303, 0.5873, 1.966, 1.962, 1.9592, 1.959, 1.9575, 1.9573, 1.9567, 1.954, 1.9525, 1.9524, 1.9514, 1.9501, 1.9496, 1.9494, 1.9457, 1.9451, 1.9436, 1.9416, 1.94, 1.9389, 1.9388, 1.9369, 1.9355, 1.9338, 1.9318, 1.9318, 1.929, 1.9285, 1.9272, 1.9252, 1.9247, 1.9158, 1.8953, 1.8908, 1.8959, 1.7196, 1.8718, 1.9017, 1.7074, 1.63, 1.6968, 1.7403, 1.7225, 1.6419, 1.7738, 1.6978, 1.7298, 1.1661, 1.7022, 1.5961, 1.4963, 1.4104, 1.3868, 1.2435, 1.451, 1.242, 0.9584, 1.2146, 1.5547, 1.3969, 0.8975, 1.1953, 1.4037, 1.2694, 1.1681, 1.4294, 0.8063, 1.1005, 1.1518, 0.8051, 0.4182, 0.6414, 0.3668, 0.3832, 0.4833, 2.0617, 2.0609, 2.0608, 2.0596, 2.058, 2.0524, 2.051, 2.0501, 2.0501, 2.0484, 2.0477, 2.0447, 2.0425, 2.0424, 2.0414, 2.0403, 2.0397, 2.0392, 2.0349, 2.0321, 2.0314, 2.0303, 2.0296, 2.0293, 2.029, 2.0286, 2.0276, 2.0248, 2.0231, 2.0217, 2.0128, 1.9896, 1.9497, 1.9637, 1.962, 1.9802, 1.8519, 1.9501, 1.8926, 1.7673, 1.9108, 1.6001, 1.5966, 1.6605, 1.5238, 1.8733, 1.5044, 1.7548, 1.5709, 1.5483, 1.7392, 1.1809, 1.2406, 1.4035, 0.8718, 0.589, 1.2589, 0.7439, 0.7978, 0.2854, 0.3589, 2.1972, 2.1969, 2.1927, 2.1903, 2.1877, 2.1864, 2.1856, 2.1829, 2.1816, 2.1805, 2.1773, 2.1749, 2.1742, 2.1735, 2.1716, 2.1709, 2.1689, 2.1672, 2.1671, 2.1662, 2.1644, 2.1636, 2.1626, 2.1625, 2.1621, 2.1606, 2.1589, 2.158, 2.1563, 2.1563, 2.1505, 2.0846, 2.0571, 2.0367, 1.9441, 1.9515, 1.8427, 2.0637, 2.0013, 1.9362, 1.7503, 1.6808, 1.8895, 1.6792, 1.9163, 1.7597, 1.9223, 1.8066, 1.6648, 1.9598, 1.3077, 1.5252, 1.365, 1.1581, 1.4895, 1.3468, 0.8476, 1.4227, 0.9739, 1.0743, 1.1199, 0.1719, 0.1749, 0.5303, 0.5376, 2.1974, 2.1893, 2.1884, 2.1875, 2.1861, 2.1848, 2.1812, 2.1768, 2.1747, 2.1739, 2.1733, 2.1719, 2.1693, 2.1683, 2.1677, 2.1665, 2.1664, 2.1663, 2.1658, 2.1655, 2.1654, 2.1648, 2.1646, 2.1643, 2.1616, 2.1605, 2.16, 2.1589, 2.1571, 2.1563, 2.1532, 2.1353, 2.0986, 2.1199, 2.0792, 2.0945, 1.7974, 1.8421, 1.8916, 2.0371, 2.0402, 1.6492, 1.8538, 1.8599, 1.7446, 1.8132, 1.8909, 1.8164, 1.455, 1.5332, 1.9142, 1.742, 1.7425, 1.593, 1.3329, 1.7114, 1.3629, 1.6796, 1.6659, 1.4452, 1.7068, 1.1554, 1.4526, 1.7089, 1.1385, 0.9383, 1.3281, 1.3557, 0.7956, 0.4938, 0.8553, 0.3581, 0.9783, 0.047, 0.5629, 2.2673, 2.266, 2.2653, 2.2653, 2.2651, 2.2621, 2.2599, 2.2599, 2.2536, 2.2534, 2.2526, 2.2493, 2.2484, 2.248, 2.2471, 2.2465, 2.244, 2.2425, 2.2415, 2.2398, 2.2398, 2.239, 2.2383, 2.2369, 2.2335, 2.2327, 2.2309, 2.2291, 2.2289, 2.2287, 2.2286, 2.1768, 2.2258, 2.1686, 2.1458, 2.1802, 2.2118, 2.1435, 2.0969, 2.1546, 2.0733, 2.0516, 2.1315, 2.1366, 2.0887, 2.1421, 1.808, 2.0287, 1.8991, 1.7707, 1.6809, 1.5689, 1.1117, 1.6756, 1.6354, 1.8523, 1.0974, 1.4945, 1.3186, 1.1885, 1.4221, 0.9148, 0.8741, 0.9504, 0.3997, 0.5999, 0.2537, 0.4777, 2.3241, 2.3228, 2.3225, 2.3224, 2.3209, 2.3207, 2.3199, 2.3142, 2.3045, 2.302, 2.2943, 2.2919, 2.2875, 2.2852, 2.2849, 2.2849, 2.2839, 2.2839, 2.2823, 2.2782, 2.2774, 2.2766, 2.2754, 2.2737, 2.2728, 2.2716, 2.2679, 2.2674, 2.266, 2.2651, 2.2625, 2.195, 2.1305, 2.1169, 2.0956, 2.1179, 2.0897, 2.2254, 2.0452, 1.9795, 1.9672, 2.0605, 1.8106, 1.9499, 2.0974, 1.9395, 1.9006, 1.6712, 1.7753, 1.8854, 1.4601, 1.5951, 1.5886, 1.3753, 1.3246, 0.8626, 0.9017, 0.9591, 0.9616, 0.9632, 2.443, 2.443, 2.4405, 2.437, 2.4335, 2.4307, 2.427, 2.4257, 2.4254, 2.4208, 2.4155, 2.415, 2.415, 2.4144, 2.4141, 2.4137, 2.4136, 2.4129, 2.4118, 2.4109, 2.4086, 2.4078, 2.4073, 2.405, 2.4047, 2.4045, 2.4044, 2.4038, 2.4034, 2.4026, 2.4005, 2.3077, 2.3336, 2.3066, 2.2377, 2.2152, 2.299, 2.0961, 2.2132, 2.3295, 1.9467, 2.1838, 2.2128, 2.2253, 2.1392, 1.867, 1.7425, 2.103, 1.8149, 2.1447, 2.0836, 2.1825, 2.0096, 1.3677, 1.5098, 1.7737, 1.7747, 1.7719, 1.0289, 0.8966, 0.5194, 0.4245, 0.2319, 0.2967, 0.2009, 0.2263, 0.1571, 0.2306, 0.7788, -0.3302, -0.092, 2.4636, 2.4628, 2.4604, 2.4599, 2.4579, 2.4557, 2.4553, 2.4536, 2.4512, 2.4482, 2.4474, 2.447, 2.4453, 2.4446, 2.4425, 2.4419, 2.4407, 2.4405, 2.4399, 2.4341, 2.4335, 2.4335, 2.4333, 2.4328, 2.4314, 2.4256, 2.4255, 2.4245, 2.4237, 2.4237, 2.4067, 2.3211, 2.3643, 2.3727, 2.3359, 2.282, 2.2856, 2.3005, 2.212, 2.2276, 1.966, 1.7976, 2.1022, 2.2088, 2.2229, 1.9218, 2.0872, 1.9865, 1.836, 1.9385, 1.2851, 0.9421, 1.2478, 0.9362, 1.7737, 0.5259, 1.6466, 0.7902, 0.8389, 1.4862, 0.8399, 0.1639, 0.7363]}, \"token.table\": {\"Topic\": [2, 4, 1, 3, 4, 5, 8, 7, 5, 6, 1, 2, 7, 6, 9, 6, 1, 2, 3, 4, 5, 6, 8, 9, 6, 3, 6, 8, 2, 5, 7, 2, 3, 7, 2, 3, 6, 7, 8, 9, 3, 3, 8, 9, 8, 4, 8, 3, 2, 5, 6, 9, 7, 4, 4, 5, 8, 9, 2, 4, 4, 8, 4, 1, 6, 3, 4, 7, 9, 1, 2, 3, 4, 7, 6, 7, 5, 8, 5, 2, 4, 5, 6, 7, 9, 1, 3, 4, 5, 6, 8, 8, 9, 6, 6, 1, 5, 6, 5, 6, 3, 8, 3, 4, 1, 2, 3, 4, 5, 6, 8, 1, 2, 6, 1, 7, 2, 9, 4, 2, 4, 1, 8, 2, 7, 8, 2, 7, 1, 5, 7, 1, 3, 4, 5, 6, 7, 8, 1, 4, 5, 6, 7, 8, 1, 2, 3, 4, 9, 1, 3, 4, 5, 6, 7, 8, 9, 1, 2, 3, 8, 9, 4, 6, 6, 1, 2, 3, 4, 5, 6, 7, 6, 5, 2, 3, 4, 5, 6, 7, 8, 1, 2, 6, 7, 3, 9, 2, 1, 2, 3, 4, 7, 9, 5, 8, 8, 3, 4, 1, 1, 2, 3, 4, 5, 6, 7, 8, 9, 5, 8, 9, 7, 2, 2, 7, 1, 2, 3, 4, 7, 8, 1, 2, 9, 4, 8, 4, 2, 8, 4, 6, 4, 1, 1, 2, 3, 4, 5, 6, 9, 8, 7, 8, 4, 5, 1, 3, 9, 1, 2, 3, 4, 6, 7, 8, 9, 4, 5, 1, 2, 8, 3, 5, 8, 2, 4, 2, 4, 5, 4, 7, 8, 2, 4, 9, 4, 8, 5, 1, 5, 6, 8, 8, 2, 3, 7, 1, 2, 3, 5, 6, 8, 9, 8, 3, 4, 5, 6, 8, 1, 4, 5, 6, 7, 8, 2, 5, 2, 7, 7, 2, 1, 2, 3, 2, 6, 5, 1, 4, 4, 4, 7, 1, 2, 6, 7, 9, 8, 2, 3, 4, 9, 9, 1, 2, 3, 4, 8, 9, 3, 1, 4, 5, 9, 3, 4, 8, 1, 5, 6, 7, 1, 2, 1, 2, 5, 9, 1, 2, 3, 4, 7, 8, 9, 2, 4, 9, 3, 8, 3, 4, 9, 2, 4, 9, 9, 2, 6, 8, 1, 2, 4, 6, 1, 5, 2, 1, 2, 4, 6, 7, 8, 9, 1, 1, 2, 3, 4, 5, 7, 1, 4, 5, 6, 7, 9, 7, 1, 3, 4, 5, 8, 4, 3, 5, 6, 7, 8, 9, 1, 6, 1, 2, 4, 5, 8, 7, 3, 6, 9, 5, 7, 8, 9, 1, 2, 3, 4, 5, 6, 7, 8, 5, 6, 7, 8, 9, 3, 4, 8, 9, 1, 2, 4, 5, 6, 7, 8, 1, 3, 4, 6, 7, 9, 2, 3, 4, 5, 6, 7, 8, 9, 3, 4, 6, 8, 9, 1, 2, 3, 4, 5, 6, 7, 9, 2, 6, 1, 4, 5, 8, 4, 5, 6, 9, 4, 7, 9, 1, 2, 3, 7, 8, 9, 6, 1, 2, 4, 5, 6, 8, 9, 1, 2, 4, 9, 3, 2, 3, 5, 6, 7, 8, 9, 1, 2, 3, 4, 5, 6, 8, 9, 7, 1, 2, 4, 5, 7, 8, 9, 1, 3, 4, 5, 6, 7, 8, 9, 1, 2, 3, 4, 5, 6, 7, 8, 9, 2, 4, 6, 7, 8, 9, 2, 3, 4, 5, 6, 8, 2, 5, 6, 2, 3, 4, 5, 3, 4, 5, 7, 1, 2, 3, 4, 5, 6, 7, 8, 9, 5, 6, 6, 8, 1, 2, 3, 4, 5, 6, 7, 8, 3, 1, 2, 7, 1, 2, 4, 7, 8, 1, 2, 3, 4, 5, 6, 7, 3, 4, 5, 7, 8, 9, 1, 2, 3, 4, 5, 6, 7, 8, 9, 4, 7, 9, 8, 1, 2, 3, 4, 5, 6, 7, 8, 9, 1, 1, 6, 1, 4, 5, 3, 4, 5, 6, 7, 9, 3, 4, 5, 8, 9, 9, 1, 4, 5, 6, 8, 9, 5, 6, 8, 7, 7, 1, 2, 5, 2, 1, 9, 1, 2, 4, 7, 8, 9, 1, 1, 2, 3, 5, 6, 8, 2, 4, 7, 8, 7, 1, 4, 9, 1, 4, 5, 1, 2, 5, 2, 3, 4, 6, 1, 5, 6, 7, 8, 8, 9, 9, 7, 7, 1, 8, 6, 1, 1, 2, 3, 4, 5, 6, 9, 1, 3, 4, 5, 7, 2, 1, 3, 4, 5, 6, 8, 6, 4, 5, 8, 5, 3, 1, 2, 3, 4, 5, 6, 7, 1, 2, 3, 6, 9, 1, 2, 3, 4, 5, 6, 7, 8, 9, 2, 3, 3, 9, 1, 2, 3, 4, 5, 6, 7, 8, 9, 7, 1, 2, 3, 4, 5, 6, 7, 8, 9, 8, 2, 3, 4, 5, 7, 8, 4, 8, 4, 1, 2, 3, 4, 5, 6, 7, 8, 9, 7, 2, 4, 1, 2, 4, 5, 9, 2, 1, 2, 8, 4, 7, 1, 5, 6, 9, 1, 2, 4, 1, 2, 4, 6, 7, 2, 1, 2, 3, 5, 6, 8, 2, 4, 7, 4, 2, 7, 4, 3, 7, 2, 8, 3, 4, 5, 8, 9, 2, 3, 9, 3, 5, 6, 8, 1, 2, 3, 5, 6, 7, 8, 9, 2, 3, 4, 5, 6, 7, 8, 9, 2, 1, 7, 9, 6, 5, 6, 2, 3, 1, 2, 3, 4, 5, 7, 8, 9, 6, 5, 9, 1, 3, 4, 5, 6, 7, 8, 4, 6, 8, 7, 6, 1, 2, 3, 4, 6, 7, 8, 2, 6, 7, 9, 4, 5, 2, 3, 4, 1, 2, 3, 4, 7, 8, 9, 9, 4, 8, 9, 5, 4, 5, 2, 6, 9, 6, 9, 1, 2, 3, 4, 5, 6, 7, 8, 6, 3, 4, 3, 1, 7, 5, 2, 3, 5, 2, 1, 2, 3, 4, 6, 7, 9, 9, 9, 1, 2, 3, 7, 8, 3, 5, 6, 9, 1, 1, 2, 7, 9, 1, 4, 6, 8, 5, 6, 9, 3, 1, 4, 3, 8, 2, 4, 5, 6, 7, 6, 2, 4, 9, 9, 2, 1, 3, 7, 8, 8, 1, 3, 4, 5, 6, 7, 1, 3, 7, 8, 9, 2, 4, 2, 3, 5, 7, 8, 9, 3, 2, 4, 8, 9, 6, 1, 2, 8, 2, 1, 2, 3, 4, 6, 8, 9, 6, 8, 7, 1, 1, 1, 6, 1, 2, 3, 4, 6, 7, 8, 9, 2, 8, 9, 1, 3, 4, 5, 6, 7, 8, 9, 1, 3, 6, 8, 2, 7, 1, 3, 8, 2, 3, 7, 2, 3, 6, 1, 2, 5, 6, 8, 9, 3, 4, 8, 2, 3, 4, 7, 9, 2, 4, 8, 6, 7, 5, 8, 2, 3, 4, 5, 6, 7, 8, 9, 1, 7, 1, 2, 4, 5, 6, 7, 2, 4, 7, 9, 9, 6, 2, 6, 7, 1, 3, 4, 9, 7, 1, 6, 2, 3, 8, 1, 2, 3, 4, 9, 1, 2, 4, 5, 6, 7, 8, 9, 1, 2, 5, 7, 8, 8, 4, 8, 6, 3, 4, 7, 9, 4, 1, 6, 7, 1, 2, 3, 4, 5, 6, 7, 8, 9, 1, 2, 3, 4, 5, 8, 9, 5, 1, 2, 3, 5, 8, 1, 4, 6, 7, 8, 3, 5, 3, 6, 8, 9, 6, 7, 6, 8, 4, 2, 3, 9, 4, 8, 1, 2, 4, 6, 1, 2, 3, 4, 6, 7, 9, 5, 6, 8, 5, 6, 1, 2, 3, 4, 5, 8, 9, 5, 2, 4, 9, 7, 1, 2, 4, 7, 8, 9, 1, 2, 3, 4, 5, 6, 7, 8, 9, 5, 7, 9, 1, 2, 3, 4, 5, 6, 7, 8, 9, 1, 3, 4, 5, 6, 7, 1, 8, 4, 8, 5, 2, 4, 1, 2, 9, 1, 4, 5, 7, 9, 3, 6, 5, 6, 9, 1, 2, 4, 7, 8, 9, 1, 3, 4, 5, 6, 8, 9, 1, 2, 5, 1, 5, 6, 1, 4, 3, 1, 2, 3, 4, 5, 6, 7, 8, 9, 1, 2, 3, 4, 5, 6, 7, 8, 9, 2, 3, 4, 7, 9, 5, 1, 2, 3, 4, 5, 6, 7, 8, 9, 1, 5, 1, 2, 3, 5, 6, 9, 3, 2, 4, 6, 7, 8, 9, 1, 4, 1, 2, 3, 4, 5, 6, 7, 8, 9, 1, 2, 3, 4, 5, 6, 7, 8, 9, 6, 2, 3, 4, 8, 7, 9, 6, 1, 2, 3, 4, 7, 8, 9, 1, 2, 6, 5, 9, 1, 5, 6, 1, 4, 5, 6, 7, 1, 2, 4, 5, 6, 2, 4, 6, 8, 1, 4, 6, 8, 3, 1, 4, 5, 7, 1, 2, 4, 5, 6, 7, 1, 2, 3, 4, 7, 8, 9, 9, 6, 1, 5, 5, 4, 6, 7, 8, 9, 3, 8, 2, 1, 2, 4, 5, 6, 7, 2, 3, 4, 7, 8, 3, 4, 7, 9, 1, 4, 7, 8, 3, 5, 8, 9, 6, 3, 3, 4, 3, 5, 6, 8, 1, 5, 9, 4, 2, 2, 3, 6, 5, 1, 2, 3, 4, 5, 6, 7, 8, 9, 3, 9, 1, 2, 3, 4, 5, 6, 7, 8, 9, 5, 1, 1, 2, 6, 7, 3, 4, 5, 6, 9, 1, 2, 3, 4, 5, 6, 7, 8, 9, 2, 4, 9, 4, 7, 8, 3, 4, 5, 6, 7, 9, 5, 8, 9, 5, 8, 1, 2, 3, 4, 5, 6, 7, 8, 9, 3, 4, 5, 6, 7, 8, 9, 1, 2, 3, 4, 5, 6, 7, 8, 9, 4], \"Freq\": [0.9625082226569364, 0.9827688253517963, 0.21041943292210266, 0.010520971646105133, 0.7022748573775176, 0.0473443724074731, 0.031562914938315395, 0.9334897620848521, 0.09631167245642956, 0.894322672809703, 0.18387055791749446, 0.796772417642476, 0.017511481706428043, 0.9571577664643223, 0.9485456633279762, 0.9865268909636296, 0.048621157179209305, 0.00486211571792093, 0.03889692574336744, 0.024310578589604653, 0.632075043329721, 0.20420886015267906, 0.03403481002544651, 0.01458634715376279, 0.9902898302322096, 0.008762459225723758, 0.832433626443757, 0.14896180683730387, 0.04616788722811788, 0.7479197730955097, 0.19390512635809512, 0.0928681632642889, 0.9054645918268168, 0.9302025694320682, 0.18631213282999454, 0.012150791271521383, 0.024301582543042766, 0.1498597590154304, 0.04860316508608553, 0.5791877172758526, 0.9792484543356278, 0.1110623550141069, 0.09799619560068255, 0.7905026445121727, 0.9945338954507829, 0.9617435342554641, 0.9565879439358641, 0.9981209608723802, 0.5802528534228729, 0.042805538367261114, 0.10939193138300063, 0.2615894011332624, 0.9632046719479863, 0.9549200956480564, 0.022333458721888688, 0.07816710552661041, 0.1005005642484991, 0.781671055266104, 0.9275544381913792, 0.056215420496447226, 0.9452903959838233, 0.033168084069607834, 0.976923485570914, 0.10752382156772788, 0.8755511184800698, 0.953931449773918, 0.0423742257578842, 0.646206942807734, 0.30721313674466044, 0.0017738997859451642, 0.11352958630049051, 0.7432640103110238, 0.10998178672860018, 0.028382396575122627, 0.047676208899915404, 0.9535241779983081, 0.9840065496011814, 0.9648630240550368, 0.9652504596109323, 0.2163544678252206, 0.09311458108933546, 0.5449941657875811, 0.1177625584365125, 0.02738664149686337, 0.9700068690084249, 0.019321941719324193, 0.1030503558363957, 0.21898200615234087, 0.10949100307617043, 0.038643883438648385, 0.5088111319422037, 0.9664064732219032, 0.9709321049535748, 0.9581047397411658, 0.9703208758150165, 0.014888011466964654, 0.9677207453527025, 0.014888011466964654, 0.6345536474615132, 0.3626020842637218, 0.9978247553058269, 0.001325132477165773, 0.9825183719314861, 0.011837570746162483, 0.7954539831208068, 0.06182284842907825, 0.01236456968581565, 0.008243046457210433, 0.07006589488628868, 0.0494582787432626, 0.0041215232286052166, 0.06189435346745205, 0.06189435346745205, 0.8665209485443286, 0.9777765638588884, 0.9366046983951537, 0.0522987980195493, 0.9413783643518875, 0.9693686311051498, 0.7793088130090058, 0.21555350147057606, 0.18420311860672017, 0.8104937218695688, 0.15809377987813894, 0.036483179971878214, 0.7904688993906946, 0.20471855285706475, 0.7952528399447515, 0.995664077202347, 0.0029780580574347367, 0.0009926860191449122, 0.12081945690022274, 0.034519844828635064, 0.04314980603579383, 0.5868373620867962, 0.021574903017896916, 0.034519844828635064, 0.1553393017288578, 0.30114244760255954, 0.01407207699077381, 0.47282178689000004, 0.1407207699077381, 0.01407207699077381, 0.05628830796309524, 0.9837581095413892, 0.08720653131162248, 0.8099860874367648, 0.007390384009459533, 0.09459691532108203, 0.21583368195961608, 0.08633347278384643, 0.008633347278384643, 0.008633347278384643, 0.5266341839814632, 0.06475010458788483, 0.05611675730950018, 0.03453338911353857, 0.12874422897143106, 0.05752401720000112, 0.5177161548000101, 0.2027036796571468, 0.09039488417143032, 0.8688573135237981, 0.11925492538561935, 0.9620179466939098, 0.2642298914485881, 0.311036329362338, 0.043786667725766025, 0.001509885093991932, 0.06945471432362887, 0.05586574847770148, 0.2551705808846365, 0.9771403331477463, 0.9959392622431116, 0.11642409296160486, 0.014553011620200607, 0.07276505810100303, 0.6112264880484255, 0.01940401549360081, 0.13097710458180545, 0.03880803098720162, 0.9765303072666452, 0.9801899079422178, 0.01572497178516927, 0.0052416572617230905, 0.9791887249394308, 0.020100648312539635, 0.9937708315924364, 0.09073464953184353, 0.07258771962547483, 0.5988486869101673, 0.0695632313077467, 0.13307748598003719, 0.03931834813046553, 0.9841605692695812, 0.9576234379308907, 0.9827340326890156, 0.1674897652883044, 0.8262828420889684, 0.973277011340359, 0.0699159513638136, 0.0378711403220657, 0.30394017745657853, 0.09127915872497885, 0.15828194544863355, 0.09322126848508479, 0.07768439040423733, 0.07865544528429029, 0.08836599408481996, 0.16156727419097672, 0.7371506884963313, 0.0908815917324244, 0.9958958932985948, 0.9638055998781847, 0.973272819543018, 0.9980482700084614, 0.07695433749430063, 0.1504884822110768, 0.282165904145769, 0.03420192777524472, 0.4206837116355101, 0.03591202416400696, 0.14742237824725343, 0.7831813844385338, 0.055283391842720034, 0.0032443512453543405, 0.9927714810784283, 0.9832844055428933, 0.985873153741912, 0.9497866092208856, 0.865853293828996, 0.12210751579639688, 0.9523828134381521, 0.9884452826922431, 0.16442698019786225, 0.1622915648706173, 0.0064062459817348935, 0.5957808763013451, 0.05552079850836908, 0.012812491963469787, 0.0021354153272449645, 0.9482584203360371, 0.12989886280850108, 0.8573324945361072, 0.008534687654550828, 0.990023767927896, 0.7684864660922438, 0.13972481201677162, 0.08483292158161133, 0.25117702962767796, 0.13134945586034535, 0.15554540825567212, 0.0553050340464612, 0.01613063493021785, 0.24080733574396646, 0.10830569167431985, 0.04032658732554462, 0.9791635145877708, 0.9572669319020236, 0.011041324743370402, 0.11593390980538922, 0.8667439923545766, 0.027667443512299217, 0.01660046610737953, 0.9517600568230931, 0.8172198605231358, 0.17511854154067194, 0.683917723374526, 0.0719913393025817, 0.23397185273339052, 0.04511790763584693, 0.1353537229075408, 0.7970830348999625, 0.1407958445284303, 0.8535748074536088, 0.008799740283026894, 0.9714761171797021, 0.9641432598676646, 0.9332699145752054, 0.04384148083524975, 0.21043910800919882, 0.0350731846681998, 0.710231989531046, 0.9900181374855922, 0.08180090532486503, 0.9052633522618397, 0.005453393688324336, 0.7983815333405796, 0.11804863138887947, 0.003106542931286302, 0.003106542931286302, 0.03727851517543562, 0.003106542931286302, 0.040385058106721924, 0.9583703347214029, 0.007332256237925323, 0.0953193310930292, 0.16130963723435712, 0.6599030614132791, 0.07332256237925323, 0.7397913366130237, 0.002032393781903911, 0.1808830465894481, 0.04471266320188604, 0.007113378236663689, 0.024388725382846935, 0.9693862149896008, 0.9712991959753511, 0.9792718198547516, 0.9616388726678304, 0.9528329001209016, 0.9872407561724984, 0.9977131693832855, 0.27516586364936424, 0.7209345627613343, 0.9325442392310559, 0.0656721295233138, 0.9747157750047568, 0.9946113857322659, 0.0026382264873534905, 0.9930496861367062, 0.9846630323929569, 0.9976945824728458, 0.1158839378972442, 0.5573465584581745, 0.20417646200943027, 0.12140222065425584, 0.9681864001962189, 0.9945008496496848, 0.9518436844396897, 0.9867061929882095, 0.0017390530243815685, 0.9964773829706387, 0.9770882367592304, 0.002656166811079445, 0.459516858316744, 0.04781100259943001, 0.435611357017029, 0.02124933448863556, 0.034530168544032784, 0.9920788684972462, 0.016366493741420175, 0.11456545618994123, 0.8510576745538491, 0.9945829783580982, 0.9713388375961401, 0.016188980626602335, 0.938103053426659, 0.015157760370395639, 0.3513844449500807, 0.6283580662636737, 0.0041339346464715375, 0.8851990908697788, 0.11232133479314413, 0.878695234787992, 0.11158034727466566, 0.006973771704666604, 0.9901794193880127, 0.01702567918394279, 0.6583262617791211, 0.022700905578590384, 0.10782930149830433, 0.051077037551828366, 0.10782930149830433, 0.03405135836788558, 0.7617938456242958, 0.13112844883696895, 0.10615160143945106, 0.20361787247831936, 0.7890192558534875, 0.1864206090610433, 0.1864206090610433, 0.6214020302034777, 0.20991620479791212, 0.091267915129527, 0.6845093634714525, 0.9842363974165688, 0.9596178494730513, 0.9672958093347672, 0.9740208890117958, 0.7627092769434671, 0.07133252230406528, 0.010974234200625427, 0.14815216170844325, 0.08526291838845021, 0.9037869349175722, 0.9402246454145072, 0.07203523466204653, 0.11373984420323137, 0.49287265821400256, 0.07582656280215425, 0.003791328140107712, 0.14786179746420078, 0.0947832035026928, 0.990727101491381, 0.0010841292454715566, 0.010841292454715566, 0.007588904718300897, 0.09973989058338321, 0.05854297925546406, 0.8228540973129115, 0.29193586567610635, 0.006950853944669199, 0.09036110128069959, 0.013901707889338397, 0.006950853944669199, 0.5908225852968819, 0.9736007846402962, 0.16829623094787124, 0.005428910675737782, 0.016286732027213344, 0.6786138344672228, 0.13029385621770675, 0.9873970813355524, 0.0008981343607319253, 0.47421494246645657, 0.31344889189544195, 0.002694403082195776, 0.10867425764856296, 0.09969291404124371, 0.9830620244335485, 0.9933625139955804, 0.04290133046274476, 0.08580266092548952, 0.3255453899820044, 0.012618038371395518, 0.5299576115986118, 0.9265742579330429, 0.13726586877962646, 0.009151057918641764, 0.8510483864336841, 0.007178232201126659, 0.7896055421239325, 0.01579211084247865, 0.18663403722929314, 0.14385681706122336, 0.0675953718721411, 0.571960838918117, 0.0259982199508235, 0.06066251321858816, 0.0017332146633882333, 0.0017332146633882333, 0.12479145576395279, 0.05338352432386323, 0.8007528648579485, 0.01601505729715897, 0.01601505729715897, 0.10676704864772646, 0.9652957928411051, 0.05412837559067255, 0.01804279186355752, 0.902139593177876, 0.0666502835593156, 0.0988262825189852, 0.5952559807538875, 0.0390708558795988, 0.0666502835593156, 0.0298777133196932, 0.10112456815896159, 0.0369220869733811, 0.24790544110698737, 0.010549167706680313, 0.08966792550678267, 0.07911875780010234, 0.5327329691873558, 0.22642459354075564, 0.41353936181401896, 0.14308776397367196, 0.006289572042798767, 0.044027004299591374, 0.03302025322469353, 0.06761289946008675, 0.06604050644938705, 0.8295338694457904, 0.007406552405765986, 0.022219657217297958, 0.08147207646342584, 0.0518458668403619, 0.003641116687292135, 0.003641116687292135, 0.2239286762684663, 0.010923350061876405, 0.04005228356021349, 0.020026141780106744, 0.6990944039600899, 0.9945188560339843, 0.9296453532668515, 0.050707928360010084, 0.08201769390039432, 0.1347433542649335, 0.7088672115676937, 0.07030088048605226, 0.009588636764228269, 0.10547500440651096, 0.8821545823090008, 0.9736607899415383, 0.9825260805011266, 0.976231764325931, 0.9972215467702279, 0.06395063970705155, 0.07132955967324979, 0.04427351979718953, 0.7551094765409547, 0.039354239819724024, 0.024596399887327515, 0.9737553865700483, 0.09845702078422647, 0.4824394018427097, 0.19035024018283783, 0.0705608648953623, 0.003281900692807549, 0.12143032563387932, 0.03281900692807549, 0.0324860431200829, 0.6212955746715855, 0.1827339925504663, 0.15836946021040413, 0.9914474011684205, 0.15555711596591976, 0.003381676434041734, 0.08792358728508509, 0.03719844077445907, 0.48019805363392626, 0.030435087906375606, 0.20290058604250405, 0.08229314940452848, 0.34157293519961823, 0.10033000406853472, 0.029309888829010144, 0.06200168790752146, 0.034946405911512095, 0.13189449973054565, 0.2175695593845753, 0.9829975589974953, 0.08717958469493699, 0.4962530205711798, 0.060355097096494836, 0.07376734089571592, 0.14418162084162656, 0.02347142664863688, 0.11065101134357387, 0.00469426514706564, 0.05163691661772204, 0.586783143383205, 0.03755412117652512, 0.2018534013238225, 0.00469426514706564, 0.0704139772059846, 0.0469426514706564, 0.026642785319350312, 0.11101160549729297, 0.1198925339370764, 0.019982088989512734, 0.11323183760723882, 0.4951117605179266, 0.0710474275182675, 0.008880928439783437, 0.03552371375913375, 0.0035696540066158, 0.019633097036386903, 0.0374813670694659, 0.24809095345979812, 0.49439707991628834, 0.196330970363869, 0.563450176349198, 0.03706909054928934, 0.03706909054928934, 0.20758690707602032, 0.1408625440872995, 0.014827636219715737, 0.9829477245588588, 0.9880181723528682, 0.9935104274990262, 0.9535428308245989, 0.03405510110087853, 0.004865014442982647, 0.004865014442982647, 0.04392922416112374, 0.004881024906791527, 0.29774251931428314, 0.6540573375100646, 0.18099598997927907, 0.014364761109466592, 0.06607790110354632, 0.04884018777218641, 0.4165780721745312, 0.15226646776034589, 0.014364761109466592, 0.10342627998815947, 0.002872952221893318, 0.7346673569997898, 0.2638594028661217, 0.2992467033653883, 0.6920080015324604, 0.05792584365856698, 0.3627487258618457, 0.16902951100368727, 0.017092871899249275, 0.11870049930034218, 0.0047480199720136874, 0.23170337463426793, 0.0379841597761095, 0.977157033944451, 0.9896118739057915, 0.19783130897317489, 0.7913252358926995, 0.20856292208230254, 0.25280354191794246, 0.018960265643845686, 0.006320088547948561, 0.5119271723838335, 0.74460831671729, 0.0023341953502109404, 0.007002586050632822, 0.058354883755273514, 0.05602068840506257, 0.1097071814599142, 0.023341953502109405, 0.4485177706169621, 0.19804680780489237, 0.03786188972740589, 0.15436001196557786, 0.04659924889526879, 0.11358566918221767, 0.019483676743413805, 0.09936675139141041, 0.0603993979045828, 0.056502662555900036, 0.10910858976311731, 0.3390159753354002, 0.11690206046048283, 0.027277147440779328, 0.1695079876677001, 0.039135107455413085, 0.07827021491082617, 0.8805399177467944, 0.9570221297553819, 0.11920784900103217, 0.3113637847041885, 0.14411695177736725, 0.08896108134405385, 0.15835072479241585, 0.02490910277633508, 0.13700006526984293, 0.001779221626881077, 0.014233773015048617, 0.9847181979548975, 0.9854388481742163, 0.00788351078539373, 0.17156613726014974, 0.7548910039446589, 0.0686264549040599, 0.09298199709246584, 0.002999419261047285, 0.1439721245302697, 0.5518931440327005, 0.002999419261047285, 0.20396050975121538, 0.261095582991845, 0.09138345404714575, 0.07180128532275737, 0.5091363868340978, 0.058746506173165125, 0.9513009120877843, 0.03839389470722861, 0.12286046306313153, 0.7294839994373434, 0.05375145259012005, 0.007678778941445721, 0.046072673648674324, 0.8472874619404424, 0.016945749238808847, 0.11862024467166192, 0.9985414667495861, 0.9398139042136765, 0.37446507930070033, 0.026747505664335737, 0.5929030422261088, 0.9681346455956498, 0.9978155121359417, 0.9770795370577042, 0.24584089332422063, 0.44845701419583106, 0.1107634794098137, 0.09995728629666113, 0.06213561040062719, 0.029717031061169526, 0.9782249378405206, 0.7644089666107865, 0.14519499924450693, 0.0042704411542502044, 0.008540882308500409, 0.0042704411542502044, 0.07259749962225347, 0.9498241063554772, 0.033922289512695616, 0.016961144756347808, 0.9874313479924784, 0.9776697049030705, 0.007069977943059744, 0.9827269340853044, 0.007069977943059744, 0.9915538933568925, 0.003060351522706458, 0.003060351522706458, 0.9566775301899528, 0.0363295264629096, 0.9809679863296747, 0.4403941084835083, 0.43115507124259556, 0.009239037240912762, 0.1201074841318659, 0.007661305429729484, 0.1991939411729666, 0.7814531538324074, 0.007661305429729484, 0.007661305429729484, 0.9468682622398352, 0.9759483543097219, 0.9974523418077804, 0.9722445697692338, 0.9446424146047107, 0.9621099128786825, 0.03171790921578074, 0.9891027537016708, 0.9798854935017186, 0.04002757673306069, 0.014454402709160806, 0.6270987021512842, 0.2590673716334206, 0.0011118771314739082, 0.0011118771314739082, 0.05670573370516931, 0.3823520349967007, 0.2282698716398213, 0.33955143406423416, 0.03994722753696873, 0.0085601201864933, 0.9759938027699252, 0.0034170784968801833, 0.0034170784968801833, 0.1811051603346497, 0.6970840133635574, 0.11276359039704605, 0.9839021358256922, 0.9424112882207799, 0.9893956107729363, 0.9749744930209502, 0.969225536118001, 0.9617812677209325, 0.968803190298326, 0.0030001324821795875, 0.0010000441607265292, 0.0010000441607265292, 0.03200141314324893, 0.08300366534030192, 0.0020000883214530583, 0.8780387731178926, 0.1076729983791912, 0.27815524581291057, 0.1704822474337194, 0.0044863749324663, 0.43966474338169736, 0.015943857095309932, 0.07334174263842569, 0.26785679920120686, 0.15146664240544436, 0.1434947138577894, 0.03507648560968185, 0.2551017135249589, 0.05420911412405377, 0.0031887714190619865, 0.02399780866981841, 0.9719112511276458, 0.9527827114821528, 0.03443792933068022, 0.09584960239880458, 0.0015713049573574521, 0.039282623933936306, 0.048710453678081016, 0.43210886327329934, 0.05656697846486828, 0.10370612718559184, 0.026712184275076687, 0.19641311966968153, 0.9734151301616253, 0.09804547935675105, 0.12119510642709504, 0.1538769328793454, 0.046299254140687994, 0.06808713844218822, 0.16613261779893926, 0.053107967984906815, 0.07489585228640705, 0.21651710024615856, 0.9376399887587842, 0.021105084092164526, 0.14019805861223578, 0.030150120131663606, 0.2834111292376379, 0.5200895722711972, 0.006030024026332722, 0.9544248319779379, 0.9791394691386973, 0.9707433385347505, 0.06774009357992437, 0.03483776241253254, 0.019354312451406966, 0.15289906836611503, 0.19160769326892896, 0.06580466233478369, 0.07548181856048716, 0.24192890564258707, 0.14902820587583362, 0.9461519776413495, 0.22446661895548242, 0.7675310196542302, 0.0069472374447476296, 0.2362060731214194, 0.7364071691432487, 0.013894474889495259, 0.0069472374447476296, 0.9571391886525511, 0.06374352432012786, 0.1912305729603836, 0.7436744504014918, 0.9996556929384548, 0.9659769847838325, 0.13079693215339466, 0.6087087996369521, 0.16601149081007785, 0.09055172226004246, 0.10226045618024157, 0.13944607660942032, 0.7623052187981645, 0.003586178223818339, 0.20799833698146367, 0.023310158454819204, 0.05558576246918426, 0.7082701992041219, 0.9693941337009195, 0.07528818363098594, 0.17985510534068863, 0.0501921224206573, 0.05437479928904541, 0.6064881459162756, 0.03346141494710486, 0.17309508691126235, 0.3461901738225247, 0.4796176366499561, 0.987746789795577, 0.9203994518133222, 0.06481686280375508, 0.9856772399655759, 0.0014882432306317726, 0.9971229645232875, 0.12831804187597395, 0.8725626847566228, 0.16994105666070208, 0.0657836348364008, 0.010963939139400133, 0.0657836348364008, 0.6962101353519085, 0.06452731949458555, 0.9162879368231148, 0.01290546389891711, 0.14967454236389027, 0.014158402656043673, 0.12944825285525643, 0.703874874900457, 0.13926523993194792, 0.1232577410891953, 0.10725024224644267, 0.18088473692310478, 0.2577207313683174, 0.04962324641253317, 0.06723149513956107, 0.07523524456093739, 0.006925794472152335, 0.24586570376140793, 0.006925794472152335, 0.03809186959683784, 0.4259363600373686, 0.0034628972360761677, 0.0969611226101327, 0.1731448618038084, 0.9826128662715111, 0.0206585640944794, 0.1962563588975543, 0.7746961535429775, 0.963891176179861, 0.991334790861636, 0.966275871246517, 0.06711618666086663, 0.9306777883640173, 0.10601946725581807, 0.13820394838704855, 0.43922350720267483, 0.07762139566943822, 0.09655344339369144, 0.058689347945184996, 0.047330119310633065, 0.03597089067608113, 0.9590536353406368, 0.9520075176529533, 0.9430850326911318, 0.2412484093494872, 0.10775762284277095, 0.2943230594063744, 0.04503303641190428, 0.0948910410107983, 0.004824968186989744, 0.21229860022754873, 0.006714110060661263, 0.8996907481286093, 0.08728343078859642, 0.9653626825169647, 0.9655090502173452, 0.5114690712207064, 0.1750563785428013, 0.12177835029064438, 0.0030444587572661095, 0.08220038644618495, 0.10351159774704773, 0.0015222293786330548, 0.7658698552892754, 0.20887359689707513, 0.013054599806067196, 0.00870306653737813, 0.9581598649809091, 0.03446618219355788, 0.1947363778369227, 0.7328237376494723, 0.06662033978631567, 0.0022412024333345365, 0.22187904090011912, 0.6678783251336918, 0.0022412024333345365, 0.011206012166672682, 0.020170821900010828, 0.07171847786670517, 0.9567176922878005, 0.7843130199247782, 0.07899555596364673, 0.13542095308053725, 0.9513003329948935, 0.9480302200480323, 0.967654827091415, 0.982518950709756, 0.9166005295714476, 0.07391939754608448, 0.9968338160073585, 0.9778170605925353, 0.23486052970178248, 0.26401562994062444, 0.03725373919407584, 0.18788842376142598, 0.046972105940356494, 0.021056461283608083, 0.14253604561211627, 0.06478911164187103, 0.9772397022703619, 0.9870429101522505, 0.00736599186680784, 0.9796436671669029, 0.9832056083956473, 0.9938298819493299, 0.9888326350721075, 0.9661182375796528, 0.9823979110539741, 0.9589724716020437, 0.9793640929931227, 0.04334808074248803, 0.09392084160872406, 0.3034365651974162, 0.4587671878579983, 0.03251106055686602, 0.061409781051858035, 0.0036123400618740024, 0.9586408209080067, 0.9962159732127047, 0.7657775984800425, 0.05927071195665964, 0.004741656956532771, 0.0972039676089218, 0.07112485434799157, 0.9882463549024381, 0.9014176558717177, 0.0039022409345096007, 0.08975154149372082, 0.9770263775372888, 0.14610376732721023, 0.14048439166077906, 0.5759860058091941, 0.13205532816113233, 0.05061247064954074, 0.0029772041558553375, 0.908047267535878, 0.035726449870264056, 0.965348965030833, 0.02540392013239034, 0.9788483319555332, 0.9853931593517609, 0.8873488691927407, 0.10681051203245953, 0.9862620012329614, 0.9926773996766288, 0.014754908370622277, 0.05410133069228168, 0.6787257850486247, 0.1770589004474673, 0.07377454185311139, 0.9467548655601236, 0.11391513096045698, 0.37971710320152324, 0.4990567642077163, 0.9890580326068595, 0.9840063044388686, 0.1148859126666062, 0.09573826055550516, 0.13403356477770723, 0.6414463457218845, 0.9852930122793446, 0.2375028081149817, 0.001892452654302643, 0.13152545947403368, 0.023655658178783037, 0.00662358429005925, 0.5980150387596351, 0.6222018115110939, 0.03345171029629537, 0.27430402442962204, 0.0635582495629612, 0.003345171029629537, 0.9731296492189726, 0.9891669752661487, 0.12852487290604825, 0.051409949162419304, 0.004284162430201608, 0.6854659888322574, 0.02998913701141126, 0.10281989832483861, 0.9543891907540606, 0.23055473307244767, 0.6399509880609061, 0.11850944223350114, 0.010773585657591012, 0.960325391853328, 0.9515493486867236, 0.03281204650643874, 0.01640602325321937, 0.9627212333413108, 0.12500616208433107, 0.10096651552965201, 0.0480792931093581, 0.026443611210146958, 0.0913506569077804, 0.6057990931779121, 0.9951393308620974, 0.966411441550346, 0.9658349262180758, 0.9580652166675803, 0.9826274619202013, 0.9963589150384735, 0.01172438600983706, 0.9789862318213945, 0.15694246582382917, 0.481407788425903, 0.0211607819088309, 0.001763398492402575, 0.12167449597577767, 0.0634823457264927, 0.13225488693019313, 0.0211607819088309, 0.7108445954235888, 0.050222715981014424, 0.23566043652629845, 0.0012150287965734792, 0.58321382235527, 0.057106353438953525, 0.021870518338322625, 0.058321382235527, 0.12514796604706835, 0.1458034555888175, 0.007290172779440875, 0.9614970867718761, 0.010565902052438198, 0.021131804104876396, 0.9644805621690076, 0.8977449150980819, 0.07481207625817349, 0.9190014810032866, 0.022056035544078877, 0.05146408293618405, 0.3159311371943699, 0.6108001985757818, 0.0692039633854334, 0.9917010833851319, 0.030288784493743105, 0.9389523193060362, 0.6718307289373049, 0.017281819393885657, 0.004320454848471414, 0.265707973180992, 0.034563638787771314, 0.004320454848471414, 0.1224211849945714, 0.10201765416214284, 0.7651324062160713, 0.37798132583602606, 0.12788841851594865, 0.4262947283864955, 0.0028419648559099703, 0.06536519168592932, 0.7644508057393975, 0.03474776389724534, 0.19111270143484937, 0.050521219502106224, 0.9486762328728835, 0.08701424210403971, 0.891895981566407, 0.10338546645221082, 0.04578499228597908, 0.15950900538341098, 0.2451712490152428, 0.30867946412160086, 0.07680063222164232, 0.05169273322610541, 0.008861611410189499, 0.9922525676414838, 0.004572592477610524, 0.3730252255334418, 0.06769183629371338, 0.001440251836036455, 0.5127296536289779, 0.00288050367207291, 0.04032705140902074, 0.9812188448827311, 0.07047345934521691, 0.6812434403370968, 0.2407843194294911, 0.9400304149806011, 0.956156476900531, 0.9514609275497619, 0.9843611096054283, 0.9574613174585879, 0.983544231636913, 0.9780395519469254, 0.005927512436041972, 0.005927512436041972, 0.9984630382806029, 0.1196401983688398, 0.8773614547048252, 0.0930292761514809, 0.8915305631183587, 0.0077524396792900754, 0.008886395529080967, 0.5716914457042089, 0.1688415150525384, 0.24585694297124008, 0.002962131843026989, 0.012244902363103388, 0.27142866904879176, 0.07551023123913755, 0.2938776567144813, 0.1040816700863788, 0.07346941417862032, 0.10204085302586156, 0.06734696299706863, 0.10287667070360478, 0.5658216888698263, 0.11144972659557184, 0.05143833535180239, 0.16717458989335776, 0.946367652802808, 0.9713987166213746, 0.9508733154368684, 0.9873008946422174, 0.06960521591472467, 0.5104382500413142, 0.042536520836776184, 0.3750947746515718, 0.9493044541690264, 0.7910380151926257, 0.19032493598619568, 0.017842962748705844, 0.15520232002137352, 0.1619502469788245, 0.2519226064115048, 0.008997235943268029, 0.022493089858170074, 0.08772305044686328, 0.12146268523411839, 0.1889419548086286, 0.0022493089858170072, 0.19414632495304104, 0.10454032882086825, 0.09856659574539006, 0.06272419729252095, 0.4301087814344294, 0.07467166344347732, 0.02986866537739093, 0.9877931182408708, 0.6475698790487349, 0.2612355762071601, 0.018396871563884514, 0.003679374312776903, 0.06990811194276116, 0.16787983170772544, 0.12590987378079407, 0.458172040702334, 0.22733727210421154, 0.017487482469554734, 0.10799677218453638, 0.8879734601839657, 0.8442833427042158, 0.11067384642190095, 0.009486329693305796, 0.03162109897768599, 0.9903997165638646, 0.9831873458547509, 0.9863729020611502, 0.9829523139910936, 0.9932809702309445, 0.013208872959924003, 0.07925323775954402, 0.8982033612748322, 0.7855805882659787, 0.20866984375815056, 0.01721741825059663, 0.1291306368794747, 0.6456531843973735, 0.20660901900715953, 0.054354903988148906, 0.0857135024428502, 0.0752606362912831, 0.129615540279432, 0.07317006306096968, 0.28431795932262505, 0.29477082547419214, 0.16213672207236804, 0.8218654532633829, 0.016772764352313937, 0.964197841617313, 0.025711942443128348, 0.48196049313104944, 0.10174721521655487, 0.058906282493794926, 0.18385900293517812, 0.16243853657379814, 0.010710233180689987, 0.0017850388634483311, 0.972249945194643, 0.24935069070574606, 0.14307006843772313, 0.6070258618000539, 0.9939897562741404, 0.3797268621677215, 0.07458920506865958, 0.354298724076133, 0.04068502094654159, 0.0016952092061058995, 0.14917841013731917, 0.0020921927152227782, 0.05021262516534668, 0.08996428675457946, 0.4100697721836645, 0.12971594834381225, 0.07950332317846558, 0.1924817298004956, 0.0020921927152227782, 0.04602823973490112, 0.927768704147222, 0.06923647045874791, 0.9869100023240546, 0.15888526854502238, 0.1508607600326475, 0.046542149371774234, 0.13641664471037274, 0.3450538660321193, 0.12197252938809798, 0.03691273915692439, 0.003209803404949947, 0.0016049017024749735, 0.17052002490322285, 0.022436845382003006, 0.08974738152801202, 0.04936105984040662, 0.5519463963972739, 0.11667159598641565, 0.9392297594766833, 0.043349065822000765, 0.22939271741500894, 0.7691402878032653, 0.9766291314914335, 0.22038113229811873, 0.7757415856893779, 0.9882811621757717, 0.008984374201597924, 0.9908556420314028, 0.05706795245916399, 0.01902265081972133, 0.06657927786902465, 0.02377831352465166, 0.8322409733628082, 0.961953199344934, 0.030061037479529186, 0.11329385247137215, 0.045317540988548864, 0.8327098156645854, 0.01650505233315969, 0.7757374596585055, 0.049515156999479074, 0.005501684111053231, 0.12103705044317106, 0.030259262610792766, 0.01685564176658022, 0.14929282707542482, 0.11076564589467003, 0.469550020640449, 0.09631795295188697, 0.08187026000910393, 0.07464641353771241, 0.9892313097950002, 0.010094197038724492, 0.9719967018957603, 0.13050633889202662, 0.61202972721778, 0.2520122406190859, 0.9544217712955451, 0.9586566629450975, 0.958169186878017, 0.027958958230979093, 0.09678100926108148, 0.1817332285013641, 0.132267379323478, 0.13334272387082335, 0.132267379323478, 0.10968514382922567, 0.10538376563984427, 0.07957549650355587, 0.12343058350544164, 0.06004731089453918, 0.026687693730906303, 0.14678231551998466, 0.09340692805817205, 0.13343846865453152, 0.020015770298179726, 0.39030752081450465, 0.003335961716363288, 0.46802596264757257, 0.10940866659293903, 0.08306954315389815, 0.0303912962758164, 0.30593904917655174, 0.9691828966025026, 0.07228154107323578, 0.08095532600202408, 0.06649901778737692, 0.12432425064596556, 0.1937145300762719, 0.18793200679041305, 0.18793200679041305, 0.0737271718947005, 0.014456308214647157, 0.05961152845117029, 0.9339139457350013, 0.12787611875709942, 0.020685842740119025, 0.003761062316385277, 0.6675885611583866, 0.0018805311581926384, 0.176769928870108, 0.981722052308269, 0.21199778623175025, 0.10185368500519844, 0.0367147004088506, 0.020133867966143876, 0.11606582709894706, 0.5128214605494293, 0.09062984072839969, 0.8911934338292636, 0.033465291511132866, 0.05628253572326892, 0.11256507144653784, 0.09583242569097139, 0.16428415832737953, 0.24642623749106932, 0.16428415832737953, 0.0973535753051138, 0.030422992282848064, 0.12080535076631749, 0.0909030362201993, 0.003588277745534183, 0.0909030362201993, 0.4198284962274994, 0.13515846174845422, 0.022725759055049824, 0.10884442494787021, 0.008372648072913094, 0.9697352084255734, 0.003160515526473998, 0.9955623908393094, 0.026195059496851813, 0.9692172013835171, 0.8946533641282401, 0.0725394619563438, 0.9750212123309075, 0.9623586198808772, 0.41713224397291165, 0.20022347710699762, 0.08342644879458233, 0.08898821204755449, 0.05561763252972156, 0.15294848945673428, 0.1557232913251333, 0.7163271400956132, 0.1193878566826022, 0.9603462688384196, 0.9785848669579202, 0.005985402893296863, 0.10773725207934352, 0.8798542253146387, 0.01246852689005863, 0.673300452063166, 0.19326216679590877, 0.03740558067017589, 0.0810454247853811, 0.046188199371846414, 0.5933407150075655, 0.1740939822477288, 0.06750582985116015, 0.11369402922300656, 0.7594378551224727, 0.023013268337044628, 0.20711941503340167, 0.007671089445681543, 0.009260406703854562, 0.08334366033469105, 0.8380668066988378, 0.06482284692698193, 0.966678404182946, 0.7447049143927815, 0.014157888106326644, 0.16139992441212375, 0.07928417339542922, 0.7442252056253953, 0.0041810404810415465, 0.041810404810415466, 0.07525872865874783, 0.041810404810415466, 0.09198289058291402, 0.2296349004536474, 0.2768495528833693, 0.03863017016977246, 0.045068531864734536, 0.3669866166128384, 0.004292241129974718, 0.0364840496047851, 0.9592190459902941, 0.9811152954334064, 0.9963779015571761, 0.003299264574692636, 0.987268315768607, 0.07919029656779826, 0.06929150949682349, 0.8117005398199322, 0.02474696767743696, 0.01237348383871848, 0.20347753708223015, 0.7927145715495216, 0.9693616677231404, 0.3498256323265087, 0.0029899626694573395, 0.06727416006279013, 0.5755678138705378, 0.0029899626694573395, 0.0014949813347286697, 0.09102541641930652, 0.8937040884804639, 0.002068759464075148, 0.004137518928150296, 0.006206278392225444, 0.20607254217352736, 0.008586355923896973, 0.008586355923896973, 0.777065211112676, 0.17537999755003436, 0.0282870963790378, 0.7694090215098282, 0.022629677103230238, 0.12605243453144005, 0.0012732569144589905, 0.006366284572294953, 0.8645414449176546, 0.9935778677247543, 0.9971197406207508, 0.9977119301484165, 0.9903414501074801, 0.2793329081558129, 0.03420402957009954, 0.12541477509036497, 0.5586658163116258, 0.8378330580989989, 0.1554350922265111, 0.00379109981040271, 0.9990489481238314, 0.973095908673361, 0.10907880341709068, 0.8558490729648653, 0.02517203155779016, 0.9757981991350105, 0.06110535586203188, 0.0008147380781604251, 0.6297925344180086, 0.0024442142344812752, 0.021997928110331477, 0.06843799856547571, 0.016294761563208502, 0.05540218931490891, 0.14339390175623482, 0.9620073261423772, 0.033983954456116586, 0.08535190719997413, 0.03243372473599017, 0.04779706803198551, 0.06486744947198034, 0.25946979788792135, 0.13314897523195965, 0.2560557215999224, 0.10583636492796791, 0.015363343295995343, 0.9491389759324856, 0.9827354008798975, 0.5769890837084626, 0.2900884343506635, 0.1306991847074418, 0.0031877849928644343, 0.07369488510577349, 0.05404291574423389, 0.6337760119096519, 0.24073662467886006, 0.9753464120734504, 0.10467143183644417, 0.4468950494009886, 0.07720446036163259, 0.01336231044720564, 0.11580669054244887, 0.06458450049482725, 0.04825278772602037, 0.06235744875362632, 0.0668115522360282, 0.9794408096526837, 0.011489041755456699, 0.0057445208777283496, 0.08660957452137528, 0.8115637908854795, 0.10157913061148953, 0.04440105362002563, 0.00986690080445014, 0.10853590884895155, 0.6906830563115098, 0.13813661126230195, 0.00986690080445014, 0.713307861281987, 0.103643022579434, 0.18289945161076587, 0.10529795093002375, 0.8950325829052019, 0.050969566523884964, 0.2004802949939475, 0.22879672084055028, 0.09287787677685705, 0.13591884406369323, 0.154041356605519, 0.11213304635254692, 0.018122512541825765, 0.005663285169320551, 0.04208370870317249, 0.009902049106628822, 0.12625112610951747, 0.386179915158524, 0.06931434374640175, 0.33914518190203713, 0.02723063504322926, 0.19356194388039807, 0.12752316302708577, 0.11841436566800823, 0.002277199339769389, 0.056929983494234726, 0.02504919273746328, 0.38712388776079615, 0.08197917623169801, 0.004554398679538778, 0.984413255982263], \"Term\": [\"1217\", \"15th\", \"2021\", \"2021\", \"2021\", \"2021\", \"2021\", \"accomplishment\", \"ache\", \"ache\", \"achieve\", \"achieve\", \"achieve\", \"achy\", \"activate\", \"actor\", \"actually\", \"actually\", \"actually\", \"actually\", \"actually\", \"actually\", \"actually\", \"actually\", \"adverse\", \"advice\", \"advice\", \"advice\", \"affect\", \"affect\", \"affect\", \"aged\", \"aged\", \"alphabet\", \"amazing\", \"amazing\", \"amazing\", \"amazing\", \"amazing\", \"amazing\", \"amber\", \"announce\", \"announce\", \"announce\", \"answer\", \"antiscience\", \"anxious\", \"appointment\", \"approve\", \"approve\", \"approve\", \"approve\", \"argue\", \"arkansas\", \"arrive\", \"arrive\", \"arrive\", \"arrive\", \"association\", \"association\", \"astra\", \"astra\", \"athlete\", \"attack\", \"attack\", \"aunt\", \"australia\", \"australia\", \"australia\", \"available\", \"available\", \"available\", \"available\", \"available\", \"avoidable\", \"avoidable\", \"bang\", \"barely\", \"basically\", \"believe\", \"believe\", \"believe\", \"believe\", \"believe\", \"bharat\", \"biden\", \"biden\", \"biden\", \"biden\", \"biden\", \"biden\", \"biontech\", \"biotech\", \"birth\", \"bitch\", \"blood\", \"blood\", \"blood\", \"body\", \"body\", \"book\", \"book\", \"booking\", \"booking\", \"booster\", \"booster\", \"booster\", \"booster\", \"booster\", \"booster\", \"booster\", \"brain\", \"brain\", \"brain\", \"breakthrough\", \"brief\", \"brilliant\", \"brilliant\", \"bunch\", \"camp\", \"camp\", \"canada\", \"canada\", \"canadian\", \"canadian\", \"canadian\", \"care\", \"care\", \"case\", \"case\", \"case\", \"catch\", \"catch\", \"catch\", \"catch\", \"catch\", \"catch\", \"catch\", \"cause\", \"cause\", \"cause\", \"cause\", \"cause\", \"cause\", \"cent\", \"centre\", \"centre\", \"centre\", \"centre\", \"change\", \"change\", \"change\", \"change\", \"change\", \"change\", \"change\", \"change\", \"check\", \"check\", \"check\", \"check\", \"check\", \"cheer\", \"cheer\", \"chicken\", \"child\", \"child\", \"child\", \"child\", \"child\", \"child\", \"child\", \"chill\", \"choice\", \"choose\", \"choose\", \"choose\", \"choose\", \"choose\", \"choose\", \"choose\", \"circulate\", \"citizen\", \"citizen\", \"citizen\", \"clinic\", \"clinic\", \"clinical\", \"close\", \"close\", \"close\", \"close\", \"close\", \"close\", \"clot\", \"cocktail\", \"coincidence\", \"college\", \"college\", \"colorado\", \"come\", \"come\", \"come\", \"come\", \"come\", \"come\", \"come\", \"come\", \"come\", \"comment\", \"comment\", \"comment\", \"commission\", \"commitment\", \"committee\", \"common\", \"community\", \"community\", \"community\", \"community\", \"community\", \"community\", \"company\", \"company\", \"company\", \"complete\", \"complete\", \"compulsory\", \"conduct\", \"confused\", \"conspiracy\", \"conspiracy\", \"constituent\", \"contagious\", \"continue\", \"continue\", \"continue\", \"continue\", \"continue\", \"continue\", \"continue\", \"contribution\", \"conversation\", \"conversation\", \"corona\", \"corona\", \"coronavirus\", \"coronavirus\", \"coronavirus\", \"country\", \"country\", \"country\", \"country\", \"country\", \"country\", \"country\", \"country\", \"countrys\", \"cov2\", \"covaxin\", \"covaxin\", \"covaxin\", \"covishield\", \"covishield\", \"covishield\", \"cowin\", \"cowin\", \"create\", \"create\", \"create\", \"credit\", \"credit\", \"credit\", \"crore\", \"crore\", \"crore\", \"cult\", \"curve\", \"dame\", \"damn\", \"damn\", \"damn\", \"damn\", \"data\", \"date\", \"date\", \"date\", \"datum\", \"datum\", \"datum\", \"datum\", \"datum\", \"datum\", \"datum\", \"dcgi\", \"dead\", \"dead\", \"dead\", \"dead\", \"dead\", \"death\", \"death\", \"death\", \"death\", \"death\", \"death\", \"debate\", \"decrease\", \"dedication\", \"deeply\", \"defense\", \"delight\", \"delta\", \"detail\", \"detail\", \"digital\", \"digital\", \"disagree\", \"disease\", \"disease\", \"distance\", \"distancing\", \"distribute\", \"doctor\", \"doctor\", \"doctor\", \"doctor\", \"donation\", \"door\", \"dosage\", \"dose\", \"double\", \"double\", \"doze\", \"drive\", \"drive\", \"drive\", \"drive\", \"drive\", \"drive\", \"dropin\", \"dumb\", \"dumb\", \"dumb\", \"dust\", \"east\", \"east\", \"edition\", \"effect\", \"effect\", \"effect\", \"effect\", \"effective\", \"effective\", \"efficacy\", \"efficacy\", \"efficacy\", \"efficient\", \"effort\", \"effort\", \"effort\", \"effort\", \"effort\", \"effort\", \"effort\", \"employee\", \"employee\", \"employee\", \"england\", \"england\", \"enjoy\", \"enjoy\", \"enjoy\", \"enter\", \"enter\", \"enter\", \"entry\", \"equitable\", \"evil\", \"excess\", \"expert\", \"expert\", \"expert\", \"expert\", \"expose\", \"expose\", \"exposure\", \"face\", \"face\", \"face\", \"face\", \"face\", \"face\", \"face\", \"factory\", \"family\", \"family\", \"family\", \"family\", \"family\", \"family\", \"fast\", \"fast\", \"fast\", \"fast\", \"fast\", \"fast\", \"favor\", \"fear\", \"fear\", \"fear\", \"fear\", \"fear\", \"february\", \"feel\", \"feel\", \"feel\", \"feel\", \"feel\", \"feel\", \"fertility\", \"fever\", \"fight\", \"fight\", \"fight\", \"fight\", \"fight\", \"fighting\", \"final\", \"final\", \"final\", \"finally\", \"finally\", \"finally\", \"finally\", \"find\", \"find\", \"find\", \"find\", \"find\", \"find\", \"find\", \"find\", \"fine\", \"fine\", \"fine\", \"fine\", \"fine\", \"flag\", \"flight\", \"flight\", \"flight\", \"follow\", \"follow\", \"follow\", \"follow\", \"follow\", \"follow\", \"follow\", \"forward\", \"forward\", \"forward\", \"forward\", \"forward\", \"forward\", \"free\", \"free\", \"free\", \"free\", \"free\", \"free\", \"free\", \"free\", \"friday\", \"friday\", \"friday\", \"friday\", \"friday\", \"friend\", \"friend\", \"friend\", \"friend\", \"friend\", \"friend\", \"friend\", \"friendly\", \"frontline\", \"frontline\", \"fuck\", \"fuck\", \"fuck\", \"fuck\", \"fucking\", \"fucking\", \"fucking\", \"gang\", \"gathering\", \"gene\", \"girl\", \"good\", \"good\", \"good\", \"good\", \"good\", \"good\", \"google\", \"government\", \"government\", \"government\", \"government\", \"government\", \"government\", \"government\", \"govt\", \"govt\", \"govt\", \"govt\", \"grab\", \"grateful\", \"grateful\", \"grateful\", \"grateful\", \"grateful\", \"grateful\", \"grateful\", \"great\", \"great\", \"great\", \"great\", \"great\", \"great\", \"great\", \"great\", \"greek\", \"group\", \"group\", \"group\", \"group\", \"group\", \"group\", \"group\", \"hand\", \"hand\", \"hand\", \"hand\", \"hand\", \"hand\", \"hand\", \"hand\", \"happen\", \"happen\", \"happen\", \"happen\", \"happen\", \"happen\", \"happen\", \"happen\", \"happen\", \"happy\", \"happy\", \"happy\", \"happy\", \"happy\", \"happy\", \"hard\", \"hard\", \"hard\", \"hard\", \"hard\", \"hard\", \"harm\", \"hate\", \"headache\", \"healthcare\", \"healthcare\", \"healthcare\", \"healthcare\", \"healthy\", \"healthy\", \"healthy\", \"healthy\", \"hear\", \"hear\", \"hear\", \"hear\", \"hear\", \"hear\", \"hear\", \"hear\", \"hear\", \"heart\", \"heart\", \"hell\", \"hell\", \"help\", \"help\", \"help\", \"help\", \"help\", \"help\", \"help\", \"help\", \"helping\", \"herd\", \"hero\", \"hero\", \"hesitancy\", \"hesitancy\", \"hesitancy\", \"hesitancy\", \"hesitancy\", \"high\", \"high\", \"high\", \"high\", \"high\", \"high\", \"high\", \"home\", \"home\", \"home\", \"home\", \"home\", \"home\", \"hope\", \"hope\", \"hope\", \"hope\", \"hope\", \"hope\", \"hope\", \"hope\", \"hope\", \"hopefully\", \"hopefully\", \"hopefully\", \"horror\", \"hospital\", \"hospital\", \"hospital\", \"hospital\", \"hospital\", \"hospital\", \"hospital\", \"hospital\", \"hospital\", \"hospitalisation\", \"hospitalization\", \"hospitalization\", \"host\", \"host\", \"host\", \"hour\", \"hour\", \"hour\", \"hour\", \"hour\", \"hour\", \"house\", \"house\", \"house\", \"house\", \"house\", \"hubby\", \"idiot\", \"idiot\", \"idiot\", \"idiot\", \"idiot\", \"idiot\", \"ignorance\", \"ignorance\", \"ignorance\", \"illness\", \"immediate\", \"immune\", \"immune\", \"immune\", \"immunisation\", \"immunity\", \"import\", \"important\", \"important\", \"important\", \"important\", \"important\", \"important\", \"incentive\", \"increase\", \"increase\", \"increase\", \"increase\", \"increase\", \"increase\", \"incredible\", \"incredible\", \"incredible\", \"india\", \"indonesia\", \"indoor\", \"indoor\", \"indoor\", \"infection\", \"infection\", \"infection\", \"infectious\", \"infectious\", \"inflammation\", \"information\", \"information\", \"information\", \"information\", \"injection\", \"injection\", \"injection\", \"injection\", \"injection\", \"investigation\", \"invitation\", \"jabbed\", \"japan\", \"javid\", \"johnson\", \"johnson\", \"joke\", \"journal\", \"july\", \"july\", \"july\", \"july\", \"july\", \"july\", \"july\", \"june\", \"june\", \"june\", \"june\", \"june\", \"kenya\", \"kill\", \"kill\", \"kill\", \"kill\", \"kill\", \"knock\", \"label\", \"lakh\", \"lambda\", \"language\", \"left\", \"leisure\", \"life\", \"life\", \"life\", \"life\", \"life\", \"life\", \"life\", \"line\", \"line\", \"line\", \"line\", \"line\", \"live\", \"live\", \"live\", \"live\", \"live\", \"live\", \"live\", \"live\", \"live\", \"location\", \"location\", \"london\", \"london\", \"long\", \"long\", \"long\", \"long\", \"long\", \"long\", \"long\", \"long\", \"long\", \"longerterm\", \"look\", \"look\", \"look\", \"look\", \"look\", \"look\", \"look\", \"look\", \"look\", \"loose\", \"love\", \"love\", \"love\", \"love\", \"love\", \"love\", \"machine\", \"magic\", \"maintain\", \"make\", \"make\", \"make\", \"make\", \"make\", \"make\", \"make\", \"make\", \"make\", \"mama\", \"mandate\", \"mandate\", \"mandatory\", \"mandatory\", \"mandatory\", \"mandatory\", \"mandatory\", \"manufacturing\", \"mark\", \"mark\", \"mark\", \"mask\", \"massachusetts\", \"maybe\", \"maybe\", \"maybe\", \"maybe\", \"measure\", \"measure\", \"measure\", \"medical\", \"medical\", \"medical\", \"medical\", \"medical\", \"medicare\", \"medium\", \"medium\", \"medium\", \"medium\", \"medium\", \"medium\", \"member\", \"member\", \"member\", \"michigan\", \"milestone\", \"milestone\", \"military\", \"million\", \"million\", \"minister\", \"minister\", \"minute\", \"minute\", \"minute\", \"minute\", \"minute\", \"mobile\", \"mobile\", \"mobile\", \"moderna\", \"moderna\", \"moderna\", \"moderna\", \"month\", \"month\", \"month\", \"month\", \"month\", \"month\", \"month\", \"month\", \"morning\", \"morning\", \"morning\", \"morning\", \"morning\", \"morning\", \"morning\", \"morning\", \"morrison\", \"move\", \"move\", \"move\", \"muscle\", \"mutation\", \"nausea\", \"near\", \"near\", \"need\", \"need\", \"need\", \"need\", \"need\", \"need\", \"need\", \"need\", \"neil\", \"nephew\", \"newham\", \"news\", \"news\", \"news\", \"news\", \"news\", \"news\", \"news\", \"nice\", \"nice\", \"nice\", \"niece\", \"nope\", \"number\", \"number\", \"number\", \"number\", \"number\", \"number\", \"number\", \"nurse\", \"nurse\", \"nurse\", \"nurse\", \"officially\", \"officially\", \"online\", \"online\", \"online\", \"open\", \"open\", \"open\", \"open\", \"open\", \"open\", \"open\", \"opposition\", \"order\", \"order\", \"order\", \"organ\", \"outdoors\", \"outweigh\", \"overtake\", \"page\", \"page\", \"pain\", \"pakistan\", \"pandemic\", \"pandemic\", \"pandemic\", \"pandemic\", \"pandemic\", \"pandemic\", \"pandemic\", \"pandemic\", \"panic\", \"park\", \"park\", \"patriotic\", \"peak\", \"percent\", \"personally\", \"petition\", \"pfizerbiontech\", \"pfizere\", \"pharmacist\", \"place\", \"place\", \"place\", \"place\", \"place\", \"place\", \"place\", \"plane\", \"plus\", \"population\", \"population\", \"population\", \"population\", \"population\", \"popup\", \"positive\", \"positive\", \"positive\", \"positivity\", \"possible\", \"possible\", \"possible\", \"possible\", \"post\", \"post\", \"post\", \"post\", \"potentially\", \"potentially\", \"pradesh\", \"pretend\", \"prevent\", \"prevent\", \"previous\", \"prime\", \"problem\", \"problem\", \"problem\", \"problem\", \"problem\", \"procedure\", \"process\", \"process\", \"process\", \"production\", \"profit\", \"progress\", \"progress\", \"progress\", \"progress\", \"project\", \"protect\", \"protect\", \"protect\", \"protect\", \"protect\", \"protect\", \"protection\", \"protection\", \"protection\", \"protection\", \"protection\", \"protein\", \"protest\", \"proud\", \"proud\", \"proud\", \"proud\", \"proud\", \"proud\", \"proudly\", \"public\", \"public\", \"public\", \"public\", \"publicly\", \"publish\", \"publish\", \"publish\", \"pune\", \"question\", \"question\", \"question\", \"question\", \"question\", \"question\", \"queue\", \"quiet\", \"quote\", \"ramaphosa\", \"rapidly\", \"rate\", \"reaction\", \"reaction\", \"read\", \"read\", \"read\", \"read\", \"read\", \"read\", \"read\", \"read\", \"ready\", \"ready\", \"ready\", \"receive\", \"receive\", \"receive\", \"receive\", \"receive\", \"receive\", \"receive\", \"receive\", \"recent\", \"recent\", \"recent\", \"reception\", \"recommendation\", \"recommendation\", \"reduce\", \"reduce\", \"reduce\", \"register\", \"register\", \"register\", \"registration\", \"repeat\", \"repeat\", \"report\", \"report\", \"report\", \"report\", \"report\", \"report\", \"request\", \"request\", \"request\", \"require\", \"require\", \"require\", \"require\", \"require\", \"responsible\", \"responsible\", \"responsible\", \"rest\", \"rest\", \"retweet\", \"retweet\", \"right\", \"right\", \"right\", \"right\", \"right\", \"right\", \"right\", \"right\", \"rise\", \"rise\", \"risk\", \"risk\", \"risk\", \"risk\", \"risk\", \"risk\", \"role\", \"roll\", \"roll\", \"roll\", \"rtpcr\", \"ruin\", \"rumour\", \"sadly\", \"sajid\", \"sarscov2\", \"saturday\", \"saturday\", \"saturday\", \"save\", \"scare\", \"scare\", \"schedule\", \"schedule\", \"schedule\", \"school\", \"school\", \"school\", \"school\", \"school\", \"science\", \"science\", \"science\", \"science\", \"science\", \"science\", \"science\", \"science\", \"scientist\", \"scientist\", \"scientist\", \"scientist\", \"scientist\", \"secret\", \"sefton\", \"selection\", \"selfie\", \"service\", \"service\", \"service\", \"service\", \"setting\", \"severe\", \"severe\", \"severe\", \"share\", \"share\", \"share\", \"share\", \"share\", \"share\", \"share\", \"share\", \"share\", \"shot\", \"shot\", \"shot\", \"shot\", \"shot\", \"shot\", \"shot\", \"shoulder\", \"show\", \"show\", \"show\", \"show\", \"show\", \"sick\", \"sick\", \"sick\", \"sick\", \"sick\", \"sinovac\", \"sinovac\", \"site\", \"site\", \"site\", \"site\", \"sleep\", \"sleeve\", \"slight\", \"slightly\", \"slot\", \"smallpox\", \"smallpox\", \"smallpox\", \"smile\", \"smile\", \"social\", \"social\", \"social\", \"social\", \"soon\", \"soon\", \"soon\", \"soon\", \"soon\", \"soon\", \"soon\", \"sore\", \"sore\", \"sore\", \"sound\", \"sound\", \"spread\", \"spread\", \"spread\", \"spread\", \"spread\", \"spread\", \"spread\", \"stab\", \"staff\", \"staff\", \"staff\", \"starve\", \"state\", \"state\", \"state\", \"state\", \"state\", \"state\", \"stay\", \"stay\", \"stay\", \"stay\", \"stay\", \"stay\", \"stay\", \"stay\", \"stay\", \"stick\", \"stick\", \"sticker\", \"stop\", \"stop\", \"stop\", \"stop\", \"stop\", \"stop\", \"stop\", \"stop\", \"stop\", \"story\", \"story\", \"story\", \"story\", \"story\", \"story\", \"strategy\", \"strategy\", \"strengthen\", \"strengthen\", \"stroke\", \"student\", \"student\", \"study\", \"study\", \"successful\", \"summer\", \"summer\", \"summer\", \"summer\", \"summer\", \"sunday\", \"sunday\", \"super\", \"super\", \"super\", \"support\", \"support\", \"support\", \"support\", \"support\", \"support\", \"sure\", \"sure\", \"sure\", \"sure\", \"sure\", \"sure\", \"sure\", \"surge\", \"surge\", \"sympathy\", \"symptom\", \"symptom\", \"symptom\", \"symptomatic\", \"syringe\", \"taiwan\", \"take\", \"take\", \"take\", \"take\", \"take\", \"take\", \"take\", \"take\", \"take\", \"talk\", \"talk\", \"talk\", \"talk\", \"talk\", \"talk\", \"talk\", \"talk\", \"talk\", \"team\", \"team\", \"team\", \"team\", \"team\", \"tear\", \"tell\", \"tell\", \"tell\", \"tell\", \"tell\", \"tell\", \"tell\", \"tell\", \"tell\", \"term\", \"term\", \"test\", \"test\", \"test\", \"test\", \"test\", \"test\", \"text\", \"thank\", \"thank\", \"thank\", \"thank\", \"thank\", \"thank\", \"theory\", \"theory\", \"thing\", \"thing\", \"thing\", \"thing\", \"thing\", \"thing\", \"thing\", \"thing\", \"thing\", \"think\", \"think\", \"think\", \"think\", \"think\", \"think\", \"think\", \"think\", \"think\", \"throat\", \"tomorrow\", \"tomorrow\", \"touch\", \"touch\", \"tough\", \"tough\", \"tourism\", \"transmissible\", \"travel\", \"travel\", \"travel\", \"travel\", \"travel\", \"travel\", \"trial\", \"trial\", \"trial\", \"trigger\", \"troop\", \"true\", \"true\", \"true\", \"trump\", \"trump\", \"trump\", \"trump\", \"trump\", \"trust\", \"trust\", \"trust\", \"trust\", \"trust\", \"truth\", \"truth\", \"truth\", \"truth\", \"tweet\", \"tweet\", \"tweet\", \"tweet\", \"unit\", \"unvaccinate\", \"unvaccinate\", \"unvaccinate\", \"unvaccinate\", \"unvaccinated\", \"unvaccinated\", \"unvaccinated\", \"unvaccinated\", \"unvaccinated\", \"unvaccinated\", \"vaccinate\", \"vaccinate\", \"vaccinate\", \"vaccinate\", \"vaccinate\", \"vaccinate\", \"vaccinate\", \"vaccinator\", \"vaer\", \"variant\", \"variant\", \"vaxx\", \"vaxxe\", \"vaxxe\", \"vaxxe\", \"vaxxe\", \"vaxxe\", \"video\", \"video\", \"virtual\", \"virus\", \"virus\", \"virus\", \"virus\", \"virus\", \"virus\", \"visit\", \"visit\", \"visit\", \"visit\", \"visit\", \"volunteer\", \"volunteer\", \"volunteer\", \"volunteer\", \"vulnerable\", \"vulnerable\", \"vulnerable\", \"vulnerable\", \"wait\", \"wait\", \"wait\", \"wait\", \"wake\", \"walk\", \"walkin\", \"wash\", \"watch\", \"watch\", \"watch\", \"watch\", \"wave\", \"wave\", \"wave\", \"wear\", \"webinar\", \"website\", \"website\", \"website\", \"weed\", \"week\", \"week\", \"week\", \"week\", \"week\", \"week\", \"week\", \"week\", \"week\", \"weekend\", \"weekend\", \"well\", \"well\", \"well\", \"well\", \"well\", \"well\", \"well\", \"well\", \"well\", \"wimbledon\", \"wise\", \"woman\", \"woman\", \"woman\", \"woman\", \"wonder\", \"wonder\", \"wonder\", \"wonder\", \"woohoo\", \"work\", \"work\", \"work\", \"work\", \"work\", \"work\", \"work\", \"work\", \"work\", \"worker\", \"worker\", \"worker\", \"world\", \"world\", \"world\", \"worry\", \"worry\", \"worry\", \"worry\", \"worry\", \"worry\", \"worth\", \"worth\", \"worth\", \"yeah\", \"yeah\", \"year\", \"year\", \"year\", \"year\", \"year\", \"year\", \"year\", \"year\", \"year\", \"yesterday\", \"yesterday\", \"yesterday\", \"yesterday\", \"yesterday\", \"yesterday\", \"yesterday\", \"young\", \"young\", \"young\", \"young\", \"young\", \"young\", \"young\", \"young\", \"young\", \"zeneca\"]}, \"R\": 30, \"lambda.step\": 0.01, \"plot.opts\": {\"xlab\": \"PC1\", \"ylab\": \"PC2\"}, \"topic.order\": [4, 5, 3, 2, 8, 9, 6, 7, 1]};\n",
       "\n",
       "function LDAvis_load_lib(url, callback){\n",
       "  var s = document.createElement('script');\n",
       "  s.src = url;\n",
       "  s.async = true;\n",
       "  s.onreadystatechange = s.onload = callback;\n",
       "  s.onerror = function(){console.warn(\"failed to load library \" + url);};\n",
       "  document.getElementsByTagName(\"head\")[0].appendChild(s);\n",
       "}\n",
       "\n",
       "if(typeof(LDAvis) !== \"undefined\"){\n",
       "   // already loaded: just create the visualization\n",
       "   !function(LDAvis){\n",
       "       new LDAvis(\"#\" + \"ldavis_el1055223810428948803489514324\", ldavis_el1055223810428948803489514324_data);\n",
       "   }(LDAvis);\n",
       "}else if(typeof define === \"function\" && define.amd){\n",
       "   // require.js is available: use it to load d3/LDAvis\n",
       "   require.config({paths: {d3: \"https://d3js.org/d3.v5\"}});\n",
       "   require([\"d3\"], function(d3){\n",
       "      window.d3 = d3;\n",
       "      LDAvis_load_lib(\"https://cdn.jsdelivr.net/gh/bmabey/pyLDAvis@3.3.1/pyLDAvis/js/ldavis.v3.0.0.js\", function(){\n",
       "        new LDAvis(\"#\" + \"ldavis_el1055223810428948803489514324\", ldavis_el1055223810428948803489514324_data);\n",
       "      });\n",
       "    });\n",
       "}else{\n",
       "    // require.js not available: dynamically load d3 & LDAvis\n",
       "    LDAvis_load_lib(\"https://d3js.org/d3.v5.js\", function(){\n",
       "         LDAvis_load_lib(\"https://cdn.jsdelivr.net/gh/bmabey/pyLDAvis@3.3.1/pyLDAvis/js/ldavis.v3.0.0.js\", function(){\n",
       "                 new LDAvis(\"#\" + \"ldavis_el1055223810428948803489514324\", ldavis_el1055223810428948803489514324_data);\n",
       "            })\n",
       "         });\n",
       "}\n",
       "</script>"
      ],
      "text/plain": [
       "<IPython.core.display.HTML object>"
      ]
     },
     "execution_count": 52,
     "metadata": {},
     "output_type": "execute_result"
    }
   ],
   "source": [
    "multi_lda_final_notts = gensim.models.LdaMulticore(corpus = corpus,\n",
    "                         id2word = id2word,\n",
    "                         random_state = 42,\n",
    "                         num_topics = 9,\n",
    "                         passes=10,\n",
    "                         chunksize=512,\n",
    "                         alpha=0.05,\n",
    "                         offset=64,\n",
    "                         eta=None,\n",
    "                         iterations=100,\n",
    "                         per_word_topics=True,\n",
    "                         workers=6)\n",
    "\n",
    "pprint(multi_lda_final_notts.print_topics(num_topics = 9, num_words=20))\n",
    "\n",
    "print(\"\\n\\033[91m\" + \"\\033[1m\" +\"------- Visualization -----------\\n\")\n",
    "\n",
    "lda_Mul_vis_notts = gensimvis.prepare(multi_lda_final_notts, corpus, id2word)\n",
    "pyLDAvis.display(lda_Mul_vis_notts)"
   ]
  },
  {
   "cell_type": "code",
   "execution_count": 53,
   "id": "7434da7a",
   "metadata": {},
   "outputs": [],
   "source": [
    "pyLDAvis.save_html(lda_Mul_vis_notts, \"Topic Modeling//Vaccs_topic_9.html\")"
   ]
  },
  {
   "cell_type": "code",
   "execution_count": 54,
   "id": "95839589",
   "metadata": {},
   "outputs": [
    {
     "data": {
      "text/html": [
       "<div>\n",
       "<style scoped>\n",
       "    .dataframe tbody tr th:only-of-type {\n",
       "        vertical-align: middle;\n",
       "    }\n",
       "\n",
       "    .dataframe tbody tr th {\n",
       "        vertical-align: top;\n",
       "    }\n",
       "\n",
       "    .dataframe thead th {\n",
       "        text-align: right;\n",
       "    }\n",
       "</style>\n",
       "<table border=\"1\" class=\"dataframe\">\n",
       "  <thead>\n",
       "    <tr style=\"text-align: right;\">\n",
       "      <th></th>\n",
       "      <th>text_original</th>\n",
       "      <th>emoji</th>\n",
       "      <th>tweet</th>\n",
       "      <th>clean_tweet</th>\n",
       "      <th>tokens</th>\n",
       "      <th>tokens_back_to_text</th>\n",
       "      <th>lemmas</th>\n",
       "      <th>lemmas_back_to_text</th>\n",
       "      <th>lemma_tokens</th>\n",
       "      <th>Topic_Num</th>\n",
       "      <th>Topic_prob</th>\n",
       "    </tr>\n",
       "  </thead>\n",
       "  <tbody>\n",
       "    <tr>\n",
       "      <th>0</th>\n",
       "      <td>In my cold dead arm\\n#COVID19 #CovidVaccine wi...</td>\n",
       "      <td></td>\n",
       "      <td>In my cold dead arm\\n  will never be in my bod...</td>\n",
       "      <td>cold dead arm never body stop govt overreach p...</td>\n",
       "      <td>[cold, dead, arm, never, body, stop, govt, ove...</td>\n",
       "      <td>cold dead arm never body stop govt overreach p...</td>\n",
       "      <td>[cold, dead, arm, body, stop, govt, overreach,...</td>\n",
       "      <td>cold dead arm body stop govt overreach poison ...</td>\n",
       "      <td>[cold, dead, body, stop, govt, overreach, pois...</td>\n",
       "      <td>1</td>\n",
       "      <td>0.515597</td>\n",
       "    </tr>\n",
       "    <tr>\n",
       "      <th>1</th>\n",
       "      <td>Here in CA the government is literally offerin...</td>\n",
       "      <td></td>\n",
       "      <td>Here in CA the government is literally offerin...</td>\n",
       "      <td>ca government literally offering free weed get...</td>\n",
       "      <td>[ca, government, literally, offering, free, we...</td>\n",
       "      <td>ca government literally offering free weed pre...</td>\n",
       "      <td>[government, literally, offer, free, weed, pre...</td>\n",
       "      <td>government literally offer free weed pretend</td>\n",
       "      <td>[government, literally, offer, free, weed, pre...</td>\n",
       "      <td>2</td>\n",
       "      <td>0.505259</td>\n",
       "    </tr>\n",
       "    <tr>\n",
       "      <th>2</th>\n",
       "      <td>Nice to see my friend John, pushing boxes at t...</td>\n",
       "      <td></td>\n",
       "      <td>Nice to see my friend John, pushing boxes at t...</td>\n",
       "      <td>nice see friend john pushing boxes start hard ...</td>\n",
       "      <td>[nice, see, friend, john, pushing, boxes, star...</td>\n",
       "      <td>nice see friend john pushing boxes start hard ...</td>\n",
       "      <td>[nice, friend, john, pushing, box, start, hard...</td>\n",
       "      <td>nice friend john pushing box start hard work e...</td>\n",
       "      <td>[nice, friend, john, pushing, start, hard, wor...</td>\n",
       "      <td>4</td>\n",
       "      <td>0.748023</td>\n",
       "    </tr>\n",
       "    <tr>\n",
       "      <th>3</th>\n",
       "      <td>Online portal introduced for Covid vaccine app...</td>\n",
       "      <td></td>\n",
       "      <td>Online portal introduced for Covid vaccine app...</td>\n",
       "      <td>online portal introduced covid vaccine appoint...</td>\n",
       "      <td>[online, portal, introduced, appointments, wp]</td>\n",
       "      <td>online portal introduced appointments wp</td>\n",
       "      <td>[online, portal, introduce, appointment, wp]</td>\n",
       "      <td>online portal introduce appointment wp</td>\n",
       "      <td>[online, portal, introduce, appointment]</td>\n",
       "      <td>2</td>\n",
       "      <td>0.679962</td>\n",
       "    </tr>\n",
       "    <tr>\n",
       "      <th>4</th>\n",
       "      <td>It’s #BastilleDay 🇫🇷 &amp;amp; I celebrate by shar...</td>\n",
       "      <td></td>\n",
       "      <td>It’s   &amp;amp; I celebrate by sharing this fabul...</td>\n",
       "      <td>’ amp celebrate sharing fabulous french vaccin...</td>\n",
       "      <td>[celebrate, sharing, fabulous, french, ad]</td>\n",
       "      <td>celebrate sharing fabulous french ad</td>\n",
       "      <td>[celebrate, share, fabulous, french, ad]</td>\n",
       "      <td>celebrate share fabulous french ad</td>\n",
       "      <td>[celebrate, share, fabulous, french]</td>\n",
       "      <td>2</td>\n",
       "      <td>0.498048</td>\n",
       "    </tr>\n",
       "  </tbody>\n",
       "</table>\n",
       "</div>"
      ],
      "text/plain": [
       "                                       text_original emoji  \\\n",
       "0  In my cold dead arm\\n#COVID19 #CovidVaccine wi...         \n",
       "1  Here in CA the government is literally offerin...         \n",
       "2  Nice to see my friend John, pushing boxes at t...         \n",
       "3  Online portal introduced for Covid vaccine app...         \n",
       "4  It’s #BastilleDay 🇫🇷 &amp; I celebrate by shar...         \n",
       "\n",
       "                                               tweet  \\\n",
       "0  In my cold dead arm\\n  will never be in my bod...   \n",
       "1  Here in CA the government is literally offerin...   \n",
       "2  Nice to see my friend John, pushing boxes at t...   \n",
       "3  Online portal introduced for Covid vaccine app...   \n",
       "4  It’s   &amp; I celebrate by sharing this fabul...   \n",
       "\n",
       "                                         clean_tweet  \\\n",
       "0  cold dead arm never body stop govt overreach p...   \n",
       "1  ca government literally offering free weed get...   \n",
       "2  nice see friend john pushing boxes start hard ...   \n",
       "3  online portal introduced covid vaccine appoint...   \n",
       "4  ’ amp celebrate sharing fabulous french vaccin...   \n",
       "\n",
       "                                              tokens  \\\n",
       "0  [cold, dead, arm, never, body, stop, govt, ove...   \n",
       "1  [ca, government, literally, offering, free, we...   \n",
       "2  [nice, see, friend, john, pushing, boxes, star...   \n",
       "3     [online, portal, introduced, appointments, wp]   \n",
       "4         [celebrate, sharing, fabulous, french, ad]   \n",
       "\n",
       "                                 tokens_back_to_text  \\\n",
       "0  cold dead arm never body stop govt overreach p...   \n",
       "1  ca government literally offering free weed pre...   \n",
       "2  nice see friend john pushing boxes start hard ...   \n",
       "3           online portal introduced appointments wp   \n",
       "4               celebrate sharing fabulous french ad   \n",
       "\n",
       "                                              lemmas  \\\n",
       "0  [cold, dead, arm, body, stop, govt, overreach,...   \n",
       "1  [government, literally, offer, free, weed, pre...   \n",
       "2  [nice, friend, john, pushing, box, start, hard...   \n",
       "3       [online, portal, introduce, appointment, wp]   \n",
       "4           [celebrate, share, fabulous, french, ad]   \n",
       "\n",
       "                                 lemmas_back_to_text  \\\n",
       "0  cold dead arm body stop govt overreach poison ...   \n",
       "1       government literally offer free weed pretend   \n",
       "2  nice friend john pushing box start hard work e...   \n",
       "3             online portal introduce appointment wp   \n",
       "4                 celebrate share fabulous french ad   \n",
       "\n",
       "                                        lemma_tokens  Topic_Num  Topic_prob  \n",
       "0  [cold, dead, body, stop, govt, overreach, pois...          1    0.515597  \n",
       "1  [government, literally, offer, free, weed, pre...          2    0.505259  \n",
       "2  [nice, friend, john, pushing, start, hard, wor...          4    0.748023  \n",
       "3           [online, portal, introduce, appointment]          2    0.679962  \n",
       "4               [celebrate, share, fabulous, french]          2    0.498048  "
      ]
     },
     "execution_count": 54,
     "metadata": {},
     "output_type": "execute_result"
    }
   ],
   "source": [
    "topicss = []\n",
    "probss = []\n",
    "\n",
    "for i, row in enumerate(multi_lda_final_notts[corpus]):     # gives topics probablity\n",
    "\n",
    "    row = sorted(row[0], key=lambda x :(x[1]), reverse=True)    # sorting according to higher probability\n",
    "    for j, (topic_num, probablity) in enumerate(row):        # j=0  --> containing highest probablity, topic_num --> falls under which topic\n",
    "        if j == 0:\n",
    "            topicss.append(topic_num)\n",
    "            probss.append(probablity)\n",
    "            \n",
    "text_df[\"Topic_Num\"] = topicss\n",
    "text_df[\"Topic_prob\"] = probss\n",
    "\n",
    "text_df.head()"
   ]
  },
  {
   "cell_type": "code",
   "execution_count": 55,
   "id": "15733180",
   "metadata": {},
   "outputs": [],
   "source": [
    "tpc_nms = []\n",
    "\n",
    "for tpc_ in text_df[\"Topic_Num\"].values.tolist():\n",
    "    if tpc_ == 0:\n",
    "        tpc_nms.append(\"Thank staff for double jab\")\n",
    "    if tpc_ == 1:\n",
    "        tpc_nms.append(\"In 2021, continue to wear a mask in public\")\n",
    "    if tpc_ == 2:\n",
    "        tpc_nms.append(\"Book appointments for vaccination in clinics or centres\")\n",
    "    if tpc_ == 3:\n",
    "        tpc_nms.append(\"Delta variant cases lead to higher death rate\")\n",
    "    if tpc_ == 4:\n",
    "        tpc_nms.append(\"Help and support healthcare workers\")\n",
    "    if tpc_ == 5:\n",
    "        tpc_nms.append(\"Save the world by protecting families\")\n",
    "    if tpc_ == 6:\n",
    "        tpc_nms.append(\"Take your vaccine and fight the disease\")\n",
    "    if tpc_ == 7:\n",
    "        tpc_nms.append(\"Stay positive and test regularly\")\n",
    "    if tpc_ == 8:\n",
    "        tpc_nms.append(\"Post vaccination there maybe side effects\") \n",
    "        \n",
    "text_df[\"Topic_Names\"] = tpc_nms"
   ]
  },
  {
   "cell_type": "code",
   "execution_count": 56,
   "id": "35ff6081",
   "metadata": {},
   "outputs": [
    {
     "data": {
      "text/plain": [
       "Index(['text_original', 'emoji', 'tweet', 'clean_tweet', 'tokens',\n",
       "       'tokens_back_to_text', 'lemmas', 'lemmas_back_to_text', 'lemma_tokens',\n",
       "       'Topic_Num', 'Topic_prob', 'Topic_Names'],\n",
       "      dtype='object')"
      ]
     },
     "execution_count": 56,
     "metadata": {},
     "output_type": "execute_result"
    }
   ],
   "source": [
    "text_df.columns"
   ]
  },
  {
   "cell_type": "code",
   "execution_count": 58,
   "id": "bd1236b4",
   "metadata": {},
   "outputs": [],
   "source": [
    "temp_df = pd.merge(text_df,df2, left_on = ['text_original','emoji'], right_on = ['text','emoji'])"
   ]
  },
  {
   "cell_type": "code",
   "execution_count": 59,
   "id": "7470181f",
   "metadata": {},
   "outputs": [],
   "source": [
    "text_df = temp_df[['text_original', 'emoji', 'tweet', 'clean_tweet', 'tokens',\n",
    "       'tokens_back_to_text', 'lemmas', 'lemmas_back_to_text', 'lemma_tokens',\n",
    "       'Topic_Num', 'Topic_prob', 'Topic_Names','date']]"
   ]
  },
  {
   "cell_type": "code",
   "execution_count": 60,
   "id": "e22be56b",
   "metadata": {},
   "outputs": [
    {
     "data": {
      "text/html": [
       "<div>\n",
       "<style scoped>\n",
       "    .dataframe tbody tr th:only-of-type {\n",
       "        vertical-align: middle;\n",
       "    }\n",
       "\n",
       "    .dataframe tbody tr th {\n",
       "        vertical-align: top;\n",
       "    }\n",
       "\n",
       "    .dataframe thead th {\n",
       "        text-align: right;\n",
       "    }\n",
       "</style>\n",
       "<table border=\"1\" class=\"dataframe\">\n",
       "  <thead>\n",
       "    <tr style=\"text-align: right;\">\n",
       "      <th></th>\n",
       "      <th>text_original</th>\n",
       "      <th>emoji</th>\n",
       "      <th>tweet</th>\n",
       "      <th>clean_tweet</th>\n",
       "      <th>tokens</th>\n",
       "      <th>tokens_back_to_text</th>\n",
       "      <th>lemmas</th>\n",
       "      <th>lemmas_back_to_text</th>\n",
       "      <th>lemma_tokens</th>\n",
       "      <th>Topic_Num</th>\n",
       "      <th>Topic_prob</th>\n",
       "      <th>Topic_Names</th>\n",
       "      <th>date</th>\n",
       "    </tr>\n",
       "  </thead>\n",
       "  <tbody>\n",
       "    <tr>\n",
       "      <th>0</th>\n",
       "      <td>In my cold dead arm\\n#COVID19 #CovidVaccine wi...</td>\n",
       "      <td></td>\n",
       "      <td>In my cold dead arm\\n  will never be in my bod...</td>\n",
       "      <td>cold dead arm never body stop govt overreach p...</td>\n",
       "      <td>[cold, dead, arm, never, body, stop, govt, ove...</td>\n",
       "      <td>cold dead arm never body stop govt overreach p...</td>\n",
       "      <td>[cold, dead, arm, body, stop, govt, overreach,...</td>\n",
       "      <td>cold dead arm body stop govt overreach poison ...</td>\n",
       "      <td>[cold, dead, body, stop, govt, overreach, pois...</td>\n",
       "      <td>1</td>\n",
       "      <td>0.515597</td>\n",
       "      <td>In 2021, continue to wear a mask in public</td>\n",
       "      <td>2021-07-14</td>\n",
       "    </tr>\n",
       "    <tr>\n",
       "      <th>1</th>\n",
       "      <td>Here in CA the government is literally offerin...</td>\n",
       "      <td></td>\n",
       "      <td>Here in CA the government is literally offerin...</td>\n",
       "      <td>ca government literally offering free weed get...</td>\n",
       "      <td>[ca, government, literally, offering, free, we...</td>\n",
       "      <td>ca government literally offering free weed pre...</td>\n",
       "      <td>[government, literally, offer, free, weed, pre...</td>\n",
       "      <td>government literally offer free weed pretend</td>\n",
       "      <td>[government, literally, offer, free, weed, pre...</td>\n",
       "      <td>2</td>\n",
       "      <td>0.505259</td>\n",
       "      <td>Book appointments for vaccination in clinics o...</td>\n",
       "      <td>2021-07-14</td>\n",
       "    </tr>\n",
       "    <tr>\n",
       "      <th>2</th>\n",
       "      <td>Nice to see my friend John, pushing boxes at t...</td>\n",
       "      <td></td>\n",
       "      <td>Nice to see my friend John, pushing boxes at t...</td>\n",
       "      <td>nice see friend john pushing boxes start hard ...</td>\n",
       "      <td>[nice, see, friend, john, pushing, boxes, star...</td>\n",
       "      <td>nice see friend john pushing boxes start hard ...</td>\n",
       "      <td>[nice, friend, john, pushing, box, start, hard...</td>\n",
       "      <td>nice friend john pushing box start hard work e...</td>\n",
       "      <td>[nice, friend, john, pushing, start, hard, wor...</td>\n",
       "      <td>4</td>\n",
       "      <td>0.748023</td>\n",
       "      <td>Help and support healthcare workers</td>\n",
       "      <td>2021-07-13</td>\n",
       "    </tr>\n",
       "    <tr>\n",
       "      <th>3</th>\n",
       "      <td>Online portal introduced for Covid vaccine app...</td>\n",
       "      <td></td>\n",
       "      <td>Online portal introduced for Covid vaccine app...</td>\n",
       "      <td>online portal introduced covid vaccine appoint...</td>\n",
       "      <td>[online, portal, introduced, appointments, wp]</td>\n",
       "      <td>online portal introduced appointments wp</td>\n",
       "      <td>[online, portal, introduce, appointment, wp]</td>\n",
       "      <td>online portal introduce appointment wp</td>\n",
       "      <td>[online, portal, introduce, appointment]</td>\n",
       "      <td>2</td>\n",
       "      <td>0.679962</td>\n",
       "      <td>Book appointments for vaccination in clinics o...</td>\n",
       "      <td>2021-07-12</td>\n",
       "    </tr>\n",
       "    <tr>\n",
       "      <th>4</th>\n",
       "      <td>It’s #BastilleDay 🇫🇷 &amp;amp; I celebrate by shar...</td>\n",
       "      <td></td>\n",
       "      <td>It’s   &amp;amp; I celebrate by sharing this fabul...</td>\n",
       "      <td>’ amp celebrate sharing fabulous french vaccin...</td>\n",
       "      <td>[celebrate, sharing, fabulous, french, ad]</td>\n",
       "      <td>celebrate sharing fabulous french ad</td>\n",
       "      <td>[celebrate, share, fabulous, french, ad]</td>\n",
       "      <td>celebrate share fabulous french ad</td>\n",
       "      <td>[celebrate, share, fabulous, french]</td>\n",
       "      <td>2</td>\n",
       "      <td>0.498048</td>\n",
       "      <td>Book appointments for vaccination in clinics o...</td>\n",
       "      <td>2021-07-13</td>\n",
       "    </tr>\n",
       "  </tbody>\n",
       "</table>\n",
       "</div>"
      ],
      "text/plain": [
       "                                       text_original emoji  \\\n",
       "0  In my cold dead arm\\n#COVID19 #CovidVaccine wi...         \n",
       "1  Here in CA the government is literally offerin...         \n",
       "2  Nice to see my friend John, pushing boxes at t...         \n",
       "3  Online portal introduced for Covid vaccine app...         \n",
       "4  It’s #BastilleDay 🇫🇷 &amp; I celebrate by shar...         \n",
       "\n",
       "                                               tweet  \\\n",
       "0  In my cold dead arm\\n  will never be in my bod...   \n",
       "1  Here in CA the government is literally offerin...   \n",
       "2  Nice to see my friend John, pushing boxes at t...   \n",
       "3  Online portal introduced for Covid vaccine app...   \n",
       "4  It’s   &amp; I celebrate by sharing this fabul...   \n",
       "\n",
       "                                         clean_tweet  \\\n",
       "0  cold dead arm never body stop govt overreach p...   \n",
       "1  ca government literally offering free weed get...   \n",
       "2  nice see friend john pushing boxes start hard ...   \n",
       "3  online portal introduced covid vaccine appoint...   \n",
       "4  ’ amp celebrate sharing fabulous french vaccin...   \n",
       "\n",
       "                                              tokens  \\\n",
       "0  [cold, dead, arm, never, body, stop, govt, ove...   \n",
       "1  [ca, government, literally, offering, free, we...   \n",
       "2  [nice, see, friend, john, pushing, boxes, star...   \n",
       "3     [online, portal, introduced, appointments, wp]   \n",
       "4         [celebrate, sharing, fabulous, french, ad]   \n",
       "\n",
       "                                 tokens_back_to_text  \\\n",
       "0  cold dead arm never body stop govt overreach p...   \n",
       "1  ca government literally offering free weed pre...   \n",
       "2  nice see friend john pushing boxes start hard ...   \n",
       "3           online portal introduced appointments wp   \n",
       "4               celebrate sharing fabulous french ad   \n",
       "\n",
       "                                              lemmas  \\\n",
       "0  [cold, dead, arm, body, stop, govt, overreach,...   \n",
       "1  [government, literally, offer, free, weed, pre...   \n",
       "2  [nice, friend, john, pushing, box, start, hard...   \n",
       "3       [online, portal, introduce, appointment, wp]   \n",
       "4           [celebrate, share, fabulous, french, ad]   \n",
       "\n",
       "                                 lemmas_back_to_text  \\\n",
       "0  cold dead arm body stop govt overreach poison ...   \n",
       "1       government literally offer free weed pretend   \n",
       "2  nice friend john pushing box start hard work e...   \n",
       "3             online portal introduce appointment wp   \n",
       "4                 celebrate share fabulous french ad   \n",
       "\n",
       "                                        lemma_tokens  Topic_Num  Topic_prob  \\\n",
       "0  [cold, dead, body, stop, govt, overreach, pois...          1    0.515597   \n",
       "1  [government, literally, offer, free, weed, pre...          2    0.505259   \n",
       "2  [nice, friend, john, pushing, start, hard, wor...          4    0.748023   \n",
       "3           [online, portal, introduce, appointment]          2    0.679962   \n",
       "4               [celebrate, share, fabulous, french]          2    0.498048   \n",
       "\n",
       "                                         Topic_Names       date  \n",
       "0         In 2021, continue to wear a mask in public 2021-07-14  \n",
       "1  Book appointments for vaccination in clinics o... 2021-07-14  \n",
       "2                Help and support healthcare workers 2021-07-13  \n",
       "3  Book appointments for vaccination in clinics o... 2021-07-12  \n",
       "4  Book appointments for vaccination in clinics o... 2021-07-13  "
      ]
     },
     "execution_count": 60,
     "metadata": {},
     "output_type": "execute_result"
    }
   ],
   "source": [
    "text_df.head()"
   ]
  },
  {
   "cell_type": "markdown",
   "id": "6032b6e9",
   "metadata": {},
   "source": [
    " # Subjectivity and Polarity"
   ]
  },
  {
   "cell_type": "code",
   "execution_count": 61,
   "id": "1c93840c",
   "metadata": {},
   "outputs": [],
   "source": [
    "text_df['polarity'] = text_df['lemmas_back_to_text'].apply(lambda x : TextBlob(x).sentiment.polarity)\n",
    "text_df['subjectivity'] = text_df['lemmas_back_to_text'].apply(lambda x : TextBlob(x).sentiment.subjectivity)\n"
   ]
  },
  {
   "cell_type": "code",
   "execution_count": 62,
   "id": "923f6de5",
   "metadata": {},
   "outputs": [
    {
     "data": {
      "text/html": [
       "<div>\n",
       "<style scoped>\n",
       "    .dataframe tbody tr th:only-of-type {\n",
       "        vertical-align: middle;\n",
       "    }\n",
       "\n",
       "    .dataframe tbody tr th {\n",
       "        vertical-align: top;\n",
       "    }\n",
       "\n",
       "    .dataframe thead th {\n",
       "        text-align: right;\n",
       "    }\n",
       "</style>\n",
       "<table border=\"1\" class=\"dataframe\">\n",
       "  <thead>\n",
       "    <tr style=\"text-align: right;\">\n",
       "      <th></th>\n",
       "      <th>lemmas_back_to_text</th>\n",
       "      <th>subjectivity</th>\n",
       "      <th>polarity</th>\n",
       "    </tr>\n",
       "  </thead>\n",
       "  <tbody>\n",
       "    <tr>\n",
       "      <th>0</th>\n",
       "      <td>cold dead arm body stop govt overreach poison ...</td>\n",
       "      <td>0.700000</td>\n",
       "      <td>-0.400000</td>\n",
       "    </tr>\n",
       "    <tr>\n",
       "      <th>1</th>\n",
       "      <td>government literally offer free weed pretend</td>\n",
       "      <td>0.800000</td>\n",
       "      <td>0.400000</td>\n",
       "    </tr>\n",
       "    <tr>\n",
       "      <th>2</th>\n",
       "      <td>nice friend john pushing box start hard work e...</td>\n",
       "      <td>0.513889</td>\n",
       "      <td>0.102778</td>\n",
       "    </tr>\n",
       "    <tr>\n",
       "      <th>3</th>\n",
       "      <td>online portal introduce appointment wp</td>\n",
       "      <td>0.000000</td>\n",
       "      <td>0.000000</td>\n",
       "    </tr>\n",
       "    <tr>\n",
       "      <th>4</th>\n",
       "      <td>celebrate share fabulous french ad</td>\n",
       "      <td>0.500000</td>\n",
       "      <td>0.200000</td>\n",
       "    </tr>\n",
       "  </tbody>\n",
       "</table>\n",
       "</div>"
      ],
      "text/plain": [
       "                                 lemmas_back_to_text  subjectivity  polarity\n",
       "0  cold dead arm body stop govt overreach poison ...      0.700000 -0.400000\n",
       "1       government literally offer free weed pretend      0.800000  0.400000\n",
       "2  nice friend john pushing box start hard work e...      0.513889  0.102778\n",
       "3             online portal introduce appointment wp      0.000000  0.000000\n",
       "4                 celebrate share fabulous french ad      0.500000  0.200000"
      ]
     },
     "execution_count": 62,
     "metadata": {},
     "output_type": "execute_result"
    }
   ],
   "source": [
    "text_df[['lemmas_back_to_text','subjectivity','polarity']].head()"
   ]
  },
  {
   "cell_type": "code",
   "execution_count": 63,
   "id": "afe89e68",
   "metadata": {},
   "outputs": [
    {
     "data": {
      "image/png": "[encoded data removed]",
      "text/plain": [
       "<Figure size 1440x720 with 1 Axes>"
      ]
     },
     "metadata": {
      "needs_background": "light"
     },
     "output_type": "display_data"
    }
   ],
   "source": [
    "df = text_df[[\"date\", \"polarity\", \"subjectivity\"]].groupby(\"date\").mean().reset_index()\n",
    "df['rolling_polarity'] = df.polarity.rolling(window=5).mean()\n",
    "df['rolling_subjectivity'] = df.subjectivity.rolling(window=5).mean()\n",
    "ax = df.plot(x=\"date\", \n",
    "        y=[\"polarity\", \"rolling_polarity\"], \n",
    "        figsize=(20, 10), \n",
    "        fontsize=14)\n",
    "\n",
    "ax.xaxis.set_major_locator(mdates.DayLocator(interval=10))\n",
    "plt.xlabel(\"Date\", fontsize=18)\n",
    "plt.ylabel(\"Polarity\", fontsize=18)\n",
    "plt.title(\"Polarity trend over time\", fontsize=14)\n",
    "plt.show()"
   ]
  },
  {
   "cell_type": "code",
   "execution_count": 64,
   "id": "9beb1f00",
   "metadata": {},
   "outputs": [
    {
     "data": {
      "image/png": "[encoded data removed]",
      "text/plain": [
       "<Figure size 1440x720 with 1 Axes>"
      ]
     },
     "metadata": {
      "needs_background": "light"
     },
     "output_type": "display_data"
    }
   ],
   "source": [
    "ax = df.plot(x=\"date\", \n",
    "        y=[\"subjectivity\", \"rolling_subjectivity\"], \n",
    "        figsize=(20, 10), \n",
    "        fontsize=14)\n",
    "\n",
    "ax.xaxis.set_major_locator(mdates.DayLocator(interval=5))\n",
    "plt.xlabel(\"Date\", fontsize=18)\n",
    "plt.ylabel(\"Subjectivity\", fontsize=18)\n",
    "plt.title(\"Subjectivity trend over time\", fontsize=14)\n",
    "plt.show()"
   ]
  },
  {
   "cell_type": "code",
   "execution_count": 65,
   "id": "e82d0bf9",
   "metadata": {},
   "outputs": [
    {
     "data": {
      "image/png": "[encoded data removed]",
      "text/plain": [
       "<Figure size 432x288 with 1 Axes>"
      ]
     },
     "metadata": {
      "needs_background": "light"
     },
     "output_type": "display_data"
    }
   ],
   "source": [
    "allWords = ' '.join([twts for twts in text_df['lemmas_back_to_text']])\n",
    "wordCloud = WordCloud(width = 500, height = 300, random_state = 21, max_font_size = 119).generate(allWords)\n",
    "\n",
    "plt.imshow(wordCloud, interpolation = \"bilinear\")\n",
    "plt.axis('off')\n",
    "plt.show()"
   ]
  },
  {
   "cell_type": "code",
   "execution_count": 84,
   "id": "eba5f418",
   "metadata": {},
   "outputs": [],
   "source": [
    "def getAnalysis(score):\n",
    "    if score < 0:\n",
    "        return 'Negative'\n",
    "    elif score == 0:\n",
    "        return 'Neutral'\n",
    "    else:\n",
    "        return 'Positive'\n",
    "    \n",
    "text_df['Analysis'] = text_df['polarity'].apply(getAnalysis)\n",
    "\n",
    "sample = text_df[['lemmas_back_to_text','subjectivity','polarity','Analysis','date']].head() # to_excel('Sentiment_Analysis\\sent.xlsx')\n",
    "\n"
   ]
  },
  {
   "cell_type": "code",
   "execution_count": 83,
   "id": "fd01ea2a",
   "metadata": {},
   "outputs": [
    {
     "data": {
      "image/png": "[encoded data removed]",
      "text/plain": [
       "<Figure size 432x288 with 1 Axes>"
      ]
     },
     "metadata": {
      "needs_background": "light"
     },
     "output_type": "display_data"
    }
   ],
   "source": [
    "text_df['Analysis'].value_counts()\n",
    "\n",
    "plt.title('Sentiment Analysis')\n",
    "plt.xlabel('Sentiment')\n",
    "plt.ylabel('Counts')\n",
    "text_df['Analysis'].value_counts().plot(kind = 'bar')\n",
    "plt.show()"
   ]
  },
  {
   "cell_type": "markdown",
   "id": "b053734c",
   "metadata": {},
   "source": [
    "# Text Classification"
   ]
  },
  {
   "cell_type": "code",
   "execution_count": 68,
   "id": "73b070a4",
   "metadata": {},
   "outputs": [
    {
     "data": {
      "text/plain": [
       "0    37646\n",
       "1     3543\n",
       "Name: label, dtype: int64"
      ]
     },
     "execution_count": 68,
     "metadata": {},
     "output_type": "execute_result"
    }
   ],
   "source": [
    "# Set the topic of interest for bianry classification\n",
    "topic_of_interest = 6\n",
    "\n",
    "# create a binary label where 1 is the topic of interest and 0 is the rest\n",
    "text_df['label'] = np.where(text_df['Topic_Num'] == topic_of_interest, 1, 0)  \n",
    "text_df['label'].value_counts()"
   ]
  },
  {
   "cell_type": "code",
   "execution_count": 69,
   "id": "b6a47632",
   "metadata": {},
   "outputs": [],
   "source": [
    "# Spliting the data into train and test sets\n",
    "from sklearn import model_selection, preprocessing\n",
    "from sklearn.model_selection import train_test_split\n",
    "\n",
    "# cleaned body of documents\n",
    "X = text_df['lemmas_back_to_text']  \n",
    "# Target variable\n",
    "y = text_df['label'] \n",
    "\n",
    "X_train, X_test, y_train, y_test = train_test_split(X, y, \n",
    "                                                    stratify=y, \n",
    "                                                    test_size=0.25,\n",
    "                                                    random_state = 0)"
   ]
  },
  {
   "cell_type": "code",
   "execution_count": 76,
   "id": "374e6d65",
   "metadata": {},
   "outputs": [],
   "source": [
    "from sklearn.utils import resample\n",
    "\n",
    "# concatenate our training data back together\n",
    "train_concat = pd.concat([X_train, y_train], axis=1)\n",
    "\n",
    "# separate minority and majority classes\n",
    "majority_class = train_concat[train_concat.label==0]\n",
    "minority_class = train_concat[train_concat.label==1]\n",
    "\n",
    "# upsample the minority class\n",
    "minority_upsampled = resample(minority_class,\n",
    "                              replace=True, # sample with replacement\n",
    "                              n_samples=len(majority_class), # match number in majority class\n",
    "                              random_state=27) # reproducible results\n",
    "\n",
    "# combine majority and upsampled minority\n",
    "upsampled = pd.concat([majority_class, minority_upsampled])\n",
    "\n",
    "#shuffle \n",
    "upsampled = upsampled.sample(frac=1, random_state = 100).reset_index(drop=True)\n",
    "\n",
    "y_train = upsampled['label']\n",
    "X_train = upsampled['lemmas_back_to_text']"
   ]
  },
  {
   "cell_type": "code",
   "execution_count": 77,
   "id": "39343b66",
   "metadata": {},
   "outputs": [],
   "source": [
    "pipeline = Pipeline([\n",
    "    ('vect',TfidfVectorizer(max_df = 0.6, min_df=0.0001, norm = 'l2', use_idf = True, ngram_range = (1,2), max_features = None)), \n",
    "    ('clf',SGDClassifier(random_state=0,  alpha = 2e-05, penalty = 'l2', loss = 'modified_huber', max_iter = 10)) \n",
    "])"
   ]
  },
  {
   "cell_type": "code",
   "execution_count": 115,
   "id": "152b5df8",
   "metadata": {},
   "outputs": [],
   "source": [
    "parameters = {\n",
    "    'vect__max_df': (0.6, 0.7, 0.8), # max threshold for document frequency\n",
    "    'vect__min_df': (0.0001, 0.001),\n",
    "    'vect__max_features': (None, 5000, 10000), # top max_features ordered by term frequency across the corpus\n",
    "    'vect__ngram_range': ((1, 1), (1, 2)),  # unigrams or bigrams\n",
    "    'vect__use_idf': (True, False), # Enables inverse-document-frequency reweighting\n",
    "    'vect__norm': (None, 'l1', 'l2'), # normalizes tf-idf in each row\n",
    "    'clf__loss': ('log','modified_huber','hinge'), # log for logistic regression, modified_huber gives a smooth loss tolerant to outliers, hinge for linear SVM\n",
    "    'clf__alpha': (0.00001,0.00002), # multiplies the regularization term\n",
    "    'clf__penalty': ('none','l2','l1'), # regularization term\n",
    "    'clf__max_iter': (10, 50), # passes over the training data (aka epochs)\n",
    "}"
   ]
  },
  {
   "cell_type": "code",
   "execution_count": 117,
   "id": "a5477df4",
   "metadata": {},
   "outputs": [
    {
     "name": "stdout",
     "output_type": "stream",
     "text": [
      "pipeline: ['vect', 'clf']\n",
      "parameters:\n",
      "{'vect__max_df': (0.6, 0.7, 0.8), 'vect__min_df': (0.0001, 0.001), 'vect__max_features': (None, 5000, 10000), 'vect__ngram_range': ((1, 1), (1, 2)), 'vect__use_idf': (True, False), 'vect__norm': (None, 'l1', 'l2'), 'clf__loss': ('log', 'modified_huber', 'hinge'), 'clf__alpha': (1e-05, 2e-05), 'clf__penalty': ('none', 'l2', 'l1'), 'clf__max_iter': (10, 50)}\n",
      "Fitting 5 folds for each of 7776 candidates, totalling 38880 fits\n"
     ]
    },
    {
     "data": {
      "text/plain": [
       "GridSearchCV(cv=5,\n",
       "             estimator=Pipeline(steps=[('vect',\n",
       "                                        TfidfVectorizer(max_df=0.8,\n",
       "                                                        min_df=0.0001)),\n",
       "                                       ('clf',\n",
       "                                        SGDClassifier(alpha=2e-05,\n",
       "                                                      random_state=0))]),\n",
       "             n_jobs=10,\n",
       "             param_grid={'clf__alpha': (1e-05, 2e-05),\n",
       "                         'clf__loss': ('log', 'modified_huber', 'hinge'),\n",
       "                         'clf__max_iter': (10, 50),\n",
       "                         'clf__penalty': ('none', 'l2', 'l1'),\n",
       "                         'vect__max_df': (0.6, 0.7, 0.8),\n",
       "                         'vect__max_features': (None, 5000, 10000),\n",
       "                         'vect__min_df': (0.0001, 0.001),\n",
       "                         'vect__ngram_range': ((1, 1), (1, 2)),\n",
       "                         'vect__norm': (None, 'l1', 'l2'),\n",
       "                         'vect__use_idf': (True, False)},\n",
       "             scoring='roc_auc', verbose=1)"
      ]
     },
     "execution_count": 117,
     "metadata": {},
     "output_type": "execute_result"
    }
   ],
   "source": [
    "# Grid search with cross validation\n",
    "grid_search = GridSearchCV(pipeline, parameters, cv=5, scoring='roc_auc', n_jobs=10, verbose=1) # 'roc_auc' or 'f1'\n",
    "\n",
    "print(\"pipeline:\", [name for name, _ in pipeline.steps])\n",
    "print(\"parameters:\")\n",
    "print(parameters)\n",
    "\n",
    "# model training\n",
    "grid_search.fit(X_train, y_train)\n"
   ]
  },
  {
   "cell_type": "code",
   "execution_count": 118,
   "id": "a0bbd293",
   "metadata": {},
   "outputs": [
    {
     "name": "stdout",
     "output_type": "stream",
     "text": [
      "Best score: 0.999\n",
      "Best parameters set:\n",
      "\tclf__alpha: 2e-05\n",
      "\tclf__loss: 'modified_huber'\n",
      "\tclf__max_iter: 10\n",
      "\tclf__penalty: 'l2'\n",
      "\tvect__max_df: 0.6\n",
      "\tvect__max_features: None\n",
      "\tvect__min_df: 0.0001\n",
      "\tvect__ngram_range: (1, 2)\n",
      "\tvect__norm: 'l2'\n",
      "\tvect__use_idf: True\n"
     ]
    }
   ],
   "source": [
    "### Result of grid search\n",
    "print(\"Best score: %0.3f\" % grid_search.best_score_)  \n",
    "print(\"Best parameters set:\")\n",
    "best_parameters = grid_search.best_estimator_.get_params()\n",
    "for param_name in sorted(parameters.keys()):\n",
    "    print(\"\\t%s: %r\" % (param_name, best_parameters[param_name]))"
   ]
  },
  {
   "cell_type": "code",
   "execution_count": 119,
   "id": "e761a222",
   "metadata": {},
   "outputs": [],
   "source": [
    "# best estimator found from grid search\n",
    "model = grid_search.best_estimator_"
   ]
  },
  {
   "cell_type": "code",
   "execution_count": 120,
   "id": "d6cafd34",
   "metadata": {},
   "outputs": [
    {
     "data": {
      "text/plain": [
       "array([0, 0, 0, ..., 0, 1, 0])"
      ]
     },
     "execution_count": 120,
     "metadata": {},
     "output_type": "execute_result"
    }
   ],
   "source": [
    "# Model predictions\n",
    "\n",
    "predictions = model.predict(X_test)\n",
    "predictions"
   ]
  },
  {
   "cell_type": "code",
   "execution_count": 121,
   "id": "eb1152de",
   "metadata": {},
   "outputs": [
    {
     "name": "stdout",
     "output_type": "stream",
     "text": [
      "Accuracy: 0.9501845018450185\n",
      "Precision: 0.7585266030013642\n",
      "Recall: 0.6233183856502242\n",
      "f1_score: 0.6843076923076923\n",
      "AUC:  0.8022503048812465\n"
     ]
    }
   ],
   "source": [
    "# Return of the Accuracy, Precision, Recall, F1 Score, AUC score\n",
    "\n",
    "print(\"Accuracy:\",metrics.accuracy_score(y_test, predictions))\n",
    "print(\"Precision:\",metrics.precision_score(y_test, predictions))\n",
    "print(\"Recall:\",metrics.recall_score(y_test, predictions))\n",
    "print(\"f1_score:\",metrics.f1_score(y_test, predictions))\n",
    "print('AUC: ', metrics.roc_auc_score(y_test, predictions))"
   ]
  },
  {
   "cell_type": "code",
   "execution_count": 122,
   "id": "8ec52d1a",
   "metadata": {},
   "outputs": [
    {
     "data": {
      "text/plain": [
       "array([[9229,  177],\n",
       "       [ 336,  556]], dtype=int64)"
      ]
     },
     "execution_count": 122,
     "metadata": {},
     "output_type": "execute_result"
    }
   ],
   "source": [
    "# confusion matrix of predictions\n",
    "\n",
    "cnf_matrix = metrics.confusion_matrix(y_test, predictions)\n",
    "cnf_matrix"
   ]
  },
  {
   "cell_type": "markdown",
   "id": "619df01c",
   "metadata": {},
   "source": [
    "# Final Model"
   ]
  },
  {
   "cell_type": "code",
   "execution_count": 78,
   "id": "967d4091",
   "metadata": {},
   "outputs": [
    {
     "data": {
      "text/plain": [
       "Pipeline(steps=[('vect',\n",
       "                 TfidfVectorizer(max_df=0.6, min_df=0.0001,\n",
       "                                 ngram_range=(1, 2))),\n",
       "                ('clf',\n",
       "                 SGDClassifier(alpha=2e-05, loss='modified_huber', max_iter=10,\n",
       "                               random_state=0))])"
      ]
     },
     "execution_count": 78,
     "metadata": {},
     "output_type": "execute_result"
    }
   ],
   "source": [
    "pipeline.fit(X_train,y_train)"
   ]
  },
  {
   "cell_type": "code",
   "execution_count": 79,
   "id": "07989f0d",
   "metadata": {},
   "outputs": [],
   "source": [
    "predictions = pipeline.predict(X_test)"
   ]
  },
  {
   "cell_type": "code",
   "execution_count": 80,
   "id": "b71b61ec",
   "metadata": {},
   "outputs": [
    {
     "name": "stdout",
     "output_type": "stream",
     "text": [
      "Accuracy: 0.9502816080792387\n",
      "Precision: 0.7547683923705722\n",
      "Recall: 0.6252821670428894\n",
      "f1_score: 0.6839506172839507\n",
      "AUC:  0.8030788225779684\n"
     ]
    }
   ],
   "source": [
    "print(\"Accuracy:\",metrics.accuracy_score(y_test, predictions))\n",
    "print(\"Precision:\",metrics.precision_score(y_test, predictions))\n",
    "print(\"Recall:\",metrics.recall_score(y_test, predictions))\n",
    "print(\"f1_score:\",metrics.f1_score(y_test, predictions))\n",
    "print('AUC: ', metrics.roc_auc_score(y_test, predictions))"
   ]
  },
  {
   "cell_type": "code",
   "execution_count": 81,
   "id": "2ba4e7d5",
   "metadata": {},
   "outputs": [
    {
     "data": {
      "text/plain": [
       "array([[9232,  180],\n",
       "       [ 332,  554]], dtype=int64)"
      ]
     },
     "execution_count": 81,
     "metadata": {},
     "output_type": "execute_result"
    }
   ],
   "source": [
    "cnf_matrix = metrics.confusion_matrix(y_test, predictions)\n",
    "cnf_matrix"
   ]
  },
  {
   "cell_type": "code",
   "execution_count": null,
   "id": "ae5fad4a",
   "metadata": {},
   "outputs": [],
   "source": []
  },
  {
   "cell_type": "markdown",
   "id": "4ee05545",
   "metadata": {},
   "source": [
    "# With Emoji and Text"
   ]
  },
  {
   "cell_type": "code",
   "execution_count": 134,
   "id": "ee733efa",
   "metadata": {},
   "outputs": [],
   "source": [
    "emoji_df = pd.DataFrame()\n",
    "emoji_df['emoji_with_clean_tweet'] = text_df['clean_tweet'] + text_df['emoji']"
   ]
  },
  {
   "cell_type": "code",
   "execution_count": 135,
   "id": "bd82bab0",
   "metadata": {},
   "outputs": [
    {
     "data": {
      "text/html": [
       "<div>\n",
       "<style scoped>\n",
       "    .dataframe tbody tr th:only-of-type {\n",
       "        vertical-align: middle;\n",
       "    }\n",
       "\n",
       "    .dataframe tbody tr th {\n",
       "        vertical-align: top;\n",
       "    }\n",
       "\n",
       "    .dataframe thead th {\n",
       "        text-align: right;\n",
       "    }\n",
       "</style>\n",
       "<table border=\"1\" class=\"dataframe\">\n",
       "  <thead>\n",
       "    <tr style=\"text-align: right;\">\n",
       "      <th></th>\n",
       "      <th>emoji_with_clean_tweet</th>\n",
       "    </tr>\n",
       "  </thead>\n",
       "  <tbody>\n",
       "    <tr>\n",
       "      <th>41184</th>\n",
       "      <td>via ⁦fda⁩ important daily patients tell highly...</td>\n",
       "    </tr>\n",
       "    <tr>\n",
       "      <th>41185</th>\n",
       "      <td>fact may already sterilized whole family think...</td>\n",
       "    </tr>\n",
       "    <tr>\n",
       "      <th>41186</th>\n",
       "      <td>alhamdulillah got appointment date nine weeks ...</td>\n",
       "    </tr>\n",
       "    <tr>\n",
       "      <th>41187</th>\n",
       "      <td>rasmussen awesome today ’ show thx evidencebas...</td>\n",
       "    </tr>\n",
       "    <tr>\n",
       "      <th>41188</th>\n",
       "      <td>communities color getting vaccinated lower rat...</td>\n",
       "    </tr>\n",
       "  </tbody>\n",
       "</table>\n",
       "</div>"
      ],
      "text/plain": [
       "                                  emoji_with_clean_tweet\n",
       "41184  via ⁦fda⁩ important daily patients tell highly...\n",
       "41185  fact may already sterilized whole family think...\n",
       "41186  alhamdulillah got appointment date nine weeks ...\n",
       "41187  rasmussen awesome today ’ show thx evidencebas...\n",
       "41188  communities color getting vaccinated lower rat..."
      ]
     },
     "execution_count": 135,
     "metadata": {},
     "output_type": "execute_result"
    }
   ],
   "source": [
    "emoji_df.tail()"
   ]
  },
  {
   "cell_type": "markdown",
   "id": "80a2eb28",
   "metadata": {},
   "source": [
    "# Tokenization"
   ]
  },
  {
   "cell_type": "code",
   "execution_count": 136,
   "id": "be42af4b",
   "metadata": {},
   "outputs": [],
   "source": [
    "nlp = spacy.load('en_core_web_sm')"
   ]
  },
  {
   "cell_type": "code",
   "execution_count": 137,
   "id": "1f613756",
   "metadata": {},
   "outputs": [],
   "source": [
    "# Tokenizer\n",
    "tokenizer = Tokenizer(nlp.vocab)"
   ]
  },
  {
   "cell_type": "code",
   "execution_count": 138,
   "id": "56e0fd7d",
   "metadata": {},
   "outputs": [],
   "source": [
    "tokens = []\n",
    "\n",
    "for doc in tokenizer.pipe(emoji_df['emoji_with_clean_tweet'], batch_size=500):\n",
    "    doc_tokens = []    \n",
    "    for token in doc: \n",
    "        if token.text.lower() not in most_common_stop:\n",
    "            doc_tokens.append(token.text.lower())   \n",
    "    tokens.append(doc_tokens)\n",
    "\n",
    "# Makes tokens column\n",
    "emoji_df['tokens'] = tokens"
   ]
  },
  {
   "cell_type": "code",
   "execution_count": 139,
   "id": "2cace24c",
   "metadata": {},
   "outputs": [
    {
     "data": {
      "text/plain": [
       "0        [cold, dead, arm, never, body, stop, govt, ove...\n",
       "1        [ca, government, literally, offering, free, we...\n",
       "2        [nice, see, friend, john, pushing, boxes, star...\n",
       "3           [online, portal, introduced, appointments, wp]\n",
       "4               [celebrate, sharing, fabulous, french, ad]\n",
       "                               ...                        \n",
       "41184    [via, ⁦fda⁩, important, daily, patients, tell,...\n",
       "41185    [fact, may, already, sterilized, whole, family...\n",
       "41186    [alhamdulillah, appointment, date, nine, weeks...\n",
       "41187    [rasmussen, awesome, show, thx, evidencebased,...\n",
       "41188    [communities, color, lower, rates, white, coun...\n",
       "Name: tokens, Length: 41189, dtype: object"
      ]
     },
     "execution_count": 139,
     "metadata": {},
     "output_type": "execute_result"
    }
   ],
   "source": [
    "emoji_df['tokens']"
   ]
  },
  {
   "cell_type": "code",
   "execution_count": 140,
   "id": "3c04bd58",
   "metadata": {},
   "outputs": [],
   "source": [
    "# Make tokens a string again\n",
    "emoji_df['tokens_back_to_text'] = [' '.join(map(str, l)) for l in emoji_df['tokens']]"
   ]
  },
  {
   "cell_type": "code",
   "execution_count": 141,
   "id": "90d3cf6f",
   "metadata": {},
   "outputs": [
    {
     "data": {
      "text/plain": [
       "'oh glad hear shes feeling sick'"
      ]
     },
     "execution_count": 141,
     "metadata": {},
     "output_type": "execute_result"
    }
   ],
   "source": [
    "emoji_df['emoji_with_clean_tweet'][500]"
   ]
  },
  {
   "cell_type": "code",
   "execution_count": 142,
   "id": "c263d3b7",
   "metadata": {},
   "outputs": [
    {
     "data": {
      "text/plain": [
       "['oh', 'glad', 'hear', 'shes', 'feeling', 'sick']"
      ]
     },
     "execution_count": 142,
     "metadata": {},
     "output_type": "execute_result"
    }
   ],
   "source": [
    "emoji_df['tokens'][500]"
   ]
  },
  {
   "cell_type": "code",
   "execution_count": 143,
   "id": "2f85aa57",
   "metadata": {},
   "outputs": [
    {
     "data": {
      "text/plain": [
       "'oh glad hear shes feeling sick'"
      ]
     },
     "execution_count": 143,
     "metadata": {},
     "output_type": "execute_result"
    }
   ],
   "source": [
    "emoji_df['tokens_back_to_text'][500]"
   ]
  },
  {
   "cell_type": "code",
   "execution_count": 144,
   "id": "3b29bc42",
   "metadata": {},
   "outputs": [
    {
     "data": {
      "text/html": [
       "<div>\n",
       "<style scoped>\n",
       "    .dataframe tbody tr th:only-of-type {\n",
       "        vertical-align: middle;\n",
       "    }\n",
       "\n",
       "    .dataframe tbody tr th {\n",
       "        vertical-align: top;\n",
       "    }\n",
       "\n",
       "    .dataframe thead th {\n",
       "        text-align: right;\n",
       "    }\n",
       "</style>\n",
       "<table border=\"1\" class=\"dataframe\">\n",
       "  <thead>\n",
       "    <tr style=\"text-align: right;\">\n",
       "      <th></th>\n",
       "      <th>emoji_with_clean_tweet</th>\n",
       "      <th>tokens</th>\n",
       "      <th>tokens_back_to_text</th>\n",
       "    </tr>\n",
       "  </thead>\n",
       "  <tbody>\n",
       "    <tr>\n",
       "      <th>0</th>\n",
       "      <td>cold dead arm never body stop govt overreach p...</td>\n",
       "      <td>[cold, dead, arm, never, body, stop, govt, ove...</td>\n",
       "      <td>cold dead arm never body stop govt overreach p...</td>\n",
       "    </tr>\n",
       "    <tr>\n",
       "      <th>1</th>\n",
       "      <td>ca government literally offering free weed get...</td>\n",
       "      <td>[ca, government, literally, offering, free, we...</td>\n",
       "      <td>ca government literally offering free weed pre...</td>\n",
       "    </tr>\n",
       "    <tr>\n",
       "      <th>2</th>\n",
       "      <td>nice see friend john pushing boxes start hard ...</td>\n",
       "      <td>[nice, see, friend, john, pushing, boxes, star...</td>\n",
       "      <td>nice see friend john pushing boxes start hard ...</td>\n",
       "    </tr>\n",
       "    <tr>\n",
       "      <th>3</th>\n",
       "      <td>online portal introduced covid vaccine appoint...</td>\n",
       "      <td>[online, portal, introduced, appointments, wp]</td>\n",
       "      <td>online portal introduced appointments wp</td>\n",
       "    </tr>\n",
       "    <tr>\n",
       "      <th>4</th>\n",
       "      <td>’ amp celebrate sharing fabulous french vaccin...</td>\n",
       "      <td>[celebrate, sharing, fabulous, french, ad]</td>\n",
       "      <td>celebrate sharing fabulous french ad</td>\n",
       "    </tr>\n",
       "  </tbody>\n",
       "</table>\n",
       "</div>"
      ],
      "text/plain": [
       "                              emoji_with_clean_tweet  \\\n",
       "0  cold dead arm never body stop govt overreach p...   \n",
       "1  ca government literally offering free weed get...   \n",
       "2  nice see friend john pushing boxes start hard ...   \n",
       "3  online portal introduced covid vaccine appoint...   \n",
       "4  ’ amp celebrate sharing fabulous french vaccin...   \n",
       "\n",
       "                                              tokens  \\\n",
       "0  [cold, dead, arm, never, body, stop, govt, ove...   \n",
       "1  [ca, government, literally, offering, free, we...   \n",
       "2  [nice, see, friend, john, pushing, boxes, star...   \n",
       "3     [online, portal, introduced, appointments, wp]   \n",
       "4         [celebrate, sharing, fabulous, french, ad]   \n",
       "\n",
       "                                 tokens_back_to_text  \n",
       "0  cold dead arm never body stop govt overreach p...  \n",
       "1  ca government literally offering free weed pre...  \n",
       "2  nice see friend john pushing boxes start hard ...  \n",
       "3           online portal introduced appointments wp  \n",
       "4               celebrate sharing fabulous french ad  "
      ]
     },
     "execution_count": 144,
     "metadata": {},
     "output_type": "execute_result"
    }
   ],
   "source": [
    "emoji_df.head()"
   ]
  },
  {
   "cell_type": "markdown",
   "id": "bd604b02",
   "metadata": {},
   "source": [
    "# Lemmetization"
   ]
  },
  {
   "cell_type": "code",
   "execution_count": 145,
   "id": "c43632a8",
   "metadata": {},
   "outputs": [],
   "source": [
    "def get_lemmas(text):\n",
    "    '''Used to lemmatize the processed tweets'''\n",
    "    lemmas = []\n",
    "    \n",
    "    doc = nlp(text)\n",
    "    \n",
    "    # Something goes here :P\n",
    "    for token in doc: \n",
    "        if ((token.is_stop == False) and (token.is_punct == False)) and (token.pos_ != 'PRON'):\n",
    "            lemmas.append(token.lemma_)\n",
    "    \n",
    "    return lemmas\n",
    "\n",
    "emoji_df['lemmas'] = emoji_df['tokens_back_to_text'].apply(get_lemmas)\n"
   ]
  },
  {
   "cell_type": "code",
   "execution_count": 146,
   "id": "fd0d907e",
   "metadata": {},
   "outputs": [],
   "source": [
    "emoji_df['lemmas_back_to_text'] = [' '.join(map(str, l)) for l in emoji_df['lemmas']]"
   ]
  },
  {
   "cell_type": "code",
   "execution_count": 147,
   "id": "1fe2ffa7",
   "metadata": {},
   "outputs": [],
   "source": [
    "# Tokenizer functions\n",
    "def tokenize(text):\n",
    "    \"\"\"\n",
    "    Parses a string into a list of semantic units (words)\n",
    "    Args:\n",
    "        text (str): The string that the function will tokenize.\n",
    "    Returns:\n",
    "        list: tokens parsed out\n",
    "    \"\"\"\n",
    "    # Removing url's\n",
    "    pattern = r\"http\\S+\"\n",
    "    \n",
    "    tokens = re.sub(pattern, \"\", text) # https://www.youtube.com/watch?v=O2onA4r5UaY\n",
    "    text = ' '.join([w for w in text.split() if len(w)>3])\n",
    "    tokens = re.sub('[^a-zA-Z 0-9]', '', text)\n",
    "    tokens = re.sub('[%s]' % re.escape(string.punctuation), '', text) # Remove punctuation\n",
    "    tokens = re.sub('\\w*\\d\\w*', '', text) # Remove words containing numbers\n",
    "    tokens = re.sub('@*!*\\$*', '', text) # Remove @ ! $\n",
    "    tokens = tokens.strip(',') # TESTING THIS LINE\n",
    "    tokens = tokens.strip('?') # TESTING THIS LINE\n",
    "    tokens = tokens.strip('!') # TESTING THIS LINE\n",
    "    tokens = tokens.strip(\"'\") # TESTING THIS LINE\n",
    "    tokens = tokens.strip(\".\") # TESTING THIS LINE\n",
    "    \n",
    "    tokens = tokens.lower().split() # Make text lowercase and split it\n",
    "    \n",
    "    return tokens\n",
    "\n",
    "# Apply tokenizer\n",
    "emoji_df['lemma_tokens'] = emoji_df['lemmas_back_to_text'].apply(tokenize)"
   ]
  },
  {
   "cell_type": "code",
   "execution_count": 148,
   "id": "92ca4250",
   "metadata": {},
   "outputs": [
    {
     "data": {
      "text/plain": [
       "['online', 'portal', 'introduce', 'appointment']"
      ]
     },
     "execution_count": 148,
     "metadata": {},
     "output_type": "execute_result"
    }
   ],
   "source": [
    "emoji_df['lemma_tokens'][3]"
   ]
  },
  {
   "cell_type": "code",
   "execution_count": 149,
   "id": "f96bfaed",
   "metadata": {},
   "outputs": [
    {
     "data": {
      "text/html": [
       "<div>\n",
       "<style scoped>\n",
       "    .dataframe tbody tr th:only-of-type {\n",
       "        vertical-align: middle;\n",
       "    }\n",
       "\n",
       "    .dataframe tbody tr th {\n",
       "        vertical-align: top;\n",
       "    }\n",
       "\n",
       "    .dataframe thead th {\n",
       "        text-align: right;\n",
       "    }\n",
       "</style>\n",
       "<table border=\"1\" class=\"dataframe\">\n",
       "  <thead>\n",
       "    <tr style=\"text-align: right;\">\n",
       "      <th></th>\n",
       "      <th>emoji_with_clean_tweet</th>\n",
       "      <th>tokens</th>\n",
       "      <th>tokens_back_to_text</th>\n",
       "      <th>lemmas</th>\n",
       "      <th>lemmas_back_to_text</th>\n",
       "      <th>lemma_tokens</th>\n",
       "    </tr>\n",
       "  </thead>\n",
       "  <tbody>\n",
       "    <tr>\n",
       "      <th>0</th>\n",
       "      <td>cold dead arm never body stop govt overreach p...</td>\n",
       "      <td>[cold, dead, arm, never, body, stop, govt, ove...</td>\n",
       "      <td>cold dead arm never body stop govt overreach p...</td>\n",
       "      <td>[cold, dead, arm, body, stop, govt, overreach,...</td>\n",
       "      <td>cold dead arm body stop govt overreach poison ...</td>\n",
       "      <td>[cold, dead, body, stop, govt, overreach, pois...</td>\n",
       "    </tr>\n",
       "    <tr>\n",
       "      <th>1</th>\n",
       "      <td>ca government literally offering free weed get...</td>\n",
       "      <td>[ca, government, literally, offering, free, we...</td>\n",
       "      <td>ca government literally offering free weed pre...</td>\n",
       "      <td>[government, literally, offer, free, weed, pre...</td>\n",
       "      <td>government literally offer free weed pretend</td>\n",
       "      <td>[government, literally, offer, free, weed, pre...</td>\n",
       "    </tr>\n",
       "    <tr>\n",
       "      <th>2</th>\n",
       "      <td>nice see friend john pushing boxes start hard ...</td>\n",
       "      <td>[nice, see, friend, john, pushing, boxes, star...</td>\n",
       "      <td>nice see friend john pushing boxes start hard ...</td>\n",
       "      <td>[nice, friend, john, pushing, box, start, hard...</td>\n",
       "      <td>nice friend john pushing box start hard work e...</td>\n",
       "      <td>[nice, friend, john, pushing, start, hard, wor...</td>\n",
       "    </tr>\n",
       "    <tr>\n",
       "      <th>3</th>\n",
       "      <td>online portal introduced covid vaccine appoint...</td>\n",
       "      <td>[online, portal, introduced, appointments, wp]</td>\n",
       "      <td>online portal introduced appointments wp</td>\n",
       "      <td>[online, portal, introduce, appointment, wp]</td>\n",
       "      <td>online portal introduce appointment wp</td>\n",
       "      <td>[online, portal, introduce, appointment]</td>\n",
       "    </tr>\n",
       "    <tr>\n",
       "      <th>4</th>\n",
       "      <td>’ amp celebrate sharing fabulous french vaccin...</td>\n",
       "      <td>[celebrate, sharing, fabulous, french, ad]</td>\n",
       "      <td>celebrate sharing fabulous french ad</td>\n",
       "      <td>[celebrate, share, fabulous, french, ad]</td>\n",
       "      <td>celebrate share fabulous french ad</td>\n",
       "      <td>[celebrate, share, fabulous, french]</td>\n",
       "    </tr>\n",
       "  </tbody>\n",
       "</table>\n",
       "</div>"
      ],
      "text/plain": [
       "                              emoji_with_clean_tweet  \\\n",
       "0  cold dead arm never body stop govt overreach p...   \n",
       "1  ca government literally offering free weed get...   \n",
       "2  nice see friend john pushing boxes start hard ...   \n",
       "3  online portal introduced covid vaccine appoint...   \n",
       "4  ’ amp celebrate sharing fabulous french vaccin...   \n",
       "\n",
       "                                              tokens  \\\n",
       "0  [cold, dead, arm, never, body, stop, govt, ove...   \n",
       "1  [ca, government, literally, offering, free, we...   \n",
       "2  [nice, see, friend, john, pushing, boxes, star...   \n",
       "3     [online, portal, introduced, appointments, wp]   \n",
       "4         [celebrate, sharing, fabulous, french, ad]   \n",
       "\n",
       "                                 tokens_back_to_text  \\\n",
       "0  cold dead arm never body stop govt overreach p...   \n",
       "1  ca government literally offering free weed pre...   \n",
       "2  nice see friend john pushing boxes start hard ...   \n",
       "3           online portal introduced appointments wp   \n",
       "4               celebrate sharing fabulous french ad   \n",
       "\n",
       "                                              lemmas  \\\n",
       "0  [cold, dead, arm, body, stop, govt, overreach,...   \n",
       "1  [government, literally, offer, free, weed, pre...   \n",
       "2  [nice, friend, john, pushing, box, start, hard...   \n",
       "3       [online, portal, introduce, appointment, wp]   \n",
       "4           [celebrate, share, fabulous, french, ad]   \n",
       "\n",
       "                                 lemmas_back_to_text  \\\n",
       "0  cold dead arm body stop govt overreach poison ...   \n",
       "1       government literally offer free weed pretend   \n",
       "2  nice friend john pushing box start hard work e...   \n",
       "3             online portal introduce appointment wp   \n",
       "4                 celebrate share fabulous french ad   \n",
       "\n",
       "                                        lemma_tokens  \n",
       "0  [cold, dead, body, stop, govt, overreach, pois...  \n",
       "1  [government, literally, offer, free, weed, pre...  \n",
       "2  [nice, friend, john, pushing, start, hard, wor...  \n",
       "3           [online, portal, introduce, appointment]  \n",
       "4               [celebrate, share, fabulous, french]  "
      ]
     },
     "execution_count": 149,
     "metadata": {},
     "output_type": "execute_result"
    }
   ],
   "source": [
    "emoji_df.head()"
   ]
  },
  {
   "cell_type": "markdown",
   "id": "5a46830b",
   "metadata": {},
   "source": [
    "# Base Model with Emoji"
   ]
  },
  {
   "cell_type": "code",
   "execution_count": 150,
   "id": "e07c024b",
   "metadata": {},
   "outputs": [
    {
     "name": "stdout",
     "output_type": "stream",
     "text": [
      "27798\n"
     ]
    }
   ],
   "source": [
    "# Create a id2word dictionary\n",
    "id2word = Dictionary(emoji_df['lemma_tokens'])\n",
    "print(len(id2word))"
   ]
  },
  {
   "cell_type": "code",
   "execution_count": 151,
   "id": "6dd3d94b",
   "metadata": {},
   "outputs": [
    {
     "name": "stdout",
     "output_type": "stream",
     "text": [
      "10976\n"
     ]
    }
   ],
   "source": [
    "# Filtering Extremes\n",
    "id2word.filter_extremes(no_below=2, no_above=.99)\n",
    "print(len(id2word))"
   ]
  },
  {
   "cell_type": "code",
   "execution_count": 152,
   "id": "9471547d",
   "metadata": {},
   "outputs": [],
   "source": [
    "# Creating a corpus object \n",
    "corpus = [id2word.doc2bow(d) for d in emoji_df['lemma_tokens']]"
   ]
  },
  {
   "cell_type": "code",
   "execution_count": 154,
   "id": "9c5b68be",
   "metadata": {},
   "outputs": [
    {
     "name": "stdout",
     "output_type": "stream",
     "text": [
      "3\n",
      "0.05\n",
      "0.1\n",
      "0.3\n",
      "0.5\n",
      "0.8\n",
      "1\n",
      "5\n",
      "0.05\n",
      "0.1\n",
      "0.3\n",
      "0.5\n",
      "0.8\n",
      "1\n",
      "7\n",
      "0.05\n",
      "0.1\n",
      "0.3\n",
      "0.5\n",
      "0.8\n",
      "1\n",
      "9\n",
      "0.05\n",
      "0.1\n",
      "0.3\n",
      "0.5\n",
      "0.8\n",
      "1\n",
      "11\n",
      "0.05\n",
      "0.1\n",
      "0.3\n",
      "0.5\n",
      "0.8\n",
      "1\n",
      "13\n",
      "0.05\n",
      "0.1\n",
      "0.3\n",
      "0.5\n",
      "0.8\n",
      "1\n"
     ]
    },
    {
     "data": {
      "text/html": [
       "<div>\n",
       "<style scoped>\n",
       "    .dataframe tbody tr th:only-of-type {\n",
       "        vertical-align: middle;\n",
       "    }\n",
       "\n",
       "    .dataframe tbody tr th {\n",
       "        vertical-align: top;\n",
       "    }\n",
       "\n",
       "    .dataframe thead th {\n",
       "        text-align: right;\n",
       "    }\n",
       "</style>\n",
       "<table border=\"1\" class=\"dataframe\">\n",
       "  <thead>\n",
       "    <tr style=\"text-align: right;\">\n",
       "      <th></th>\n",
       "      <th>MulLda_Topic_Num</th>\n",
       "      <th>MulLda_alpha_val</th>\n",
       "      <th>MulLda_Coherent_score</th>\n",
       "      <th>MulLda_Perplexity_val</th>\n",
       "    </tr>\n",
       "  </thead>\n",
       "  <tbody>\n",
       "    <tr>\n",
       "      <th>24</th>\n",
       "      <td>11</td>\n",
       "      <td>0.05</td>\n",
       "      <td>0.414876</td>\n",
       "      <td>-7.805599</td>\n",
       "    </tr>\n",
       "    <tr>\n",
       "      <th>14</th>\n",
       "      <td>7</td>\n",
       "      <td>0.30</td>\n",
       "      <td>0.414515</td>\n",
       "      <td>-7.756675</td>\n",
       "    </tr>\n",
       "    <tr>\n",
       "      <th>25</th>\n",
       "      <td>11</td>\n",
       "      <td>0.10</td>\n",
       "      <td>0.409483</td>\n",
       "      <td>-7.786770</td>\n",
       "    </tr>\n",
       "    <tr>\n",
       "      <th>20</th>\n",
       "      <td>9</td>\n",
       "      <td>0.30</td>\n",
       "      <td>0.408575</td>\n",
       "      <td>-7.768453</td>\n",
       "    </tr>\n",
       "    <tr>\n",
       "      <th>18</th>\n",
       "      <td>9</td>\n",
       "      <td>0.05</td>\n",
       "      <td>0.402290</td>\n",
       "      <td>-7.778685</td>\n",
       "    </tr>\n",
       "  </tbody>\n",
       "</table>\n",
       "</div>"
      ],
      "text/plain": [
       "    MulLda_Topic_Num  MulLda_alpha_val  MulLda_Coherent_score  \\\n",
       "24                11              0.05               0.414876   \n",
       "14                 7              0.30               0.414515   \n",
       "25                11              0.10               0.409483   \n",
       "20                 9              0.30               0.408575   \n",
       "18                 9              0.05               0.402290   \n",
       "\n",
       "    MulLda_Perplexity_val  \n",
       "24              -7.805599  \n",
       "14              -7.756675  \n",
       "25              -7.786770  \n",
       "20              -7.768453  \n",
       "18              -7.778685  "
      ]
     },
     "execution_count": 154,
     "metadata": {},
     "output_type": "execute_result"
    }
   ],
   "source": [
    "MulLda_coherent_scores = []\n",
    "MulLda_topics_val = []\n",
    "MulLda_perplexity_val = []\n",
    "alpha_val = [0.05, 0.1, 0.3, 0.5, 0.8, 1]\n",
    "MulLda_alphas = []\n",
    "\n",
    "\n",
    "for topics in range(3, 15, 2):\n",
    "    print(topics)\n",
    "    for alph in alpha_val:\n",
    "        print(alph)\n",
    "\n",
    "        lda_model_multi_notts = gensim.models.LdaMulticore(corpus = corpus,\n",
    "                     id2word = id2word,\n",
    "                     random_state = 42,\n",
    "                     num_topics = topics,\n",
    "                     passes=10,\n",
    "                     chunksize=512,\n",
    "                     alpha=alph,\n",
    "                     offset=64,\n",
    "                     eta=None,\n",
    "                     iterations=100,\n",
    "                     per_word_topics=True,\n",
    "                     workers=6)\n",
    "\n",
    "        coherence_model_MulLda_notts = CoherenceModel(model = lda_model_multi_notts, \n",
    "                                   texts = emoji_df['lemma_tokens'], \n",
    "                                   dictionary = id2word, \n",
    "                                   coherence = 'c_v')\n",
    "\n",
    "        coherence_MulLda = coherence_model_MulLda_notts.get_coherence()\n",
    "        perplexity_MulLda = lda_model_multi_notts.log_perplexity(corpus)\n",
    "\n",
    "        MulLda_topics_val.append(topics)\n",
    "        MulLda_alphas.append(alph)        \n",
    "        MulLda_coherent_scores.append(coherence_MulLda)\n",
    "        MulLda_perplexity_val.append(perplexity_MulLda)\n",
    "            \n",
    "\n",
    "            \n",
    "df_mulLDA_notts = pd.DataFrame(list(zip(MulLda_topics_val, MulLda_alphas, MulLda_coherent_scores, MulLda_perplexity_val)), \n",
    "                         columns = [\"MulLda_Topic_Num\", \"MulLda_alpha_val\", \"MulLda_Coherent_score\", \"MulLda_Perplexity_val\"])\n",
    "\n",
    "df_mulLDA_notts.sort_values(\"MulLda_Coherent_score\", axis = 0, ascending = False, \n",
    "                     inplace = True) \n",
    "\n",
    "df_mulLDA_notts.head()"
   ]
  },
  {
   "cell_type": "code",
   "execution_count": 157,
   "id": "fb2c84a0",
   "metadata": {},
   "outputs": [
    {
     "name": "stdout",
     "output_type": "stream",
     "text": [
      "[(0,\n",
      "  '0.118*\"syringe\" + 0.054*\"check\" + 0.049*\"mark\" + 0.049*\"heart\" + '\n",
      "  '0.035*\"heavy\" + 0.034*\"double\" + 0.032*\"white\" + 0.018*\"jabbed\" + '\n",
      "  '0.011*\"blue\" + 0.011*\"vaxxe\" + 0.008*\"exclamation\" + 0.008*\"flex\" + '\n",
      "  '0.008*\"bicep\" + 0.007*\"finally\" + 0.007*\"officially\" + 0.007*\"cross\" + '\n",
      "  '0.007*\"black\" + 0.006*\"sparkle\" + 0.006*\"happy\" + 0.006*\"hope\"'),\n",
      " (1,\n",
      "  '0.183*\"face\" + 0.063*\"smile\" + 0.024*\"tear\" + 0.020*\"open\" + 0.014*\"mouth\" '\n",
      "  '+ 0.012*\"thinking\" + 0.012*\"think\" + 0.009*\"cold\" + 0.009*\"grin\" + '\n",
      "  '0.008*\"tell\" + 0.008*\"loudly\" + 0.007*\"rolling\" + 0.007*\"heart\" + '\n",
      "  '0.006*\"sweat\" + 0.006*\"wink\" + 0.006*\"slightly\" + 0.005*\"sunglass\" + '\n",
      "  '0.005*\"follow\" + 0.005*\"feel\" + 0.004*\"finally\"'),\n",
      " (2,\n",
      "  '0.107*\"hand\" + 0.079*\"skin\" + 0.078*\"tone\" + 0.061*\"light\" + 0.058*\"medium\" '\n",
      "  '+ 0.041*\"person\" + 0.036*\"sign\" + 0.033*\"fold\" + 0.025*\"clap\" + '\n",
      "  '0.023*\"thumb\" + 0.022*\"raise\" + 0.016*\"syringe\" + 0.015*\"victory\" + '\n",
      "  '0.014*\"female\" + 0.013*\"bicep\" + 0.013*\"male\" + 0.013*\"flex\" + 0.012*\"dark\" '\n",
      "  '+ 0.010*\"shrug\" + 0.009*\"facepalme\"'),\n",
      " (3,\n",
      "  '0.023*\"effect\" + 0.022*\"feel\" + 0.015*\"roll\" + 0.011*\"laugh\" + '\n",
      "  '0.010*\"floor\" + 0.009*\"test\" + 0.009*\"long\" + 0.007*\"symptom\" + '\n",
      "  '0.007*\"think\" + 0.007*\"yesterday\" + 0.007*\"stop\" + 0.006*\"body\" + '\n",
      "  '0.006*\"hour\" + 0.006*\"pain\" + 0.006*\"sore\" + 0.005*\"fine\" + 0.005*\"sick\" + '\n",
      "  '0.005*\"country\" + 0.005*\"well\" + 0.005*\"government\"'),\n",
      " (4,\n",
      "  '0.030*\"death\" + 0.030*\"case\" + 0.015*\"number\" + 0.012*\"report\" + '\n",
      "  '0.012*\"rate\" + 0.011*\"news\" + 0.008*\"administer\" + 0.008*\"state\" + '\n",
      "  '0.007*\"datum\" + 0.007*\"show\" + 0.007*\"country\" + 0.007*\"total\" + '\n",
      "  '0.007*\"june\" + 0.006*\"rise\" + 0.006*\"high\" + 0.006*\"world\" + '\n",
      "  '0.005*\"america\" + 0.005*\"unvaccinate\" + 0.005*\"watch\" + 0.005*\"think\"'),\n",
      " (5,\n",
      "  '0.019*\"receive\" + 0.018*\"finally\" + 0.016*\"population\" + 0.016*\"woman\" + '\n",
      "  '0.015*\"party\" + 0.014*\"country\" + 0.013*\"travel\" + 0.011*\"study\" + '\n",
      "  '0.009*\"complete\" + 0.009*\"covishield\" + 0.009*\"covaxin\" + 0.008*\"canada\" + '\n",
      "  '0.008*\"popper\" + 0.008*\"pregnant\" + 0.008*\"eligible\" + 0.008*\"moderna\" + '\n",
      "  '0.007*\"efficacy\" + 0.007*\"trial\" + 0.007*\"million\" + 0.007*\"able\"'),\n",
      " (6,\n",
      "  '0.080*\"mask\" + 0.045*\"medical\" + 0.042*\"wear\" + 0.040*\"world\" + '\n",
      "  '0.034*\"save\" + 0.028*\"care\" + 0.027*\"life\" + 0.022*\"million\" + 0.018*\"rest\" '\n",
      "  '+ 0.015*\"illness\" + 0.014*\"common\" + 0.013*\"stay\" + 0.011*\"johnson\" + '\n",
      "  '0.010*\"commission\" + 0.009*\"distribute\" + 0.008*\"starve\" + 0.008*\"continue\" '\n",
      "  '+ 0.007*\"dollar\" + 0.007*\"indoor\" + 0.006*\"hospital\"'),\n",
      " (7,\n",
      "  '0.027*\"point\" + 0.019*\"index\" + 0.019*\"backhand\" + 0.018*\"protect\" + '\n",
      "  '0.015*\"help\" + 0.012*\"virus\" + 0.012*\"love\" + 0.010*\"risk\" + '\n",
      "  '0.009*\"pandemic\" + 0.009*\"immunity\" + 0.008*\"spread\" + 0.007*\"important\" + '\n",
      "  '0.007*\"disease\" + 0.007*\"life\" + 0.006*\"community\" + 0.006*\"thing\" + '\n",
      "  '0.006*\"child\" + 0.006*\"stop\" + 0.005*\"good\" + 0.005*\"sure\"'),\n",
      " (8,\n",
      "  '0.019*\"variant\" + 0.018*\"july\" + 0.018*\"book\" + 0.017*\"clinic\" + '\n",
      "  '0.017*\"appointment\" + 0.016*\"week\" + 0.016*\"delta\" + 0.015*\"free\" + '\n",
      "  '0.015*\"centre\" + 0.012*\"available\" + 0.010*\"visit\" + 0.010*\"walkin\" + '\n",
      "  '0.009*\"find\" + 0.008*\"walk\" + 0.008*\"register\" + 0.008*\"come\" + '\n",
      "  '0.007*\"weekend\" + 0.007*\"open\" + 0.007*\"need\" + 0.007*\"site\"'),\n",
      " (9,\n",
      "  '0.060*\"right\" + 0.019*\"arrow\" + 0.016*\"shot\" + 0.012*\"choice\" + '\n",
      "  '0.012*\"wave\" + 0.010*\"pointing\" + 0.009*\"heart\" + 0.009*\"backhand\" + '\n",
      "  '0.009*\"index\" + 0.008*\"district\" + 0.007*\"leave\" + 0.007*\"ready\" + '\n",
      "  '0.007*\"medical\" + 0.007*\"break\" + 0.006*\"minute\" + 0.006*\"corona\" + '\n",
      "  '0.005*\"warn\" + 0.005*\"home\" + 0.005*\"round\" + 0.005*\"risk\"'),\n",
      " (10,\n",
      "  '0.024*\"work\" + 0.017*\"family\" + 0.013*\"thank\" + 0.013*\"great\" + '\n",
      "  '0.012*\"friend\" + 0.011*\"year\" + 0.010*\"team\" + 0.009*\"science\" + '\n",
      "  '0.009*\"child\" + 0.008*\"help\" + 0.007*\"doctor\" + 0.007*\"worker\" + '\n",
      "  '0.007*\"take\" + 0.007*\"staff\" + 0.006*\"question\" + 0.006*\"thing\" + '\n",
      "  '0.006*\"young\" + 0.006*\"protect\" + 0.006*\"share\" + 0.006*\"wait\"')]\n",
      "\n",
      "\u001b[91m\u001b[1m------- Visualization -----------\n",
      "\n"
     ]
    },
    {
     "data": {
      "text/html": [
       "\n",
       "<link rel=\"stylesheet\" type=\"text/css\" href=\"https://cdn.jsdelivr.net/gh/bmabey/pyLDAvis@3.3.1/pyLDAvis/js/ldavis.v1.0.0.css\">\n",
       "\n",
       "\n",
       "<div id=\"ldavis_el1158426293124339522404209676\"></div>\n",
       "<script type=\"text/javascript\">\n",
       "\n",
       "var ldavis_el1158426293124339522404209676_data = {\"mdsDat\": {\"x\": [-0.06658947369924365, -0.0623082383902759, -0.14424033433190447, -0.14201002356712653, -0.09105663458013544, 0.04651492753821826, -0.04823191412813044, -0.09213732405348926, 0.2618808561330425, 0.3414702031041063, -0.0032920440250619972], \"y\": [-0.06457391216961815, -0.0576229318855278, -0.004813906757355781, -0.016270272135499243, -0.07140471017061033, -0.14131406637709298, -0.06163466854203858, 0.3272153755597425, -0.07285311624618115, 0.10432824536353609, 0.05894396336064512], \"topics\": [1, 2, 3, 4, 5, 6, 7, 8, 9, 10, 11], \"cluster\": [1, 1, 1, 1, 1, 1, 1, 1, 1, 1, 1], \"Freq\": [14.192742607938413, 13.564748624866072, 10.962600380307578, 10.94696342655924, 9.982283743677037, 7.749380237376689, 6.932894994684413, 6.722068859557045, 6.595488076300924, 6.190829988191539, 6.159999060541051]}, \"tinfo\": {\"Term\": [\"face\", \"syringe\", \"hand\", \"mask\", \"skin\", \"tone\", \"smile\", \"light\", \"right\", \"medium\", \"check\", \"mark\", \"heart\", \"medical\", \"wear\", \"world\", \"death\", \"person\", \"case\", \"heavy\", \"sign\", \"save\", \"double\", \"point\", \"fold\", \"white\", \"care\", \"life\", \"effect\", \"book\", \"healthcare\", \"colleague\", \"weapon\", \"delight\", \"generation\", \"patriotic\", \"cycle\", \"friend\", \"accurate\", \"fence\", \"workplace\", \"coworker\", \"chicken\", \"thankfully\", \"conversation\", \"warrior\", \"roulette\", \"weather\", \"tiny\", \"whooping\", \"timely\", \"niece\", \"communicate\", \"grandparent\", \"neil\", \"heartbreaking\", \"soldier\", \"dinner\", \"waiting\", \"persistent\", \"nurse\", \"parent\", \"immune\", \"proud\", \"worker\", \"doctor\", \"family\", \"team\", \"chat\", \"work\", \"amazing\", \"pharmacist\", \"science\", \"hard\", \"member\", \"message\", \"incredibly\", \"thank\", \"daughter\", \"professional\", \"system\", \"trust\", \"great\", \"scientist\", \"fantastic\", \"young\", \"child\", \"year\", \"support\", \"reason\", \"question\", \"staff\", \"share\", \"fight\", \"thing\", \"help\", \"community\", \"take\", \"wait\", \"protect\", \"long\", \"care\", \"make\", \"live\", \"appointment\", \"delta\", \"clinic\", \"walkin\", \"near\", \"aged\", \"slot\", \"registration\", \"book\", \"cowin\", \"door\", \"popup\", \"college\", \"location\", \"dropin\", \"east\", \"factory\", \"booking\", \"portal\", \"letter\", \"mobile\", \"website\", \"megaphone\", \"register\", \"street\", \"protective\", \"1217\", \"bonus\", \"circle\", \"15th\", \"free\", \"certificate\", \"musical\", \"available\", \"walk\", \"centre\", \"saturday\", \"july\", \"detail\", \"variant\", \"visit\", \"online\", \"site\", \"note\", \"weekend\", \"week\", \"find\", \"tomorrow\", \"provide\", \"offer\", \"need\", \"open\", \"come\", \"receive\", \"center\", \"2021\", \"immunity\", \"herd\", \"vote\", \"reduce\", \"distancing\", \"mutate\", \"responsibility\", \"webinar\", \"vaccinating\", \"irresponsible\", \"vaxxer\", \"eliminate\", \"transmit\", \"o\\u2019clock\", \"republicans\", \"colorado\", \"fatality\", \"peak\", \"tune\", \"pose\", \"taiwan\", \"jesus\", \"equity\", \"fraud\", \"qualify\", \"arkansas\", \"injure\", \"zone\", \"infertility\", \"dame\", \"point\", \"preventable\", \"comparison\", \"infectious\", \"index\", \"backhand\", \"deadly\", \"remind\", \"seek\", \"natural\", \"create\", \"love\", \"protect\", \"virus\", \"important\", \"anti\", \"help\", \"build\", \"pandemic\", \"risk\", \"disease\", \"access\", \"expert\", \"spread\", \"booster\", \"good\", \"sure\", \"chance\", \"community\", \"thing\", \"stop\", \"social\", \"child\", \"life\", \"mean\", \"read\", \"infection\", \"country\", \"look\", \"vaccination\", \"come\", \"death\", \"america\", \"china\", \"statistic\", \"globe\", \"positivity\", \"threaten\", \"challenge\", \"injury\", \"indias\", \"scale\", \"identify\", \"data\", \"decline\", \"wise\", \"livelihood\", \"singapore\", \"vaer\", \"reflect\", \"600000\", \"overtakes\", \"correlation\", \"disagree\", \"journalist\", \"maryland\", \"investigate\", \"cite\", \"doortodoor\", \"avoidable\", \"retract\", \"case\", \"1000\", \"average\", \"fake\", \"coverage\", \"rich\", \"report\", \"hospitalization\", \"total\", \"rise\", \"2020\", \"rate\", \"nation\", \"number\", \"official\", \"record\", \"europe\", \"daily\", \"datum\", \"administer\", \"responsible\", \"show\", \"news\", \"accord\", \"june\", \"poor\", \"australia\", \"figure\", \"state\", \"unvaccinate\", \"fear\", \"high\", \"watch\", \"talk\", \"country\", \"unvaccinated\", \"infection\", \"world\", \"think\", \"2021\", \"increase\", \"week\", \"month\", \"great\", \"roll\", \"laugh\", \"floor\", \"pain\", \"sore\", \"fever\", \"symptom\", \"headache\", \"period\", \"ache\", \"independence\", \"prime\", \"sideeffect\", \"slight\", \"longterm\", \"attempt\", \"muscle\", \"awful\", \"scam\", \"bang\", \"eradicate\", \"lesson\", \"import\", \"cipla\", \"amber\", \"painful\", \"file\", \"troop\", \"dcgi\", \"coincidence\", \"effect\", \"drug\", \"isolate\", \"wake\", \"complication\", \"mild\", \"fine\", \"injection\", \"shame\", \"minister\", \"approval\", \"sleep\", \"feel\", \"emergency\", \"body\", \"absolutely\", \"term\", \"test\", \"guess\", \"yesterday\", \"hour\", \"long\", \"sick\", \"dead\", \"stop\", \"think\", \"hear\", \"positive\", \"disease\", \"well\", \"moderna\", \"government\", \"country\", \"cause\", \"come\", \"year\", \"tear\", \"mouth\", \"smile\", \"thinking\", \"cold\", \"grin\", \"loudly\", \"sweat\", \"rolling\", \"sunglass\", \"slightly\", \"face\", \"weary\", \"clown\", \"grimace\", \"flush\", \"thermometer\", \"disappoint\", \"upside\", \"sleepy\", \"flushed\", \"prick\", \"closed\", \"smirk\", \"halo\", \"pensive\", \"chip\", \"relieved\", \"wink\", \"delicious\", \"scream\", \"pout\", \"tongue\", \"sticker\", \"open\", \"stick\", \"think\", \"blood\", \"tell\", \"picture\", \"follow\", \"fuck\", \"heart\", \"fear\", \"instead\", \"feel\", \"close\", \"finally\", \"happy\", \"take\", \"wait\", \"party\", \"covaxin\", \"pregnant\", \"popper\", \"covishield\", \"efficacy\", \"phase\", \"israel\", \"european\", \"cent\", \"partially\", \"nope\", \"indicate\", \"george\", \"symptomatic\", \"brazil\", \"bloody\", \"confetti\", \"ruin\", \"javid\", \"airport\", \"covidshield\", \"demonstrate\", \"defend\", \"spain\", \"preliminary\", \"sajid\", \"inactivate\", \"steady\", \"tracker\", \"additional\", \"overseas\", \"canada\", \"bitch\", \"sweet\", \"control\", \"population\", \"woman\", \"travel\", \"clinical\", \"trial\", \"union\", \"passport\", \"study\", \"finally\", \"antibody\", \"complete\", \"receive\", \"arrive\", \"response\", \"eligible\", \"indian\", \"country\", \"baby\", \"able\", \"mrna\", \"thread\", \"moderna\", \"expect\", \"adult\", \"million\", \"half\", \"vaxxe\", \"datum\", \"month\", \"wear\", \"illness\", \"johnson\", \"commission\", \"distribute\", \"starve\", \"dollar\", \"mask\", \"banknote\", \"rest\", \"director\", \"crossbone\", \"wash\", \"save\", \"michigan\", \"actor\", \"countrys\", \"syndrome\", \"common\", \"skull\", \"freeforall\", \"grocery\", \"magnet\", \"vigilant\", \"neck\", \"chinnalapatty\", \"dindigul\", \"accomplishment\", \"columbia\", \"independent\", \"undergo\", \"medical\", \"indoor\", \"world\", \"bill\", \"precaution\", \"care\", \"distance\", \"million\", \"life\", \"stay\", \"donate\", \"infect\", \"large\", \"continue\", \"damn\", \"hospital\", \"refuse\", \"place\", \"patient\", \"protect\", \"check\", \"mark\", \"heavy\", \"white\", \"exclamation\", \"officially\", \"milestone\", \"dust\", \"dose\", \"double\", \"rural\", \"purple\", \"blue\", \"ballot\", \"jabbed\", \"woohoo\", \"camera\", \"cream\", \"trophy\", \"lollipop\", \"flash\", \"path\", \"graph\", \"\\u1d20\\u1d00\\u1d04\\u1d04\\u026a\\u0274\\u1d07ss\\u1d00\\u1d20\\u1d07\\u029f\\u026a\\u1d20\\u1d07s\", \"saudi\", \"louis\", \"lanka\", \"yellow\", \"obligatory\", \"pasteur\", \"syringe\", \"sparkle\", \"club\", \"smooth\", \"dream\", \"heart\", \"alhamdulillah\", \"cross\", \"beer\", \"efficient\", \"square\", \"girl\", \"black\", \"vaxxe\", \"step\", \"flex\", \"bicep\", \"achieve\", \"finally\", \"happy\", \"hope\", \"soon\", \"super\", \"thank\", \"finger\", \"week\", \"grateful\", \"look\", \"love\", \"feel\", \"hand\", \"skin\", \"tone\", \"light\", \"medium\", \"sign\", \"fold\", \"clap\", \"raise\", \"victory\", \"female\", \"male\", \"dark\", \"shrug\", \"facepalme\", \"police\", \"fist\", \"dance\", \"thumb\", \"oncoming\", \"collision\", \"clapping\", \"gesture\", \"glove\", \"cartwheel\", \"tunnel\", \"droplet\", \"scrub\", \"bulb\", \"oncome\", \"person\", \"activate\", \"middle\", \"relieve\", \"bicep\", \"flex\", \"finger\", \"syringe\", \"woman\", \"heart\", \"finally\", \"pointing\", \"right\", \"kiss\", \"blow\", \"inflammation\", \"assume\", \"glow\", \"venue\", \"curve\", \"hotel\", \"doze\", \"pride\", \"rubella\", \"flag\", \"wine\", \"nephew\", \"edition\", \"bust\", \"graphene\", \"bottle\", \"discriminate\", \"dish\", \"defence\", \"tshirt\", \"soul\", \"dude\", \"alcohol\", \"metal\", \"infographic\", \"tree\", \"arrow\", \"choice\", \"corona\", \"shot\", \"water\", \"district\", \"covax\", \"wave\", \"symbol\", \"break\", \"inform\", \"awareness\", \"condition\", \"warn\", \"minute\", \"multiple\", \"round\", \"drink\", \"star\", \"enjoy\", \"ready\", \"leave\", \"inside\", \"backhand\", \"index\", \"home\", \"heart\", \"body\", \"medical\", \"risk\", \"take\"], \"Freq\": [4301.0, 2637.0, 1995.0, 1617.0, 1468.0, 1448.0, 1463.0, 1129.0, 1122.0, 1069.0, 1067.0, 965.0, 1369.0, 1038.0, 851.0, 983.0, 998.0, 839.0, 1050.0, 702.0, 666.0, 697.0, 685.0, 940.0, 618.0, 625.0, 788.0, 1000.0, 716.0, 749.0, 208.29404662520218, 87.63189228237263, 40.57505494375072, 39.07360638604434, 35.31084100210404, 34.54325896402743, 30.417257327753752, 502.4728464745227, 29.900471948731134, 24.53409517747811, 23.984640298887083, 23.64556410818446, 23.539802180446607, 22.705550071816763, 71.8657206839797, 22.78345616980122, 21.34704420766964, 21.588364728874623, 21.2136123540075, 18.62496721971166, 18.67217439871624, 19.32476376426041, 18.410779982044282, 29.897026531098348, 17.32586754383512, 17.21430665598799, 16.96459939337256, 23.839293249138038, 16.780205103357876, 16.559873124459077, 216.83963418211079, 201.39970149534122, 210.28856171205484, 199.47080302401017, 311.8693883974042, 312.8187769441943, 719.316347456279, 407.65729312984416, 60.361059740973154, 1024.163092294561, 199.2258858833914, 56.61033844644127, 376.78472510127693, 217.34255609291748, 213.50151528205222, 151.85286083350653, 45.7237606395789, 564.4128692337868, 98.13034255354304, 107.23309627987406, 200.02431060607574, 202.65998073362363, 540.7739927060147, 165.57089772329687, 72.43097738804484, 271.5476113091466, 376.618591524716, 463.3703010590807, 229.69656453547736, 220.04352556011864, 274.28469073611353, 278.2244440015169, 261.13461731014013, 238.0946386433484, 271.9698856601689, 335.8248864120404, 249.18436223978804, 281.76793953710205, 259.6416558819119, 264.5849923783667, 239.5375299736038, 227.58586699158596, 218.92494965653478, 216.66600496316028, 684.2911096025878, 641.9755725690585, 688.0417746068406, 387.0538077211889, 219.46397478992833, 171.1728456736255, 153.94740019075374, 150.64738355674407, 742.5021885615687, 84.60576323778517, 177.47314793081983, 77.25999864626365, 84.03752517062999, 81.57262376020496, 64.84548226734998, 60.42421295362656, 54.6411480585523, 83.26990865049483, 48.34535645457175, 61.44913570635515, 89.47630214014964, 116.08150883869739, 39.2005851094755, 325.9661070559144, 63.09321668389519, 29.782523615171556, 26.311997656366493, 25.15385190811355, 41.12559165392705, 23.47408607271659, 598.2020332173021, 131.7901524168048, 56.9687777831471, 505.4529584095077, 335.56572471111457, 598.123343166278, 154.93954489838453, 744.6897416563179, 165.30856059221608, 778.5507983812208, 413.8930282456084, 174.27060310134212, 271.06436927456156, 137.37234162526929, 290.3464262427112, 648.5463434481613, 360.9065744662757, 228.90596596286287, 184.332278426091, 219.4961179321578, 285.36645661910086, 289.98420941824793, 321.18079675650154, 215.14801880496884, 159.50407009437623, 163.05740349668727, 295.8166405076067, 107.07222085975108, 99.07106123828841, 139.5845839338337, 65.09411831514066, 70.76415756295278, 61.88286004437792, 50.33579208964193, 39.88233427110389, 33.82864693801233, 27.75932511547364, 27.16798108974445, 27.13657043166591, 25.96251140836552, 28.283383016156364, 24.667538774173245, 24.457160502139445, 26.98477841692843, 25.66709499240776, 29.656679349686392, 22.889794319440004, 22.79549724936293, 21.559045776625535, 21.62650421419346, 20.739783978761515, 19.77852326112965, 19.689632975059272, 19.67406549603717, 21.107403170378063, 18.825713515383597, 890.6789815916331, 68.73570987699702, 27.396247316089344, 75.9074718951667, 640.8576228789356, 628.2855175132082, 94.038700853226, 38.778193925261164, 72.1651502624321, 60.13368500570271, 129.45507365564004, 402.4674308898729, 588.3849832106711, 404.7129157695251, 230.6069502697394, 66.04493880855564, 500.830616973336, 76.16084788505542, 305.36517423011236, 331.55085715793825, 217.46406924959453, 116.10604559315497, 114.82338181674565, 251.19581528387215, 129.5931840561736, 164.5038540706075, 162.35051426909772, 128.01753538494265, 189.71859806084623, 188.0502146197328, 183.4947157357253, 115.25227917016043, 184.39349784765943, 217.44613343069412, 134.55624417427202, 152.2020879052149, 126.52739967436149, 144.7806258976143, 136.27808278870944, 126.25789523246412, 128.7423584335453, 996.9034638846516, 178.15669062127023, 74.31045381983097, 55.73690878726377, 74.70119061235415, 50.73236305266687, 48.347242778801316, 83.86862337579942, 53.92569225871663, 44.44241761756355, 44.37109021975042, 36.89827391682864, 37.1038630772349, 34.81313096757097, 26.932791806059765, 26.44343400761849, 24.876603864840035, 24.96708993782967, 26.56707925257314, 21.28527664998923, 20.583380106842064, 19.00376922925122, 20.706593273102982, 18.71233023847613, 19.031770222828225, 20.638617352945225, 18.357538187195694, 22.297000382479258, 17.991101041563386, 17.91861314920559, 970.6206599110598, 60.45440896842275, 64.2058997252591, 99.98058550053146, 68.52677843150856, 36.442274123025605, 406.9273088486616, 118.39411993932329, 215.60160908865961, 205.95199944524057, 129.50787220906474, 392.9215965261908, 137.23766062359965, 487.7905687213006, 137.41270985014006, 142.62997213173716, 71.05921077400006, 120.09101915188357, 233.54107290261672, 256.47423459936437, 93.90792211650195, 225.9211624822685, 373.74696885135785, 115.29717104791261, 213.63177379504964, 84.31896408582614, 129.32086243248898, 79.60069533991106, 255.24203793376586, 177.18780959430165, 130.7728609709239, 192.97847341392801, 168.20220931051787, 141.06496016080712, 224.7014463906199, 128.689339272694, 144.35793512578311, 180.98727255725805, 167.9490035485802, 137.67680552464188, 130.32906644429247, 147.83007362415313, 136.5737277380695, 132.67471078511295, 446.34774229215935, 325.99279126940235, 303.1085341254345, 172.99262529726622, 172.88015673030387, 125.71144783527272, 222.6842200487441, 115.86265882940937, 119.66965148080983, 70.37217788502461, 65.04678287116043, 52.51970710480321, 45.37934082868768, 43.91206466281897, 38.672488995390935, 34.24327557327705, 33.73408473607115, 32.35698286579955, 30.599183822437144, 41.02248092942337, 28.58710665460601, 27.88703027155063, 55.576633856638516, 26.937470043527178, 26.24393131433633, 35.00472570743832, 24.892165903694934, 23.672570933702048, 24.531993476990035, 22.872993202202824, 681.9613566092122, 126.58649624298413, 44.90692473031337, 109.14305246926651, 50.343264601945876, 93.74892433979241, 160.2951556073325, 116.69369052118164, 62.60666545601308, 104.84730132820478, 123.81324788088995, 76.18563403880452, 650.783351577476, 94.53483750302759, 192.043885617822, 106.9143575499751, 105.60985327496401, 263.1270185419326, 100.22728952895962, 205.276975700318, 176.24814679638806, 262.3699477641734, 150.98210554348816, 95.51699883165551, 202.28692130233222, 208.62277609749876, 132.2503848233384, 119.0190102212165, 134.90536266858726, 142.2538669232572, 137.35671438813543, 141.19636392812, 144.47747816290354, 125.11418172520382, 140.05460713672545, 133.23207195413937, 553.231436104519, 334.03325669019546, 1458.8726810751668, 274.3801098495373, 207.89231202313906, 207.06467791321998, 180.92536386847144, 144.72910439197275, 169.5211851518282, 118.16333790495077, 131.82607856990793, 4258.105169580485, 75.40925827633855, 61.90244608644678, 55.791790883831645, 48.899587711915856, 43.02168024142886, 40.206817486480794, 38.770838741331914, 36.36842880929406, 35.721108822321945, 35.56537253073968, 35.30717266773906, 33.21282744555206, 40.59815448753243, 29.83325382647535, 48.516168129007575, 31.05038972052256, 133.40601086435598, 23.620237911207486, 61.01333491640055, 45.62379588054324, 67.86004203219547, 48.26216652773015, 462.9662213458027, 88.77094757517457, 274.3206683102456, 82.20399464739756, 183.0789016034649, 55.795975611506734, 118.01583843504721, 74.44478411280603, 159.82411547289712, 80.6982018684868, 66.03048775443783, 117.61638912555945, 83.8573518596428, 94.60336440315993, 84.56800307133292, 86.212568565927, 77.85068686907265, 302.2957512582347, 181.27558400482138, 169.26504432626203, 169.89985655628635, 182.64526965774343, 154.02749727490473, 69.29941812554952, 60.99399040428426, 53.416432791062185, 37.68510361012978, 36.17982438575176, 31.677223268286756, 28.308272845627393, 27.11718382957867, 24.964403104831288, 23.052779057051424, 23.372805361092848, 21.130686361236908, 20.036309442472433, 18.852739545588086, 31.09512478575682, 16.597606778779056, 24.152350343161334, 16.34640523666055, 17.503943967214003, 15.08051369841282, 14.584446773690651, 13.929882628863032, 13.832011788094034, 28.103384718651768, 52.18923505170912, 28.558605027430275, 172.45127167756942, 42.72046761761722, 28.693801453783838, 140.26469528575365, 333.0451854485156, 324.24299700940725, 264.7436864141765, 71.69087094875793, 145.28686632666862, 58.473383087835046, 86.97930100555219, 226.39000839708532, 379.1888355898183, 74.83219184409622, 185.96741749873135, 394.21242798210614, 66.86729183197562, 108.89809760634049, 166.82709646667487, 91.29331389655538, 293.76048307380387, 101.1030788333887, 140.45708787170247, 112.96589990678645, 84.31578441426679, 160.34818750368458, 97.65511348666674, 120.79634208557927, 142.17992269885286, 82.46459422731337, 97.85756062423248, 88.16451760164162, 89.92339576845143, 849.6760992956871, 299.9908371870501, 223.8612014169974, 199.2598201665845, 190.83302736285341, 162.39895996991697, 137.2045456647963, 1606.9776290065108, 101.51164398478699, 370.0327152991338, 71.87006406746545, 66.45694572637673, 54.694237504971845, 684.2462588932462, 33.598812111481486, 29.32725868614519, 26.071158024773275, 26.449949987527813, 283.399003970743, 100.34127174855483, 20.050521963556665, 19.777222225256796, 18.788254633271507, 17.099553728348674, 16.68216573217283, 15.902452130608529, 15.902452130608529, 15.186555349239775, 14.554575238662935, 13.563359459428531, 15.511701924867332, 910.1434374668493, 132.62997416589957, 796.7069575013351, 93.96651625890604, 50.348156965824515, 559.1741854439693, 94.56058242315909, 446.4921008522312, 547.3894109418677, 271.12996406524206, 52.862820734284895, 107.63721345211333, 100.33084673405241, 160.41371788388975, 69.66303684182819, 125.48334496734944, 94.62781907074715, 88.73183472009775, 91.191105033121, 97.80846281971728, 1066.4438170527371, 964.2133113523611, 701.8016551378695, 624.903099300787, 167.74908362114482, 144.98139636200239, 79.968826023309, 67.13534452971335, 60.203590793734385, 674.6154898781183, 54.39159918796797, 50.86167311855773, 223.37495575170647, 43.053890703625584, 353.4993240819094, 32.89449216637608, 45.945766746940855, 29.174551776658536, 27.932280171114968, 27.22849689330651, 26.931415216836704, 25.751681544598934, 22.010069662263408, 17.960282335763605, 17.828435711545517, 16.887081546818404, 16.24082551916021, 44.95229226234671, 15.260868360274154, 14.564514716110109, 2333.307145964854, 127.20610038517277, 61.98897437809038, 75.0942721862401, 33.10135390089784, 960.6514367063987, 46.32293872221623, 133.42732773088522, 44.609943959061695, 80.74520315716988, 66.22721522589157, 98.44406029855094, 130.11084985261363, 210.36660487162627, 118.56098328406001, 150.18179895625977, 149.96930913026722, 68.50486675354614, 147.6615750735805, 126.54632127240056, 121.70467898455462, 109.03780097805867, 79.19118642766918, 97.47721730695815, 71.734460537782, 89.89545241065731, 76.40906162367787, 81.99444134012143, 80.57184043127555, 81.29395013874021, 1994.1566949589383, 1467.3418837628612, 1448.0889607488532, 1128.9174695341399, 1068.7682081028793, 665.5215647610385, 618.0556279117226, 472.27264736065945, 399.4017260037495, 269.46805736412534, 257.6393030185026, 237.28472325457165, 218.96705461183132, 183.955554739513, 171.85348807656297, 137.36284546775786, 105.41970408368864, 93.96409656284888, 419.81585010569165, 51.94017833044723, 52.10613957586013, 31.24122271127279, 21.764426468738396, 17.644100349210905, 15.336609125650913, 19.97623664904612, 12.841944418745074, 10.87902042440865, 10.397523490663033, 11.323784366078526, 768.6044736156267, 19.881505447724283, 67.49294923197778, 78.35426810383846, 240.03414240878678, 235.73594768993664, 88.6705582054206, 289.28076981267935, 91.47236841938796, 85.97145418981843, 52.28698690577585, 191.6384081937354, 1111.1332691776968, 78.66619957800964, 76.21943922962069, 56.77309122546091, 40.20715117312798, 35.28353106121827, 34.886756263350016, 48.592660174740935, 44.086664337618984, 35.78275016198558, 25.11137035137034, 23.622519747626853, 73.37795460467454, 22.7401328760335, 24.688035600654363, 20.069224513393706, 17.17150869858022, 16.871040625395054, 24.640695023648874, 16.481832100549248, 16.332218276724678, 16.703133483431195, 32.852815557967475, 19.05639178135426, 18.184137023983197, 17.581998105930925, 15.00608718967643, 14.308328998734241, 14.457470535646134, 343.9516303627704, 229.357810108741, 106.2070202631335, 295.24136536765104, 83.11473348214784, 139.6568624215928, 28.799152242505187, 226.08716621976401, 58.77631929580227, 123.33214802007521, 63.394996980837014, 75.08408300803481, 80.40300188673261, 100.39559757958848, 111.80399241359137, 42.33751156475587, 95.29111202078737, 55.61214759628712, 73.3749509029429, 87.22207613199487, 132.17105245785746, 136.6111949316565, 46.89230249347543, 160.83175470636232, 159.38398768489967, 98.22667533807912, 162.10257013010968, 91.22080355017034, 126.28403804849856, 93.45201172128407, 90.32138852993499], \"Total\": [4301.0, 2637.0, 1995.0, 1617.0, 1468.0, 1448.0, 1463.0, 1129.0, 1122.0, 1069.0, 1067.0, 965.0, 1369.0, 1038.0, 851.0, 983.0, 998.0, 839.0, 1050.0, 702.0, 666.0, 697.0, 685.0, 940.0, 618.0, 625.0, 788.0, 1000.0, 716.0, 749.0, 210.19758487637026, 88.53366200662781, 41.46106042020565, 40.03370897261302, 36.19500370313008, 35.42641713385254, 31.299802834813754, 518.3499188502868, 30.90123309604717, 25.416671613053204, 24.87172541065769, 24.52807470381274, 24.494605455444848, 23.635018130551877, 74.8380230328951, 23.727307327555376, 22.23449727984951, 22.490887012365633, 22.130503216170524, 19.5090075027792, 19.559475194859246, 20.247710820594186, 19.29377640964572, 31.341647502109115, 18.208393647686755, 18.107482749050014, 17.847295672547357, 25.08179114701424, 17.662781513930028, 17.442365325759397, 229.49798249041393, 213.2584486235152, 225.90256420182962, 224.05486766645936, 355.825773449883, 362.82675943622206, 865.1539303230129, 486.75619306641136, 66.61581240118383, 1327.3484712332609, 237.47230839295656, 62.611991372616295, 471.5551728925031, 265.8863732696648, 263.6961336651041, 184.06660193545915, 50.40299982565061, 823.2307443725858, 119.40022286237355, 132.4351925440314, 273.8341290436319, 278.94405593413416, 874.1294885489767, 230.36439990917884, 85.72854246904475, 430.3658214652522, 662.1944796676563, 869.8547979954965, 362.202552063758, 343.32668876628117, 466.28176456966634, 476.9248661446224, 441.46530658748196, 393.2415414348823, 633.2378478708083, 1035.7294250003472, 568.0814096993217, 934.7322105716837, 769.5894742496927, 1032.6242924312462, 623.5462245368578, 788.2485883647951, 505.04091443680136, 615.0775535139641, 685.2138406301877, 642.9556512925865, 689.2625665433966, 387.94249089782227, 220.42100402093786, 172.07454208031447, 154.8341849455657, 151.54596607866367, 749.9197940999296, 85.49130575225537, 179.44695154881234, 78.14333547106523, 85.00027198983837, 82.53461107299204, 65.72834705245604, 61.321548965568354, 55.52447835263736, 84.7910097531052, 49.22855945415388, 62.65837105973379, 91.29559363082859, 118.57889995666845, 40.09251679190503, 335.49312525219455, 64.93795610108407, 30.665248084836453, 27.20927753398555, 26.041126948318134, 42.577583804350596, 24.356727239844865, 626.5507021855549, 139.20258458451954, 59.70389700201196, 558.5344926028145, 368.6514503287561, 675.4693384748776, 167.7682260736004, 883.6610418132123, 180.8229101302182, 950.0037181617034, 481.9686676222431, 192.85061253554267, 314.86089880190883, 152.24160990133765, 378.50404284868955, 1217.312472983704, 580.9885557082607, 318.73771534003475, 243.98407594974964, 314.7642362550423, 526.5403612901193, 753.9573963629268, 1015.7382693881927, 815.1301927922731, 222.97239007896295, 379.0763579535271, 296.8170427607226, 107.97486503183963, 99.96987485671123, 141.32017130954307, 65.97909795949184, 71.74645735773534, 62.76775817809896, 51.218062801826996, 40.76659084681006, 34.76637484447179, 28.645066721835974, 28.05010036472858, 28.030503163475252, 26.844572609483194, 29.260141959114357, 25.553629736235372, 25.33916297749704, 27.97293941354921, 26.617167751490054, 30.75570084324987, 23.77186484666264, 23.6778816696886, 22.441153217603226, 22.526168426017996, 21.6443948271599, 20.66075318011753, 20.571581550072217, 20.567576598488085, 22.06611081339968, 19.707921468694337, 940.384931756761, 72.69498977578358, 28.750522919239284, 84.40629064069991, 807.9717356081386, 794.8629452284624, 110.88568209228174, 42.36794915746188, 83.70856772494669, 69.41315067967504, 165.32946462641718, 640.9421621459355, 1032.6242924312462, 671.0391108523781, 375.0730978276119, 84.34792697475912, 1035.7294250003472, 103.02007422931693, 623.2585688191205, 699.7792381365804, 405.01532913449336, 190.16631226927237, 187.60812937175635, 573.9866247507825, 258.11966301110095, 393.47106304100583, 401.58614123499444, 264.16864953479165, 568.0814096993217, 633.2378478708083, 631.9573070820842, 228.99160712143635, 662.1944796676563, 1000.5133046171032, 381.1666756311732, 580.2556997998528, 347.9064121891144, 870.9896041543506, 721.1728110312802, 436.5723959033722, 1015.7382693881927, 998.5567123514875, 179.339823539881, 75.20636525868754, 56.63046082007513, 75.90974039599601, 51.65525220406468, 49.236790507019684, 85.47246829591148, 54.990615059369816, 45.325534381660376, 45.260990662910054, 37.78144865782132, 38.003615081556184, 35.69676337176634, 27.81601825769463, 27.33109450085109, 25.767959980758206, 25.868288742608918, 27.60819205054337, 22.169580279447988, 21.466752466930608, 19.89467579631455, 21.683425737377817, 19.59554221702982, 19.931950550466826, 21.626691071824887, 19.240200617572906, 23.390359937976005, 18.87404365241693, 18.803304168826937, 1050.7689953327608, 63.978636214568226, 68.67452817810388, 109.01926356725454, 74.38686732586885, 38.87518918492265, 475.25744723538156, 131.89618930638355, 249.08857401587053, 242.032616549868, 150.57852363271726, 516.9594189164018, 164.7827477285353, 663.5676716824365, 169.53328533177356, 177.11418990239292, 82.05151879568842, 149.22185403024744, 331.4585354302165, 373.5966955469734, 114.02062098336998, 329.65515787018495, 620.2192057659108, 152.05621191443336, 356.83923463331934, 101.80721614052698, 189.5720652023112, 95.76442690414142, 588.5365396923618, 358.71171137264736, 225.48139370567895, 457.74407018273007, 357.6660033338713, 292.72787204703843, 870.9896041543506, 245.31461726763595, 347.9064121891144, 983.14543795092, 916.8484320398737, 379.0763579535271, 270.2931715185219, 1217.312472983704, 618.8241825166072, 874.1294885489767, 447.37191284161366, 326.91192085593235, 304.0106594070236, 173.87664043165097, 173.94998461092032, 126.60264200497481, 224.37192942392903, 116.74718468305876, 120.99191376868711, 71.25645331464015, 65.92524896061516, 53.409583383839625, 46.258156748673805, 44.7908166471848, 39.55533017569091, 35.139095304076925, 34.62127788178348, 33.23897578361289, 31.478230462035217, 42.26022821150984, 29.480632270296443, 28.765702686197134, 57.37560539844065, 27.817986781655808, 27.12252502608937, 36.20548449940105, 25.77184799198348, 24.55117681316876, 25.454575291258713, 23.751473281846387, 716.9091771618299, 133.69439346339547, 47.260048319662936, 118.46771951320335, 53.34361281174382, 102.37378742179791, 180.91025975304285, 130.1883539955003, 68.09684647852191, 122.90779985228163, 150.59526621181294, 87.18642012761622, 1103.3496443198949, 121.3804122259769, 309.5444579250398, 147.4134590787884, 149.35027467131567, 536.7872706127466, 140.580095063092, 403.99228936059285, 327.12067389926415, 623.5462245368578, 284.7475094419774, 133.41111251218985, 631.9573070820842, 916.8484320398737, 348.84992911735884, 253.0944841540938, 405.01532913449336, 576.200736375299, 499.4161184034623, 617.3206056805683, 870.9896041543506, 359.34577780958585, 1015.7382693881927, 869.8547979954965, 554.111957513429, 334.91205124555404, 1463.1589502248305, 275.32063786033643, 208.77278916840834, 208.02095659168992, 181.88499810903897, 145.60563417210807, 170.59201610408442, 119.06236920936212, 133.05912558906127, 4301.8803962139245, 76.30650930175528, 62.806999699698885, 56.67394232996562, 49.77622903750931, 43.914001433344964, 41.08407604225836, 39.656185239133606, 37.24435050044706, 36.59665902115692, 36.44176130288502, 36.19860177951056, 34.08850516031003, 41.78550147543223, 30.712771721607538, 49.94652891898899, 31.995741774011137, 138.001600821349, 24.496404961512823, 63.446242889932435, 48.25211426910936, 74.56720341186268, 52.14296616427202, 753.9573963629268, 140.51577845317902, 916.8484320398737, 137.02905147160527, 689.9431922665981, 79.63508967125192, 435.09778027299046, 174.22845153619383, 1369.2578723869478, 225.48139370567895, 139.19422595371967, 1103.3496443198949, 377.33701286977765, 674.4034056726452, 551.1755244782156, 934.7322105716837, 769.5894742496927, 303.42311115590877, 182.18276011636218, 170.14672861968796, 170.8229075518542, 183.66575292419512, 155.0297196214844, 70.18771270297061, 61.876349238665135, 54.30343379952342, 38.57036916187723, 37.06319518021597, 32.57342358257016, 29.189891678431003, 28.001703749449224, 25.867724633407295, 23.934061952828205, 24.28384748836679, 22.013047315281636, 20.917944778897983, 19.734532861961654, 32.57054190538442, 17.479321695698147, 25.452673899671286, 17.22780250533095, 18.475212439396252, 15.961836967533065, 15.4660973954117, 14.81116152217356, 14.71901305447684, 29.930132180603845, 55.6037276921683, 30.533495329216567, 190.5478756277327, 46.27424406281228, 30.923228758186283, 168.07272613306395, 436.0933569254316, 447.4371000817896, 358.66342330526504, 88.17541039838699, 197.33786301767162, 71.26024316011609, 114.1341863261536, 356.87876936210444, 674.4034056726452, 99.89861202102806, 312.9734478092771, 815.1301927922731, 87.53952949690178, 165.54029041174928, 305.27659471616846, 138.39054097592833, 870.9896041543506, 173.66880394518398, 289.0165729257062, 226.7200557204465, 133.88338312583247, 499.4161184034623, 191.30754426033414, 327.10691197635776, 683.2208395044569, 157.23293229307922, 392.84180622989845, 331.4585354302165, 618.8241825166072, 851.3876354587566, 300.86334183793235, 224.73422792772976, 200.13232719295797, 191.70466960654446, 163.27006976661212, 138.07681611577476, 1617.724077556963, 102.38264062820886, 373.7247516788094, 72.75649859947175, 67.33217433231795, 55.59407110975552, 697.9334611710024, 34.53792924136265, 30.198473120435768, 26.942261097991977, 27.364999823892415, 293.27569656301966, 104.19062375614763, 20.921614029689877, 20.648503848688808, 19.66761532272408, 17.971626649894247, 17.554445912899563, 16.77341131965295, 16.77341149614989, 16.057581376300593, 15.425747347123254, 14.434584067946158, 16.52475210400317, 1038.2683267730645, 148.0272685027433, 983.14543795092, 111.75816453668622, 57.66042383313227, 788.2485883647951, 114.44411603813383, 683.2208395044569, 1000.5133046171032, 491.90155192973594, 68.37140666990979, 202.2989108244294, 199.0900934764593, 473.64831534483744, 120.84216722445325, 592.8520502616916, 321.98050960809, 286.7035930053631, 372.93707932496636, 1032.6242924312462, 1067.3346233455595, 965.0939618165345, 702.6811008151959, 625.7889547032665, 168.62728433306495, 145.9278866291409, 80.8496757167323, 68.01353971313415, 61.08966219635541, 685.497210047215, 55.27039969093265, 51.75237708451444, 227.76891280229438, 43.931823916205914, 362.4054009128815, 33.77282134612105, 47.22966468913439, 30.054650008505, 28.810647519942314, 28.10757584528527, 27.85158986787176, 26.631766678708527, 22.88827344464174, 18.83828802529694, 18.70639087747616, 17.765509691369527, 17.12295300750705, 47.462839576395304, 16.140813719518956, 15.442450895170488, 2637.0507961303747, 141.86177081164132, 68.68572165772957, 85.74907474409738, 36.168704203133345, 1369.2578723869478, 52.20990504669671, 171.94469100323053, 50.37222763501518, 100.85097881543612, 83.52601613420497, 136.27036601641157, 196.90335346877157, 392.84180622989845, 228.5258813442614, 386.7043471448006, 390.78974336361614, 118.81300158686216, 674.4034056726452, 551.1755244782156, 511.0071752940952, 475.15605733445096, 179.43000555145156, 823.2307443725858, 161.3650796890981, 1217.312472983704, 285.30091910460357, 721.1728110312802, 640.9421621459355, 1103.3496443198949, 1995.03722989966, 1468.2167435254955, 1448.9636066620537, 1129.7923407990063, 1069.6776319681949, 666.4365826833565, 618.9296598018477, 473.1455455834905, 400.27769447375016, 270.3411547926995, 258.51319292355663, 238.1594516386547, 219.84016405011616, 184.8286749915878, 172.7266255915918, 138.24511129271096, 106.29237653801188, 94.84059401070137, 424.9602842141003, 52.813581719552275, 53.16598631999384, 32.11372297081333, 22.644140283691844, 18.516810860864073, 16.209097113271905, 21.316266742763094, 13.716337006476191, 11.75488489245609, 11.270326040097046, 12.285882938781638, 839.5627322942144, 22.31231696976009, 85.3803286036118, 102.27543231026164, 390.78974336361614, 386.7043471448006, 161.3650796890981, 2637.0507961303747, 447.4371000817896, 1369.2578723869478, 674.4034056726452, 192.58288853766075, 1122.7259930459572, 79.54295667026501, 77.09692133245194, 57.65854583429107, 41.08668291246806, 36.15992722027501, 35.78038698385773, 50.10219825076899, 45.570777341980545, 37.017627734327895, 25.996709232610556, 24.499349783603154, 76.19184900055149, 23.61650671511329, 25.693607900196014, 20.95572195110061, 18.04909268119159, 17.747513656415205, 25.929165648681252, 17.361639423133845, 17.21066325786768, 17.610736247922514, 34.67426790623005, 20.113411120375115, 19.21366531240708, 18.60593283266852, 15.882541141897804, 15.185335984596971, 15.354664116474003, 371.6544967609912, 264.1626231008596, 119.73137788602475, 348.4241959328293, 97.3426497696355, 175.6273467847863, 31.684575960330783, 331.8458610551536, 76.12641669345012, 184.71190640536167, 83.70994693968014, 104.50980975507704, 114.58359812214266, 152.29916592574924, 183.98583791553045, 52.26139109629756, 153.2565547508342, 75.28295672967721, 111.57739046274216, 143.17530564179373, 267.40083800705963, 367.97202463422866, 61.54305238466168, 794.8629452284624, 807.9717356081386, 353.3299422023003, 1369.2578723869478, 309.5444579250398, 1038.2683267730645, 699.7792381365804, 934.7322105716837], \"Category\": [\"Default\", \"Default\", \"Default\", \"Default\", \"Default\", \"Default\", \"Default\", \"Default\", \"Default\", \"Default\", \"Default\", \"Default\", \"Default\", \"Default\", \"Default\", \"Default\", \"Default\", \"Default\", \"Default\", \"Default\", \"Default\", \"Default\", \"Default\", \"Default\", \"Default\", \"Default\", \"Default\", \"Default\", \"Default\", \"Default\", \"Topic1\", \"Topic1\", \"Topic1\", \"Topic1\", \"Topic1\", \"Topic1\", \"Topic1\", \"Topic1\", \"Topic1\", \"Topic1\", \"Topic1\", \"Topic1\", \"Topic1\", \"Topic1\", \"Topic1\", \"Topic1\", \"Topic1\", \"Topic1\", \"Topic1\", \"Topic1\", \"Topic1\", \"Topic1\", \"Topic1\", \"Topic1\", \"Topic1\", \"Topic1\", \"Topic1\", \"Topic1\", \"Topic1\", \"Topic1\", \"Topic1\", \"Topic1\", \"Topic1\", \"Topic1\", \"Topic1\", \"Topic1\", \"Topic1\", \"Topic1\", \"Topic1\", \"Topic1\", \"Topic1\", \"Topic1\", \"Topic1\", \"Topic1\", \"Topic1\", \"Topic1\", \"Topic1\", \"Topic1\", \"Topic1\", \"Topic1\", \"Topic1\", \"Topic1\", \"Topic1\", \"Topic1\", \"Topic1\", \"Topic1\", \"Topic1\", \"Topic1\", \"Topic1\", \"Topic1\", \"Topic1\", \"Topic1\", \"Topic1\", \"Topic1\", \"Topic1\", \"Topic1\", \"Topic1\", \"Topic1\", \"Topic1\", \"Topic1\", \"Topic1\", \"Topic1\", \"Topic1\", \"Topic1\", \"Topic2\", \"Topic2\", \"Topic2\", \"Topic2\", \"Topic2\", \"Topic2\", \"Topic2\", \"Topic2\", \"Topic2\", \"Topic2\", \"Topic2\", \"Topic2\", \"Topic2\", \"Topic2\", \"Topic2\", \"Topic2\", \"Topic2\", \"Topic2\", \"Topic2\", \"Topic2\", \"Topic2\", \"Topic2\", \"Topic2\", \"Topic2\", \"Topic2\", \"Topic2\", \"Topic2\", \"Topic2\", \"Topic2\", \"Topic2\", \"Topic2\", \"Topic2\", \"Topic2\", \"Topic2\", \"Topic2\", \"Topic2\", \"Topic2\", \"Topic2\", \"Topic2\", \"Topic2\", \"Topic2\", \"Topic2\", \"Topic2\", \"Topic2\", \"Topic2\", \"Topic2\", \"Topic2\", \"Topic2\", \"Topic2\", \"Topic2\", \"Topic2\", \"Topic2\", \"Topic2\", \"Topic2\", \"Topic2\", \"Topic2\", \"Topic3\", \"Topic3\", \"Topic3\", \"Topic3\", \"Topic3\", \"Topic3\", \"Topic3\", \"Topic3\", \"Topic3\", \"Topic3\", \"Topic3\", \"Topic3\", \"Topic3\", \"Topic3\", \"Topic3\", \"Topic3\", \"Topic3\", \"Topic3\", \"Topic3\", \"Topic3\", \"Topic3\", \"Topic3\", \"Topic3\", \"Topic3\", \"Topic3\", \"Topic3\", \"Topic3\", \"Topic3\", \"Topic3\", \"Topic3\", \"Topic3\", \"Topic3\", \"Topic3\", \"Topic3\", \"Topic3\", \"Topic3\", \"Topic3\", \"Topic3\", \"Topic3\", \"Topic3\", \"Topic3\", \"Topic3\", \"Topic3\", \"Topic3\", \"Topic3\", \"Topic3\", \"Topic3\", \"Topic3\", \"Topic3\", \"Topic3\", \"Topic3\", \"Topic3\", \"Topic3\", \"Topic3\", \"Topic3\", \"Topic3\", \"Topic3\", \"Topic3\", \"Topic3\", \"Topic3\", \"Topic3\", \"Topic3\", \"Topic3\", \"Topic3\", \"Topic3\", \"Topic3\", \"Topic3\", \"Topic3\", \"Topic3\", \"Topic3\", \"Topic3\", \"Topic4\", \"Topic4\", \"Topic4\", \"Topic4\", \"Topic4\", \"Topic4\", \"Topic4\", \"Topic4\", \"Topic4\", \"Topic4\", \"Topic4\", \"Topic4\", \"Topic4\", \"Topic4\", \"Topic4\", \"Topic4\", \"Topic4\", \"Topic4\", \"Topic4\", \"Topic4\", \"Topic4\", \"Topic4\", \"Topic4\", \"Topic4\", \"Topic4\", \"Topic4\", \"Topic4\", \"Topic4\", \"Topic4\", \"Topic4\", \"Topic4\", \"Topic4\", \"Topic4\", \"Topic4\", \"Topic4\", \"Topic4\", \"Topic4\", \"Topic4\", \"Topic4\", \"Topic4\", \"Topic4\", \"Topic4\", \"Topic4\", \"Topic4\", \"Topic4\", \"Topic4\", \"Topic4\", \"Topic4\", \"Topic4\", \"Topic4\", \"Topic4\", \"Topic4\", \"Topic4\", \"Topic4\", \"Topic4\", \"Topic4\", \"Topic4\", \"Topic4\", \"Topic4\", \"Topic4\", \"Topic4\", \"Topic4\", \"Topic4\", \"Topic4\", \"Topic4\", \"Topic4\", \"Topic4\", \"Topic4\", \"Topic4\", \"Topic4\", \"Topic4\", \"Topic4\", \"Topic4\", \"Topic4\", \"Topic5\", \"Topic5\", \"Topic5\", \"Topic5\", \"Topic5\", \"Topic5\", \"Topic5\", \"Topic5\", \"Topic5\", \"Topic5\", \"Topic5\", \"Topic5\", \"Topic5\", \"Topic5\", \"Topic5\", \"Topic5\", \"Topic5\", \"Topic5\", \"Topic5\", \"Topic5\", \"Topic5\", \"Topic5\", \"Topic5\", \"Topic5\", \"Topic5\", \"Topic5\", \"Topic5\", \"Topic5\", \"Topic5\", \"Topic5\", \"Topic5\", \"Topic5\", \"Topic5\", \"Topic5\", \"Topic5\", \"Topic5\", \"Topic5\", \"Topic5\", \"Topic5\", \"Topic5\", \"Topic5\", \"Topic5\", \"Topic5\", \"Topic5\", \"Topic5\", \"Topic5\", \"Topic5\", \"Topic5\", \"Topic5\", \"Topic5\", \"Topic5\", \"Topic5\", \"Topic5\", \"Topic5\", \"Topic5\", \"Topic5\", \"Topic5\", \"Topic5\", \"Topic5\", \"Topic5\", \"Topic5\", \"Topic5\", \"Topic5\", \"Topic5\", \"Topic5\", \"Topic5\", \"Topic6\", \"Topic6\", \"Topic6\", \"Topic6\", \"Topic6\", \"Topic6\", \"Topic6\", \"Topic6\", \"Topic6\", \"Topic6\", \"Topic6\", \"Topic6\", \"Topic6\", \"Topic6\", \"Topic6\", \"Topic6\", \"Topic6\", \"Topic6\", \"Topic6\", \"Topic6\", \"Topic6\", \"Topic6\", \"Topic6\", \"Topic6\", \"Topic6\", \"Topic6\", \"Topic6\", \"Topic6\", \"Topic6\", \"Topic6\", \"Topic6\", \"Topic6\", \"Topic6\", \"Topic6\", \"Topic6\", \"Topic6\", \"Topic6\", \"Topic6\", \"Topic6\", \"Topic6\", \"Topic6\", \"Topic6\", \"Topic6\", \"Topic6\", \"Topic6\", \"Topic6\", \"Topic6\", \"Topic6\", \"Topic6\", \"Topic6\", \"Topic6\", \"Topic7\", \"Topic7\", \"Topic7\", \"Topic7\", \"Topic7\", \"Topic7\", \"Topic7\", \"Topic7\", \"Topic7\", \"Topic7\", \"Topic7\", \"Topic7\", \"Topic7\", \"Topic7\", \"Topic7\", \"Topic7\", \"Topic7\", \"Topic7\", \"Topic7\", \"Topic7\", \"Topic7\", \"Topic7\", \"Topic7\", \"Topic7\", \"Topic7\", \"Topic7\", \"Topic7\", \"Topic7\", \"Topic7\", \"Topic7\", \"Topic7\", \"Topic7\", \"Topic7\", \"Topic7\", \"Topic7\", \"Topic7\", \"Topic7\", \"Topic7\", \"Topic7\", \"Topic7\", \"Topic7\", \"Topic7\", \"Topic7\", \"Topic7\", \"Topic7\", \"Topic7\", \"Topic7\", \"Topic7\", \"Topic7\", \"Topic7\", \"Topic7\", \"Topic7\", \"Topic7\", \"Topic7\", \"Topic7\", \"Topic7\", \"Topic7\", \"Topic7\", \"Topic7\", \"Topic7\", \"Topic7\", \"Topic7\", \"Topic7\", \"Topic7\", \"Topic7\", \"Topic8\", \"Topic8\", \"Topic8\", \"Topic8\", \"Topic8\", \"Topic8\", \"Topic8\", \"Topic8\", \"Topic8\", \"Topic8\", \"Topic8\", \"Topic8\", \"Topic8\", \"Topic8\", \"Topic8\", \"Topic8\", \"Topic8\", \"Topic8\", \"Topic8\", \"Topic8\", \"Topic8\", \"Topic8\", \"Topic8\", \"Topic8\", \"Topic8\", \"Topic8\", \"Topic8\", \"Topic8\", \"Topic8\", \"Topic8\", \"Topic8\", \"Topic8\", \"Topic8\", \"Topic8\", \"Topic8\", \"Topic8\", \"Topic8\", \"Topic8\", \"Topic8\", \"Topic8\", \"Topic8\", \"Topic8\", \"Topic8\", \"Topic8\", \"Topic8\", \"Topic8\", \"Topic8\", \"Topic8\", \"Topic8\", \"Topic8\", \"Topic8\", \"Topic9\", \"Topic9\", \"Topic9\", \"Topic9\", \"Topic9\", \"Topic9\", \"Topic9\", \"Topic9\", \"Topic9\", \"Topic9\", \"Topic9\", \"Topic9\", \"Topic9\", \"Topic9\", \"Topic9\", \"Topic9\", \"Topic9\", \"Topic9\", \"Topic9\", \"Topic9\", \"Topic9\", \"Topic9\", \"Topic9\", \"Topic9\", \"Topic9\", \"Topic9\", \"Topic9\", \"Topic9\", \"Topic9\", \"Topic9\", \"Topic9\", \"Topic9\", \"Topic9\", \"Topic9\", \"Topic9\", \"Topic9\", \"Topic9\", \"Topic9\", \"Topic9\", \"Topic9\", \"Topic9\", \"Topic9\", \"Topic9\", \"Topic9\", \"Topic9\", \"Topic9\", \"Topic9\", \"Topic9\", \"Topic9\", \"Topic9\", \"Topic9\", \"Topic9\", \"Topic9\", \"Topic9\", \"Topic9\", \"Topic9\", \"Topic9\", \"Topic9\", \"Topic9\", \"Topic9\", \"Topic10\", \"Topic10\", \"Topic10\", \"Topic10\", \"Topic10\", \"Topic10\", \"Topic10\", \"Topic10\", \"Topic10\", \"Topic10\", \"Topic10\", \"Topic10\", \"Topic10\", \"Topic10\", \"Topic10\", \"Topic10\", \"Topic10\", \"Topic10\", \"Topic10\", \"Topic10\", \"Topic10\", \"Topic10\", \"Topic10\", \"Topic10\", \"Topic10\", \"Topic10\", \"Topic10\", \"Topic10\", \"Topic10\", \"Topic10\", \"Topic10\", \"Topic10\", \"Topic10\", \"Topic10\", \"Topic10\", \"Topic10\", \"Topic10\", \"Topic10\", \"Topic10\", \"Topic10\", \"Topic10\", \"Topic11\", \"Topic11\", \"Topic11\", \"Topic11\", \"Topic11\", \"Topic11\", \"Topic11\", \"Topic11\", \"Topic11\", \"Topic11\", \"Topic11\", \"Topic11\", \"Topic11\", \"Topic11\", \"Topic11\", \"Topic11\", \"Topic11\", \"Topic11\", \"Topic11\", \"Topic11\", \"Topic11\", \"Topic11\", \"Topic11\", \"Topic11\", \"Topic11\", \"Topic11\", \"Topic11\", \"Topic11\", \"Topic11\", \"Topic11\", \"Topic11\", \"Topic11\", \"Topic11\", \"Topic11\", \"Topic11\", \"Topic11\", \"Topic11\", \"Topic11\", \"Topic11\", \"Topic11\", \"Topic11\", \"Topic11\", \"Topic11\", \"Topic11\", \"Topic11\", \"Topic11\", \"Topic11\", \"Topic11\", \"Topic11\", \"Topic11\", \"Topic11\", \"Topic11\", \"Topic11\", \"Topic11\", \"Topic11\", \"Topic11\", \"Topic11\", \"Topic11\", \"Topic11\", \"Topic11\", \"Topic11\"], \"logprob\": [30.0, 29.0, 28.0, 27.0, 26.0, 25.0, 24.0, 23.0, 22.0, 21.0, 20.0, 19.0, 18.0, 17.0, 16.0, 15.0, 14.0, 13.0, 12.0, 11.0, 10.0, 9.0, 8.0, 7.0, 6.0, 5.0, 4.0, 3.0, 2.0, 1.0, -5.3203, -6.1861, -6.9561, -6.9938, -7.095, -7.117, -7.2442, -4.4397, -7.2614, -7.4592, -7.4818, -7.4961, -7.5005, -7.5366, -6.3844, -7.5332, -7.5983, -7.5871, -7.6046, -7.7347, -7.7322, -7.6978, -7.7463, -7.2615, -7.807, -7.8135, -7.8281, -7.4879, -7.839, -7.8523, -5.2801, -5.3539, -5.3108, -5.3636, -4.9167, -4.9136, -4.0809, -4.6488, -6.5589, -3.7276, -5.3648, -6.623, -4.7276, -5.2778, -5.2956, -5.6363, -6.8366, -4.3234, -6.0729, -5.9842, -5.3608, -5.3477, -4.3662, -5.5498, -6.3766, -5.0551, -4.728, -4.5207, -5.2225, -5.2654, -5.0451, -5.0308, -5.0942, -5.1866, -5.0535, -4.8426, -5.141, -5.0182, -5.0999, -5.0811, -5.1805, -5.2317, -5.2705, -5.2809, -4.0856, -4.1494, -4.0801, -4.6554, -5.2228, -5.4713, -5.5774, -5.599, -4.004, -6.176, -5.4352, -6.2668, -6.1827, -6.2125, -6.442, -6.5126, -6.6132, -6.1919, -6.7356, -6.4958, -6.12, -5.8597, -6.9453, -4.8272, -6.4694, -7.2201, -7.344, -7.389, -6.8973, -7.4581, -4.2201, -5.7328, -6.5715, -4.3885, -4.7982, -4.2202, -5.5709, -4.001, -5.5062, -3.9565, -4.5884, -5.4534, -5.0116, -5.6913, -4.9429, -4.1392, -4.7254, -5.1807, -5.3972, -5.2226, -4.9602, -4.9442, -4.842, -5.2427, -5.5419, -5.5199, -4.7113, -5.7275, -5.8052, -5.4623, -6.2252, -6.1416, -6.2758, -6.4823, -6.7151, -6.8797, -7.0774, -7.099, -7.1001, -7.1443, -7.0587, -7.1955, -7.2041, -7.1057, -7.1558, -7.0113, -7.2703, -7.2744, -7.3302, -7.3271, -7.3689, -7.4164, -7.4209, -7.4217, -7.3514, -7.4658, -3.609, -6.1707, -7.0906, -6.0715, -3.9382, -3.958, -5.8573, -6.7431, -6.122, -6.3044, -5.5377, -4.4034, -4.0236, -4.3978, -4.9603, -6.2107, -4.1847, -6.0681, -4.6795, -4.5972, -5.019, -5.6465, -5.6576, -4.8748, -5.5366, -5.2981, -5.3112, -5.5488, -5.1555, -5.1643, -5.1888, -5.6539, -5.1839, -5.019, -5.499, -5.3758, -5.5605, -5.4258, -5.4863, -5.5627, -5.5432, -3.4949, -5.2169, -6.0913, -6.3789, -6.0861, -6.473, -6.5212, -5.9703, -6.412, -6.6054, -6.607, -6.7914, -6.7858, -6.8496, -7.1062, -7.1246, -7.1856, -7.182, -7.1199, -7.3416, -7.3751, -7.4549, -7.3691, -7.4704, -7.4535, -7.3724, -7.4895, -7.2951, -7.5097, -7.5137, -3.5216, -6.2977, -6.2375, -5.7946, -6.1723, -6.8038, -4.3909, -5.6255, -5.0261, -5.0719, -5.5358, -4.426, -5.4779, -4.2097, -5.4766, -5.4393, -6.1361, -5.6113, -4.9462, -4.8525, -5.8573, -4.9794, -4.476, -5.6521, -5.0353, -5.965, -5.5373, -6.0225, -4.8574, -5.2224, -5.5261, -5.137, -5.2744, -5.4503, -4.9848, -5.5422, -5.4273, -5.2011, -5.2759, -5.4747, -5.5295, -5.4035, -5.4827, -5.5117, -4.2062, -4.5204, -4.5932, -5.1541, -5.1547, -5.4733, -4.9016, -5.5549, -5.5226, -6.0535, -6.1322, -6.3461, -6.4923, -6.5251, -6.6522, -6.7738, -6.7888, -6.8305, -6.8863, -6.5932, -6.9544, -6.9792, -6.2896, -7.0138, -7.0399, -6.7518, -7.0928, -7.143, -7.1073, -7.1774, -3.7823, -5.4664, -6.5027, -5.6147, -6.3885, -5.7667, -5.2303, -5.5478, -6.1704, -5.6548, -5.4885, -5.9741, -3.8291, -5.7583, -5.0496, -5.6353, -5.6476, -4.7347, -5.6999, -4.983, -5.1354, -4.7376, -5.2902, -5.748, -4.9976, -4.9668, -5.4226, -5.528, -5.4027, -5.3497, -5.3847, -5.3572, -5.3342, -5.4781, -5.3653, -5.4152, -3.7383, -4.2429, -2.7687, -4.4396, -4.7171, -4.7211, -4.856, -5.0793, -4.9211, -5.282, -5.1726, -1.6975, -5.7312, -5.9286, -6.0325, -6.1643, -6.2924, -6.3601, -6.3964, -6.4604, -6.4784, -6.4827, -6.49, -6.5512, -6.3504, -6.6585, -6.1722, -6.6185, -5.1607, -6.892, -5.943, -6.2337, -5.8367, -6.1775, -3.9165, -5.5681, -4.4398, -5.6449, -4.8442, -6.0324, -5.2833, -5.7441, -4.98, -5.6634, -5.864, -5.2867, -5.625, -5.5044, -5.6166, -5.5973, -5.6993, -4.2314, -4.7428, -4.8113, -4.8076, -4.7352, -4.9057, -5.7043, -5.832, -5.9647, -6.3135, -6.3543, -6.4872, -6.5996, -6.6426, -6.7253, -6.805, -6.7912, -6.8921, -6.9452, -7.0061, -6.5057, -7.1335, -6.7584, -7.1488, -7.0804, -7.2294, -7.2628, -7.3087, -7.3158, -6.6069, -5.9879, -6.5908, -4.7927, -6.1881, -6.5861, -4.9993, -4.1345, -4.1613, -4.364, -5.6704, -4.9641, -5.8742, -5.4771, -4.5205, -4.0047, -5.6275, -4.7172, -3.9659, -5.7401, -5.2524, -4.8258, -5.4287, -4.26, -5.3266, -4.9979, -5.2157, -5.5082, -4.8654, -5.3613, -5.1487, -4.9857, -5.5304, -5.3593, -5.4636, -5.4438, -3.167, -4.2081, -4.5009, -4.6173, -4.6605, -4.8218, -4.9904, -2.5298, -5.2917, -3.9983, -5.637, -5.7153, -5.9101, -3.3836, -6.3974, -6.5334, -6.6511, -6.6366, -4.265, -5.3033, -6.9136, -6.9274, -6.9787, -7.0728, -7.0976, -7.1454, -7.1454, -7.1915, -7.234, -7.3045, -7.1703, -3.0983, -5.0243, -3.2314, -5.369, -5.9929, -3.5854, -5.3627, -3.8105, -3.6067, -4.3093, -5.9442, -5.2331, -5.3034, -4.8341, -5.6682, -5.0797, -5.3619, -5.4263, -5.3989, -5.3289, -2.9208, -3.0216, -3.3392, -3.4553, -4.7704, -4.9163, -5.5113, -5.6862, -5.7952, -3.3787, -5.8967, -5.9638, -4.484, -6.1304, -4.025, -6.3996, -6.0654, -6.5196, -6.5631, -6.5886, -6.5996, -6.6444, -6.8014, -7.0047, -7.0121, -7.0663, -7.1054, -6.0873, -7.1676, -7.2143, -2.1378, -5.0471, -5.7659, -5.5741, -6.3933, -3.0253, -6.0573, -4.9993, -6.0949, -5.5016, -5.6998, -5.3034, -5.0245, -4.544, -5.1175, -4.881, -4.8825, -5.666, -4.898, -5.0523, -5.0913, -5.2012, -5.521, -5.3133, -5.6199, -5.3942, -5.5568, -5.4862, -5.5037, -5.4948, -2.2316, -2.5384, -2.5516, -2.8006, -2.8553, -3.329, -3.403, -3.672, -3.8396, -4.2331, -4.278, -4.3603, -4.4407, -4.6149, -4.6829, -4.9069, -5.1716, -5.2867, -3.7898, -5.8795, -5.8763, -6.3878, -6.7493, -6.9592, -7.0993, -6.835, -7.2769, -7.4427, -7.488, -7.4027, -3.185, -6.8398, -5.6176, -5.4683, -4.3488, -4.3669, -5.3446, -4.1622, -5.3135, -5.3756, -5.8728, -4.569, -2.8114, -5.4594, -5.491, -5.7855, -6.1305, -6.2612, -6.2725, -5.9411, -6.0384, -6.2471, -6.6013, -6.6624, -5.529, -6.7004, -6.6183, -6.8254, -6.9813, -6.999, -6.6202, -7.0223, -7.0314, -7.009, -6.3325, -6.8772, -6.924, -6.9577, -7.1161, -7.1637, -7.1534, -3.9841, -4.3893, -5.1592, -4.1368, -5.4044, -4.8854, -6.4642, -4.4037, -5.7508, -5.0097, -5.6752, -5.506, -5.4375, -5.2155, -5.1078, -6.0789, -5.2676, -5.8062, -5.529, -5.3561, -4.9405, -4.9074, -5.9767, -4.7442, -4.7533, -5.2373, -4.7364, -5.3113, -4.986, -5.2871, -5.3212], \"loglift\": [30.0, 29.0, 28.0, 27.0, 26.0, 25.0, 24.0, 23.0, 22.0, 21.0, 20.0, 19.0, 18.0, 17.0, 16.0, 15.0, 14.0, 13.0, 12.0, 11.0, 10.0, 9.0, 8.0, 7.0, 6.0, 5.0, 4.0, 3.0, 2.0, 1.0, 1.9433, 1.9422, 1.9308, 1.9282, 1.9277, 1.9272, 1.9238, 1.9213, 1.9195, 1.9171, 1.9161, 1.9158, 1.9127, 1.9123, 1.9119, 1.9118, 1.9117, 1.9115, 1.9101, 1.9061, 1.906, 1.9058, 1.9056, 1.9053, 1.9028, 1.9019, 1.9017, 1.9016, 1.9012, 1.9005, 1.8957, 1.8952, 1.8808, 1.8362, 1.8206, 1.8041, 1.7678, 1.7751, 1.8538, 1.6931, 1.7768, 1.8517, 1.7281, 1.7508, 1.7413, 1.7601, 1.855, 1.575, 1.7563, 1.7414, 1.6384, 1.633, 1.4722, 1.6222, 1.7839, 1.4919, 1.3881, 1.3226, 1.497, 1.5076, 1.4218, 1.4135, 1.4274, 1.4507, 1.1073, 0.8262, 1.1284, 0.7533, 0.8659, 0.5907, 0.9957, 0.7102, 1.1165, 0.909, 1.9963, 1.9962, 1.9959, 1.9954, 1.9933, 1.9924, 1.992, 1.9917, 1.9878, 1.9873, 1.9866, 1.9863, 1.9863, 1.986, 1.9842, 1.983, 1.9817, 1.9796, 1.9796, 1.9782, 1.9776, 1.9764, 1.9752, 1.9689, 1.9689, 1.9685, 1.9642, 1.963, 1.963, 1.9608, 1.9514, 1.943, 1.9508, 1.8978, 1.9037, 1.8761, 1.9181, 1.8266, 1.908, 1.7987, 1.8454, 1.8964, 1.8479, 1.8949, 1.7325, 1.368, 1.5216, 1.6666, 1.7173, 1.6372, 1.3851, 1.0422, 0.8463, 0.6657, 1.6627, 1.1541, 2.2073, 2.2023, 2.2016, 2.1983, 2.1972, 2.1969, 2.1965, 2.1933, 2.1888, 2.1833, 2.1793, 2.1787, 2.1783, 2.1773, 2.1767, 2.1754, 2.1753, 2.1747, 2.1743, 2.1743, 2.1729, 2.1727, 2.1706, 2.1699, 2.168, 2.167, 2.1669, 2.1663, 2.1663, 2.1649, 2.1564, 2.1547, 2.1624, 2.1046, 1.979, 1.9755, 2.0459, 2.1221, 2.0623, 2.0672, 1.9661, 1.7454, 1.6482, 1.705, 1.7243, 1.9661, 1.4841, 1.9086, 1.4972, 1.4637, 1.5888, 1.7173, 1.7197, 1.3843, 1.5217, 1.3386, 1.305, 1.4863, 1.114, 0.9965, 0.974, 1.5241, 0.9322, 0.6844, 1.1694, 0.8724, 1.1992, 0.4163, 0.5445, 0.9701, 0.1451, 2.2105, 2.2055, 2.2001, 2.1962, 2.1961, 2.1941, 2.1939, 2.1932, 2.1926, 2.1924, 2.1923, 2.1885, 2.1881, 2.187, 2.1798, 2.1791, 2.1769, 2.1766, 2.1737, 2.1714, 2.1701, 2.1663, 2.166, 2.166, 2.1659, 2.1653, 2.1651, 2.1642, 2.1642, 2.1639, 2.1328, 2.1554, 2.1448, 2.1256, 2.1301, 2.1475, 2.0569, 2.1041, 2.0677, 2.0507, 2.0614, 1.9378, 2.0292, 1.9044, 2.002, 1.9956, 2.0683, 1.9949, 1.862, 1.836, 2.018, 1.8342, 1.7056, 1.9354, 1.6991, 2.0236, 1.8296, 2.0272, 1.3767, 1.5068, 1.6673, 1.3484, 1.4577, 1.4821, 0.8573, 1.567, 1.3325, 0.5198, 0.5148, 1.1993, 1.4827, 0.1038, 0.7012, 0.3268, 2.3021, 2.3015, 2.3014, 2.2993, 2.2982, 2.2973, 2.2968, 2.2968, 2.2934, 2.2919, 2.2909, 2.2876, 2.2852, 2.2845, 2.2818, 2.2785, 2.2784, 2.2775, 2.276, 2.2746, 2.2736, 2.2733, 2.2725, 2.2722, 2.2714, 2.2706, 2.2696, 2.2679, 2.2674, 2.2667, 2.2544, 2.2497, 2.2533, 2.2224, 2.2465, 2.2163, 2.1834, 2.1949, 2.2203, 2.1454, 2.1085, 2.1695, 1.7764, 2.0544, 1.827, 1.9831, 1.9578, 1.5914, 1.966, 1.6273, 1.6859, 1.4387, 1.6699, 1.9702, 1.1652, 0.8239, 1.3344, 1.5499, 1.205, 0.9055, 1.0135, 0.8291, 0.5079, 1.2493, 0.323, 0.4281, 2.556, 2.5549, 2.5546, 2.5541, 2.5533, 2.5529, 2.5523, 2.5515, 2.5513, 2.55, 2.5482, 2.5473, 2.5457, 2.5431, 2.5419, 2.5398, 2.537, 2.536, 2.535, 2.5338, 2.5333, 2.5332, 2.5326, 2.5315, 2.5287, 2.5285, 2.5285, 2.5276, 2.5237, 2.5211, 2.5185, 2.5015, 2.4633, 2.4802, 2.0699, 2.0983, 1.3509, 2.0466, 1.2309, 2.2018, 1.2528, 1.7072, 0.4096, 1.53, 1.8118, 0.3189, 1.0535, 0.5934, 0.6831, 0.1741, 0.2665, 2.6652, 2.6639, 2.6637, 2.6635, 2.6633, 2.6624, 2.6562, 2.6545, 2.6524, 2.6457, 2.6448, 2.641, 2.6382, 2.6368, 2.6333, 2.6314, 2.6307, 2.628, 2.6258, 2.6232, 2.6225, 2.6171, 2.6165, 2.6164, 2.6149, 2.6121, 2.6102, 2.6075, 2.6067, 2.6059, 2.6055, 2.602, 2.5691, 2.589, 2.5941, 2.488, 2.3993, 2.3468, 2.3653, 2.4619, 2.3627, 2.4711, 2.3972, 2.2138, 2.0931, 2.38, 2.1483, 1.9424, 2.3995, 2.2501, 2.0646, 2.2529, 1.582, 2.1279, 1.9473, 1.9723, 2.2065, 1.5328, 1.9965, 1.6727, 1.0992, 2.0235, 1.279, 1.3446, 0.74, 2.6978, 2.6969, 2.6959, 2.6954, 2.6952, 2.6944, 2.6934, 2.6931, 2.6912, 2.6898, 2.6875, 2.6867, 2.6835, 2.68, 2.6722, 2.6705, 2.6669, 2.6658, 2.6655, 2.6621, 2.6572, 2.6567, 2.654, 2.65, 2.6488, 2.6465, 2.6465, 2.644, 2.6416, 2.6375, 2.6365, 2.5681, 2.5899, 2.4895, 2.5264, 2.5642, 2.3564, 2.5089, 2.2744, 2.0967, 2.1041, 2.4425, 2.0688, 2.0145, 1.6171, 2.149, 1.147, 1.4752, 1.5269, 1.2913, 0.3429, 2.7179, 2.7179, 2.7175, 2.7174, 2.7136, 2.7123, 2.7078, 2.7058, 2.7042, 2.7028, 2.7028, 2.7014, 2.6993, 2.6986, 2.6939, 2.6924, 2.6912, 2.6891, 2.6878, 2.687, 2.6852, 2.6852, 2.6797, 2.6711, 2.6707, 2.6681, 2.6659, 2.6644, 2.6627, 2.6603, 2.5964, 2.6097, 2.6162, 2.5861, 2.6302, 2.3644, 2.5991, 2.4652, 2.5973, 2.4964, 2.4867, 2.3936, 2.3045, 2.0942, 2.0626, 1.773, 1.761, 2.1681, 1.1999, 1.2473, 1.284, 1.2468, 1.9009, 0.5852, 1.9081, 0.113, 1.4013, 0.5446, 0.645, 0.1108, 2.7817, 2.7815, 2.7815, 2.7813, 2.7813, 2.7807, 2.7807, 2.7803, 2.7799, 2.7789, 2.7787, 2.7784, 2.7781, 2.7774, 2.777, 2.7757, 2.7739, 2.7728, 2.7699, 2.7654, 2.762, 2.7546, 2.7425, 2.7338, 2.7268, 2.7172, 2.7162, 2.7047, 2.7015, 2.7006, 2.6938, 2.6668, 2.547, 2.5157, 2.2947, 2.2872, 2.1834, 0.5721, 1.1946, 0.0141, 0.225, 2.7822, 2.7767, 2.776, 2.7756, 2.7716, 2.7655, 2.7626, 2.7618, 2.7565, 2.754, 2.7532, 2.7524, 2.7506, 2.7495, 2.7493, 2.7472, 2.7439, 2.7372, 2.7364, 2.7361, 2.7351, 2.7347, 2.7342, 2.7331, 2.7331, 2.732, 2.7305, 2.7303, 2.7276, 2.7269, 2.7096, 2.6458, 2.6672, 2.6215, 2.6291, 2.5579, 2.6916, 2.4033, 2.5284, 2.3832, 2.5091, 2.4564, 2.4328, 2.3704, 2.289, 2.5765, 2.3119, 2.4842, 2.368, 2.2915, 2.0824, 1.7962, 2.5152, 1.1893, 1.1639, 1.507, 0.6533, 1.5653, 0.6803, 0.7738, 0.4502]}, \"token.table\": {\"Topic\": [2, 4, 2, 2, 4, 7, 8, 9, 2, 3, 4, 5, 8, 9, 11, 4, 2, 3, 4, 5, 6, 7, 9, 1, 5, 6, 7, 8, 10, 11, 2, 3, 4, 6, 8, 4, 5, 7, 8, 11, 1, 5, 1, 5, 6, 7, 9, 8, 10, 8, 7, 9, 2, 4, 5, 7, 8, 9, 11, 1, 2, 3, 4, 5, 7, 2, 7, 8, 11, 6, 9, 1, 9, 10, 5, 4, 1, 3, 4, 3, 4, 7, 11, 2, 1, 3, 5, 3, 7, 10, 11, 2, 11, 11, 5, 1, 3, 4, 6, 7, 2, 3, 11, 4, 7, 4, 2, 11, 5, 1, 6, 7, 10, 11, 3, 10, 11, 9, 5, 8, 3, 5, 9, 9, 10, 6, 8, 9, 7, 11, 6, 9, 11, 5, 6, 7, 8, 7, 11, 9, 11, 5, 6, 11, 2, 1, 2, 9, 1, 2, 2, 3, 4, 5, 6, 7, 8, 11, 11, 7, 2, 4, 5, 6, 10, 11, 1, 3, 8, 10, 11, 9, 2, 4, 6, 7, 1, 8, 11, 10, 2, 3, 4, 7, 11, 1, 2, 3, 4, 5, 6, 8, 7, 1, 2, 4, 5, 7, 11, 1, 2, 9, 10, 11, 2, 3, 4, 9, 1, 2, 3, 4, 5, 6, 8, 10, 11, 1, 2, 9, 1, 1, 3, 4, 5, 7, 8, 4, 8, 6, 8, 3, 6, 8, 11, 5, 2, 11, 4, 10, 10, 2, 5, 7, 1, 2, 3, 5, 6, 7, 9, 10, 6, 6, 3, 9, 5, 6, 1, 2, 10, 3, 8, 1, 2, 3, 4, 5, 6, 7, 8, 9, 10, 11, 8, 4, 7, 8, 1, 1, 2, 3, 9, 1, 3, 2, 7, 9, 10, 1, 5, 11, 2, 8, 11, 7, 1, 2, 3, 4, 6, 7, 8, 11, 5, 7, 11, 1, 11, 4, 7, 10, 11, 4, 1, 3, 4, 5, 6, 7, 8, 11, 8, 4, 11, 7, 4, 7, 7, 7, 2, 1, 9, 2, 3, 6, 7, 9, 10, 8, 3, 11, 1, 2, 3, 4, 3, 1, 6, 8, 9, 10, 10, 10, 4, 2, 4, 6, 7, 1, 5, 10, 5, 1, 5, 6, 3, 4, 5, 4, 4, 11, 7, 6, 1, 2, 5, 7, 2, 3, 11, 8, 1, 8, 4, 6, 11, 1, 2, 3, 5, 7, 8, 11, 11, 1, 3, 8, 3, 8, 8, 11, 1, 3, 5, 6, 7, 10, 8, 7, 8, 2, 9, 4, 9, 9, 10, 11, 11, 7, 9, 3, 6, 7, 11, 2, 10, 3, 5, 11, 9, 2, 11, 1, 2, 4, 5, 6, 7, 9, 10, 7, 2, 4, 9, 11, 1, 2, 7, 3, 2, 3, 5, 1, 11, 3, 5, 2, 4, 11, 7, 9, 1, 4, 5, 6, 7, 2, 3, 4, 5, 6, 10, 11, 10, 2, 3, 4, 1, 2, 3, 6, 7, 9, 10, 1, 4, 7, 10, 3, 2, 4, 6, 7, 8, 10, 11, 1, 4, 5, 6, 8, 9, 10, 11, 10, 1, 5, 1, 2, 3, 7, 8, 10, 11, 1, 3, 4, 11, 5, 6, 7, 9, 10, 1, 2, 3, 4, 5, 6, 11, 1, 4, 5, 6, 8, 9, 10, 10, 9, 11, 9, 9, 10, 5, 6, 6, 10, 1, 2, 3, 4, 5, 6, 7, 8, 11, 3, 1, 2, 3, 8, 11, 8, 1, 2, 3, 6, 9, 1, 3, 4, 5, 6, 8, 9, 10, 11, 1, 7, 10, 1, 7, 9, 10, 11, 4, 10, 11, 1, 2, 3, 6, 7, 9, 10, 11, 1, 2, 3, 4, 5, 6, 7, 8, 10, 11, 1, 3, 9, 11, 1, 9, 10, 11, 1, 2, 3, 4, 5, 6, 9, 10, 11, 6, 6, 8, 2, 4, 5, 6, 10, 1, 3, 4, 5, 6, 7, 6, 10, 1, 2, 3, 4, 5, 6, 7, 9, 10, 11, 1, 3, 5, 6, 11, 5, 1, 2, 1, 2, 3, 4, 5, 6, 10, 11, 6, 9, 10, 11, 1, 9, 1, 2, 3, 5, 6, 8, 9, 11, 3, 1, 2, 3, 4, 5, 6, 7, 10, 11, 1, 2, 5, 8, 10, 11, 1, 2, 3, 4, 5, 6, 7, 8, 9, 10, 11, 1, 2, 3, 4, 5, 6, 7, 8, 10, 11, 3, 4, 5, 3, 11, 1, 2, 4, 5, 6, 9, 10, 11, 4, 8, 1, 3, 5, 3, 2, 5, 8, 1, 2, 3, 7, 7, 1, 2, 3, 4, 7, 8, 9, 11, 1, 3, 5, 8, 3, 10, 11, 2, 4, 5, 6, 7, 8, 4, 7, 3, 8, 11, 4, 5, 7, 8, 11, 1, 3, 4, 5, 7, 8, 2, 3, 5, 11, 3, 11, 11, 2, 6, 11, 5, 6, 3, 4, 3, 10, 11, 2, 4, 5, 6, 7, 8, 11, 4, 3, 5, 11, 7, 1, 5, 9, 10, 11, 7, 3, 8, 4, 2, 3, 4, 8, 9, 11, 2, 4, 8, 11, 9, 2, 3, 4, 5, 6, 8, 5, 1, 3, 4, 5, 6, 7, 10, 11, 5, 2, 1, 3, 4, 5, 6, 8, 9, 11, 10, 1, 2, 3, 4, 5, 6, 8, 9, 11, 4, 2, 9, 1, 2, 3, 5, 6, 8, 9, 10, 5, 1, 2, 3, 4, 5, 6, 7, 8, 9, 11, 6, 9, 1, 3, 5, 6, 9, 10, 11, 8, 1, 2, 3, 4, 5, 6, 8, 9, 10, 11, 10, 9, 4, 8, 11, 1, 2, 3, 4, 5, 6, 7, 8, 11, 8, 10, 11, 10, 2, 1, 2, 3, 1, 5, 7, 11, 8, 4, 10, 1, 5, 9, 4, 7, 8, 5, 7, 1, 2, 5, 6, 10, 11, 2, 10, 2, 5, 6, 7, 9, 10, 11, 1, 2, 3, 4, 5, 6, 7, 8, 9, 11, 6, 2, 5, 7, 10, 11, 9, 11, 5, 2, 11, 3, 1, 2, 4, 6, 3, 4, 2, 8, 1, 2, 3, 4, 5, 6, 7, 11, 1, 11, 1, 2, 4, 5, 7, 8, 10, 11, 1, 7, 1, 2, 10, 2, 3, 4, 9, 1, 5, 6, 8, 10, 9, 2, 3, 5, 6, 11, 2, 4, 5, 6, 8, 9, 10, 10, 2, 3, 2, 6, 5, 7, 4, 3, 5, 5, 1, 2, 3, 4, 5, 6, 7, 8, 11, 1, 3, 10, 7, 7, 3, 4, 7, 9, 9, 1, 2, 3, 4, 5, 6, 8, 10, 11, 1, 3, 6, 5, 1, 1, 3, 4, 10, 1, 2, 7, 3, 6, 1, 2, 3, 4, 5, 6, 8, 10, 11, 3, 10, 11, 11, 10, 1, 4, 7, 4, 7, 2, 2, 3, 1, 2, 3, 4, 5, 7, 8, 4, 6, 10, 3, 8, 11, 7, 7, 3, 7, 6, 11, 5, 1, 2, 8, 11, 1, 2, 3, 7, 8, 9, 2, 1, 10, 1, 2, 8, 9, 3, 1, 2, 3, 4, 6, 9, 10, 3, 4, 7, 11, 1, 2, 3, 4, 5, 6, 7, 8, 10, 11, 1, 2, 6, 9, 10, 11, 1, 5, 7, 11, 1, 2, 4, 7, 9, 10, 11, 2, 4, 6, 11, 3, 4, 1, 3, 4, 5, 6, 8, 11, 2, 3, 2, 1, 10, 11, 6, 3, 8, 2, 4, 7, 3, 1, 5, 7, 3, 4, 6, 11, 4, 8, 4, 1, 4, 1, 3, 11, 2, 3, 4, 11, 1, 2, 3, 4, 5, 6, 7, 8, 11, 5, 6, 1, 1, 2, 3, 11, 11, 7, 9, 7, 2, 9, 9, 3, 8, 4, 5, 1, 3, 4, 5, 6, 7, 10, 1, 2, 4, 6, 7, 10, 6, 11, 10, 3, 11, 2, 5, 6, 1, 2, 3, 4, 5, 7, 9, 10, 3, 4, 11, 2, 3, 4, 7, 10, 1, 3, 5, 6, 8, 5, 10, 4, 2, 5, 10, 6, 8, 4, 5, 9, 6, 5, 6, 2, 6, 10, 6, 8, 9, 10, 11, 1, 3, 5, 6, 8, 10, 1, 1, 2, 3, 5, 6, 7, 8, 9, 10, 11, 5, 11, 7, 9, 10, 11, 1, 2, 3, 4, 5, 6, 7, 8, 10, 11, 2, 6, 9, 1, 2, 3, 8, 9, 10, 11, 10, 11, 8, 1, 2, 3, 4, 5, 7, 8, 9, 10, 11, 4, 1, 2, 3, 5, 6, 8, 9, 10, 11, 7, 1, 3, 5, 9, 4, 5, 6, 10, 3, 6, 10, 1, 2, 3, 4, 5, 6, 7, 8, 10, 11, 2, 4, 1, 2, 3, 4, 5, 7, 6, 1, 2, 5, 6, 7, 9, 10, 11, 1, 2, 3, 4, 5, 7, 8, 1, 3, 4, 5, 6, 8, 10, 6, 2, 7, 8, 10, 11, 5, 11, 7, 8, 2, 6, 9, 10, 1, 2, 3, 4, 9, 3, 1, 2, 3, 4, 5, 6, 7, 8, 9, 10, 11, 1, 2, 4, 7, 11, 1, 3, 9, 10, 11, 6, 1, 3, 5, 6, 7, 8, 10, 1, 4, 5, 2, 3, 4, 5, 7, 8, 11, 1, 2, 4, 6, 7, 9, 10, 11, 1, 6, 1, 3, 4, 5, 6, 10, 11, 1, 2, 3, 4, 5, 6, 7, 8, 11, 6, 2, 3, 4, 7, 11, 4, 1, 9, 10, 11, 1, 1, 1, 2, 3, 6, 9, 10, 11, 10, 6, 10, 4, 7, 9, 7, 11, 3, 2, 5, 7, 11, 5, 7, 5, 9, 1, 3, 4, 8, 6, 11, 3, 7, 10, 8, 1, 4, 7, 2, 3, 4, 7, 8, 1, 2, 3, 4, 6, 8, 6, 3, 1, 2, 3, 4, 6, 7, 8, 9, 4, 2, 3, 8, 1, 5, 7, 8, 9, 10, 11, 3, 11, 10, 8, 1, 2, 3, 4, 6, 7, 8, 10, 11, 1, 2, 3, 9, 11, 3, 1, 2, 4, 5, 6, 7, 8, 9, 10, 11, 1, 5, 6, 10, 1, 2, 10, 11, 2, 2, 5, 6, 8, 11, 1, 8, 1, 2, 3, 4, 5, 7, 8, 9, 10, 11, 6, 8, 11, 3, 6, 8, 10, 11, 1, 8, 11, 6, 1, 3, 2, 9, 1, 2, 3, 4, 5, 6, 7, 9, 10, 11, 1, 2, 3, 9, 11, 1, 2, 3, 4, 5, 6, 8, 9, 10, 11, 9, 1, 11, 6, 10, 4, 7, 10, 11, 9, 1, 2, 3, 4, 5, 6, 10, 11, 1, 4, 11, 1, 4, 5, 6, 8, 1, 2, 3, 4, 5, 6, 7, 8, 9, 10, 11, 9, 10, 1, 2, 3, 4, 5, 6, 9, 10, 11, 1, 2, 3, 4, 6, 8, 3, 9], \"Freq\": [0.04689065252874031, 0.9378130505748062, 0.9555564262051754, 0.944297637918061, 0.863336927894769, 0.03320526645749112, 0.06641053291498224, 0.03320526645749112, 0.4299925241446553, 0.0026379909456727317, 0.36404275050283696, 0.0052759818913454635, 0.18465936619709122, 0.0052759818913454635, 0.007913972837018196, 0.947243914196597, 0.27680073564696434, 0.05882015632497992, 0.05536014712939287, 0.006920018391174109, 0.03114008276028349, 0.48440128738218763, 0.08650022988967636, 0.17637466865290585, 0.7258495979177279, 0.02713456440813936, 0.01356728220406968, 0.02713456440813936, 0.01356728220406968, 0.02035092330610452, 0.1524980931372139, 0.6099923725488556, 0.22611786223793784, 0.005258554935765996, 0.934138189835894, 0.7562992563875917, 0.013153030545871159, 0.1907189429151318, 0.013153030545871159, 0.026306061091742317, 0.9708350442441581, 0.9823671645697526, 0.26091420623976436, 0.008416587298056914, 0.025249761894170743, 0.1262488094708537, 0.5807445235659271, 0.089636589633905, 0.8963658963390501, 0.9603134530790319, 0.9351890989733791, 0.05395321724846418, 0.005353366407783267, 0.6852309001962582, 0.02141346563113307, 0.10974401135955697, 0.11509737776734025, 0.05085698087394104, 0.010706732815566535, 0.1925975810763468, 0.23233993907622788, 0.07948471599976217, 0.10394155169199669, 0.0213997312307052, 0.36990963984504704, 0.99375536864824, 0.9517802955214331, 0.030702590178110743, 0.9674333537523787, 0.09576726859640873, 0.8810588710869603, 0.8379924436103319, 0.10106441530978877, 0.05895424226404345, 0.958612812597293, 0.9925291353953906, 0.07113393553578956, 0.7824732908936851, 0.13041221514894752, 0.13013193814207927, 0.05005074543926126, 0.7507611815889189, 0.07007104361496576, 0.9982285228957556, 0.11288535441804273, 0.0664031496576722, 0.8233990557551353, 0.9680189209775085, 0.7653685184859405, 0.011423410723670754, 0.2170448037497443, 0.07264811871054405, 0.9255908457935983, 0.9735514566901603, 0.9675832489647289, 0.11605085367678837, 0.11077581487329799, 0.680480005650259, 0.01582511641047114, 0.07385054324886532, 0.9041518593536819, 0.06624478969522025, 0.026855995822386593, 0.9319321398760726, 0.05824575874225454, 0.9536907051550131, 0.2679174334506888, 0.7176359824572022, 0.9627252117610762, 0.247597720622135, 0.13243599010021173, 0.5815667391357124, 0.017274259578288487, 0.017274259578288487, 0.7900733123488326, 0.006290392614242297, 0.202550642178602, 0.9787893186956398, 0.970179332558204, 0.9962626415390244, 0.07940883673009302, 0.019852209182523256, 0.8933494132135464, 0.38383811895602965, 0.6141409903296475, 0.11632259758285994, 0.8411018594452949, 0.035791568487033826, 0.9292426245068888, 0.06483088077955038, 0.1675949109989827, 0.660222376662659, 0.1675949109989827, 0.10946583836718926, 0.5984132497406346, 0.1678476188296902, 0.12406128348281449, 0.9471316277627827, 0.9857721772349135, 0.9790624947732273, 0.013171244324303506, 0.6202663142058104, 0.08399439671537016, 0.29398038850379554, 0.9600198965895608, 0.0026669518737006325, 0.990772621079785, 0.006667379684251582, 0.011793703163953395, 0.9788773626081319, 0.011622516336041316, 0.5036423745617903, 0.011622516336041316, 0.08523178646430297, 0.007748344224027543, 0.23632449883284007, 0.011622516336041316, 0.13947019603249577, 0.9641652314898721, 0.960973529914431, 0.027069180851976005, 0.09203521489671841, 0.09744905106711362, 0.081207542555928, 0.032483017022371205, 0.6659018489586097, 0.17472322879454547, 0.7377202993547476, 0.06794792230898991, 0.887285777219085, 0.9418756000801738, 0.9739641452627699, 0.07347234889855897, 0.005248024921325641, 0.015744074763976924, 0.9026602864680103, 0.28924885291958613, 0.7091671437809152, 0.0012686353198227461, 0.9254062638515562, 0.0009516839614051582, 0.06281114145274044, 0.9240851265244086, 0.01046852357545674, 0.0009516839614051582, 0.052873864598648304, 0.0027828349788762263, 0.18644994358470718, 0.2727178279298702, 0.3478543723595283, 0.07235370945078189, 0.0640052045141532, 0.9852122451956985, 0.01793944083652442, 0.7175776334609767, 0.026909161254786627, 0.004484860209131105, 0.13903066648306425, 0.0941820643917532, 0.005921808396264858, 0.8853103552415963, 0.05329627556638373, 0.0014804520990662146, 0.05329627556638373, 0.9482582553620162, 0.0502864226328342, 0.9827726012215571, 0.011699673824066156, 0.0984219741660743, 0.18927302724245057, 0.48453894974067346, 0.0037854605448490114, 0.11734927689031936, 0.0340691449036411, 0.007570921089698023, 0.0037854605448490114, 0.06056736871758418, 0.9006870566804607, 0.07505725472337173, 0.9987495736422602, 0.9798075761479594, 0.5693191525686074, 0.27786398958255637, 0.0015101303781660674, 0.10570912647162471, 0.04379378096681595, 0.0015101303781660674, 0.9839592665522658, 0.9538906365011889, 0.9810491551770452, 0.020021411330143776, 0.10978086021248944, 0.003785546903878946, 0.01892773451939473, 0.8668902409882786, 0.9705950402494541, 0.9629480195118681, 0.023486537061265078, 0.9355411805612787, 0.9975788727291561, 0.9653194065407633, 0.9981682357280357, 0.1814564846107333, 0.8165541807482998, 0.15105859763529533, 0.24911417855645196, 0.12190693844251904, 0.06360362005696646, 0.2226126701993826, 0.023851357521362422, 0.16430935181383002, 0.005300301671413871, 0.9668881746645528, 0.9871511184492585, 0.07279533328507036, 0.9026621327348725, 0.9683609823723757, 0.9962984200599775, 0.9939722135678986, 0.9882321318929668, 0.9780689421808891, 0.978334595047751, 0.9724002126093002, 0.13192374850729205, 0.31602629306597574, 0.1270012205779155, 0.06891539101127196, 0.13783078202254392, 0.045287256950264435, 0.06300835749602009, 0.031504178748010044, 0.0029535167576259414, 0.010829561444628452, 0.06497736866777071, 0.9943421075003728, 0.027278087116505898, 0.0034097608895632373, 0.9649623317463961, 0.9329433293837225, 0.438317458992, 0.17779141910920482, 0.33445910525493977, 0.047528399167807225, 0.03478197606384473, 0.9391133537238077, 0.10544025453593708, 0.5942996164752817, 0.21407566830023592, 0.08307413993740498, 0.037492773634553896, 0.9373193408638474, 0.018746386817276948, 0.017454505119206157, 0.2705448293476954, 0.6981802047682463, 0.9539796875565534, 0.13934389263466293, 0.04433669311102911, 0.24912998986197313, 0.18790312794674244, 0.002111271100525196, 0.008445084402100783, 0.3378033760840313, 0.029557795407352743, 0.06544785851388672, 0.8329727447221946, 0.09519688511110795, 0.962077792572799, 0.026724383127022196, 0.008352029498498921, 0.033408117993995685, 0.06681623598799137, 0.8853151268408855, 0.9550293854760735, 0.03903605719038498, 0.16647730272370062, 0.2583268490540182, 0.16532918339457167, 0.024110505911708366, 0.33754708276391715, 0.00918495463303176, 0.00114811932912897, 0.9650266510830375, 0.06312219555988403, 0.9152718356183185, 0.9935078373189278, 0.9275830866452484, 0.06721616569893105, 0.9725777862526489, 0.9963751929056154, 0.994253149511143, 0.9784706011299511, 0.9649089239699498, 0.012097057257877492, 0.7802601931330982, 0.1451646870945299, 0.05443675766044871, 0.7735045451185298, 0.22100129860529424, 0.9802148921295338, 0.019959204085115197, 0.9780010001706447, 0.9584724912909667, 0.08041717533926088, 0.11392433173061957, 0.8041717533926087, 0.9640793439420359, 0.19033091286156437, 0.18205565578062677, 0.5792679956656307, 0.03310102832375032, 0.01655051416187516, 0.9911367698666405, 0.996178295928106, 0.9735915891316546, 0.02111878033526683, 0.7059706569217769, 0.0030169686193238327, 0.2654932385004973, 0.8207689872820382, 0.1423782937121903, 0.0251255812433277, 0.982141705918982, 0.17239943185316348, 0.7195802373001606, 0.10493878460627343, 0.8477199059998651, 0.12625615621274586, 0.01803659374467798, 0.9984410376173611, 0.9804810490937274, 0.9653202319695998, 0.928731333845334, 0.9797355994770358, 0.9741790356391865, 0.998513659082605, 0.03928860299478849, 0.9429264718749236, 0.9124949923722417, 0.07742381753461446, 0.005530272681043889, 0.9538906264639476, 0.9568694619665145, 0.9896023226236282, 0.9684816529613339, 0.9736132305581535, 0.9215719558534603, 0.017283296449442563, 0.004938084699840732, 0.5357821899327194, 0.33332071723924944, 0.06666414344784989, 0.01234521174960183, 0.02715946584912403, 0.929656211400555, 0.09611678066817082, 0.06990311321321514, 0.8300994694069298, 0.9851604827927026, 0.9963241917476986, 0.1992855932788701, 0.7971423731154804, 0.8626706599214311, 0.038585908111501706, 0.01653681776207216, 0.05787886216725256, 0.019292954055750853, 0.005512272587357387, 0.992201325710814, 0.21938995744841813, 0.7751778496510774, 0.9863639280149782, 0.005572677559406656, 0.940558420577417, 0.9821629035555476, 0.9846867209766003, 0.005835180568750224, 0.008752770853125336, 0.9725096448202647, 0.055296423912989875, 0.9123909945643329, 0.01328321898395618, 0.11954897085560562, 0.11954897085560562, 0.7438602631015461, 0.9889188290118605, 0.9477749047622575, 0.0448784712998661, 0.9499276425138325, 0.9368332229861751, 0.9850979714126182, 0.9784488652380521, 0.9543932700896323, 0.0013948768293898786, 0.0013948768293898786, 0.002789753658779757, 0.9513059976438971, 0.023712906099627933, 0.006974384146949392, 0.0013948768293898786, 0.011159014635119029, 0.9933579211521603, 0.01983124034581886, 0.01983124034581886, 0.8031652340056639, 0.14873430259364145, 0.14085586888827603, 0.3111931987066563, 0.5470448861474906, 0.9625634008051885, 0.05766993101793004, 0.1565326699058101, 0.7826633495290506, 0.377160012042168, 0.6076466860679373, 0.9803417759628691, 0.9836966769949262, 0.09749971868187256, 0.865310003301619, 0.02437492967046814, 0.9759972121774948, 0.9962800543485836, 0.12022526392739254, 0.057499039269622514, 0.21954178630219506, 0.08886215159850752, 0.5122641680384551, 0.13325648565292741, 0.6129798340034661, 0.18122882048798128, 0.07462363196563936, 0.9897997172928045, 0.008833346467150439, 0.0011622824298882157, 0.9957932044981305, 0.9905541057170067, 0.0733815266974791, 0.9172690837184888, 0.8310659812081707, 0.023117273468933816, 0.07166354775369482, 0.0011558636734466908, 0.005779318367233454, 0.06357250203956799, 0.003467591020340072, 0.8398603070383248, 0.06998835891986041, 0.023329452973286802, 0.058323632433217004, 0.9471504651244277, 0.017739822937324946, 0.580979201197392, 0.3592314144808301, 0.004434955734331236, 0.004434955734331236, 0.026609734405987417, 0.004434955734331236, 0.1912358435843431, 0.0009063310122480715, 0.5900214889734946, 0.10694705944527244, 0.0009063310122480715, 0.07341281199209379, 0.009063310122480715, 0.027189930367442147, 0.9980148288845422, 0.9836063659555166, 0.9952398939277181, 0.6052259868872752, 0.012714831657295698, 0.127148316572957, 0.035601528640427954, 0.10680458592128388, 0.033058562308968815, 0.07883195627523333, 0.07309603603650114, 0.04176916344942922, 0.8353832689885844, 0.052211454311786525, 0.9700507316268678, 0.14086524356330565, 0.5619781822157142, 0.21945322155125513, 0.07710518595044098, 0.1669568170439279, 0.6213547520913193, 0.11359948376184785, 0.0034424085988438743, 0.0017212042994219372, 0.032702881689016805, 0.0602421504797678, 0.0939692421159882, 0.005527602477411071, 0.8844163963857713, 0.005527602477411071, 0.005527602477411071, 0.44619319210031255, 0.5515443624573309, 0.9878413054623, 0.026249527032550735, 0.9581077366881019, 0.9694240123486052, 0.38789323447618973, 0.6102853555758718, 0.996675579043857, 0.984405627896714, 0.9836963526967862, 0.9984979556446764, 0.2872917437583159, 0.06435335060186276, 0.17467338020505604, 0.02298333950066527, 0.006895001850199581, 0.2712034061078502, 0.03907167715113096, 0.034475009250997904, 0.09423169195272761, 0.9766419030495099, 0.001596040027585584, 0.9544319364961792, 0.03670892063446843, 0.001596040027585584, 0.004788120082756752, 0.955949190708613, 0.9684577574806005, 0.0038583974401617547, 0.0038583974401617547, 0.0038583974401617547, 0.019291987200808772, 0.18366690237933034, 0.17218772098062218, 0.011479181398708146, 0.09183345118966517, 0.4247297117522014, 0.03443754419612444, 0.005739590699354073, 0.05739590699354073, 0.011479181398708146, 0.9669842911764439, 0.9642270428109602, 0.9715537761371427, 0.13209034749222137, 0.014676705276913487, 0.7191585585687609, 0.1174136422153079, 0.014676705276913487, 0.9880154985216627, 0.9720896398009675, 0.9679223021327147, 0.38630540915828215, 0.03558076136984178, 0.41934468757313526, 0.06099559091972877, 0.015248897729932192, 0.02033186363990959, 0.010165931819954795, 0.05591262500975137, 0.11015345895514543, 0.1879088417470128, 0.12959230465311228, 0.16037047700822643, 0.2284064369511104, 0.048597114244917104, 0.0923345170653425, 0.029158268546950264, 0.00971942284898342, 0.003239807616327807, 0.9571928214042089, 0.031906427380140295, 0.9611908933720953, 0.9578806546715911, 0.5958620832121144, 0.2663854019065923, 0.09814199017611296, 0.038555781854901515, 0.6189014409044138, 0.08808763576643228, 0.07321569726041124, 0.15215137086929212, 0.00800796688785748, 0.005719976348469629, 0.02059191485449066, 0.028599881742348142, 0.004575981078775703, 0.9881084268667634, 0.9950920493376353, 0.9685931797557338, 0.03556691292430847, 0.07824720843347864, 0.7113382584861694, 0.09958735618806372, 0.07113382584861694, 0.006359990781931223, 0.006359990781931223, 0.23531965893145526, 0.12083982485669324, 0.09539986172896835, 0.5215192441183604, 0.9812015783538206, 0.9994800949655902, 0.35741790273886903, 0.07075785891784717, 0.023585952972615724, 0.02177164889779913, 0.0326574733466987, 0.1542158463594105, 0.04172899372078166, 0.23041661750170744, 0.04717190594523145, 0.02177164889779913, 0.8161381018948132, 0.0037610050778562817, 0.16924522850353269, 0.0037610050778562817, 0.0037610050778562817, 0.9935999768637916, 0.9895451468785296, 0.004757428590762162, 0.2035259120723927, 0.07453061568848184, 0.07739717783034653, 0.09746311282339933, 0.37838620272613854, 0.05733124283729372, 0.017199372851188114, 0.09172998853966995, 0.11685161957190816, 0.7018400400537734, 0.06280774551990063, 0.11831226481655702, 0.9388383927021486, 0.9990307113505603, 0.3244090511379334, 0.13710144423091233, 0.48371706732174, 0.024137578209667665, 0.0038620125135468263, 0.010620534412253772, 0.0028965093851601197, 0.013517043797413891, 0.9909713706837961, 0.002184626880258226, 0.028400149443356938, 0.18132403106143274, 0.4216329878898376, 0.04369253760516452, 0.04587716448542274, 0.1179698515339442, 0.004369253760516452, 0.15292388161807582, 0.1641525188567005, 0.08773669111306406, 0.27453093670861983, 0.17830359806848503, 0.014151079211784526, 0.2773611525509767, 0.2270026833443965, 0.06066451020410596, 0.023483036208041017, 0.017612277156030764, 0.17025201250829736, 0.11741518104020508, 0.007827678736013671, 0.00978459842001709, 0.238744201448417, 0.0332676346280581, 0.09588906451616748, 0.20241137725176228, 0.24120689122501673, 0.06409693612972472, 0.06578369760682275, 0.05228960579003859, 0.005060284431294058, 0.10963949601137124, 0.21084518463725238, 0.001686761477098019, 0.045542559881646516, 0.030326880716078482, 0.8946429811243152, 0.06823548161117658, 0.021943887252473607, 0.9655310391088388, 0.06725346869019606, 0.1008802030352941, 0.14062088907950088, 0.5380277495215685, 0.003056975849554367, 0.08253834793796791, 0.03974068604420677, 0.024455806796434935, 0.9793166041646857, 0.9971304518767281, 0.9296043218543474, 0.039840185222329176, 0.026560123481552782, 0.9972473185733434, 0.017429009995721594, 0.9760245597604094, 0.017429009995721594, 0.15730267071064935, 0.08798284971951574, 0.6158799480366102, 0.13863964198226722, 0.9452330918841725, 0.00739937301695004, 0.08139310318645045, 0.2219811905085012, 0.4809592461017526, 0.09989153572882555, 0.05919498413560032, 0.04069655159322522, 0.00369968650847502, 0.9126440918024511, 0.07936035580890878, 0.9859651806371195, 0.9698928582977873, 0.7933445834185481, 0.008663669397706453, 0.196789062033618, 0.1951000394217433, 0.028903709543961972, 0.057807419087923945, 0.05058149170193345, 0.6575593921251348, 0.007225927385990493, 0.9707552398500411, 0.9592361735514682, 0.09457716906895804, 0.8984831061551013, 0.006755512076354145, 0.13840904968737355, 0.009886360691955254, 0.21255675487703793, 0.5338634773655837, 0.10380678726553015, 0.00287433621504056, 0.3650406993101511, 0.41390441496584063, 0.01724601729024336, 0.09197875888129792, 0.10922477617154128, 0.035542374593504865, 0.9004068230354566, 0.02369491639566991, 0.035542374593504865, 0.9516856041186795, 0.9885785216265476, 0.9219420639886203, 0.2150282094070669, 0.02389202326745188, 0.7525987329247342, 0.8986978973867652, 0.09217414332171951, 0.9722149923825273, 0.9819857432345445, 0.1462390903809487, 0.08124393910052706, 0.7636930275449544, 0.07902626653247356, 0.2442630056458274, 0.014368412096813376, 0.4741575991948414, 0.021552618145220064, 0.014368412096813376, 0.15805253306494713, 0.9710223320921555, 0.9779564349777569, 0.9521784593960598, 0.04231904263982488, 0.9858370888158747, 0.002759340775499065, 0.01103736310199626, 0.97404729375117, 0.002759340775499065, 0.00551868155099813, 0.9627793134451402, 0.9713706792210051, 0.9967329056437016, 0.969608280779684, 0.8430834502687939, 0.021501457120949106, 0.08487417284585175, 0.037344636052174765, 0.00226331127588938, 0.0113165563794469, 0.24941203590309954, 0.5997098391377899, 0.15132865099738624, 0.9931740446546918, 0.9344182626083991, 0.045205664645811085, 0.18584551021055667, 0.18082265858324434, 0.07534277440968515, 0.005022851627312343, 0.5022851627312342, 0.9972104998387801, 0.27175978961825137, 0.08152793688547542, 0.029893576858007653, 0.08152793688547542, 0.07337514319692788, 0.043481566338920224, 0.04891676213128525, 0.3723109117770044, 0.9733814016452118, 0.9735331284282379, 0.12693484375862743, 0.2168886700442689, 0.06696562623486643, 0.018990252215857647, 0.014992304380940246, 0.5467193664249543, 0.004997434793646748, 0.0009994869587293498, 0.9992986845720285, 0.35280103908892435, 0.16420693524415372, 0.1755876139244416, 0.12681327672320783, 0.07316150580185067, 0.01788392364045239, 0.013006489920329009, 0.02926460232074027, 0.04552271472115153, 0.9512974315459763, 0.993522583240633, 0.9605951131687134, 0.38489528210721063, 0.02084849444747391, 0.05452683163185484, 0.42017734963370496, 0.00641492136845351, 0.059338022658194975, 0.049715640605514706, 0.0016037303421133776, 0.9859606739919923, 0.22879398318420976, 0.15114269192169008, 0.1885817073518335, 0.11786356709489594, 0.018026192614513496, 0.0790379214636361, 0.0665582496535883, 0.004159890603349268, 0.11370367649154667, 0.03327912482679415, 0.995134298494984, 0.9569103445570486, 0.12793666081422414, 0.6272016786258305, 0.02184284452925778, 0.04056528269719302, 0.12637645763356287, 0.024963250890580317, 0.029643860432564128, 0.9660550955583967, 0.4336282343465555, 0.13068248158389345, 0.14652278238194114, 0.0019800375997559615, 0.15048285758145305, 0.0772214663904825, 0.0019800375997559615, 0.017820338397803653, 0.0019800375997559615, 0.03960075199511923, 0.9951316161056086, 0.998866471183308, 0.9532433843789062, 0.9933708858601163, 0.006181523869695808, 0.13642325870668862, 0.057717532529752875, 0.3541757677962108, 0.10494096823591431, 0.11543506505950575, 0.02361171785308072, 0.08657629879462932, 0.07083515355924216, 0.0498469599120593, 0.8764593665572732, 0.0009631421610519485, 0.12135591229254551, 0.9993665082376753, 0.9727501070193325, 0.8115401504967891, 0.08342936126602504, 0.10239057973557619, 0.8257880484657236, 0.005432816108327129, 0.168417299358141, 0.9444332532172903, 0.9844249712365957, 0.19910909547941066, 0.7847240821835597, 0.07814500373067766, 0.9182037938354626, 0.9894906725450667, 0.1375836253299572, 0.20783909358355232, 0.6527903925229883, 0.8542989145212562, 0.13831506235106053, 0.059787210388715886, 0.23371364061043484, 0.059787210388715886, 0.021740803777714868, 0.021740803777714868, 0.6087425057760163, 0.9748553731945567, 0.0109534311594894, 0.1862174578932358, 0.2743203411975624, 0.054063132936745875, 0.3203741211066422, 0.06607716247824495, 0.022025720826081653, 0.07408651550591101, 0.21007582391386465, 0.02908742177268895, 0.04847903628781492, 0.22138759904768812, 0.12281355859579779, 0.0597908114216384, 0.14543710886344474, 0.016159678762604972, 0.054942907792856904, 0.09211016894684834, 0.9972767440223125, 0.1411432257208735, 0.25141137081530596, 0.4984120158268346, 0.01764290321510919, 0.09262524187932324, 0.17221125980777044, 0.8036525457695954, 0.9820550274341441, 0.9547115491988597, 0.033498650849082795, 0.989595899432171, 0.10316613986802772, 0.03641157877695096, 0.831397715407047, 0.02427438585130064, 0.8643895200332504, 0.1152519360044334, 0.9935532277096294, 0.9684156415046892, 0.13864084383035094, 0.5412690478308222, 0.1006570510001178, 0.05507649960383805, 0.1234473266982577, 0.00569756892453497, 0.02279027569813988, 0.01139513784906994, 0.9336353513073201, 0.9730046514724496, 0.07739199230492166, 0.09190299086209448, 0.6030126067091813, 0.09673999038115208, 0.07094265961284486, 0.004836999519057604, 0.02257266442226882, 0.03385899663340323, 0.9383776846849706, 0.9823959682617767, 0.07882207766836394, 0.8998853867138216, 0.013137012944727322, 0.15823555679525303, 0.06480122802091315, 0.7354185877722236, 0.040689143175922204, 0.9455420812209712, 0.030501357458741007, 0.004357336779820144, 0.008714673559640288, 0.008714673559640288, 0.9293211767793726, 0.6957588403485333, 0.2096807464064073, 0.06036263911699604, 0.009530943018473058, 0.025415848049261492, 0.08847820043506661, 0.8081008973069418, 0.06488401365238218, 0.011797093391342215, 0.017695640087013322, 0.9936414714789984, 0.8953365464094878, 0.9845952178764827, 0.9022527733373495, 0.09333649379351892, 0.3846371179577962, 0.6140930538429643, 0.03275091794168519, 0.9497766203088707, 0.9782569595634162, 0.9685384222066237, 0.9949582621939629, 0.9667043676926629, 0.21499904967835096, 0.004813411559963081, 0.4893635085962466, 0.09145481963929854, 0.036902821959716954, 0.022462587279827712, 0.016044705199876937, 0.11391740691912626, 0.009626823119926162, 0.9425183447472406, 0.03282402195637157, 0.018756583975069466, 0.9713139901984625, 0.9953098129193675, 0.20151718551945905, 0.02628485028514683, 0.7622606582692582, 0.971348402000821, 0.9762777030029476, 0.42366396038170145, 0.053628349415405244, 0.11530095124312129, 0.05630976688617551, 0.06703543676925657, 0.008044252412310786, 0.24400898984009387, 0.0026814174707702624, 0.02413275723693236, 0.9879633006001878, 0.9652185492856018, 0.9767923348609374, 0.9918018176769775, 0.9746384554217484, 0.07503906209348324, 0.004764384894824333, 0.0035732886711182495, 0.915952996029978, 0.910368744874792, 0.0798569074451572, 0.9830780537328958, 0.28881740568068887, 0.703207596439938, 0.19183575421383425, 0.36971981721211694, 0.03836715084276685, 0.027903382431103164, 0.03139130523499106, 0.02441545962721527, 0.3104251295460227, 0.0034879228038878956, 0.0034879228038878956, 0.9474843438159908, 0.04147237868554842, 0.010633943252704723, 0.9969733108580581, 0.990993451550886, 0.16698226947424322, 0.8250888609315548, 0.9951826861885933, 0.23389487223361022, 0.763597965233257, 0.9853687398397707, 0.9750437658997918, 0.9754289181345147, 0.003951093613684449, 0.015804374454737796, 0.003951093613684449, 0.2094079615252758, 0.47018014002844943, 0.09482624672842678, 0.19755468068422244, 0.9873148968186991, 0.953326101804597, 0.041448960948025956, 0.06937167183466936, 0.867145897933367, 0.052028753876002025, 0.9932603545834188, 0.9397414614940952, 0.9491713282142249, 0.041268318618009774, 0.9878776083512175, 0.9616601769211515, 0.9923312754399137, 0.8079423448146169, 0.01510172607130125, 0.12081380857041, 0.05285604124955438, 0.25662770277859226, 0.07747251404636747, 0.569422978240801, 0.0009684064255795935, 0.09490382970680016, 0.0009684064255795935, 0.9783061241508296, 0.8881753030969296, 0.10711661946897644, 0.19263552269566972, 0.7541475782128346, 0.049183537709532696, 0.9854619801659397, 0.9702280968211087, 0.587627526572642, 0.15655769868541192, 0.12224368253518465, 0.057904902253508514, 0.023590886103281247, 0.0514710242253409, 0.9968079798315268, 0.1508822494490878, 0.7602144106857884, 0.07930990035144357, 0.0077375512537993735, 0.1912949757120648, 0.17923132859508775, 0.261953480254359, 0.10512606773365724, 0.09823255509538463, 0.010340268957408909, 0.08616890797840757, 0.006893512638272605, 0.0034467563191363025, 0.056871479265748995, 0.1458484584067398, 0.13462934622160597, 0.03365733655540149, 0.1720263868387187, 0.014958816246845107, 0.4936409361458885, 0.6407891002897373, 0.17767334144397265, 0.020388744100128007, 0.15728459734384465, 0.13740136359854108, 0.26376154619362796, 0.0208555641176357, 0.48335836837343915, 0.0834222564705428, 0.006133989446363441, 0.0036803936678180644, 0.05081467501254344, 0.8073887251993014, 0.05646075001393716, 0.07904505001951202, 0.9906582952928114, 0.9779705947629628, 0.22051024171127676, 0.23293335392036277, 0.07143289520224458, 0.09006756351587361, 0.021740446365900525, 0.29504891496579283, 0.06832711714997308, 0.9717039648873328, 0.026826183079711644, 0.9963973565724589, 0.12710774920572657, 0.7626464952343595, 0.09777519169671274, 0.9688789282947664, 0.9205071469250309, 0.07080824207115623, 0.010520613678092752, 0.85637795339675, 0.13255973234396867, 0.9569331563436988, 0.1449798108986318, 0.19330641453150904, 0.6584499744979527, 0.9877682714759304, 0.8244122790184593, 0.14909583769482773, 0.02631103018144019, 0.008027298129234674, 0.9900334359389432, 0.9572785632985348, 0.05144669497263, 0.92604050950734, 0.004453446371571921, 0.004453446371571921, 0.9895557837632808, 0.04958009449741886, 0.09089683991193458, 0.8511249555390238, 0.004131674541451572, 0.12718296735552664, 0.0028580442102365535, 0.47443533889926787, 0.13432807788111803, 0.06001892841496762, 0.0028580442102365535, 0.034296530522838646, 0.03000946420748381, 0.13289905577599975, 0.9969333952306045, 0.9965296376840801, 0.9444782913545655, 0.11092510873442733, 0.24142523665728302, 0.019575019188428355, 0.6198756076335645, 0.9796178352481274, 0.9561168753144427, 0.9770148271400856, 0.969863283316063, 0.9238936575034241, 0.0715272509034909, 0.9622379922400368, 0.018626417449864662, 0.9800361181313407, 0.9721395699819846, 0.9848075811436734, 0.7994822698847625, 0.014844498379823176, 0.04665413776515855, 0.012723855754134152, 0.02968899675964635, 0.07846377715049394, 0.0169651410055122, 0.7205974537100589, 0.017363794065302623, 0.11286466142446706, 0.008681897032651311, 0.09115991884283878, 0.04775043367958222, 0.9614438494935592, 0.03152274916372325, 0.9357811752847915, 0.8601270091800015, 0.1314082930691669, 0.014684967832033236, 0.9251529734180939, 0.058739871328132943, 0.5912129358873629, 0.13817620340662506, 0.12458510143220292, 0.09513771382095496, 0.009060734649614759, 0.0022651836624036897, 0.036242938598459035, 0.0022651836624036897, 0.014350323709906533, 0.1348930428731214, 0.8466690988844855, 0.1425732280473165, 0.04246862112047725, 0.68556488380199, 0.12740586336143175, 0.9955165236583257, 0.11238026300110834, 0.12291591265746224, 0.53029436603648, 0.0597020147193388, 0.1685703945016625, 0.9728014076412616, 0.9993448998828987, 0.9701970982052259, 0.8606975366938039, 0.13656824382964416, 0.9991712779936197, 0.02879337786691184, 0.9597792622303947, 0.09175740887503199, 0.8716953843128039, 0.022939352218757997, 0.9665895502612638, 0.9823442235176459, 0.9920401882668892, 0.9946123981221655, 0.9971575540550864, 0.0027338109775327936, 0.9680682636216797, 0.011661933414259213, 0.874645006069441, 0.10495740072833291, 0.011661933414259213, 0.24455044752056213, 0.502201811872583, 0.0043669722771528955, 0.008733944554305791, 0.21834861385764476, 0.017467889108611582, 0.9525252627572779, 0.23992117587539905, 0.25254860618463054, 0.08628744044641544, 0.07366001013718391, 0.05050972123692611, 0.0021045717182052548, 0.03577771920948933, 0.22939831728437277, 0.018941145463847293, 0.008418286872821019, 0.9945387485198968, 0.9446433469831869, 0.974278377531242, 0.8952376617984403, 0.09163850081401358, 0.007049115447231813, 0.06968803500842459, 0.1777044892714827, 0.4372924196778643, 0.1428604717672704, 0.038328419254633525, 0.006968803500842459, 0.008711004376053074, 0.06794583413321398, 0.0034844017504212293, 0.0470394236306866, 0.16761244756969584, 0.02394463536709941, 0.7901729671142804, 0.5829010389986657, 0.19290250211466636, 0.01677413061866664, 0.01048383163666665, 0.11322538167599983, 0.031451494909999954, 0.05241915818333325, 0.3316084006495475, 0.6542544120923505, 0.9922210496484283, 0.07476171322004843, 0.11044343998416245, 0.2004973218174026, 0.4332781107070989, 0.10704518029234207, 0.04587650583957517, 0.013593038767281532, 0.0016991298459101915, 0.0016991298459101915, 0.008495649229550957, 0.988867107720027, 0.13823904342898524, 0.008131708436999131, 0.056921959058993915, 0.046757323512745, 0.03455976085724631, 0.5509232466066911, 0.0711524488237424, 0.010164635546248914, 0.08131708436999131, 0.9511507292088345, 0.2362970867122575, 0.22316947078379873, 0.021879359880764584, 0.520728765162197, 0.10674957762838086, 0.14233277017117446, 0.6333808272617264, 0.11386621613693958, 0.019178042093915108, 0.9205460205079252, 0.057534126281745326, 0.08703119559444561, 0.08386642484555669, 0.28957652352333724, 0.05696587348000077, 0.3196418456377821, 0.05696587348000077, 0.004747156123333397, 0.06804257110111203, 0.020571009867778055, 0.01107669762111126, 0.970156804780437, 0.015399314361594236, 0.011208287921272866, 0.09246837535050115, 0.053239367626046114, 0.1877388226813205, 0.0168124318819093, 0.6332682675519169, 0.9910772041878823, 0.1560497081519122, 0.03343922317540975, 0.267513785403278, 0.016719611587704877, 0.05573203862568293, 0.4402831051428951, 0.02229281545027317, 0.0055732038625682925, 0.6350038084754119, 0.10491367270463328, 0.1849793702950113, 0.0027608861238061387, 0.0496959502285105, 0.016565316742836834, 0.0027608861238061387, 0.24154219989190046, 0.4034003750771946, 0.062253144302036205, 0.21415081639900455, 0.05229264121371041, 0.007470377316244344, 0.014940754632488689, 0.9958405855958005, 0.03233814967446667, 0.9378063405595333, 0.03233814967446667, 0.22331275710055418, 0.7750266275842762, 0.9938854676364756, 0.004456885505096303, 0.9664553165883536, 0.9501187709600994, 0.00037921150455933817, 0.004929749559271396, 0.884700440136936, 0.10959212481764874, 0.7303691497422244, 0.09494798946648918, 0.036518457487111224, 0.12051090970746704, 0.01460738299484449, 0.9675303199121543, 0.30169068403829624, 0.06739898260430022, 0.019256852172657206, 0.10805233719102099, 0.09842391110469238, 0.09200496038047332, 0.06739898260430022, 0.0930747855011765, 0.03316457874179852, 0.02353615265546992, 0.09628426086328602, 0.39627248061079734, 0.030745278668079103, 0.48167603246657265, 0.027329136593848093, 0.05807441526192719, 0.838201970127443, 0.0821766637379846, 0.06574133099038769, 0.010272082967248075, 0.0020544165934496153, 0.9979932620143789, 0.2884295435197297, 0.14783825848749965, 0.17102857354436235, 0.265239228462867, 0.05507699826004889, 0.06957094517058807, 0.0014493946910539182, 0.1807830622301871, 0.10043503457232618, 0.7097409109777716, 0.16207537839093847, 0.007451741535215562, 0.09128383380639064, 0.4899520059404232, 0.10432438149301787, 0.12667960609866455, 0.016766418454235016, 0.6851056084279809, 0.05952158654782103, 0.013361988816857783, 0.05344795526743113, 0.006073631280389901, 0.11782844683956409, 0.05952158654782103, 0.003644178768233941, 0.9731323188734508, 0.9791865600147532, 0.42953844422687254, 0.2968868658626913, 0.061588232811941285, 0.08685520011940438, 0.08843438557612082, 0.0015791854567164432, 0.03474208004776175, 0.15269699451687713, 0.007634849725843857, 0.06326018344270624, 0.18323639342025255, 0.227954798957338, 0.2988498321258881, 0.001090692817977694, 0.06435087626068393, 0.001090692817977694, 0.9952032732794759, 0.007469186815066764, 0.3435825934930712, 0.007469186815066764, 0.6274116924656082, 0.007469186815066764, 0.9748807650887936, 0.004706322153607124, 0.002353161076803562, 0.9883276522574961, 0.002353161076803562, 0.9713962062230437, 0.9489165155835916, 0.012549503267075667, 0.7184590620400819, 0.012549503267075667, 0.09098389868629858, 0.10980815358691208, 0.0188242549006135, 0.034511133984458084, 0.999334968347291, 0.9119290638326673, 0.08046432916170593, 0.8671614137798135, 0.11642444907228977, 0.016058544699626174, 0.9355120729518641, 0.03341114546256658, 0.9632363658452612, 0.2425672492562831, 0.016728775810778144, 0.7388542649760347, 0.9117750732807899, 0.2584400135894496, 0.7347804307935332, 0.9775498821354617, 0.9718629191037378, 0.727744490988306, 0.060944119934981285, 0.12905813633290156, 0.08245380932379821, 0.028839830236771242, 0.9517143978134509, 0.9768131697086553, 0.04691252985654731, 0.938250597130946, 0.9682444795116747, 0.1262976324649597, 0.04209921082165323, 0.8139180758852959, 0.06690609544963426, 0.22023256418837944, 0.4934324539410527, 0.03345304772481713, 0.1839917624864942, 0.15082672370734984, 0.02445838762821889, 0.23643108040611596, 0.5258553340067063, 0.03261118350429186, 0.028534785566255376, 0.9834531426768184, 0.9811956106486631, 0.28632135511303974, 0.25196279249947495, 0.288611925953944, 0.10536625868159863, 0.009162283363617272, 0.029777420931756133, 0.022905708409043178, 0.004581141681808636, 0.9664342411185972, 0.8199967906519326, 0.1189469028801905, 0.061052392628770345, 0.06872995585454336, 0.04327441664915693, 0.24946428421278705, 0.017818877443770503, 0.534566323313115, 0.0763666176161593, 0.0076366617616159295, 0.9774807045101332, 0.9781895320414001, 0.995039028394593, 0.9459355199825518, 0.07302107911081133, 0.016392487147324993, 0.6035415722424202, 0.1117669578226704, 0.008941356625813633, 0.008941356625813633, 0.08941356625813633, 0.001490226104302272, 0.08792334015383406, 0.06639435745454085, 0.8589769995681222, 0.06224471011363205, 0.006224471011363205, 0.004149647340908803, 0.9902983287905345, 0.33784245847889965, 0.16892122923944983, 0.0025987881421453817, 0.08835879683294298, 0.10135273754366989, 0.07666425019328876, 0.03638303399003535, 0.09615516125937913, 0.051975762842907634, 0.04158061027432611, 0.9624758131437388, 0.9200818623663287, 0.05064670802016488, 0.01688223600672163, 0.0027125893553605167, 0.9114300234011335, 0.027125893553605167, 0.05696437646257085, 0.9975705396548827, 0.045962168981363474, 0.006566024140194781, 0.06566024140194782, 0.2166787966264278, 0.6566024140194782, 0.9693472454537339, 0.9893141283252546, 0.011183618131763311, 0.05591809065881656, 0.03914266346117159, 0.4697119615340591, 0.1397952266470414, 0.01397952266470414, 0.06710170879057988, 0.02516314079646745, 0.022367236263526623, 0.15097884477880472, 0.09245690374464624, 0.041091957219842774, 0.8526581123117376, 0.18683372998193112, 0.0030134472577730827, 0.1054706540220579, 0.021094130804411578, 0.6810390802567167, 0.9888796761218158, 0.9983701484482931, 0.0011745531158215213, 0.9828781408858756, 0.978173959430958, 0.9762181008965543, 0.978251611731844, 0.008433203549412448, 0.1429378272724963, 0.5331416660910925, 0.0008214817659338867, 0.12157930135821524, 0.026287416509884375, 0.013143708254942188, 0.06078965067910762, 0.0739333589340498, 0.018072598850545508, 0.009036299425272754, 0.002641979706408999, 0.7661741148586098, 0.06604949266022497, 0.12153106649481396, 0.04491365500895298, 0.30544910634297634, 0.05727170743930807, 0.11454341487861613, 0.06421373258346662, 0.24644189261762867, 0.048594176009109875, 0.05206518858118915, 0.07462677029970445, 0.003471012572079277, 0.03471012572079277, 0.9987392639366084, 0.9739091031306084, 0.973895092845431, 0.9637569362124729, 0.02898517101390896, 0.9706637287143389, 0.7241241281529274, 0.2033805421664086, 0.069283481397348, 0.9771170629127848, 0.7714628239625613, 0.06554420477025667, 0.023354831584804104, 0.045956281505582265, 0.04520289984155633, 0.03842246486532288, 0.009040579968311266, 0.0007533816640259387, 0.8768336171239834, 0.03653473404683265, 0.08431092472345995, 0.9649511484923298, 0.18410297501582443, 0.004068574033498883, 0.0010171435083747207, 0.8106633761746523, 0.5322727437578577, 0.14485176180019455, 0.03103966324289883, 0.10461516130014051, 0.15289908190020535, 0.014945023042877216, 0.010346554414299611, 0.0011496171571444011, 0.0045984686285776046, 0.0011496171571444011, 0.0011496171571444011, 0.9481101510491979, 0.042138228935519904, 0.17327063373113008, 0.03960471628140116, 0.004950589535175145, 0.02227765290828815, 0.5074354273554523, 0.09406120116832775, 0.12128944361179105, 0.01980235814070058, 0.014851768605525435, 0.6320204496582248, 0.051119301075297593, 0.17891755376354157, 0.1068858113392586, 0.023236045943317088, 0.004647209188663418, 0.9724043036489867, 0.9555008382836462], \"Term\": [\"1000\", \"1000\", \"1217\", \"15th\", \"2020\", \"2020\", \"2020\", \"2020\", \"2021\", \"2021\", \"2021\", \"2021\", \"2021\", \"2021\", \"2021\", \"600000\", \"able\", \"able\", \"able\", \"able\", \"able\", \"able\", \"able\", \"absolutely\", \"absolutely\", \"absolutely\", \"absolutely\", \"absolutely\", \"absolutely\", \"absolutely\", \"access\", \"access\", \"access\", \"access\", \"accomplishment\", \"accord\", \"accord\", \"accord\", \"accord\", \"accord\", \"accurate\", \"ache\", \"achieve\", \"achieve\", \"achieve\", \"achieve\", \"achieve\", \"activate\", \"activate\", \"actor\", \"additional\", \"additional\", \"administer\", \"administer\", \"administer\", \"administer\", \"administer\", \"administer\", \"administer\", \"adult\", \"adult\", \"adult\", \"adult\", \"adult\", \"adult\", \"aged\", \"airport\", \"airport\", \"alcohol\", \"alhamdulillah\", \"alhamdulillah\", \"amazing\", \"amazing\", \"amazing\", \"amber\", \"america\", \"anti\", \"anti\", \"anti\", \"antibody\", \"antibody\", \"antibody\", \"antibody\", \"appointment\", \"approval\", \"approval\", \"approval\", \"arkansas\", \"arrive\", \"arrive\", \"arrive\", \"arrow\", \"arrow\", \"assume\", \"attempt\", \"australia\", \"australia\", \"australia\", \"australia\", \"australia\", \"available\", \"available\", \"available\", \"average\", \"average\", \"avoidable\", \"awareness\", \"awareness\", \"awful\", \"baby\", \"baby\", \"baby\", \"baby\", \"baby\", \"backhand\", \"backhand\", \"backhand\", \"ballot\", \"bang\", \"banknote\", \"beer\", \"beer\", \"beer\", \"bicep\", \"bicep\", \"bill\", \"bill\", \"bill\", \"bitch\", \"bitch\", \"black\", \"black\", \"black\", \"blood\", \"blood\", \"blood\", \"blood\", \"bloody\", \"blow\", \"blue\", \"blue\", \"body\", \"body\", \"body\", \"bonus\", \"book\", \"book\", \"book\", \"booking\", \"booking\", \"booster\", \"booster\", \"booster\", \"booster\", \"booster\", \"booster\", \"booster\", \"booster\", \"bottle\", \"brazil\", \"break\", \"break\", \"break\", \"break\", \"break\", \"break\", \"build\", \"build\", \"build\", \"bulb\", \"bust\", \"camera\", \"canada\", \"canada\", \"canada\", \"canada\", \"care\", \"care\", \"care\", \"cartwheel\", \"case\", \"case\", \"case\", \"case\", \"case\", \"cause\", \"cause\", \"cause\", \"cause\", \"cause\", \"cause\", \"cause\", \"cent\", \"center\", \"center\", \"center\", \"center\", \"center\", \"center\", \"centre\", \"centre\", \"centre\", \"centre\", \"centre\", \"certificate\", \"certificate\", \"challenge\", \"challenge\", \"chance\", \"chance\", \"chance\", \"chance\", \"chance\", \"chance\", \"chance\", \"chance\", \"chance\", \"chat\", \"chat\", \"check\", \"chicken\", \"child\", \"child\", \"child\", \"child\", \"child\", \"child\", \"china\", \"chinnalapatty\", \"chip\", \"chip\", \"choice\", \"choice\", \"choice\", \"choice\", \"cipla\", \"circle\", \"circle\", \"cite\", \"clap\", \"clapping\", \"clinic\", \"clinical\", \"clinical\", \"close\", \"close\", \"close\", \"close\", \"close\", \"close\", \"close\", \"close\", \"closed\", \"clown\", \"club\", \"club\", \"coincidence\", \"cold\", \"colleague\", \"college\", \"collision\", \"colorado\", \"columbia\", \"come\", \"come\", \"come\", \"come\", \"come\", \"come\", \"come\", \"come\", \"come\", \"come\", \"come\", \"commission\", \"common\", \"common\", \"common\", \"communicate\", \"community\", \"community\", \"community\", \"community\", \"comparison\", \"comparison\", \"complete\", \"complete\", \"complete\", \"complete\", \"complication\", \"complication\", \"complication\", \"condition\", \"condition\", \"condition\", \"confetti\", \"continue\", \"continue\", \"continue\", \"continue\", \"continue\", \"continue\", \"continue\", \"continue\", \"control\", \"control\", \"control\", \"conversation\", \"conversation\", \"corona\", \"corona\", \"corona\", \"corona\", \"correlation\", \"country\", \"country\", \"country\", \"country\", \"country\", \"country\", \"country\", \"country\", \"countrys\", \"covax\", \"covax\", \"covaxin\", \"coverage\", \"coverage\", \"covidshield\", \"covishield\", \"cowin\", \"coworker\", \"cream\", \"create\", \"create\", \"create\", \"create\", \"cross\", \"cross\", \"crossbone\", \"curve\", \"curve\", \"cycle\", \"daily\", \"daily\", \"daily\", \"dame\", \"damn\", \"damn\", \"damn\", \"damn\", \"damn\", \"dance\", \"dark\", \"data\", \"datum\", \"datum\", \"datum\", \"datum\", \"daughter\", \"daughter\", \"daughter\", \"dcgi\", \"dead\", \"dead\", \"dead\", \"deadly\", \"deadly\", \"deadly\", \"death\", \"decline\", \"defence\", \"defend\", \"delicious\", \"delight\", \"delta\", \"demonstrate\", \"demonstrate\", \"detail\", \"detail\", \"detail\", \"dindigul\", \"dinner\", \"director\", \"disagree\", \"disappoint\", \"discriminate\", \"disease\", \"disease\", \"disease\", \"disease\", \"disease\", \"disease\", \"disease\", \"dish\", \"distance\", \"distance\", \"distance\", \"distancing\", \"distribute\", \"district\", \"district\", \"doctor\", \"doctor\", \"doctor\", \"doctor\", \"doctor\", \"doctor\", \"dollar\", \"donate\", \"donate\", \"door\", \"door\", \"doortodoor\", \"dose\", \"double\", \"double\", \"double\", \"doze\", \"dream\", \"dream\", \"drink\", \"drink\", \"drink\", \"drink\", \"dropin\", \"droplet\", \"drug\", \"drug\", \"dude\", \"dust\", \"east\", \"edition\", \"effect\", \"effect\", \"effect\", \"effect\", \"effect\", \"effect\", \"effect\", \"effect\", \"efficacy\", \"efficient\", \"efficient\", \"efficient\", \"efficient\", \"eligible\", \"eligible\", \"eligible\", \"eliminate\", \"emergency\", \"emergency\", \"emergency\", \"enjoy\", \"enjoy\", \"equity\", \"eradicate\", \"europe\", \"europe\", \"europe\", \"european\", \"exclamation\", \"expect\", \"expect\", \"expect\", \"expect\", \"expect\", \"expert\", \"expert\", \"expert\", \"expert\", \"face\", \"face\", \"face\", \"facepalme\", \"factory\", \"fake\", \"fake\", \"family\", \"family\", \"family\", \"family\", \"family\", \"family\", \"family\", \"fantastic\", \"fantastic\", \"fantastic\", \"fantastic\", \"fatality\", \"fear\", \"fear\", \"fear\", \"fear\", \"fear\", \"fear\", \"fear\", \"feel\", \"feel\", \"feel\", \"feel\", \"feel\", \"feel\", \"feel\", \"feel\", \"female\", \"fence\", \"fever\", \"fight\", \"fight\", \"fight\", \"fight\", \"fight\", \"fight\", \"fight\", \"figure\", \"figure\", \"figure\", \"figure\", \"file\", \"finally\", \"finally\", \"finally\", \"finally\", \"find\", \"find\", \"find\", \"find\", \"find\", \"find\", \"find\", \"fine\", \"fine\", \"fine\", \"fine\", \"fine\", \"finger\", \"finger\", \"fist\", \"flag\", \"flag\", \"flash\", \"flex\", \"flex\", \"floor\", \"flush\", \"flushed\", \"fold\", \"follow\", \"follow\", \"follow\", \"follow\", \"follow\", \"follow\", \"follow\", \"follow\", \"follow\", \"fraud\", \"free\", \"free\", \"free\", \"free\", \"free\", \"freeforall\", \"friend\", \"friend\", \"friend\", \"friend\", \"friend\", \"fuck\", \"fuck\", \"fuck\", \"fuck\", \"fuck\", \"fuck\", \"fuck\", \"fuck\", \"fuck\", \"generation\", \"george\", \"gesture\", \"girl\", \"girl\", \"girl\", \"girl\", \"girl\", \"globe\", \"glove\", \"glow\", \"good\", \"good\", \"good\", \"good\", \"good\", \"good\", \"good\", \"good\", \"government\", \"government\", \"government\", \"government\", \"government\", \"government\", \"government\", \"government\", \"government\", \"government\", \"grandparent\", \"grandparent\", \"graph\", \"graphene\", \"grateful\", \"grateful\", \"grateful\", \"grateful\", \"great\", \"great\", \"great\", \"great\", \"great\", \"great\", \"great\", \"great\", \"great\", \"grimace\", \"grin\", \"grocery\", \"guess\", \"guess\", \"guess\", \"guess\", \"guess\", \"half\", \"half\", \"half\", \"half\", \"half\", \"half\", \"halo\", \"hand\", \"happy\", \"happy\", \"happy\", \"happy\", \"happy\", \"happy\", \"happy\", \"happy\", \"happy\", \"happy\", \"hard\", \"hard\", \"hard\", \"hard\", \"hard\", \"headache\", \"healthcare\", \"healthcare\", \"hear\", \"hear\", \"hear\", \"hear\", \"hear\", \"hear\", \"hear\", \"hear\", \"heart\", \"heart\", \"heart\", \"heart\", \"heartbreaking\", \"heavy\", \"help\", \"help\", \"help\", \"help\", \"help\", \"help\", \"help\", \"help\", \"herd\", \"high\", \"high\", \"high\", \"high\", \"high\", \"high\", \"high\", \"high\", \"high\", \"home\", \"home\", \"home\", \"home\", \"home\", \"home\", \"hope\", \"hope\", \"hope\", \"hope\", \"hope\", \"hope\", \"hope\", \"hope\", \"hope\", \"hope\", \"hope\", \"hospital\", \"hospital\", \"hospital\", \"hospital\", \"hospital\", \"hospital\", \"hospital\", \"hospital\", \"hospital\", \"hospital\", \"hospitalization\", \"hospitalization\", \"hospitalization\", \"hotel\", \"hotel\", \"hour\", \"hour\", \"hour\", \"hour\", \"hour\", \"hour\", \"hour\", \"hour\", \"identify\", \"illness\", \"immune\", \"immune\", \"immune\", \"immunity\", \"import\", \"import\", \"import\", \"important\", \"important\", \"important\", \"important\", \"inactivate\", \"increase\", \"increase\", \"increase\", \"increase\", \"increase\", \"increase\", \"increase\", \"increase\", \"incredibly\", \"incredibly\", \"independence\", \"independent\", \"index\", \"index\", \"index\", \"indian\", \"indian\", \"indian\", \"indian\", \"indian\", \"indian\", \"indias\", \"indicate\", \"indoor\", \"indoor\", \"indoor\", \"infect\", \"infect\", \"infect\", \"infect\", \"infect\", \"infection\", \"infection\", \"infection\", \"infection\", \"infection\", \"infection\", \"infectious\", \"infectious\", \"infectious\", \"infectious\", \"infertility\", \"inflammation\", \"infographic\", \"inform\", \"inform\", \"inform\", \"injection\", \"injection\", \"injure\", \"injury\", \"inside\", \"inside\", \"inside\", \"instead\", \"instead\", \"instead\", \"instead\", \"instead\", \"instead\", \"instead\", \"investigate\", \"irresponsible\", \"isolate\", \"isolate\", \"israel\", \"jabbed\", \"jabbed\", \"jabbed\", \"jabbed\", \"jabbed\", \"javid\", \"jesus\", \"johnson\", \"journalist\", \"july\", \"july\", \"july\", \"july\", \"july\", \"july\", \"june\", \"june\", \"june\", \"kiss\", \"lanka\", \"large\", \"large\", \"large\", \"large\", \"large\", \"large\", \"laugh\", \"leave\", \"leave\", \"leave\", \"leave\", \"leave\", \"leave\", \"leave\", \"leave\", \"lesson\", \"letter\", \"life\", \"life\", \"life\", \"life\", \"life\", \"life\", \"life\", \"life\", \"light\", \"live\", \"live\", \"live\", \"live\", \"live\", \"live\", \"live\", \"live\", \"live\", \"livelihood\", \"location\", \"lollipop\", \"long\", \"long\", \"long\", \"long\", \"long\", \"long\", \"long\", \"long\", \"longterm\", \"look\", \"look\", \"look\", \"look\", \"look\", \"look\", \"look\", \"look\", \"look\", \"look\", \"loudly\", \"louis\", \"love\", \"love\", \"love\", \"love\", \"love\", \"love\", \"love\", \"magnet\", \"make\", \"make\", \"make\", \"make\", \"make\", \"make\", \"make\", \"make\", \"make\", \"make\", \"male\", \"mark\", \"maryland\", \"mask\", \"mask\", \"mean\", \"mean\", \"mean\", \"mean\", \"mean\", \"mean\", \"mean\", \"mean\", \"mean\", \"medical\", \"medical\", \"medical\", \"medium\", \"megaphone\", \"member\", \"member\", \"member\", \"message\", \"message\", \"message\", \"metal\", \"michigan\", \"middle\", \"middle\", \"mild\", \"mild\", \"milestone\", \"million\", \"million\", \"million\", \"minister\", \"minister\", \"minute\", \"minute\", \"minute\", \"minute\", \"minute\", \"minute\", \"mobile\", \"mobile\", \"moderna\", \"moderna\", \"moderna\", \"moderna\", \"moderna\", \"moderna\", \"moderna\", \"month\", \"month\", \"month\", \"month\", \"month\", \"month\", \"month\", \"month\", \"month\", \"month\", \"mouth\", \"mrna\", \"mrna\", \"mrna\", \"mrna\", \"mrna\", \"multiple\", \"multiple\", \"muscle\", \"musical\", \"musical\", \"mutate\", \"nation\", \"nation\", \"nation\", \"nation\", \"natural\", \"natural\", \"near\", \"neck\", \"need\", \"need\", \"need\", \"need\", \"need\", \"need\", \"need\", \"need\", \"neil\", \"nephew\", \"news\", \"news\", \"news\", \"news\", \"news\", \"news\", \"news\", \"news\", \"niece\", \"nope\", \"note\", \"note\", \"note\", \"number\", \"number\", \"number\", \"number\", \"nurse\", \"nurse\", \"nurse\", \"nurse\", \"nurse\", \"obligatory\", \"offer\", \"offer\", \"offer\", \"offer\", \"offer\", \"official\", \"official\", \"official\", \"official\", \"official\", \"officially\", \"oncome\", \"oncoming\", \"online\", \"online\", \"open\", \"open\", \"overseas\", \"overseas\", \"overtakes\", \"o\\u2019clock\", \"pain\", \"painful\", \"pandemic\", \"pandemic\", \"pandemic\", \"pandemic\", \"pandemic\", \"pandemic\", \"pandemic\", \"pandemic\", \"pandemic\", \"parent\", \"parent\", \"parent\", \"partially\", \"party\", \"passport\", \"passport\", \"passport\", \"pasteur\", \"path\", \"patient\", \"patient\", \"patient\", \"patient\", \"patient\", \"patient\", \"patient\", \"patient\", \"patient\", \"patriotic\", \"peak\", \"pensive\", \"period\", \"persistent\", \"person\", \"person\", \"person\", \"person\", \"pharmacist\", \"pharmacist\", \"phase\", \"picture\", \"picture\", \"place\", \"place\", \"place\", \"place\", \"place\", \"place\", \"place\", \"place\", \"place\", \"point\", \"point\", \"point\", \"pointing\", \"police\", \"poor\", \"poor\", \"popper\", \"population\", \"population\", \"popup\", \"portal\", \"pose\", \"positive\", \"positive\", \"positive\", \"positive\", \"positive\", \"positive\", \"positive\", \"positivity\", \"pout\", \"pout\", \"precaution\", \"precaution\", \"precaution\", \"pregnant\", \"preliminary\", \"preventable\", \"preventable\", \"prick\", \"pride\", \"prime\", \"professional\", \"professional\", \"professional\", \"professional\", \"protect\", \"protect\", \"protect\", \"protect\", \"protect\", \"protect\", \"protective\", \"proud\", \"proud\", \"provide\", \"provide\", \"provide\", \"purple\", \"qualify\", \"question\", \"question\", \"question\", \"question\", \"question\", \"question\", \"raise\", \"rate\", \"rate\", \"rate\", \"rate\", \"read\", \"read\", \"read\", \"read\", \"read\", \"read\", \"read\", \"read\", \"read\", \"read\", \"ready\", \"ready\", \"ready\", \"ready\", \"ready\", \"ready\", \"reason\", \"reason\", \"reason\", \"reason\", \"receive\", \"receive\", \"receive\", \"receive\", \"receive\", \"receive\", \"receive\", \"record\", \"record\", \"record\", \"record\", \"reduce\", \"reflect\", \"refuse\", \"refuse\", \"refuse\", \"refuse\", \"refuse\", \"refuse\", \"refuse\", \"register\", \"register\", \"registration\", \"relieve\", \"relieve\", \"relieve\", \"relieved\", \"remind\", \"remind\", \"report\", \"report\", \"report\", \"republicans\", \"response\", \"response\", \"response\", \"responsibility\", \"responsible\", \"responsible\", \"responsible\", \"rest\", \"rest\", \"retract\", \"rich\", \"rich\", \"right\", \"right\", \"right\", \"rise\", \"rise\", \"rise\", \"rise\", \"risk\", \"risk\", \"risk\", \"risk\", \"risk\", \"risk\", \"risk\", \"risk\", \"risk\", \"roll\", \"rolling\", \"roulette\", \"round\", \"round\", \"round\", \"round\", \"rubella\", \"ruin\", \"rural\", \"sajid\", \"saturday\", \"saturday\", \"saudi\", \"save\", \"save\", \"scale\", \"scam\", \"science\", \"science\", \"science\", \"science\", \"science\", \"science\", \"science\", \"scientist\", \"scientist\", \"scientist\", \"scientist\", \"scientist\", \"scientist\", \"scream\", \"scream\", \"scrub\", \"seek\", \"seek\", \"shame\", \"shame\", \"shame\", \"share\", \"share\", \"share\", \"share\", \"share\", \"share\", \"share\", \"share\", \"shot\", \"shot\", \"shot\", \"show\", \"show\", \"show\", \"show\", \"shrug\", \"sick\", \"sick\", \"sick\", \"sick\", \"sick\", \"sideeffect\", \"sign\", \"singapore\", \"site\", \"site\", \"skin\", \"skull\", \"skull\", \"sleep\", \"sleep\", \"sleep\", \"sleepy\", \"slight\", \"slightly\", \"slot\", \"smile\", \"smile\", \"smirk\", \"smooth\", \"smooth\", \"smooth\", \"smooth\", \"social\", \"social\", \"social\", \"social\", \"social\", \"social\", \"soldier\", \"soon\", \"soon\", \"soon\", \"soon\", \"soon\", \"soon\", \"soon\", \"soon\", \"soon\", \"soon\", \"sore\", \"soul\", \"spain\", \"sparkle\", \"sparkle\", \"sparkle\", \"spread\", \"spread\", \"spread\", \"spread\", \"spread\", \"spread\", \"spread\", \"spread\", \"spread\", \"spread\", \"square\", \"square\", \"square\", \"staff\", \"staff\", \"staff\", \"staff\", \"staff\", \"staff\", \"staff\", \"star\", \"star\", \"starve\", \"state\", \"state\", \"state\", \"state\", \"state\", \"state\", \"state\", \"state\", \"state\", \"state\", \"statistic\", \"stay\", \"stay\", \"stay\", \"stay\", \"stay\", \"stay\", \"stay\", \"stay\", \"stay\", \"steady\", \"step\", \"step\", \"step\", \"step\", \"stick\", \"stick\", \"stick\", \"stick\", \"sticker\", \"sticker\", \"sticker\", \"stop\", \"stop\", \"stop\", \"stop\", \"stop\", \"stop\", \"stop\", \"stop\", \"stop\", \"stop\", \"street\", \"street\", \"study\", \"study\", \"study\", \"study\", \"study\", \"study\", \"sunglass\", \"super\", \"super\", \"super\", \"super\", \"super\", \"super\", \"super\", \"super\", \"support\", \"support\", \"support\", \"support\", \"support\", \"support\", \"support\", \"sure\", \"sure\", \"sure\", \"sure\", \"sure\", \"sure\", \"sure\", \"sweat\", \"sweet\", \"sweet\", \"sweet\", \"symbol\", \"symbol\", \"symptom\", \"symptom\", \"symptomatic\", \"syndrome\", \"syringe\", \"syringe\", \"syringe\", \"syringe\", \"system\", \"system\", \"system\", \"system\", \"system\", \"taiwan\", \"take\", \"take\", \"take\", \"take\", \"take\", \"take\", \"take\", \"take\", \"take\", \"take\", \"take\", \"talk\", \"talk\", \"talk\", \"talk\", \"talk\", \"team\", \"team\", \"team\", \"team\", \"team\", \"tear\", \"tell\", \"tell\", \"tell\", \"tell\", \"tell\", \"tell\", \"tell\", \"term\", \"term\", \"term\", \"test\", \"test\", \"test\", \"test\", \"test\", \"test\", \"test\", \"thank\", \"thank\", \"thank\", \"thank\", \"thank\", \"thank\", \"thank\", \"thank\", \"thankfully\", \"thermometer\", \"thing\", \"thing\", \"thing\", \"thing\", \"thing\", \"thing\", \"thing\", \"think\", \"think\", \"think\", \"think\", \"think\", \"think\", \"think\", \"think\", \"think\", \"thinking\", \"thread\", \"thread\", \"thread\", \"thread\", \"thread\", \"threaten\", \"thumb\", \"thumb\", \"thumb\", \"thumb\", \"timely\", \"tiny\", \"tomorrow\", \"tomorrow\", \"tomorrow\", \"tomorrow\", \"tomorrow\", \"tomorrow\", \"tomorrow\", \"tone\", \"tongue\", \"tongue\", \"total\", \"total\", \"total\", \"tracker\", \"tracker\", \"transmit\", \"travel\", \"travel\", \"travel\", \"tree\", \"trial\", \"trial\", \"troop\", \"trophy\", \"trust\", \"trust\", \"trust\", \"trust\", \"tshirt\", \"tshirt\", \"tune\", \"tunnel\", \"tunnel\", \"undergo\", \"union\", \"union\", \"union\", \"unvaccinate\", \"unvaccinate\", \"unvaccinate\", \"unvaccinate\", \"unvaccinate\", \"unvaccinated\", \"unvaccinated\", \"unvaccinated\", \"unvaccinated\", \"unvaccinated\", \"unvaccinated\", \"upside\", \"vaccinating\", \"vaccination\", \"vaccination\", \"vaccination\", \"vaccination\", \"vaccination\", \"vaccination\", \"vaccination\", \"vaccination\", \"vaer\", \"variant\", \"variant\", \"variant\", \"vaxxe\", \"vaxxe\", \"vaxxe\", \"vaxxe\", \"vaxxe\", \"vaxxe\", \"vaxxe\", \"vaxxer\", \"venue\", \"victory\", \"vigilant\", \"virus\", \"virus\", \"virus\", \"virus\", \"virus\", \"virus\", \"virus\", \"virus\", \"virus\", \"visit\", \"visit\", \"visit\", \"visit\", \"visit\", \"vote\", \"wait\", \"wait\", \"wait\", \"wait\", \"wait\", \"wait\", \"wait\", \"wait\", \"wait\", \"wait\", \"waiting\", \"wake\", \"wake\", \"wake\", \"walk\", \"walk\", \"walk\", \"walk\", \"walkin\", \"warn\", \"warn\", \"warn\", \"warn\", \"warn\", \"warrior\", \"wash\", \"watch\", \"watch\", \"watch\", \"watch\", \"watch\", \"watch\", \"watch\", \"watch\", \"watch\", \"watch\", \"water\", \"water\", \"water\", \"wave\", \"wave\", \"wave\", \"wave\", \"wave\", \"weapon\", \"wear\", \"wear\", \"weary\", \"weather\", \"webinar\", \"website\", \"website\", \"week\", \"week\", \"week\", \"week\", \"week\", \"week\", \"week\", \"week\", \"week\", \"week\", \"weekend\", \"weekend\", \"weekend\", \"weekend\", \"weekend\", \"well\", \"well\", \"well\", \"well\", \"well\", \"well\", \"well\", \"well\", \"well\", \"well\", \"white\", \"whooping\", \"wine\", \"wink\", \"wink\", \"wise\", \"woman\", \"woman\", \"woman\", \"woohoo\", \"work\", \"work\", \"work\", \"work\", \"work\", \"work\", \"work\", \"work\", \"worker\", \"worker\", \"worker\", \"workplace\", \"world\", \"world\", \"world\", \"world\", \"year\", \"year\", \"year\", \"year\", \"year\", \"year\", \"year\", \"year\", \"year\", \"year\", \"year\", \"yellow\", \"yellow\", \"yesterday\", \"yesterday\", \"yesterday\", \"yesterday\", \"yesterday\", \"yesterday\", \"yesterday\", \"yesterday\", \"yesterday\", \"young\", \"young\", \"young\", \"young\", \"young\", \"young\", \"zone\", \"\\u1d20\\u1d00\\u1d04\\u1d04\\u026a\\u0274\\u1d07ss\\u1d00\\u1d20\\u1d07\\u029f\\u026a\\u1d20\\u1d07s\"]}, \"R\": 30, \"lambda.step\": 0.01, \"plot.opts\": {\"xlab\": \"PC1\", \"ylab\": \"PC2\"}, \"topic.order\": [11, 9, 8, 5, 4, 2, 6, 7, 1, 3, 10]};\n",
       "\n",
       "function LDAvis_load_lib(url, callback){\n",
       "  var s = document.createElement('script');\n",
       "  s.src = url;\n",
       "  s.async = true;\n",
       "  s.onreadystatechange = s.onload = callback;\n",
       "  s.onerror = function(){console.warn(\"failed to load library \" + url);};\n",
       "  document.getElementsByTagName(\"head\")[0].appendChild(s);\n",
       "}\n",
       "\n",
       "if(typeof(LDAvis) !== \"undefined\"){\n",
       "   // already loaded: just create the visualization\n",
       "   !function(LDAvis){\n",
       "       new LDAvis(\"#\" + \"ldavis_el1158426293124339522404209676\", ldavis_el1158426293124339522404209676_data);\n",
       "   }(LDAvis);\n",
       "}else if(typeof define === \"function\" && define.amd){\n",
       "   // require.js is available: use it to load d3/LDAvis\n",
       "   require.config({paths: {d3: \"https://d3js.org/d3.v5\"}});\n",
       "   require([\"d3\"], function(d3){\n",
       "      window.d3 = d3;\n",
       "      LDAvis_load_lib(\"https://cdn.jsdelivr.net/gh/bmabey/pyLDAvis@3.3.1/pyLDAvis/js/ldavis.v3.0.0.js\", function(){\n",
       "        new LDAvis(\"#\" + \"ldavis_el1158426293124339522404209676\", ldavis_el1158426293124339522404209676_data);\n",
       "      });\n",
       "    });\n",
       "}else{\n",
       "    // require.js not available: dynamically load d3 & LDAvis\n",
       "    LDAvis_load_lib(\"https://d3js.org/d3.v5.js\", function(){\n",
       "         LDAvis_load_lib(\"https://cdn.jsdelivr.net/gh/bmabey/pyLDAvis@3.3.1/pyLDAvis/js/ldavis.v3.0.0.js\", function(){\n",
       "                 new LDAvis(\"#\" + \"ldavis_el1158426293124339522404209676\", ldavis_el1158426293124339522404209676_data);\n",
       "            })\n",
       "         });\n",
       "}\n",
       "</script>"
      ],
      "text/plain": [
       "<IPython.core.display.HTML object>"
      ]
     },
     "execution_count": 157,
     "metadata": {},
     "output_type": "execute_result"
    }
   ],
   "source": [
    "multi_lda_final_notts = gensim.models.LdaMulticore(corpus = corpus,\n",
    "                         id2word = id2word,\n",
    "                         random_state = 42,\n",
    "                         num_topics = 11,\n",
    "                         passes=10,\n",
    "                         chunksize=512,\n",
    "                         alpha=0.05,\n",
    "                         offset=64,\n",
    "                         eta=None,\n",
    "                         iterations=100,\n",
    "                         per_word_topics=True,\n",
    "                         workers=6)\n",
    "\n",
    "pprint(multi_lda_final_notts.print_topics(num_topics = 11, num_words=20))\n",
    "\n",
    "print(\"\\n\\033[91m\" + \"\\033[1m\" +\"------- Visualization -----------\\n\")\n",
    "\n",
    "lda_Mul_vis_notts = gensimvis.prepare(multi_lda_final_notts, corpus, id2word)\n",
    "pyLDAvis.display(lda_Mul_vis_notts)"
   ]
  },
  {
   "cell_type": "code",
   "execution_count": 158,
   "id": "b082e597",
   "metadata": {},
   "outputs": [],
   "source": [
    "pyLDAvis.save_html(lda_Mul_vis_notts, \"Topic Modeling//Emoji_topic_11.html\")"
   ]
  },
  {
   "cell_type": "code",
   "execution_count": 159,
   "id": "938972bc",
   "metadata": {},
   "outputs": [
    {
     "data": {
      "text/html": [
       "<div>\n",
       "<style scoped>\n",
       "    .dataframe tbody tr th:only-of-type {\n",
       "        vertical-align: middle;\n",
       "    }\n",
       "\n",
       "    .dataframe tbody tr th {\n",
       "        vertical-align: top;\n",
       "    }\n",
       "\n",
       "    .dataframe thead th {\n",
       "        text-align: right;\n",
       "    }\n",
       "</style>\n",
       "<table border=\"1\" class=\"dataframe\">\n",
       "  <thead>\n",
       "    <tr style=\"text-align: right;\">\n",
       "      <th></th>\n",
       "      <th>emoji_with_clean_tweet</th>\n",
       "      <th>tokens</th>\n",
       "      <th>tokens_back_to_text</th>\n",
       "      <th>lemmas</th>\n",
       "      <th>lemmas_back_to_text</th>\n",
       "      <th>lemma_tokens</th>\n",
       "      <th>Topic_Num</th>\n",
       "      <th>Topic_prob</th>\n",
       "    </tr>\n",
       "  </thead>\n",
       "  <tbody>\n",
       "    <tr>\n",
       "      <th>0</th>\n",
       "      <td>cold dead arm never body stop govt overreach p...</td>\n",
       "      <td>[cold, dead, arm, never, body, stop, govt, ove...</td>\n",
       "      <td>cold dead arm never body stop govt overreach p...</td>\n",
       "      <td>[cold, dead, arm, body, stop, govt, overreach,...</td>\n",
       "      <td>cold dead arm body stop govt overreach poison ...</td>\n",
       "      <td>[cold, dead, body, stop, govt, overreach, pois...</td>\n",
       "      <td>3</td>\n",
       "      <td>0.602737</td>\n",
       "    </tr>\n",
       "    <tr>\n",
       "      <th>1</th>\n",
       "      <td>ca government literally offering free weed get...</td>\n",
       "      <td>[ca, government, literally, offering, free, we...</td>\n",
       "      <td>ca government literally offering free weed pre...</td>\n",
       "      <td>[government, literally, offer, free, weed, pre...</td>\n",
       "      <td>government literally offer free weed pretend</td>\n",
       "      <td>[government, literally, offer, free, weed, pre...</td>\n",
       "      <td>7</td>\n",
       "      <td>0.688659</td>\n",
       "    </tr>\n",
       "    <tr>\n",
       "      <th>2</th>\n",
       "      <td>nice see friend john pushing boxes start hard ...</td>\n",
       "      <td>[nice, see, friend, john, pushing, boxes, star...</td>\n",
       "      <td>nice see friend john pushing boxes start hard ...</td>\n",
       "      <td>[nice, friend, john, pushing, box, start, hard...</td>\n",
       "      <td>nice friend john pushing box start hard work e...</td>\n",
       "      <td>[nice, friend, john, pushing, start, hard, wor...</td>\n",
       "      <td>10</td>\n",
       "      <td>0.730883</td>\n",
       "    </tr>\n",
       "    <tr>\n",
       "      <th>3</th>\n",
       "      <td>online portal introduced covid vaccine appoint...</td>\n",
       "      <td>[online, portal, introduced, appointments, wp]</td>\n",
       "      <td>online portal introduced appointments wp</td>\n",
       "      <td>[online, portal, introduce, appointment, wp]</td>\n",
       "      <td>online portal introduce appointment wp</td>\n",
       "      <td>[online, portal, introduce, appointment]</td>\n",
       "      <td>8</td>\n",
       "      <td>0.890095</td>\n",
       "    </tr>\n",
       "    <tr>\n",
       "      <th>4</th>\n",
       "      <td>’ amp celebrate sharing fabulous french vaccin...</td>\n",
       "      <td>[celebrate, sharing, fabulous, french, ad]</td>\n",
       "      <td>celebrate sharing fabulous french ad</td>\n",
       "      <td>[celebrate, share, fabulous, french, ad]</td>\n",
       "      <td>celebrate share fabulous french ad</td>\n",
       "      <td>[celebrate, share, fabulous, french]</td>\n",
       "      <td>10</td>\n",
       "      <td>0.890083</td>\n",
       "    </tr>\n",
       "  </tbody>\n",
       "</table>\n",
       "</div>"
      ],
      "text/plain": [
       "                              emoji_with_clean_tweet  \\\n",
       "0  cold dead arm never body stop govt overreach p...   \n",
       "1  ca government literally offering free weed get...   \n",
       "2  nice see friend john pushing boxes start hard ...   \n",
       "3  online portal introduced covid vaccine appoint...   \n",
       "4  ’ amp celebrate sharing fabulous french vaccin...   \n",
       "\n",
       "                                              tokens  \\\n",
       "0  [cold, dead, arm, never, body, stop, govt, ove...   \n",
       "1  [ca, government, literally, offering, free, we...   \n",
       "2  [nice, see, friend, john, pushing, boxes, star...   \n",
       "3     [online, portal, introduced, appointments, wp]   \n",
       "4         [celebrate, sharing, fabulous, french, ad]   \n",
       "\n",
       "                                 tokens_back_to_text  \\\n",
       "0  cold dead arm never body stop govt overreach p...   \n",
       "1  ca government literally offering free weed pre...   \n",
       "2  nice see friend john pushing boxes start hard ...   \n",
       "3           online portal introduced appointments wp   \n",
       "4               celebrate sharing fabulous french ad   \n",
       "\n",
       "                                              lemmas  \\\n",
       "0  [cold, dead, arm, body, stop, govt, overreach,...   \n",
       "1  [government, literally, offer, free, weed, pre...   \n",
       "2  [nice, friend, john, pushing, box, start, hard...   \n",
       "3       [online, portal, introduce, appointment, wp]   \n",
       "4           [celebrate, share, fabulous, french, ad]   \n",
       "\n",
       "                                 lemmas_back_to_text  \\\n",
       "0  cold dead arm body stop govt overreach poison ...   \n",
       "1       government literally offer free weed pretend   \n",
       "2  nice friend john pushing box start hard work e...   \n",
       "3             online portal introduce appointment wp   \n",
       "4                 celebrate share fabulous french ad   \n",
       "\n",
       "                                        lemma_tokens  Topic_Num  Topic_prob  \n",
       "0  [cold, dead, body, stop, govt, overreach, pois...          3    0.602737  \n",
       "1  [government, literally, offer, free, weed, pre...          7    0.688659  \n",
       "2  [nice, friend, john, pushing, start, hard, wor...         10    0.730883  \n",
       "3           [online, portal, introduce, appointment]          8    0.890095  \n",
       "4               [celebrate, share, fabulous, french]         10    0.890083  "
      ]
     },
     "execution_count": 159,
     "metadata": {},
     "output_type": "execute_result"
    }
   ],
   "source": [
    "topicss = []\n",
    "probss = []\n",
    "\n",
    "for i, row in enumerate(multi_lda_final_notts[corpus]):     # gives topics probablity\n",
    "\n",
    "    row = sorted(row[0], key=lambda x :(x[1]), reverse=True)    # sorting according to higher probability\n",
    "    for j, (topic_num, probablity) in enumerate(row):        # j=0  --> containing highest probablity, topic_num --> falls under which topic\n",
    "        if j == 0:\n",
    "            topicss.append(topic_num)\n",
    "            probss.append(probablity)\n",
    "            \n",
    "emoji_df[\"Topic_Num\"] = topicss\n",
    "emoji_df[\"Topic_prob\"] = probss\n",
    "\n",
    "emoji_df.head()"
   ]
  },
  {
   "cell_type": "code",
   "execution_count": null,
   "id": "e43d4cb3",
   "metadata": {},
   "outputs": [],
   "source": [
    "tpc_nms = []\n",
    "\n",
    "for tpc_ in text_df[\"Topic_Num\"].values.tolist():\n",
    "    if tpc_ == 0:\n",
    "        tpc_nms.append(\"Happy for double jab\")\n",
    "    if tpc_ == 1:\n",
    "        tpc_nms.append(\"Smiling face with open mouth\")\n",
    "    if tpc_ == 2:\n",
    "        tpc_nms.append(\"Book appointments for vaccination in clinics or centres\")\n",
    "    if tpc_ == 3:\n",
    "        tpc_nms.append(\"Delta variant cases lead to higher death rate\")\n",
    "    if tpc_ == 4:\n",
    "        tpc_nms.append(\"Help and support healthcare workers\")\n",
    "    if tpc_ == 5:\n",
    "        tpc_nms.append(\"Save the world by protecting families\")\n",
    "    if tpc_ == 6:\n",
    "        tpc_nms.append(\"Take your vaccine and fight the disease\")\n",
    "    if tpc_ == 7:\n",
    "        tpc_nms.append(\"Stay positive and test regularly\")\n",
    "    if tpc_ == 8:\n",
    "        tpc_nms.append(\"Post vaccination there maybe side effects\") \n",
    "    if tpc_ == 9:\n",
    "        tpc_nms.append(\"\")\n",
    "    if tpc_ == 10:\n",
    "        tpc_nms.append(\"\") \n",
    "        \n",
    "        \n",
    "emoji_df[\"Topic_Names\"] = tpc_nms"
   ]
  },
  {
   "cell_type": "code",
   "execution_count": 90,
   "id": "348fce8f",
   "metadata": {},
   "outputs": [],
   "source": [
    "# Instantiating a Base LDA model \n",
    "base_model = LdaMulticore(corpus=corpus, num_topics=2, id2word=id2word, workers=12, passes=5)"
   ]
  },
  {
   "cell_type": "code",
   "execution_count": 91,
   "id": "3f4ec919",
   "metadata": {},
   "outputs": [],
   "source": [
    "# Filtering for words \n",
    "words = [re.findall(r'\"([^\"]*)\"',t[1]) for t in base_model.print_topics()]"
   ]
  },
  {
   "cell_type": "code",
   "execution_count": 92,
   "id": "6da098aa",
   "metadata": {},
   "outputs": [],
   "source": [
    "# Create Topics\n",
    "topics = [' '.join(t[0:10]) for t in words]"
   ]
  },
  {
   "cell_type": "code",
   "execution_count": 93,
   "id": "b53d1dc4",
   "metadata": {},
   "outputs": [
    {
     "name": "stdout",
     "output_type": "stream",
     "text": [
      "------ Topic 0 ------\n",
      "mask come wear week care medical syringe protect receive world\n",
      "\n",
      "------ Topic 1 ------\n",
      "face syringe hand smile skin tone heart feel work case\n",
      "\n"
     ]
    }
   ],
   "source": [
    "# Getting the topics\n",
    "for id, t in enumerate(topics): \n",
    "    print(f\"------ Topic {id} ------\")\n",
    "    print(t, end=\"\\n\\n\")"
   ]
  },
  {
   "cell_type": "code",
   "execution_count": 94,
   "id": "a48953ef",
   "metadata": {},
   "outputs": [
    {
     "name": "stdout",
     "output_type": "stream",
     "text": [
      "\n",
      "Perplexity:  -7.81039891357708\n",
      "\n",
      "Coherence Score:  0.20677973117794496\n"
     ]
    }
   ],
   "source": [
    "# Compute Perplexity\n",
    "# a measure of how good the model is. lower the better\n",
    "base_perplexity = base_model.log_perplexity(corpus)\n",
    "print('\\nPerplexity: ', base_perplexity) \n",
    "\n",
    "# Compute Coherence Score\n",
    "coherence_model = CoherenceModel(model=base_model, texts=emoji_df['lemma_tokens'], \n",
    "                                   dictionary=id2word, coherence='c_v')\n",
    "coherence_lda_model_base = coherence_model.get_coherence()\n",
    "print('\\nCoherence Score: ', coherence_lda_model_base)"
   ]
  },
  {
   "cell_type": "code",
   "execution_count": 95,
   "id": "bc4de11b",
   "metadata": {},
   "outputs": [],
   "source": [
    "import pyLDAvis\n",
    "import pyLDAvis.gensim_models as gensimvis\n",
    "pyLDAvis.enable_notebook()"
   ]
  },
  {
   "cell_type": "code",
   "execution_count": 96,
   "id": "060913d5",
   "metadata": {
    "scrolled": true
   },
   "outputs": [
    {
     "name": "stderr",
     "output_type": "stream",
     "text": [
      "e:\\mscds\\disertation\\the_jup\\lib\\site-packages\\pyLDAvis\\_prepare.py:246: FutureWarning: In a future version of pandas all arguments of DataFrame.drop except for the argument 'labels' will be keyword-only\n",
      "  default_term_info = default_term_info.sort_values(\n"
     ]
    },
    {
     "data": {
      "text/html": [
       "\n",
       "<link rel=\"stylesheet\" type=\"text/css\" href=\"https://cdn.jsdelivr.net/gh/bmabey/pyLDAvis@3.3.1/pyLDAvis/js/ldavis.v1.0.0.css\">\n",
       "\n",
       "\n",
       "<div id=\"ldavis_el1103619668335080166354305234\"></div>\n",
       "<script type=\"text/javascript\">\n",
       "\n",
       "var ldavis_el1103619668335080166354305234_data = {\"mdsDat\": {\"x\": [0.054097062391163186, -0.054097062391163186], \"y\": [0.0, 0.0], \"topics\": [1, 2], \"cluster\": [1, 1], \"Freq\": [50.830037642569636, 49.16996235743037]}, \"tinfo\": {\"Term\": [\"face\", \"smile\", \"wear\", \"index\", \"backhand\", \"syringe\", \"heart\", \"skin\", \"tone\", \"care\", \"point\", \"tear\", \"case\", \"million\", \"wait\", \"feel\", \"centre\", \"flex\", \"roll\", \"white\", \"bicep\", \"hand\", \"common\", \"walkin\", \"thing\", \"finally\", \"staff\", \"rest\", \"illness\", \"come\", \"commission\", \"starve\", \"distribute\", \"exclamation\", \"common\", \"independence\", \"authorization\", \"reduction\", \"freeforall\", \"environment\", \"northamptonshire\", \"maddie\", \"operational\", \"wear\", \"greece\", \"personnel\", \"illness\", \"cipla\", \"salary\", \"asia\", \"uptake\", \"chinnalapatty\", \"anchor\", \"publication\", \"ranchi\", \"dindigul\", \"leisure\", \"vancouver\", \"keen\", \"transparency\", \"roll\", \"student\", \"cross\", \"rest\", \"walkin\", \"floor\", \"door\", \"laugh\", \"care\", \"million\", \"nice\", \"police\", \"business\", \"respect\", \"staff\", \"safety\", \"centre\", \"experience\", \"know\", \"rollout\", \"need\", \"certificate\", \"require\", \"service\", \"come\", \"receive\", \"hospital\", \"mask\", \"public\", \"drive\", \"family\", \"look\", \"appointment\", \"long\", \"protect\", \"thank\", \"clinic\", \"medical\", \"government\", \"world\", \"live\", \"week\", \"help\", \"save\", \"july\", \"double\", \"take\", \"child\", \"variant\", \"tell\", \"syringe\", \"hand\", \"open\", \"work\", \"face\", \"banknote\", \"crossbone\", \"islamic\", \"loudly\", \"dollar\", \"overtakes\", \"shoulder\", \"thermometer\", \"grinning\", \"flex\", \"skull\", \"hugging\", \"bitch\", \"thinking\", \"neutral\", \"clown\", \"bicep\", \"confused\", \"pout\", \"noise\", \"popper\", \"overtake\", \"disappoint\", \"detect\", \"tear\", \"halo\", \"cartwheel\", \"sleep\", \"whoop\", \"frown\", \"grin\", \"backhand\", \"index\", \"female\", \"face\", \"total\", \"party\", \"pointing\", \"smile\", \"dark\", \"white\", \"point\", \"wait\", \"heart\", \"case\", \"skin\", \"clap\", \"thing\", \"tone\", \"finally\", \"feel\", \"syringe\", \"news\", \"hand\", \"person\", \"test\", \"medium\", \"country\", \"check\", \"sign\", \"light\", \"work\", \"death\", \"life\", \"right\", \"heavy\", \"number\", \"mark\", \"great\", \"think\", \"week\"], \"Freq\": [4178.0, 1385.0, 822.0, 800.0, 784.0, 2513.0, 1306.0, 1422.0, 1403.0, 806.0, 951.0, 527.0, 990.0, 706.0, 791.0, 1098.0, 734.0, 356.0, 464.0, 610.0, 355.0, 1872.0, 332.0, 430.0, 625.0, 669.0, 524.0, 396.0, 316.0, 1073.0, 230.97945546814054, 198.99278252614718, 223.523441791036, 164.24949306131143, 313.84294476000434, 36.894298401680985, 18.149555276714676, 17.371715750864702, 21.06714065760829, 28.33719475102087, 12.178654947080835, 9.200434238218334, 14.926826932730098, 765.3559298985093, 10.720308896084777, 17.16595422680332, 294.0574185291348, 22.97737930509576, 10.702709637230278, 22.378820299946273, 47.374301957302066, 13.146209156998815, 8.362168001087033, 12.600070642914057, 10.302808092132935, 13.131625962808029, 23.378558072572773, 8.402193553853857, 8.39595558199695, 13.604430162900517, 424.051643137599, 232.2268412228348, 156.06016065687527, 357.70301428101146, 387.26447828228413, 293.9604605946032, 186.10108794729376, 312.00342495027206, 708.2880626918185, 618.5571073463234, 130.12797009845258, 122.69915648648305, 157.70079330626643, 71.17729733868794, 452.241918476745, 211.46644477236077, 624.0232551617613, 265.2546801045463, 193.75465718886142, 168.49818939739305, 472.2434473136411, 141.74550496815772, 298.6235140587013, 202.662838312088, 811.9048288348617, 657.6024812646435, 466.91209251028226, 1071.1833776573, 369.6392976946912, 325.0562248757542, 630.5990662088828, 546.192718914298, 526.1067846533471, 453.4200790003939, 673.151757142238, 592.6780918499629, 537.0039261530432, 694.2477867724199, 480.6854811065021, 645.6119397575874, 457.0219215681567, 745.6897146583104, 642.0960295104861, 473.96511201086275, 550.2527369917699, 476.4278897099553, 563.6513967533032, 445.6470034674268, 505.8166723577663, 459.2967134384962, 692.9906182266751, 578.202614888404, 471.86371167845317, 504.35738531234983, 506.9299575302381, 84.81562678140769, 57.95636643546531, 16.688681098129543, 168.48693379510337, 110.4717352265364, 20.405838633783848, 32.21589772649811, 37.8076704234344, 41.79201244708684, 337.2164782199525, 90.92348592458202, 19.729097355535995, 49.31046880407102, 251.10559131124617, 16.09144606777568, 55.093536101066555, 333.6023595707484, 29.45136282510887, 43.89664592032491, 14.139653985136539, 162.70275013884594, 54.02861094532235, 36.40495212979983, 19.08988936377976, 490.2764777244985, 39.01421004523896, 16.496795042345973, 80.1041699146593, 13.578727466353316, 11.575987537899618, 182.48082346330796, 712.2859853988879, 724.2481355599664, 217.05749256146137, 3671.7109708842872, 218.61053721708853, 274.02801930750854, 144.90774305769156, 1158.1818582882738, 194.46310244061627, 516.2934192452072, 789.5885401099054, 661.3813770372838, 1050.3552246968623, 794.2026418616379, 1112.8745035182128, 363.4842742541871, 511.114542755505, 1087.960044055032, 539.6715279174157, 853.1707303466393, 1820.5463184663367, 469.08334174917906, 1293.891161697898, 612.1489031024137, 420.8106276338936, 743.4952684194731, 634.2587246045666, 741.1644476787075, 479.78908967265176, 711.5693858013011, 797.8022650151953, 594.4360257134188, 590.5108378495781, 642.4300622074204, 484.45347911544303, 466.8702024493747, 536.9424932405545, 505.6408443721163, 512.047132108131, 518.3160561306594], \"Total\": [4178.0, 1385.0, 822.0, 800.0, 784.0, 2513.0, 1306.0, 1422.0, 1403.0, 806.0, 951.0, 527.0, 990.0, 706.0, 791.0, 1098.0, 734.0, 356.0, 464.0, 610.0, 355.0, 1872.0, 332.0, 430.0, 625.0, 669.0, 524.0, 396.0, 316.0, 1073.0, 240.17797240261828, 208.06576593504764, 234.74469865951315, 173.69280396662978, 332.27832342276105, 39.07423768691238, 19.227302462635116, 18.46121281928324, 22.463785124955844, 30.286877290352866, 13.039120111609845, 9.866469000509012, 16.034525688784807, 822.3701277601438, 11.520051228190095, 18.448469341980545, 316.0576843976462, 24.72798694487323, 11.518641191299954, 24.10176222252043, 51.12296846476766, 14.199243208114734, 9.033674600983426, 13.616683338932983, 11.135768619902613, 14.198858842463922, 25.302552541235233, 9.101515613373785, 9.101166973334536, 14.751109447153429, 464.1444837953666, 255.8932131780661, 171.47954771476884, 396.8508611172777, 430.74404808867706, 326.1841943043819, 205.7984592313447, 348.8886133660901, 806.1361791324691, 706.3857448386805, 143.97905809545867, 136.61604956828816, 176.85591454730113, 78.66220763656348, 524.4731536192539, 240.39592252360396, 734.5916413382406, 307.14141992869406, 223.04057557135803, 193.31177936072783, 566.3498967657271, 162.13379099939306, 359.8508689494706, 238.89896257197415, 1073.127417369617, 861.3889868916274, 591.903514029995, 1526.744689036139, 464.3933986788738, 403.00009363321226, 866.962721272668, 752.4299766162903, 727.5299061986339, 607.8639517954958, 994.9419708871903, 850.4306751288453, 756.0654725119357, 1055.7912103381568, 660.8240969645731, 978.8221996060438, 624.1491126075189, 1264.0057707889698, 1042.0096139948296, 680.8796562896655, 896.1134425979133, 709.00676055553, 960.5939198728075, 646.0141865490276, 870.6302385219818, 707.2916641276512, 2513.5369366930117, 1872.093776586302, 777.848407945004, 1302.159650327545, 4178.640928414526, 85.77159055887073, 59.48610738654047, 17.40230233214343, 175.90064932914262, 115.3695889918058, 21.496840797608062, 34.04022264018314, 39.948688646081074, 44.16424245872146, 356.45038420037275, 96.27904914100333, 20.980192991829558, 52.43909937050368, 267.0774724436583, 17.124432055627544, 58.65166875671753, 355.34101293300995, 31.40681594934242, 46.902958586144905, 15.134358117282263, 174.26299753455217, 57.91764240250327, 39.07177387168695, 20.50150805092124, 527.4373327697151, 41.97966796244226, 17.751679762452024, 86.42823499339843, 14.651549115851482, 12.495004661940047, 196.97234060688092, 784.7800490761679, 800.9722044058535, 238.35248702841062, 4178.640928414526, 245.39024194601535, 310.4320440808406, 162.17026239824244, 1385.4168128835863, 219.99421632057926, 610.3772816201979, 951.1238324157423, 791.2290284488014, 1306.5598465760318, 990.6807499586731, 1422.3113573093535, 435.29777259416966, 625.9958998421313, 1403.8511608215485, 669.6436302796931, 1098.0838097816547, 2513.5369366930117, 593.558793873106, 1872.093776586302, 802.5027354372583, 536.5683257224566, 1041.8043127956212, 865.8178148811035, 1058.4270726903615, 639.1765355818537, 1087.7003021743994, 1302.159650327545, 931.0735482963842, 925.7992229981569, 1087.1688107583673, 700.8285768956439, 661.758189767325, 952.6913342502984, 847.978769117381, 917.8314458619207, 1264.0057707889698], \"Category\": [\"Default\", \"Default\", \"Default\", \"Default\", \"Default\", \"Default\", \"Default\", \"Default\", \"Default\", \"Default\", \"Default\", \"Default\", \"Default\", \"Default\", \"Default\", \"Default\", \"Default\", \"Default\", \"Default\", \"Default\", \"Default\", \"Default\", \"Default\", \"Default\", \"Default\", \"Default\", \"Default\", \"Default\", \"Default\", \"Default\", \"Topic1\", \"Topic1\", \"Topic1\", \"Topic1\", \"Topic1\", \"Topic1\", \"Topic1\", \"Topic1\", \"Topic1\", \"Topic1\", \"Topic1\", \"Topic1\", \"Topic1\", \"Topic1\", \"Topic1\", \"Topic1\", \"Topic1\", \"Topic1\", \"Topic1\", \"Topic1\", \"Topic1\", \"Topic1\", \"Topic1\", \"Topic1\", \"Topic1\", \"Topic1\", \"Topic1\", \"Topic1\", \"Topic1\", \"Topic1\", \"Topic1\", \"Topic1\", \"Topic1\", \"Topic1\", \"Topic1\", \"Topic1\", \"Topic1\", \"Topic1\", \"Topic1\", \"Topic1\", \"Topic1\", \"Topic1\", \"Topic1\", \"Topic1\", \"Topic1\", \"Topic1\", \"Topic1\", \"Topic1\", \"Topic1\", \"Topic1\", \"Topic1\", \"Topic1\", \"Topic1\", \"Topic1\", \"Topic1\", \"Topic1\", \"Topic1\", \"Topic1\", \"Topic1\", \"Topic1\", \"Topic1\", \"Topic1\", \"Topic1\", \"Topic1\", \"Topic1\", \"Topic1\", \"Topic1\", \"Topic1\", \"Topic1\", \"Topic1\", \"Topic1\", \"Topic1\", \"Topic1\", \"Topic1\", \"Topic1\", \"Topic1\", \"Topic1\", \"Topic1\", \"Topic1\", \"Topic1\", \"Topic1\", \"Topic1\", \"Topic1\", \"Topic1\", \"Topic1\", \"Topic2\", \"Topic2\", \"Topic2\", \"Topic2\", \"Topic2\", \"Topic2\", \"Topic2\", \"Topic2\", \"Topic2\", \"Topic2\", \"Topic2\", \"Topic2\", \"Topic2\", \"Topic2\", \"Topic2\", \"Topic2\", \"Topic2\", \"Topic2\", \"Topic2\", \"Topic2\", \"Topic2\", \"Topic2\", \"Topic2\", \"Topic2\", \"Topic2\", \"Topic2\", \"Topic2\", \"Topic2\", \"Topic2\", \"Topic2\", \"Topic2\", \"Topic2\", \"Topic2\", \"Topic2\", \"Topic2\", \"Topic2\", \"Topic2\", \"Topic2\", \"Topic2\", \"Topic2\", \"Topic2\", \"Topic2\", \"Topic2\", \"Topic2\", \"Topic2\", \"Topic2\", \"Topic2\", \"Topic2\", \"Topic2\", \"Topic2\", \"Topic2\", \"Topic2\", \"Topic2\", \"Topic2\", \"Topic2\", \"Topic2\", \"Topic2\", \"Topic2\", \"Topic2\", \"Topic2\", \"Topic2\", \"Topic2\", \"Topic2\", \"Topic2\", \"Topic2\", \"Topic2\", \"Topic2\", \"Topic2\", \"Topic2\", \"Topic2\", \"Topic2\"], \"logprob\": [30.0, 29.0, 28.0, 27.0, 26.0, 25.0, 24.0, 23.0, 22.0, 21.0, 20.0, 19.0, 18.0, 17.0, 16.0, 15.0, 14.0, 13.0, 12.0, 11.0, 10.0, 9.0, 8.0, 7.0, 6.0, 5.0, 4.0, 3.0, 2.0, 1.0, -6.4927, -6.6417, -6.5255, -6.8336, -6.1861, -8.3269, -9.0363, -9.0801, -8.8873, -8.5908, -9.4353, -9.7157, -9.2318, -5.2947, -9.5629, -9.0921, -6.2512, -8.8005, -9.5645, -8.8269, -8.0769, -9.3589, -9.8113, -9.4013, -9.6026, -9.36, -8.7832, -9.8065, -9.8072, -9.3246, -5.8851, -6.4873, -6.8848, -6.0553, -5.9759, -6.2515, -6.7087, -6.192, -5.3721, -5.5076, -7.0665, -7.1253, -6.8743, -7.6698, -5.8208, -6.5809, -5.4988, -6.3543, -6.6684, -6.8081, -5.7775, -6.981, -6.2358, -6.6234, -5.2356, -5.4464, -5.7889, -4.9585, -6.0225, -6.151, -5.4883, -5.632, -5.6695, -5.8182, -5.423, -5.5503, -5.649, -5.3922, -5.7598, -5.4648, -5.8103, -5.3207, -5.4703, -5.7739, -5.6246, -5.7687, -5.6006, -5.8355, -5.7088, -5.8053, -5.394, -5.5751, -5.7783, -5.7117, -5.7066, -7.4613, -7.8421, -9.0871, -6.7749, -7.197, -8.886, -8.4293, -8.2693, -8.1691, -6.0811, -7.3918, -8.9197, -8.0037, -6.3759, -9.1235, -7.8928, -6.0918, -8.519, -8.1199, -9.2528, -6.8099, -7.9123, -8.3071, -8.9526, -5.7068, -8.2379, -9.0986, -7.5185, -9.2933, -9.4529, -6.6951, -5.3333, -5.3167, -6.5216, -3.6934, -6.5145, -6.2886, -6.9257, -4.8472, -6.6315, -5.6551, -5.2303, -5.4075, -4.9449, -5.2244, -4.8871, -6.0061, -5.6652, -4.9097, -5.6108, -5.1528, -4.3949, -5.751, -4.7364, -5.4848, -5.8596, -5.2904, -5.4493, -5.2936, -5.7284, -5.3343, -5.2199, -5.5142, -5.5208, -5.4365, -5.7188, -5.7557, -5.6159, -5.676, -5.6634, -5.6512], \"loglift\": [30.0, 29.0, 28.0, 27.0, 26.0, 25.0, 24.0, 23.0, 22.0, 21.0, 20.0, 19.0, 18.0, 17.0, 16.0, 15.0, 14.0, 13.0, 12.0, 11.0, 10.0, 9.0, 8.0, 7.0, 6.0, 5.0, 4.0, 3.0, 2.0, 1.0, 0.6376, 0.6321, 0.6277, 0.6208, 0.6196, 0.6193, 0.619, 0.6159, 0.6125, 0.6101, 0.6084, 0.6068, 0.6051, 0.6048, 0.6047, 0.6046, 0.6045, 0.6033, 0.6032, 0.6025, 0.6005, 0.5996, 0.5994, 0.5991, 0.5989, 0.5985, 0.5976, 0.5967, 0.596, 0.5958, 0.5863, 0.5796, 0.5825, 0.5728, 0.5703, 0.5727, 0.5761, 0.5649, 0.5473, 0.5439, 0.5755, 0.5692, 0.562, 0.5767, 0.5285, 0.5485, 0.5136, 0.5301, 0.5359, 0.5393, 0.495, 0.5423, 0.4902, 0.5122, 0.3977, 0.4067, 0.4395, 0.3223, 0.4485, 0.4617, 0.3584, 0.3563, 0.3525, 0.3836, 0.286, 0.3156, 0.3346, 0.2575, 0.3584, 0.2605, 0.365, 0.149, 0.1925, 0.3144, 0.189, 0.2791, 0.1436, 0.3054, 0.1336, 0.2449, -0.6117, -0.4982, 0.1768, -0.2718, -1.4327, 0.6987, 0.6838, 0.668, 0.6668, 0.6665, 0.6578, 0.6548, 0.6548, 0.6547, 0.6544, 0.6527, 0.6484, 0.6484, 0.6482, 0.6477, 0.6473, 0.6468, 0.6456, 0.6436, 0.6419, 0.6412, 0.6404, 0.6392, 0.6385, 0.6368, 0.6366, 0.6366, 0.6339, 0.6338, 0.6335, 0.6335, 0.613, 0.6092, 0.6163, 0.5806, 0.5943, 0.5852, 0.5973, 0.5307, 0.5865, 0.5425, 0.5238, 0.5306, 0.4916, 0.4888, 0.4646, 0.5296, 0.5071, 0.455, 0.4941, 0.4575, 0.3873, 0.4745, 0.3405, 0.4391, 0.4669, 0.3725, 0.3987, 0.3536, 0.4231, 0.2855, 0.22, 0.2612, 0.2602, 0.1838, 0.3406, 0.361, 0.1365, 0.1929, 0.1263, -0.1816]}, \"token.table\": {\"Topic\": [1, 2, 1, 2, 1, 2, 1, 2, 1, 2, 1, 2, 1, 2, 1, 2, 1, 2, 1, 2, 1, 2, 1, 2, 1, 2, 1, 2, 1, 2, 1, 2, 1, 2, 1, 2, 1, 2, 1, 2, 1, 2, 1, 2, 1, 2, 1, 2, 1, 2, 1, 2, 1, 2, 1, 2, 1, 2, 1, 2, 1, 2, 1, 2, 1, 2, 1, 2, 1, 2, 1, 2, 1, 2, 1, 2, 1, 2, 1, 2, 1, 2, 1, 2, 1, 2, 1, 2, 1, 2, 1, 2, 1, 2, 1, 2, 1, 2, 1, 2, 1, 2, 1, 2, 1, 2, 1, 2, 1, 2, 1, 2, 1, 2, 1, 2, 1, 2, 1, 2, 1, 2, 1, 2, 1, 2, 1, 2, 1, 2, 1, 2, 1, 2, 1, 2, 1, 2, 1, 2, 1, 2, 1, 2, 1, 2, 1, 2, 1, 2, 1, 2, 1, 2, 1, 2, 1, 2, 1, 2, 1, 2, 1, 2, 1, 2, 1, 2, 1, 2, 1, 2, 1, 2, 1, 2, 1, 2, 1, 2, 1, 2, 1, 2, 1, 2, 1, 2, 1, 2, 1, 2, 1, 2, 1, 2, 1, 2, 1, 2, 1, 2, 1, 2, 1, 2, 1, 2, 1, 2, 1, 2, 1, 2, 1, 2, 1, 2, 1, 2, 1, 2, 1, 2, 1, 2, 1, 2, 1, 2, 1, 2, 1, 2, 1, 2, 1, 2, 1, 2, 1, 2, 1, 2, 1, 2, 1, 2, 1, 2, 1, 2, 1, 2, 1, 2, 1, 2, 1, 2, 1, 2, 1, 2, 1, 2, 1, 2, 1, 2, 1, 2, 1, 2, 1, 2, 1, 2, 1, 2, 1, 2, 1, 2, 1, 2, 1, 2, 1, 2, 1, 2, 1, 2, 1, 2, 1, 2, 1, 2, 1, 2], \"Freq\": [0.8855754001952983, 0.1106969250244123, 0.7229943340038985, 0.2762773025376114, 0.9127963257161102, 0.08298148415601002, 0.9361687649622112, 0.05200937583123396, 0.09174545158832388, 0.9072605768178695, 0.011658872051738782, 0.9910041243977966, 0.06191235798651678, 0.9399421621589366, 0.05720922052462749, 0.9344172685689157, 0.893382618299384, 0.10743208701068542, 0.8782635221283838, 0.12156754967313786, 0.05633269715214099, 0.9013231544342558, 0.19784375542592936, 0.8014690908581016, 0.849451538630673, 0.15110436023718704, 0.8758198961777904, 0.12335491495461837, 0.2995010314638249, 0.700095471024272, 0.6903873154589801, 0.30959072442106733, 0.9155417517301643, 0.07042628859462802, 0.9301201934178679, 0.08088001681894504, 0.16540401659056034, 0.8339119169774084, 0.7102559494165006, 0.2896574542313103, 0.06819925306118199, 0.9377397295912524, 0.7566669035353917, 0.24321436185066161, 0.9617867853958192, 0.03747221241801893, 0.9449909243718395, 0.05417145426335385, 0.06368044450051534, 0.9233664452574725, 0.26795475446743827, 0.7322556652256719, 0.9097294813226543, 0.08747398858871676, 0.033621295590985784, 0.9750175721385878, 0.11818492519872598, 0.88184136494434, 0.36194777589441773, 0.6379732311017333, 0.048776899607395695, 0.9267610925405182, 0.9155665356092881, 0.07042819504686831, 0.07678177115408436, 0.9213812538490123, 0.9542281520269905, 0.04685941817989686, 0.043338977313641364, 0.95345750090011, 0.903796853944914, 0.09718245741343162, 0.6713617224566919, 0.32862874229497735, 0.8064514255319168, 0.19354834212766006, 0.9244928003495001, 0.0660352000249643, 0.944195707909166, 0.05181561811696642, 0.8627947349514838, 0.13674482591683895, 0.12133131529738012, 0.8787546149348714, 0.7278282958622676, 0.27221470336528547, 0.22311593870846372, 0.776807737625794, 0.08810480755544577, 0.9104163447396062, 0.19413310919675636, 0.8063990689711418, 0.05330335115958091, 0.9454331231988825, 0.9013312267535903, 0.0981040791024316, 0.9348380018410312, 0.04451609532576339, 0.08003198294483342, 0.9603837953380011, 0.7278790259154041, 0.272387161465224, 0.40331198427994935, 0.5967130527650713, 0.9548568649662333, 0.08680516954238485, 0.07107596912777372, 0.9239875986610585, 0.04528550448633461, 0.9509955942130267, 0.07146316647106393, 0.9290211641238311, 0.3087452173757892, 0.6912046908032374, 0.19593438499650292, 0.803637125962219, 0.3082066101767469, 0.6906111079886366, 0.616117156096782, 0.3838736175057832, 0.7889799417145115, 0.2111830679107365, 0.047664003872101464, 0.9532800774420293, 0.9302099411388003, 0.06960754661582859, 0.9469154663097334, 0.05118461980052613, 0.0961331736313087, 0.9039015286891883, 0.05746366089462317, 0.9768822352085937, 0.6137615773350087, 0.3861118286507509, 0.8790081561451581, 0.10987601951814477, 0.8697968945920919, 0.13002118527407558, 0.8942682221406213, 0.10605103916411214, 0.9089991992909493, 0.07904340863399559, 0.36184951518442454, 0.6383673536537161, 0.3456834564156561, 0.6545920770424126, 0.7321968272786337, 0.26756426729875676, 0.7452325453120523, 0.25334616330696696, 0.7256489201232854, 0.27377962920402343, 0.03979519135771754, 0.9550845925852209, 0.9121804365407411, 0.10135338183786012, 0.4366576928374844, 0.5636663006099258, 0.7014925335526409, 0.2986746921568667, 0.6573269347238839, 0.34287082185885587, 0.28604220230221006, 0.7131857594313492, 0.8762917492642253, 0.12457782542043913, 0.833407055771469, 0.16597513398838576, 0.05839609726918642, 0.9343375563069827, 0.20890938063754702, 0.7901491896694318, 0.9029090877494802, 0.09723636329609787, 0.06607482076547914, 0.9250474907167081, 0.920307497536998, 0.07669229146141651, 0.294669568152322, 0.7056958375750481, 0.6068020390335126, 0.393392847339523, 0.9354813663426043, 0.062365424422840286, 0.06906358467082761, 0.9323583930561727, 0.046518463313514856, 0.930369266270297, 0.11596740957136861, 0.8826408395154166, 0.23675931758223234, 0.7626142229490852, 0.921485662841173, 0.054205038990657234, 0.17032482467455276, 0.8305963672401029, 0.1048280970172756, 0.8941220039708802, 0.9003334556128991, 0.10247697868764706, 0.06886143455451975, 0.9353678193655599, 0.06396184996496569, 0.9381071328194969, 0.6764213589259739, 0.3236369651919221, 0.7967382849381405, 0.2045679380246577, 0.9547111933513387, 0.07343932256548759, 0.8980071642407611, 0.08980071642407611, 0.7638825316010036, 0.23682680311034154, 0.9208495761580212, 0.05416762212694243, 0.8308997582050714, 0.16951466638966342, 0.9025935342170341, 0.08898809492280618, 0.9021021120934485, 0.09827369377554326, 0.4093200573787479, 0.5905246670497891, 0.9135086482831807, 0.08618006115879062, 0.8690624055893925, 0.12932476273651675, 0.8777187141320267, 0.12063432563899894, 0.9549737523127567, 0.08681579566479607, 0.6961582647115351, 0.30401848269048054, 0.8497316096081468, 0.15069131993050877, 0.05875402229711268, 0.9400643567538028, 0.24875756719582875, 0.7509662405911811, 0.21725200914133763, 0.7825290814702549, 0.05193237827554115, 0.945169284614849, 0.06942175783710372, 0.9256234378280497, 0.1638496067674576, 0.8358495358445635, 0.8618172291200504, 0.13728062056779566, 0.9564283634344839, 0.04325555412517766, 0.9066281872765428, 0.09378912282171133, 0.2757071081325585, 0.7244771196383679, 0.587136758136757, 0.4132859804615116, 0.07015051400647554, 0.9290203206262977, 0.6489543469540455, 0.35063328550022504, 0.21618868360112956, 0.7846158258282374, 0.6972937563783866, 0.3033756983905966, 0.0500642215747975, 0.9512202099211525, 0.1837072735284714, 0.8162992762873816, 0.4423470146184978, 0.5578366292725884, 0.05990771087357547, 0.9398022143292152, 0.22509508758398108, 0.7750109344663653, 0.11002882504977467, 0.8924560254037278, 0.9490811555670227, 0.06779151111193019, 0.9193519353711027, 0.07824271790392363, 0.8789744851115548, 0.10987181063894436, 0.581188175658827, 0.419236529872474, 0.16430135311752153, 0.8354091877744748, 0.8984453800748247, 0.09982726445275829, 0.9302380694245297, 0.06931185615320025, 0.5901871789195711, 0.40980825560366996, 0.15400311058511956, 0.8453787772544861, 0.06825216856544554, 0.9555303599162376, 0.38704931447785523, 0.6128280812566042, 0.6599768581668887, 0.34020478911698754], \"Term\": [\"anchor\", \"anchor\", \"appointment\", \"appointment\", \"asia\", \"asia\", \"authorization\", \"authorization\", \"backhand\", \"backhand\", \"banknote\", \"banknote\", \"bicep\", \"bicep\", \"bitch\", \"bitch\", \"business\", \"business\", \"care\", \"care\", \"cartwheel\", \"cartwheel\", \"case\", \"case\", \"centre\", \"centre\", \"certificate\", \"certificate\", \"check\", \"check\", \"child\", \"child\", \"chinnalapatty\", \"chinnalapatty\", \"cipla\", \"cipla\", \"clap\", \"clap\", \"clinic\", \"clinic\", \"clown\", \"clown\", \"come\", \"come\", \"commission\", \"commission\", \"common\", \"common\", \"confused\", \"confused\", \"country\", \"country\", \"cross\", \"cross\", \"crossbone\", \"crossbone\", \"dark\", \"dark\", \"death\", \"death\", \"detect\", \"detect\", \"dindigul\", \"dindigul\", \"disappoint\", \"disappoint\", \"distribute\", \"distribute\", \"dollar\", \"dollar\", \"door\", \"door\", \"double\", \"double\", \"drive\", \"drive\", \"environment\", \"environment\", \"exclamation\", \"exclamation\", \"experience\", \"experience\", \"face\", \"face\", \"family\", \"family\", \"feel\", \"feel\", \"female\", \"female\", \"finally\", \"finally\", \"flex\", \"flex\", \"floor\", \"floor\", \"freeforall\", \"freeforall\", \"frown\", \"frown\", \"government\", \"government\", \"great\", \"great\", \"greece\", \"greece\", \"grin\", \"grin\", \"grinning\", \"grinning\", \"halo\", \"halo\", \"hand\", \"hand\", \"heart\", \"heart\", \"heavy\", \"heavy\", \"help\", \"help\", \"hospital\", \"hospital\", \"hugging\", \"hugging\", \"illness\", \"illness\", \"independence\", \"independence\", \"index\", \"index\", \"islamic\", \"islamic\", \"july\", \"july\", \"keen\", \"keen\", \"know\", \"know\", \"laugh\", \"laugh\", \"leisure\", \"leisure\", \"life\", \"life\", \"light\", \"light\", \"live\", \"live\", \"long\", \"long\", \"look\", \"look\", \"loudly\", \"loudly\", \"maddie\", \"maddie\", \"mark\", \"mark\", \"mask\", \"mask\", \"medical\", \"medical\", \"medium\", \"medium\", \"million\", \"million\", \"need\", \"need\", \"neutral\", \"neutral\", \"news\", \"news\", \"nice\", \"nice\", \"noise\", \"noise\", \"northamptonshire\", \"northamptonshire\", \"number\", \"number\", \"open\", \"open\", \"operational\", \"operational\", \"overtake\", \"overtake\", \"overtakes\", \"overtakes\", \"party\", \"party\", \"person\", \"person\", \"personnel\", \"personnel\", \"point\", \"point\", \"pointing\", \"pointing\", \"police\", \"police\", \"popper\", \"popper\", \"pout\", \"pout\", \"protect\", \"protect\", \"public\", \"public\", \"publication\", \"publication\", \"ranchi\", \"ranchi\", \"receive\", \"receive\", \"reduction\", \"reduction\", \"require\", \"require\", \"respect\", \"respect\", \"rest\", \"rest\", \"right\", \"right\", \"roll\", \"roll\", \"rollout\", \"rollout\", \"safety\", \"safety\", \"salary\", \"salary\", \"save\", \"save\", \"service\", \"service\", \"shoulder\", \"shoulder\", \"sign\", \"sign\", \"skin\", \"skin\", \"skull\", \"skull\", \"sleep\", \"sleep\", \"smile\", \"smile\", \"staff\", \"staff\", \"starve\", \"starve\", \"student\", \"student\", \"syringe\", \"syringe\", \"take\", \"take\", \"tear\", \"tear\", \"tell\", \"tell\", \"test\", \"test\", \"thank\", \"thank\", \"thermometer\", \"thermometer\", \"thing\", \"thing\", \"think\", \"think\", \"thinking\", \"thinking\", \"tone\", \"tone\", \"total\", \"total\", \"transparency\", \"transparency\", \"uptake\", \"uptake\", \"vancouver\", \"vancouver\", \"variant\", \"variant\", \"wait\", \"wait\", \"walkin\", \"walkin\", \"wear\", \"wear\", \"week\", \"week\", \"white\", \"white\", \"whoop\", \"whoop\", \"work\", \"work\", \"world\", \"world\"]}, \"R\": 30, \"lambda.step\": 0.01, \"plot.opts\": {\"xlab\": \"PC1\", \"ylab\": \"PC2\"}, \"topic.order\": [1, 2]};\n",
       "\n",
       "function LDAvis_load_lib(url, callback){\n",
       "  var s = document.createElement('script');\n",
       "  s.src = url;\n",
       "  s.async = true;\n",
       "  s.onreadystatechange = s.onload = callback;\n",
       "  s.onerror = function(){console.warn(\"failed to load library \" + url);};\n",
       "  document.getElementsByTagName(\"head\")[0].appendChild(s);\n",
       "}\n",
       "\n",
       "if(typeof(LDAvis) !== \"undefined\"){\n",
       "   // already loaded: just create the visualization\n",
       "   !function(LDAvis){\n",
       "       new LDAvis(\"#\" + \"ldavis_el1103619668335080166354305234\", ldavis_el1103619668335080166354305234_data);\n",
       "   }(LDAvis);\n",
       "}else if(typeof define === \"function\" && define.amd){\n",
       "   // require.js is available: use it to load d3/LDAvis\n",
       "   require.config({paths: {d3: \"https://d3js.org/d3.v5\"}});\n",
       "   require([\"d3\"], function(d3){\n",
       "      window.d3 = d3;\n",
       "      LDAvis_load_lib(\"https://cdn.jsdelivr.net/gh/bmabey/pyLDAvis@3.3.1/pyLDAvis/js/ldavis.v3.0.0.js\", function(){\n",
       "        new LDAvis(\"#\" + \"ldavis_el1103619668335080166354305234\", ldavis_el1103619668335080166354305234_data);\n",
       "      });\n",
       "    });\n",
       "}else{\n",
       "    // require.js not available: dynamically load d3 & LDAvis\n",
       "    LDAvis_load_lib(\"https://d3js.org/d3.v5.js\", function(){\n",
       "         LDAvis_load_lib(\"https://cdn.jsdelivr.net/gh/bmabey/pyLDAvis@3.3.1/pyLDAvis/js/ldavis.v3.0.0.js\", function(){\n",
       "                 new LDAvis(\"#\" + \"ldavis_el1103619668335080166354305234\", ldavis_el1103619668335080166354305234_data);\n",
       "            })\n",
       "         });\n",
       "}\n",
       "</script>"
      ],
      "text/plain": [
       "PreparedData(topic_coordinates=              x    y  topics  cluster       Freq\n",
       "topic                                           \n",
       "0      0.054097  0.0       1        1  50.830038\n",
       "1     -0.054097  0.0       2        1  49.169962, topic_info=         Term         Freq        Total Category  logprob  loglift\n",
       "70       face  4178.000000  4178.000000  Default  30.0000  30.0000\n",
       "76      smile  1385.000000  1385.000000  Default  29.0000  29.0000\n",
       "167      wear   822.000000   822.000000  Default  28.0000  28.0000\n",
       "214     index   800.000000   800.000000  Default  27.0000  27.0000\n",
       "213  backhand   784.000000   784.000000  Default  26.0000  26.0000\n",
       "..        ...          ...          ...      ...      ...      ...\n",
       "241    number   466.870202   661.758190   Topic2  -5.7557   0.3610\n",
       "251      mark   536.942493   952.691334   Topic2  -5.6159   0.1365\n",
       "239     great   505.640844   847.978769   Topic2  -5.6760   0.1929\n",
       "371     think   512.047132   917.831446   Topic2  -5.6634   0.1263\n",
       "265      week   518.316056  1264.005771   Topic2  -5.6512  -0.1816\n",
       "\n",
       "[186 rows x 6 columns], token_table=       Topic      Freq         Term\n",
       "term                               \n",
       "6068       1  0.885575       anchor\n",
       "6068       2  0.110697       anchor\n",
       "26         1  0.722994  appointment\n",
       "26         2  0.276277  appointment\n",
       "2990       1  0.912796         asia\n",
       "...      ...       ...          ...\n",
       "10033      2  0.955530        whoop\n",
       "25         1  0.387049         work\n",
       "25         2  0.612828         work\n",
       "144        1  0.659977        world\n",
       "144        2  0.340205        world\n",
       "\n",
       "[302 rows x 3 columns], R=30, lambda_step=0.01, plot_opts={'xlab': 'PC1', 'ylab': 'PC2'}, topic_order=[1, 2])"
      ]
     },
     "execution_count": 96,
     "metadata": {},
     "output_type": "execute_result"
    }
   ],
   "source": [
    "#Creating Topic Distance Visualization \n",
    "\n",
    "gensimvis.prepare(base_model,corpus,id2word)"
   ]
  },
  {
   "cell_type": "code",
   "execution_count": null,
   "id": "b5fb8ae8",
   "metadata": {},
   "outputs": [],
   "source": []
  },
  {
   "cell_type": "code",
   "execution_count": null,
   "id": "b1d7d655",
   "metadata": {},
   "outputs": [],
   "source": []
  }
 ],
 "metadata": {
  "kernelspec": {
   "display_name": "thesis",
   "language": "python",
   "name": "thesis"
  },
  "language_info": {
   "codemirror_mode": {
    "name": "ipython",
    "version": 3
   },
   "file_extension": ".py",
   "mimetype": "text/x-python",
   "name": "python",
   "nbconvert_exporter": "python",
   "pygments_lexer": "ipython3",
   "version": "3.8.2"
  }
 },
 "nbformat": 4,
 "nbformat_minor": 5
}
